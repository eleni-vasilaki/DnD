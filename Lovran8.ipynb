{
 "cells": [
  {
   "cell_type": "code",
   "execution_count": 257,
   "id": "3d2d731e",
   "metadata": {},
   "outputs": [],
   "source": [
    "import dnd_optimisation as dndopt "
   ]
  },
  {
   "cell_type": "code",
   "execution_count": 258,
   "id": "78450c62",
   "metadata": {},
   "outputs": [],
   "source": [
    "import importlib "
   ]
  },
  {
   "cell_type": "code",
   "execution_count": 259,
   "id": "6c49ba60",
   "metadata": {},
   "outputs": [
    {
     "data": {
      "text/plain": [
       "<module 'dnd_optimisation' from '/Users/eleni/Python Scripts/DnD/dnd_optimisation.py'>"
      ]
     },
     "execution_count": 259,
     "metadata": {},
     "output_type": "execute_result"
    }
   ],
   "source": [
    "importlib.reload(dndopt)"
   ]
  },
  {
   "cell_type": "code",
   "execution_count": 260,
   "id": "abaab883",
   "metadata": {},
   "outputs": [],
   "source": [
    "Lovran=dndopt.Character(16, 12, 14, 8, 8, 18)"
   ]
  },
  {
   "cell_type": "code",
   "execution_count": 261,
   "id": "e40470cb",
   "metadata": {},
   "outputs": [
    {
     "data": {
      "text/plain": [
       "array([16, 12, 14,  8,  8, 18])"
      ]
     },
     "execution_count": 261,
     "metadata": {},
     "output_type": "execute_result"
    }
   ],
   "source": [
    "Lovran.ability_score"
   ]
  },
  {
   "cell_type": "code",
   "execution_count": 262,
   "id": "31cbcdc0",
   "metadata": {},
   "outputs": [],
   "source": [
    "Lovran.set_level(8)"
   ]
  },
  {
   "cell_type": "code",
   "execution_count": 263,
   "id": "c38ae426",
   "metadata": {},
   "outputs": [
    {
     "data": {
      "text/plain": [
       "8"
      ]
     },
     "execution_count": 263,
     "metadata": {},
     "output_type": "execute_result"
    }
   ],
   "source": [
    "Lovran.level"
   ]
  },
  {
   "cell_type": "code",
   "execution_count": 264,
   "id": "19487577",
   "metadata": {},
   "outputs": [
    {
     "data": {
      "text/plain": [
       "3.0"
      ]
     },
     "execution_count": 264,
     "metadata": {},
     "output_type": "execute_result"
    }
   ],
   "source": [
    "Lovran.proficiency_bonus"
   ]
  },
  {
   "cell_type": "code",
   "execution_count": 265,
   "id": "24ec6eee",
   "metadata": {},
   "outputs": [],
   "source": [
    "Lovran.set_advantages(0,0,0,0)"
   ]
  },
  {
   "cell_type": "markdown",
   "id": "c83ad3f5",
   "metadata": {},
   "source": [
    "### Calculating max average damage for longsword with green flame blade (including second target damage) plus divine smite (4d8) - doesn't take into account the probability of hitting the target"
   ]
  },
  {
   "cell_type": "code",
   "execution_count": 266,
   "id": "2998b7e7",
   "metadata": {},
   "outputs": [],
   "source": [
    "average_damage=4.5+4.5+4.5+4*(0.5*(8-1)+1)"
   ]
  },
  {
   "cell_type": "code",
   "execution_count": 267,
   "id": "0a6028a1",
   "metadata": {},
   "outputs": [
    {
     "data": {
      "text/plain": [
       "31.5"
      ]
     },
     "execution_count": 267,
     "metadata": {},
     "output_type": "execute_result"
    }
   ],
   "source": [
    "average_damage"
   ]
  },
  {
   "cell_type": "code",
   "execution_count": 268,
   "id": "dfe74e52",
   "metadata": {},
   "outputs": [],
   "source": [
    "damage_modifiers=8"
   ]
  },
  {
   "cell_type": "code",
   "execution_count": 269,
   "id": "c95bc56d",
   "metadata": {},
   "outputs": [],
   "source": [
    "Lovran.set_weapon(\"STR\",1,average_damage,damage_modifiers)"
   ]
  },
  {
   "cell_type": "code",
   "execution_count": 270,
   "id": "f5dd675a",
   "metadata": {},
   "outputs": [
    {
     "data": {
      "text/plain": [
       "7.0"
      ]
     },
     "execution_count": 270,
     "metadata": {},
     "output_type": "execute_result"
    }
   ],
   "source": [
    "Lovran.weapon_hit"
   ]
  },
  {
   "cell_type": "code",
   "execution_count": 271,
   "id": "a6d8a6ae",
   "metadata": {},
   "outputs": [
    {
     "data": {
      "text/plain": [
       "31.5"
      ]
     },
     "execution_count": 271,
     "metadata": {},
     "output_type": "execute_result"
    }
   ],
   "source": [
    "Lovran.weapon_average_damage"
   ]
  },
  {
   "cell_type": "code",
   "execution_count": 272,
   "id": "082e9b7d",
   "metadata": {},
   "outputs": [
    {
     "data": {
      "text/plain": [
       "8"
      ]
     },
     "execution_count": 272,
     "metadata": {},
     "output_type": "execute_result"
    }
   ],
   "source": [
    "Lovran.weapon_damage_modifiers"
   ]
  },
  {
   "cell_type": "code",
   "execution_count": 273,
   "id": "fd56bf55",
   "metadata": {},
   "outputs": [
    {
     "data": {
      "text/plain": [
       "39.5"
      ]
     },
     "execution_count": 273,
     "metadata": {},
     "output_type": "execute_result"
    }
   ],
   "source": [
    "Lovran.weapon_total_average_damage"
   ]
  },
  {
   "cell_type": "markdown",
   "id": "8ec60178",
   "metadata": {},
   "source": [
    "### Calculating average damage for the combo green flame blade, longsword, divine smite (one 3rd level spell slot)"
   ]
  },
  {
   "cell_type": "code",
   "execution_count": 274,
   "id": "064b107f",
   "metadata": {},
   "outputs": [],
   "source": [
    "AC=17"
   ]
  },
  {
   "cell_type": "markdown",
   "id": "d2628b8d",
   "metadata": {},
   "source": [
    "#### total_average_damage(opponent_AC=1,modifiers=0,repetitions=1,average_damage_per_hit=0,damage_modifiers=0)"
   ]
  },
  {
   "cell_type": "code",
   "execution_count": 275,
   "id": "02178959",
   "metadata": {},
   "outputs": [],
   "source": [
    "average_hit_damage=Lovran.total_average_damage(AC,Lovran.weapon_hit,1,Lovran.weapon_average_damage,Lovran.weapon_damage_modifiers)"
   ]
  },
  {
   "cell_type": "code",
   "execution_count": 276,
   "id": "f119a49e",
   "metadata": {},
   "outputs": [
    {
     "data": {
      "text/plain": [
       "23.3"
      ]
     },
     "execution_count": 276,
     "metadata": {},
     "output_type": "execute_result"
    }
   ],
   "source": [
    "average_hit_damage"
   ]
  },
  {
   "cell_type": "markdown",
   "id": "77bcefbe",
   "metadata": {},
   "source": [
    "### What if the target is prone and I am within 5ft, so that every hit is critical hit?"
   ]
  },
  {
   "cell_type": "code",
   "execution_count": 277,
   "id": "cd9724ff",
   "metadata": {},
   "outputs": [],
   "source": [
    "Lovran.set_advantages(1,0,0,0)"
   ]
  },
  {
   "cell_type": "code",
   "execution_count": 278,
   "id": "35b962df",
   "metadata": {},
   "outputs": [
    {
     "data": {
      "text/plain": [
       "56.6225"
      ]
     },
     "execution_count": 278,
     "metadata": {},
     "output_type": "execute_result"
    }
   ],
   "source": [
    "Lovran.total_average_damage_critical(AC,Lovran.weapon_hit,1,Lovran.weapon_average_damage,Lovran.weapon_damage_modifiers)"
   ]
  },
  {
   "cell_type": "markdown",
   "id": "db3c68f7",
   "metadata": {},
   "source": [
    "### Casting hold person first, average damage calculation (one 3rd level slot, one 2nd level slot and one 1st level slot, i.e. two sorcery points)"
   ]
  },
  {
   "cell_type": "code",
   "execution_count": 279,
   "id": "6d23c88e",
   "metadata": {},
   "outputs": [],
   "source": [
    "Lovran.set_probability_of_successful_casting(15,2)"
   ]
  },
  {
   "cell_type": "code",
   "execution_count": 280,
   "id": "a6d7c012",
   "metadata": {},
   "outputs": [
    {
     "data": {
      "text/plain": [
       "0.6"
      ]
     },
     "execution_count": 280,
     "metadata": {},
     "output_type": "execute_result"
    }
   ],
   "source": [
    "Lovran.probability_of_successful_casting"
   ]
  },
  {
   "cell_type": "code",
   "execution_count": 281,
   "id": "c3f191a3",
   "metadata": {},
   "outputs": [],
   "source": [
    "Lovran.set_advantages(1,0,0,0)"
   ]
  },
  {
   "cell_type": "code",
   "execution_count": 282,
   "id": "bcb7976e",
   "metadata": {
    "scrolled": true
   },
   "outputs": [
    {
     "data": {
      "text/plain": [
       "43.2935"
      ]
     },
     "execution_count": 282,
     "metadata": {},
     "output_type": "execute_result"
    }
   ],
   "source": [
    "Lovran.probability_of_successful_casting*Lovran.total_average_damage_critical(AC,Lovran.weapon_hit,1,Lovran.weapon_average_damage,Lovran.weapon_damage_modifiers)+(1-Lovran.probability_of_successful_casting)*average_hit_damage"
   ]
  },
  {
   "cell_type": "markdown",
   "id": "bfa62894",
   "metadata": {},
   "source": [
    "### Quickening booming blade without advantage (two 3rd level slots and one 1st level slot)"
   ]
  },
  {
   "cell_type": "code",
   "execution_count": 283,
   "id": "5814d56c",
   "metadata": {},
   "outputs": [],
   "source": [
    "Lovran.set_advantages(0,0,0,0)"
   ]
  },
  {
   "cell_type": "code",
   "execution_count": 284,
   "id": "0cc37c36",
   "metadata": {},
   "outputs": [
    {
     "data": {
      "text/plain": [
       "46.6"
      ]
     },
     "execution_count": 284,
     "metadata": {},
     "output_type": "execute_result"
    }
   ],
   "source": [
    "Lovran.total_average_damage(AC,Lovran.weapon_hit,2,Lovran.weapon_average_damage,Lovran.weapon_damage_modifiers)"
   ]
  },
  {
   "cell_type": "markdown",
   "id": "5664b25d",
   "metadata": {},
   "source": [
    "### Calculating average damage from the combo searing smite (3rd level spell), green flame blade, longsword plus 1 and divine smite (3nd level spell). Total of two 3rd level slots."
   ]
  },
  {
   "cell_type": "code",
   "execution_count": 285,
   "id": "d03249fe",
   "metadata": {},
   "outputs": [],
   "source": [
    "Lovran.set_advantages(0,0,0,0)"
   ]
  },
  {
   "cell_type": "code",
   "execution_count": 286,
   "id": "cb266a03",
   "metadata": {},
   "outputs": [],
   "source": [
    "average_damage=3*((6-1)*0.5+1)+4.5+4.5+4.5+4*(0.5*(8-1)+1)"
   ]
  },
  {
   "cell_type": "code",
   "execution_count": 287,
   "id": "8c942e4a",
   "metadata": {},
   "outputs": [],
   "source": [
    "damage_modifiers=8"
   ]
  },
  {
   "cell_type": "code",
   "execution_count": 288,
   "id": "b6ebd646",
   "metadata": {},
   "outputs": [],
   "source": [
    "Lovran.set_weapon(\"STR\",1,average_damage,damage_modifiers)"
   ]
  },
  {
   "cell_type": "code",
   "execution_count": 289,
   "id": "b0f0e036",
   "metadata": {},
   "outputs": [
    {
     "data": {
      "text/plain": [
       "29.6"
      ]
     },
     "execution_count": 289,
     "metadata": {},
     "output_type": "execute_result"
    }
   ],
   "source": [
    "Lovran.total_average_damage(AC,Lovran.weapon_hit,1,Lovran.weapon_average_damage,Lovran.weapon_damage_modifiers)"
   ]
  },
  {
   "cell_type": "markdown",
   "id": "9fdd0717",
   "metadata": {},
   "source": [
    "### Assume a succesful shove (Shield Master) as a bonus action. Calculating average damage from the combo green flame blade, longsword plus 1 and divine smite. Only use one 3rd level spell slot. Attention! To make a fair comprison, I need to add the probability of failure of the shove bonus action. This is pretty arbitrary, so I will go for 50%-50%."
   ]
  },
  {
   "cell_type": "code",
   "execution_count": 290,
   "id": "02af2348",
   "metadata": {},
   "outputs": [],
   "source": [
    "average_damage=4.5+4.5+4.5+4*(0.5*(8-1)+1)"
   ]
  },
  {
   "cell_type": "code",
   "execution_count": 291,
   "id": "69bfe742",
   "metadata": {},
   "outputs": [],
   "source": [
    "damage_modifiers=8"
   ]
  },
  {
   "cell_type": "code",
   "execution_count": 292,
   "id": "6d28c15f",
   "metadata": {},
   "outputs": [],
   "source": [
    "Lovran.set_weapon(\"STR\",1,average_damage,damage_modifiers)"
   ]
  },
  {
   "cell_type": "code",
   "execution_count": 293,
   "id": "032cfc36",
   "metadata": {},
   "outputs": [],
   "source": [
    "Lovran.set_advantages(1,0,0,0)"
   ]
  },
  {
   "cell_type": "code",
   "execution_count": 294,
   "id": "a687ccf7",
   "metadata": {},
   "outputs": [],
   "source": [
    "hit_with_advantage=Lovran.total_average_damage(AC,Lovran.weapon_hit,1,Lovran.weapon_average_damage,Lovran.weapon_damage_modifiers)"
   ]
  },
  {
   "cell_type": "code",
   "execution_count": 295,
   "id": "0d823b87",
   "metadata": {},
   "outputs": [
    {
     "data": {
      "text/plain": [
       "34.5725"
      ]
     },
     "execution_count": 295,
     "metadata": {},
     "output_type": "execute_result"
    }
   ],
   "source": [
    "hit_with_advantage"
   ]
  },
  {
   "cell_type": "code",
   "execution_count": 296,
   "id": "94855642",
   "metadata": {},
   "outputs": [],
   "source": [
    "Lovran.set_advantages(0,0,0,0)"
   ]
  },
  {
   "cell_type": "code",
   "execution_count": 297,
   "id": "eded7446",
   "metadata": {},
   "outputs": [],
   "source": [
    "hit_without_advantage=Lovran.total_average_damage(AC,Lovran.weapon_hit,1,Lovran.weapon_average_damage,Lovran.weapon_damage_modifiers)"
   ]
  },
  {
   "cell_type": "code",
   "execution_count": 298,
   "id": "59eef739",
   "metadata": {},
   "outputs": [
    {
     "data": {
      "text/plain": [
       "23.3"
      ]
     },
     "execution_count": 298,
     "metadata": {},
     "output_type": "execute_result"
    }
   ],
   "source": [
    "hit_without_advantage"
   ]
  },
  {
   "cell_type": "code",
   "execution_count": 299,
   "id": "5401c284",
   "metadata": {},
   "outputs": [
    {
     "data": {
      "text/plain": [
       "28.93625"
      ]
     },
     "execution_count": 299,
     "metadata": {},
     "output_type": "execute_result"
    }
   ],
   "source": [
    "0.5*hit_with_advantage+0.5*hit_without_advantage"
   ]
  },
  {
   "cell_type": "markdown",
   "id": "85910ae7",
   "metadata": {},
   "source": [
    "### The technique with the shield master feat is economic on the use of spell slots. "
   ]
  },
  {
   "cell_type": "markdown",
   "id": "e33a605b",
   "metadata": {},
   "source": [
    "### Spiritual weapon is a bonus action. So it can be added to an attack action. Hence, if casted from a 3rd level slot (plus 1 extra 3rd slot smite, total two 3rd level slots):"
   ]
  },
  {
   "cell_type": "code",
   "execution_count": 300,
   "id": "8cb82b8e",
   "metadata": {},
   "outputs": [],
   "source": [
    "Lovran.set_advantages(0,0,0,0)"
   ]
  },
  {
   "cell_type": "code",
   "execution_count": 305,
   "id": "266ec0b6",
   "metadata": {},
   "outputs": [
    {
     "data": {
      "text/plain": [
       "39.6"
      ]
     },
     "execution_count": 305,
     "metadata": {},
     "output_type": "execute_result"
    }
   ],
   "source": [
    "hit_without_advantage+Lovran.total_average_damage(AC,7,1,(0.5*(8+1)+1)+4*(0.5*(8-1)+1),4)"
   ]
  },
  {
   "cell_type": "markdown",
   "id": "236f8f40",
   "metadata": {},
   "source": [
    "### The combo with spiritual weapon appears much better than the combo with the two smites at the same spell slot cost."
   ]
  },
  {
   "cell_type": "markdown",
   "id": "7f9b5812",
   "metadata": {},
   "source": [
    "### Shadow blade requires concentration. Assume shadow blade and divine smite (3rd level slots)"
   ]
  },
  {
   "cell_type": "code",
   "execution_count": 302,
   "id": "2148cfaf",
   "metadata": {},
   "outputs": [],
   "source": [
    "Lovran.set_advantages(0,0,0,0)"
   ]
  },
  {
   "cell_type": "code",
   "execution_count": 303,
   "id": "eabd1298",
   "metadata": {},
   "outputs": [
    {
     "data": {
      "text/plain": [
       "20.7"
      ]
     },
     "execution_count": 303,
     "metadata": {},
     "output_type": "execute_result"
    }
   ],
   "source": [
    "Lovran.total_average_damage(AC,7,1,3*(0.5*(8+1)+1)+4*(0.5*(8-1)+1),0)"
   ]
  },
  {
   "cell_type": "markdown",
   "id": "b0c45a19",
   "metadata": {},
   "source": [
    "### It doesn't seem that shadow blade offers any advantage to the buid. I cannot add green fame blade or booming blade."
   ]
  },
  {
   "cell_type": "code",
   "execution_count": null,
   "id": "9a594ca2",
   "metadata": {},
   "outputs": [],
   "source": []
  }
 ],
 "metadata": {
  "kernelspec": {
   "display_name": "Python 3 (ipykernel)",
   "language": "python",
   "name": "python3"
  },
  "language_info": {
   "codemirror_mode": {
    "name": "ipython",
    "version": 3
   },
   "file_extension": ".py",
   "mimetype": "text/x-python",
   "name": "python",
   "nbconvert_exporter": "python",
   "pygments_lexer": "ipython3",
   "version": "3.10.4"
  }
 },
 "nbformat": 4,
 "nbformat_minor": 5
}
