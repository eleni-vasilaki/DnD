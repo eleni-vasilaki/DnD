{
 "cells": [
  {
   "cell_type": "code",
   "execution_count": 1,
   "id": "ad9a4a6c",
   "metadata": {},
   "outputs": [],
   "source": [
    "import dnd_optimisation as dndopt "
   ]
  },
  {
   "cell_type": "code",
   "execution_count": 2,
   "id": "9ba43223",
   "metadata": {},
   "outputs": [],
   "source": [
    "import importlib "
   ]
  },
  {
   "cell_type": "code",
   "execution_count": 3,
   "id": "85be6935",
   "metadata": {},
   "outputs": [
    {
     "data": {
      "text/plain": [
       "<module 'dnd_optimisation' from '/Users/eleni/Python Scripts/DnD/dnd_optimisation.py'>"
      ]
     },
     "execution_count": 3,
     "metadata": {},
     "output_type": "execute_result"
    }
   ],
   "source": [
    "importlib.reload(dndopt)"
   ]
  },
  {
   "cell_type": "code",
   "execution_count": 4,
   "id": "8210557c",
   "metadata": {},
   "outputs": [],
   "source": [
    "Lovran=dndopt.Character(16, 12, 14, 8, 8, 18)"
   ]
  },
  {
   "cell_type": "code",
   "execution_count": 5,
   "id": "e5e6236d",
   "metadata": {},
   "outputs": [
    {
     "data": {
      "text/plain": [
       "array([16, 12, 14,  8,  8, 18])"
      ]
     },
     "execution_count": 5,
     "metadata": {},
     "output_type": "execute_result"
    }
   ],
   "source": [
    "Lovran.ability_score"
   ]
  },
  {
   "cell_type": "code",
   "execution_count": 6,
   "id": "028f89e6",
   "metadata": {},
   "outputs": [],
   "source": [
    "Lovran.set_level(8)"
   ]
  },
  {
   "cell_type": "code",
   "execution_count": 7,
   "id": "6223f2de",
   "metadata": {},
   "outputs": [
    {
     "data": {
      "text/plain": [
       "8"
      ]
     },
     "execution_count": 7,
     "metadata": {},
     "output_type": "execute_result"
    }
   ],
   "source": [
    "Lovran.level"
   ]
  },
  {
   "cell_type": "code",
   "execution_count": 8,
   "id": "5200bdc6",
   "metadata": {},
   "outputs": [
    {
     "data": {
      "text/plain": [
       "3.0"
      ]
     },
     "execution_count": 8,
     "metadata": {},
     "output_type": "execute_result"
    }
   ],
   "source": [
    "Lovran.proficiency_bonus"
   ]
  },
  {
   "cell_type": "code",
   "execution_count": 9,
   "id": "8c1666aa",
   "metadata": {},
   "outputs": [],
   "source": [
    "Lovran.set_advantages(0,0,0,0)"
   ]
  },
  {
   "cell_type": "markdown",
   "id": "751787ae",
   "metadata": {},
   "source": [
    "### Calculating max average damage for longsword with green flame blade (including second target damage) plus divine smite (4d8, 3rd level spell slot ) - doesn't take into account the probability of hitting the target"
   ]
  },
  {
   "cell_type": "code",
   "execution_count": 10,
   "id": "abd34a32",
   "metadata": {},
   "outputs": [],
   "source": [
    "average_damage_dice=7*dndopt.d(8)"
   ]
  },
  {
   "cell_type": "code",
   "execution_count": 11,
   "id": "88b600c1",
   "metadata": {},
   "outputs": [
    {
     "data": {
      "text/plain": [
       "31.5"
      ]
     },
     "execution_count": 11,
     "metadata": {},
     "output_type": "execute_result"
    }
   ],
   "source": [
    "average_damage_dice"
   ]
  },
  {
   "cell_type": "code",
   "execution_count": 12,
   "id": "8a98a80d",
   "metadata": {},
   "outputs": [],
   "source": [
    "damage_modifiers=8"
   ]
  },
  {
   "cell_type": "code",
   "execution_count": 13,
   "id": "4667c232",
   "metadata": {},
   "outputs": [],
   "source": [
    "Lovran.set_weapon(\"STR\",1,average_damage_dice,damage_modifiers)"
   ]
  },
  {
   "cell_type": "code",
   "execution_count": 14,
   "id": "aef57073",
   "metadata": {},
   "outputs": [
    {
     "data": {
      "text/plain": [
       "7.0"
      ]
     },
     "execution_count": 14,
     "metadata": {},
     "output_type": "execute_result"
    }
   ],
   "source": [
    "Lovran.weapon_hit"
   ]
  },
  {
   "cell_type": "code",
   "execution_count": 15,
   "id": "420cf8e3",
   "metadata": {},
   "outputs": [
    {
     "data": {
      "text/plain": [
       "31.5"
      ]
     },
     "execution_count": 15,
     "metadata": {},
     "output_type": "execute_result"
    }
   ],
   "source": [
    "Lovran.weapon_average_damage_dice"
   ]
  },
  {
   "cell_type": "code",
   "execution_count": 16,
   "id": "0a1fdb9d",
   "metadata": {},
   "outputs": [
    {
     "data": {
      "text/plain": [
       "8"
      ]
     },
     "execution_count": 16,
     "metadata": {},
     "output_type": "execute_result"
    }
   ],
   "source": [
    "Lovran.weapon_damage_modifiers"
   ]
  },
  {
   "cell_type": "code",
   "execution_count": 17,
   "id": "ba45d3fd",
   "metadata": {},
   "outputs": [
    {
     "data": {
      "text/plain": [
       "39.5"
      ]
     },
     "execution_count": 17,
     "metadata": {},
     "output_type": "execute_result"
    }
   ],
   "source": [
    "Lovran.weapon_total_average_damage"
   ]
  },
  {
   "cell_type": "markdown",
   "id": "0194942a",
   "metadata": {},
   "source": [
    "### Calculating average damage for the combo green flame blade, longsword, divine smite (one 3rd level spell slot), taking into account the probability of hitting the target."
   ]
  },
  {
   "cell_type": "code",
   "execution_count": 18,
   "id": "57855d04",
   "metadata": {},
   "outputs": [],
   "source": [
    "AC=17"
   ]
  },
  {
   "cell_type": "markdown",
   "id": "2de54992",
   "metadata": {},
   "source": [
    "#### total_average_damage(opponent_AC=1,modifiers=0,repetitions=1,average_damage_per_hit=0,damage_modifiers=0)"
   ]
  },
  {
   "cell_type": "code",
   "execution_count": 19,
   "id": "ffc78c8f",
   "metadata": {},
   "outputs": [],
   "source": [
    "average_hit_damage=Lovran.total_average_damage(AC,Lovran.weapon_hit,1,Lovran.weapon_average_damage_dice,Lovran.weapon_damage_modifiers)"
   ]
  },
  {
   "cell_type": "code",
   "execution_count": 20,
   "id": "6204e07f",
   "metadata": {},
   "outputs": [
    {
     "data": {
      "text/plain": [
       "23.3"
      ]
     },
     "execution_count": 20,
     "metadata": {},
     "output_type": "execute_result"
    }
   ],
   "source": [
    "average_hit_damage"
   ]
  },
  {
   "cell_type": "markdown",
   "id": "a378b530",
   "metadata": {},
   "source": [
    "### What if the target is prone and I am within 5ft, so that every hit is critical hit?"
   ]
  },
  {
   "cell_type": "code",
   "execution_count": 21,
   "id": "037c121f",
   "metadata": {},
   "outputs": [],
   "source": [
    "Lovran.set_advantages(1,0,0,0)"
   ]
  },
  {
   "cell_type": "code",
   "execution_count": 22,
   "id": "b3228f50",
   "metadata": {},
   "outputs": [
    {
     "data": {
      "text/plain": [
       "56.6225"
      ]
     },
     "execution_count": 22,
     "metadata": {},
     "output_type": "execute_result"
    }
   ],
   "source": [
    "Lovran.total_average_damage_critical(AC,Lovran.weapon_hit,1,Lovran.weapon_average_damage_dice,Lovran.weapon_damage_modifiers)"
   ]
  },
  {
   "cell_type": "markdown",
   "id": "85887621",
   "metadata": {},
   "source": [
    "### Casting hold person first, average damage calculation (one 3rd level slot, one 2nd level slot and two sorcery points)"
   ]
  },
  {
   "cell_type": "code",
   "execution_count": 23,
   "id": "28bf47cd",
   "metadata": {},
   "outputs": [],
   "source": [
    "Lovran.set_probability_of_successful_casting(15,2)"
   ]
  },
  {
   "cell_type": "code",
   "execution_count": 24,
   "id": "535ce767",
   "metadata": {},
   "outputs": [
    {
     "data": {
      "text/plain": [
       "0.6"
      ]
     },
     "execution_count": 24,
     "metadata": {},
     "output_type": "execute_result"
    }
   ],
   "source": [
    "Lovran.probability_of_successful_casting"
   ]
  },
  {
   "cell_type": "code",
   "execution_count": 25,
   "id": "a01b0225",
   "metadata": {},
   "outputs": [],
   "source": [
    "Lovran.set_advantages(1,0,0,0)"
   ]
  },
  {
   "cell_type": "code",
   "execution_count": 26,
   "id": "ef857cc0",
   "metadata": {
    "scrolled": true
   },
   "outputs": [
    {
     "data": {
      "text/plain": [
       "43.2935"
      ]
     },
     "execution_count": 26,
     "metadata": {},
     "output_type": "execute_result"
    }
   ],
   "source": [
    "Lovran.probability_of_successful_casting*Lovran.total_average_damage_critical(AC,Lovran.weapon_hit,1,Lovran.weapon_average_damage_dice,Lovran.weapon_damage_modifiers)+(1-Lovran.probability_of_successful_casting)*average_hit_damage"
   ]
  },
  {
   "cell_type": "markdown",
   "id": "546f65d6",
   "metadata": {},
   "source": [
    "### Using silvery barbs to make the opponent reroll their saving throw (one 3rd level slot, one 2nd level slot, one 1st level slot and two sorcery points)"
   ]
  },
  {
   "cell_type": "code",
   "execution_count": 27,
   "id": "440284c7",
   "metadata": {},
   "outputs": [],
   "source": [
    "Lovran.set_probability_of_successful_casting(15,2,1)"
   ]
  },
  {
   "cell_type": "code",
   "execution_count": 28,
   "id": "fe7aa752",
   "metadata": {},
   "outputs": [
    {
     "data": {
      "text/plain": [
       "0.84"
      ]
     },
     "execution_count": 28,
     "metadata": {},
     "output_type": "execute_result"
    }
   ],
   "source": [
    "Lovran.probability_of_successful_casting"
   ]
  },
  {
   "cell_type": "code",
   "execution_count": 29,
   "id": "e6901abe",
   "metadata": {},
   "outputs": [],
   "source": [
    "Lovran.set_advantages(1,0,0,0)"
   ]
  },
  {
   "cell_type": "code",
   "execution_count": 30,
   "id": "866a873c",
   "metadata": {},
   "outputs": [
    {
     "data": {
      "text/plain": [
       "51.2909"
      ]
     },
     "execution_count": 30,
     "metadata": {},
     "output_type": "execute_result"
    }
   ],
   "source": [
    "Lovran.probability_of_successful_casting*Lovran.total_average_damage_critical(AC,Lovran.weapon_hit,1,Lovran.weapon_average_damage_dice,Lovran.weapon_damage_modifiers)+(1-Lovran.probability_of_successful_casting)*average_hit_damage"
   ]
  },
  {
   "cell_type": "markdown",
   "id": "b5c5f9ce",
   "metadata": {},
   "source": [
    "### Quickening booming blade without advantage (two 3rd level slots and two sorcery points)"
   ]
  },
  {
   "cell_type": "code",
   "execution_count": 31,
   "id": "3732a50e",
   "metadata": {},
   "outputs": [],
   "source": [
    "Lovran.set_advantages(0,0,0,0)"
   ]
  },
  {
   "cell_type": "code",
   "execution_count": 32,
   "id": "5b97c1e6",
   "metadata": {},
   "outputs": [
    {
     "data": {
      "text/plain": [
       "46.6"
      ]
     },
     "execution_count": 32,
     "metadata": {},
     "output_type": "execute_result"
    }
   ],
   "source": [
    "Lovran.total_average_damage(AC,Lovran.weapon_hit,2,Lovran.weapon_average_damage_dice,Lovran.weapon_damage_modifiers)"
   ]
  },
  {
   "cell_type": "markdown",
   "id": "12b2a886",
   "metadata": {},
   "source": [
    "### Calculating average damage from the combo searing smite (3rd level spell), green flame blade, longsword + 1 and divine smite (3nd level spell). Total of two 3rd level slots.  Note: searing smite has a duration of 1 minute, depending on concentration checks, which I am not taking into account here."
   ]
  },
  {
   "cell_type": "code",
   "execution_count": 33,
   "id": "1eb3a79e",
   "metadata": {},
   "outputs": [],
   "source": [
    "Lovran.set_advantages(0,0,0,0)"
   ]
  },
  {
   "cell_type": "code",
   "execution_count": 34,
   "id": "5ff82b2b",
   "metadata": {},
   "outputs": [],
   "source": [
    "average_damage=3*dndopt.d(6)+7*dndopt.d(8)"
   ]
  },
  {
   "cell_type": "code",
   "execution_count": 35,
   "id": "4b1529f9",
   "metadata": {},
   "outputs": [],
   "source": [
    "damage_modifiers=8"
   ]
  },
  {
   "cell_type": "code",
   "execution_count": 36,
   "id": "44d4343a",
   "metadata": {},
   "outputs": [],
   "source": [
    "Lovran.set_weapon(\"STR\",1,average_damage,damage_modifiers)"
   ]
  },
  {
   "cell_type": "code",
   "execution_count": 37,
   "id": "ad313ed5",
   "metadata": {},
   "outputs": [
    {
     "data": {
      "text/plain": [
       "29.6"
      ]
     },
     "execution_count": 37,
     "metadata": {},
     "output_type": "execute_result"
    }
   ],
   "source": [
    "Lovran.total_average_damage(AC,Lovran.weapon_hit,1,Lovran.weapon_average_damage_dice,Lovran.weapon_damage_modifiers)"
   ]
  },
  {
   "cell_type": "markdown",
   "id": "76cb3ce5",
   "metadata": {},
   "source": [
    "### Assume a succesful shove (Shield Master) as a bonus action. Calculating average damage from the combo green flame blade, longsword + 1 and divine smite. Only use one 3rd level spell slot. Attention! To make a fair comprison, I need to add the probability of failure of the shove bonus action. This is pretty arbitrary, so I will go for 50%-50%."
   ]
  },
  {
   "cell_type": "code",
   "execution_count": 38,
   "id": "7905e1c5",
   "metadata": {},
   "outputs": [],
   "source": [
    "average_damage_dice=7*dndopt.d(8)"
   ]
  },
  {
   "cell_type": "code",
   "execution_count": 39,
   "id": "b0a26c2c",
   "metadata": {},
   "outputs": [],
   "source": [
    "damage_modifiers=8"
   ]
  },
  {
   "cell_type": "code",
   "execution_count": 40,
   "id": "297a743f",
   "metadata": {},
   "outputs": [],
   "source": [
    "Lovran.set_weapon(\"STR\",1,average_damage_dice,damage_modifiers)"
   ]
  },
  {
   "cell_type": "code",
   "execution_count": 41,
   "id": "a5e8b4b0",
   "metadata": {},
   "outputs": [],
   "source": [
    "Lovran.set_advantages(1,0,0,0)"
   ]
  },
  {
   "cell_type": "code",
   "execution_count": 42,
   "id": "fe561118",
   "metadata": {},
   "outputs": [],
   "source": [
    "hit_with_advantage=Lovran.total_average_damage(AC,Lovran.weapon_hit,1,Lovran.weapon_average_damage_dice,Lovran.weapon_damage_modifiers)"
   ]
  },
  {
   "cell_type": "code",
   "execution_count": 43,
   "id": "12ff5d5a",
   "metadata": {},
   "outputs": [
    {
     "data": {
      "text/plain": [
       "34.5725"
      ]
     },
     "execution_count": 43,
     "metadata": {},
     "output_type": "execute_result"
    }
   ],
   "source": [
    "hit_with_advantage"
   ]
  },
  {
   "cell_type": "code",
   "execution_count": 44,
   "id": "a234d070",
   "metadata": {},
   "outputs": [],
   "source": [
    "Lovran.set_advantages(0,0,0,0)"
   ]
  },
  {
   "cell_type": "code",
   "execution_count": 45,
   "id": "23441fcc",
   "metadata": {},
   "outputs": [],
   "source": [
    "hit_without_advantage=Lovran.total_average_damage(AC,Lovran.weapon_hit,1,Lovran.weapon_average_damage_dice,Lovran.weapon_damage_modifiers)"
   ]
  },
  {
   "cell_type": "code",
   "execution_count": 46,
   "id": "6ad310cb",
   "metadata": {},
   "outputs": [
    {
     "data": {
      "text/plain": [
       "23.3"
      ]
     },
     "execution_count": 46,
     "metadata": {},
     "output_type": "execute_result"
    }
   ],
   "source": [
    "hit_without_advantage"
   ]
  },
  {
   "cell_type": "code",
   "execution_count": 47,
   "id": "7eea743e",
   "metadata": {},
   "outputs": [
    {
     "data": {
      "text/plain": [
       "28.93625"
      ]
     },
     "execution_count": 47,
     "metadata": {},
     "output_type": "execute_result"
    }
   ],
   "source": [
    "0.5*hit_with_advantage+0.5*hit_without_advantage"
   ]
  },
  {
   "cell_type": "markdown",
   "id": "fe35a126",
   "metadata": {},
   "source": [
    "### The technique with the shield master feat is economic on the use of spell slots. "
   ]
  },
  {
   "cell_type": "markdown",
   "id": "61bc6626",
   "metadata": {},
   "source": [
    "### Spiritual weapon is a bonus action. So it can be added to an attack action. Hence, if casted from a 2nd level slot (plus 1 extra 3rd slot per smite), it is a total two 3rd level slots and one 2nd level slot):"
   ]
  },
  {
   "cell_type": "code",
   "execution_count": 48,
   "id": "b7c30de3",
   "metadata": {},
   "outputs": [],
   "source": [
    "Lovran.set_advantages(0,0,0,0)"
   ]
  },
  {
   "cell_type": "code",
   "execution_count": 49,
   "id": "1c1ab531",
   "metadata": {},
   "outputs": [
    {
     "data": {
      "text/plain": [
       "39.0"
      ]
     },
     "execution_count": 49,
     "metadata": {},
     "output_type": "execute_result"
    }
   ],
   "source": [
    "hit_without_advantage+Lovran.total_average_damage(AC,7,1,5*dndopt.d(8),4)"
   ]
  },
  {
   "cell_type": "markdown",
   "id": "dc5df068",
   "metadata": {},
   "source": [
    "### It is an expencive combo in comparison with the other options and less effective than the quickened spell combo. But I have not factored in the fact that one minute duration."
   ]
  },
  {
   "cell_type": "markdown",
   "id": "202403d3",
   "metadata": {},
   "source": [
    "### Shadow blade requires concentration. Assume shadow blade and divine smite (two 3rd level slots)"
   ]
  },
  {
   "cell_type": "code",
   "execution_count": 50,
   "id": "f5848a25",
   "metadata": {},
   "outputs": [],
   "source": [
    "Lovran.set_advantages(0,0,0,0)"
   ]
  },
  {
   "cell_type": "code",
   "execution_count": 51,
   "id": "f9d6fa29",
   "metadata": {},
   "outputs": [
    {
     "data": {
      "text/plain": [
       "18.9"
      ]
     },
     "execution_count": 51,
     "metadata": {},
     "output_type": "execute_result"
    }
   ],
   "source": [
    "Lovran.total_average_damage(AC,7,1,7*dndopt.d(8),0)"
   ]
  },
  {
   "cell_type": "markdown",
   "id": "d94a0705",
   "metadata": {},
   "source": [
    "### It doesn't seem that shadow blade offers any advantage to the buid. I cannot add green fame blade or booming blade, and using the sword is an action. Under shadow:"
   ]
  },
  {
   "cell_type": "code",
   "execution_count": 52,
   "id": "36399bcc",
   "metadata": {},
   "outputs": [],
   "source": [
    "Lovran.set_advantages(1,0,0,0)"
   ]
  },
  {
   "cell_type": "code",
   "execution_count": 53,
   "id": "ae707b61",
   "metadata": {},
   "outputs": [
    {
     "data": {
      "text/plain": [
       "28.1925"
      ]
     },
     "execution_count": 53,
     "metadata": {},
     "output_type": "execute_result"
    }
   ],
   "source": [
    "Lovran.total_average_damage(AC,7,1,7*dndopt.d(8),0)"
   ]
  },
  {
   "cell_type": "markdown",
   "id": "b0a30c7e",
   "metadata": {},
   "source": [
    "### If I use twinned spell with Chromatic Orb (3 sorcery points + two 3rd level spell slots)"
   ]
  },
  {
   "cell_type": "code",
   "execution_count": 54,
   "id": "ef193b35",
   "metadata": {},
   "outputs": [],
   "source": [
    "Lovran.set_advantages(0,0,0,0)"
   ]
  },
  {
   "cell_type": "code",
   "execution_count": 62,
   "id": "31813a5d",
   "metadata": {},
   "outputs": [
    {
     "data": {
      "text/plain": [
       "27.0"
      ]
     },
     "execution_count": 62,
     "metadata": {},
     "output_type": "execute_result"
    }
   ],
   "source": [
    "Lovran.total_average_damage(AC,7,2,5*dndopt.d(8),0)"
   ]
  },
  {
   "cell_type": "markdown",
   "id": "7d734ebc",
   "metadata": {},
   "source": [
    "### It is expensive but a range spell."
   ]
  },
  {
   "cell_type": "markdown",
   "id": "25010628",
   "metadata": {},
   "source": [
    "### If I twinned a cantrip (say fire bolt) I only use 1 sorcery point"
   ]
  },
  {
   "cell_type": "code",
   "execution_count": 61,
   "id": "9aab533b",
   "metadata": {},
   "outputs": [
    {
     "data": {
      "text/plain": [
       "13.2"
      ]
     },
     "execution_count": 61,
     "metadata": {},
     "output_type": "execute_result"
    }
   ],
   "source": [
    "Lovran.total_average_damage(AC,7,2,2*dndopt.d(10),0)"
   ]
  },
  {
   "cell_type": "markdown",
   "id": "1cd97fbe",
   "metadata": {},
   "source": [
    "### A tweened javelin as an alternative option for range attack with green flame blade. I cannot add a smite as it is a ranged weapon."
   ]
  },
  {
   "cell_type": "code",
   "execution_count": 63,
   "id": "24e7b168",
   "metadata": {},
   "outputs": [
    {
     "data": {
      "text/plain": [
       "20.75"
      ]
     },
     "execution_count": 63,
     "metadata": {},
     "output_type": "execute_result"
    }
   ],
   "source": [
    "Lovran.total_average_damage(AC,6,2,dndopt.d(6)+2*dndopt.d(8),7)"
   ]
  },
  {
   "cell_type": "markdown",
   "id": "b6946d3e",
   "metadata": {},
   "source": [
    "### It is not as good as a twinned fire ball if I do not add the damage to a second target."
   ]
  },
  {
   "cell_type": "code",
   "execution_count": 59,
   "id": "5b084be6",
   "metadata": {},
   "outputs": [
    {
     "data": {
      "text/plain": [
       "11.8"
      ]
     },
     "execution_count": 59,
     "metadata": {},
     "output_type": "execute_result"
    }
   ],
   "source": [
    "Lovran.total_average_damage(AC,6,2,dndopt.d(6)+dndopt.d(8),3)"
   ]
  },
  {
   "cell_type": "markdown",
   "id": "8c723c6e",
   "metadata": {},
   "source": [
    "### but a twinned green flame Javelin is only 7 points less damaging than Chromatic orb and requires less resources."
   ]
  },
  {
   "cell_type": "code",
   "execution_count": null,
   "id": "303bbe04",
   "metadata": {},
   "outputs": [],
   "source": []
  }
 ],
 "metadata": {
  "kernelspec": {
   "display_name": "Python 3 (ipykernel)",
   "language": "python",
   "name": "python3"
  },
  "language_info": {
   "codemirror_mode": {
    "name": "ipython",
    "version": 3
   },
   "file_extension": ".py",
   "mimetype": "text/x-python",
   "name": "python",
   "nbconvert_exporter": "python",
   "pygments_lexer": "ipython3",
   "version": "3.10.4"
  }
 },
 "nbformat": 4,
 "nbformat_minor": 5
}
