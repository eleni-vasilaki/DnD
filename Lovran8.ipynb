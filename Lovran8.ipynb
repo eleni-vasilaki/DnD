{
 "cells": [
  {
   "cell_type": "code",
   "execution_count": 257,
   "id": "9704629b",
   "metadata": {},
   "outputs": [],
   "source": [
    "import dnd_optimisation as dndopt "
   ]
  },
  {
   "cell_type": "code",
   "execution_count": 258,
   "id": "7119b36b",
   "metadata": {},
   "outputs": [],
   "source": [
    "import importlib "
   ]
  },
  {
   "cell_type": "code",
   "execution_count": 259,
   "id": "65905741",
   "metadata": {},
   "outputs": [
    {
     "data": {
      "text/plain": [
       "<module 'dnd_optimisation' from '/Users/eleni/Python Scripts/DnD/dnd_optimisation.py'>"
      ]
     },
     "execution_count": 259,
     "metadata": {},
     "output_type": "execute_result"
    }
   ],
   "source": [
    "importlib.reload(dndopt)"
   ]
  },
  {
   "cell_type": "code",
   "execution_count": 260,
   "id": "661fe788",
   "metadata": {},
   "outputs": [],
   "source": [
    "Lovran=dndopt.Character(16, 12, 14, 8, 8, 18)"
   ]
  },
  {
   "cell_type": "code",
   "execution_count": 261,
   "id": "0a9fcae7",
   "metadata": {},
   "outputs": [
    {
     "data": {
      "text/plain": [
       "array([16, 12, 14,  8,  8, 18])"
      ]
     },
     "execution_count": 261,
     "metadata": {},
     "output_type": "execute_result"
    }
   ],
   "source": [
    "Lovran.ability_score"
   ]
  },
  {
   "cell_type": "code",
   "execution_count": 262,
   "id": "6a68c619",
   "metadata": {},
   "outputs": [],
   "source": [
    "Lovran.set_level(8)"
   ]
  },
  {
   "cell_type": "code",
   "execution_count": 263,
   "id": "ca7d7786",
   "metadata": {},
   "outputs": [
    {
     "data": {
      "text/plain": [
       "8"
      ]
     },
     "execution_count": 263,
     "metadata": {},
     "output_type": "execute_result"
    }
   ],
   "source": [
    "Lovran.level"
   ]
  },
  {
   "cell_type": "code",
   "execution_count": 264,
   "id": "b996b992",
   "metadata": {},
   "outputs": [
    {
     "data": {
      "text/plain": [
       "3.0"
      ]
     },
     "execution_count": 264,
     "metadata": {},
     "output_type": "execute_result"
    }
   ],
   "source": [
    "Lovran.proficiency_bonus"
   ]
  },
  {
   "cell_type": "code",
   "execution_count": 265,
   "id": "e4d3c505",
   "metadata": {},
   "outputs": [],
   "source": [
    "Lovran.set_advantages(0,0,0,0)"
   ]
  },
  {
   "cell_type": "markdown",
   "id": "2bb69dd9",
   "metadata": {},
   "source": [
    "### Calculating max average damage for longsword with green flame blade (including second target damage) plus divine smite (4d8) - doesn't take into account the probability of hitting the target"
   ]
  },
  {
   "cell_type": "code",
   "execution_count": 266,
   "id": "06dc9a1b",
   "metadata": {},
   "outputs": [],
   "source": [
    "average_damage=4.5+4.5+4.5+4*(0.5*(8-1)+1)"
   ]
  },
  {
   "cell_type": "code",
   "execution_count": 267,
   "id": "dae9d7ec",
   "metadata": {},
   "outputs": [
    {
     "data": {
      "text/plain": [
       "31.5"
      ]
     },
     "execution_count": 267,
     "metadata": {},
     "output_type": "execute_result"
    }
   ],
   "source": [
    "average_damage"
   ]
  },
  {
   "cell_type": "code",
   "execution_count": 268,
   "id": "5cf11f48",
   "metadata": {},
   "outputs": [],
   "source": [
    "damage_modifiers=8"
   ]
  },
  {
   "cell_type": "code",
   "execution_count": 269,
   "id": "f178c35f",
   "metadata": {},
   "outputs": [],
   "source": [
    "Lovran.set_weapon(\"STR\",1,average_damage,damage_modifiers)"
   ]
  },
  {
   "cell_type": "code",
   "execution_count": 270,
   "id": "62af6389",
   "metadata": {},
   "outputs": [
    {
     "data": {
      "text/plain": [
       "7.0"
      ]
     },
     "execution_count": 270,
     "metadata": {},
     "output_type": "execute_result"
    }
   ],
   "source": [
    "Lovran.weapon_hit"
   ]
  },
  {
   "cell_type": "code",
   "execution_count": 271,
   "id": "8f858bf0",
   "metadata": {},
   "outputs": [
    {
     "data": {
      "text/plain": [
       "31.5"
      ]
     },
     "execution_count": 271,
     "metadata": {},
     "output_type": "execute_result"
    }
   ],
   "source": [
    "Lovran.weapon_average_damage"
   ]
  },
  {
   "cell_type": "code",
   "execution_count": 272,
   "id": "072bb68d",
   "metadata": {},
   "outputs": [
    {
     "data": {
      "text/plain": [
       "8"
      ]
     },
     "execution_count": 272,
     "metadata": {},
     "output_type": "execute_result"
    }
   ],
   "source": [
    "Lovran.weapon_damage_modifiers"
   ]
  },
  {
   "cell_type": "code",
   "execution_count": 273,
   "id": "3e2c7122",
   "metadata": {},
   "outputs": [
    {
     "data": {
      "text/plain": [
       "39.5"
      ]
     },
     "execution_count": 273,
     "metadata": {},
     "output_type": "execute_result"
    }
   ],
   "source": [
    "Lovran.weapon_total_average_damage"
   ]
  },
  {
   "cell_type": "markdown",
   "id": "5d7f9146",
   "metadata": {},
   "source": [
    "### Calculating average damage for the combo green flame blade, longsword, divine smite (one 3rd level spell slot)"
   ]
  },
  {
   "cell_type": "code",
   "execution_count": 274,
   "id": "e3018af3",
   "metadata": {},
   "outputs": [],
   "source": [
    "AC=17"
   ]
  },
  {
   "cell_type": "markdown",
   "id": "193c002e",
   "metadata": {},
   "source": [
    "#### total_average_damage(opponent_AC=1,modifiers=0,repetitions=1,average_damage_per_hit=0,damage_modifiers=0)"
   ]
  },
  {
   "cell_type": "code",
   "execution_count": 275,
   "id": "f3731739",
   "metadata": {},
   "outputs": [],
   "source": [
    "average_hit_damage=Lovran.total_average_damage(AC,Lovran.weapon_hit,1,Lovran.weapon_average_damage,Lovran.weapon_damage_modifiers)"
   ]
  },
  {
   "cell_type": "code",
   "execution_count": 276,
   "id": "8533b86b",
   "metadata": {},
   "outputs": [
    {
     "data": {
      "text/plain": [
       "23.3"
      ]
     },
     "execution_count": 276,
     "metadata": {},
     "output_type": "execute_result"
    }
   ],
   "source": [
    "average_hit_damage"
   ]
  },
  {
   "cell_type": "markdown",
   "id": "d2a533d0",
   "metadata": {},
   "source": [
    "### What if the target is prone and I am within 5ft, so that every hit is critical hit?"
   ]
  },
  {
   "cell_type": "code",
   "execution_count": 277,
   "id": "76cf981c",
   "metadata": {},
   "outputs": [],
   "source": [
    "Lovran.set_advantages(1,0,0,0)"
   ]
  },
  {
   "cell_type": "code",
   "execution_count": 278,
   "id": "3e9c38e2",
   "metadata": {},
   "outputs": [
    {
     "data": {
      "text/plain": [
       "56.6225"
      ]
     },
     "execution_count": 278,
     "metadata": {},
     "output_type": "execute_result"
    }
   ],
   "source": [
    "Lovran.total_average_damage_critical(AC,Lovran.weapon_hit,1,Lovran.weapon_average_damage,Lovran.weapon_damage_modifiers)"
   ]
  },
  {
   "cell_type": "markdown",
   "id": "cebf5802",
   "metadata": {},
   "source": [
    "### Casting hold person first, average damage calculation (one 3rd level slot, one 2nd level slot and one 1st level slot, i.e. two sorcery points)"
   ]
  },
  {
   "cell_type": "code",
   "execution_count": 279,
   "id": "2468cc56",
   "metadata": {},
   "outputs": [],
   "source": [
    "Lovran.set_probability_of_successful_casting(15,2)"
   ]
  },
  {
   "cell_type": "code",
   "execution_count": 280,
   "id": "4ad9acc2",
   "metadata": {},
   "outputs": [
    {
     "data": {
      "text/plain": [
       "0.6"
      ]
     },
     "execution_count": 280,
     "metadata": {},
     "output_type": "execute_result"
    }
   ],
   "source": [
    "Lovran.probability_of_successful_casting"
   ]
  },
  {
   "cell_type": "code",
   "execution_count": 281,
   "id": "8bcf8d72",
   "metadata": {},
   "outputs": [],
   "source": [
    "Lovran.set_advantages(1,0,0,0)"
   ]
  },
  {
   "cell_type": "code",
   "execution_count": 282,
   "id": "0253194c",
   "metadata": {
    "scrolled": true
   },
   "outputs": [
    {
     "data": {
      "text/plain": [
       "43.2935"
      ]
     },
     "execution_count": 282,
     "metadata": {},
     "output_type": "execute_result"
    }
   ],
   "source": [
    "Lovran.probability_of_successful_casting*Lovran.total_average_damage_critical(AC,Lovran.weapon_hit,1,Lovran.weapon_average_damage,Lovran.weapon_damage_modifiers)+(1-Lovran.probability_of_successful_casting)*average_hit_damage"
   ]
  },
  {
   "cell_type": "markdown",
   "id": "8aa69dc6",
   "metadata": {},
   "source": [
    "### Quickening booming blade without advantage (two 3rd level slots and one 1st level slot)"
   ]
  },
  {
   "cell_type": "code",
   "execution_count": 283,
   "id": "1d4f55ea",
   "metadata": {},
   "outputs": [],
   "source": [
    "Lovran.set_advantages(0,0,0,0)"
   ]
  },
  {
   "cell_type": "code",
   "execution_count": 284,
   "id": "dde68af4",
   "metadata": {},
   "outputs": [
    {
     "data": {
      "text/plain": [
       "46.6"
      ]
     },
     "execution_count": 284,
     "metadata": {},
     "output_type": "execute_result"
    }
   ],
   "source": [
    "Lovran.total_average_damage(AC,Lovran.weapon_hit,2,Lovran.weapon_average_damage,Lovran.weapon_damage_modifiers)"
   ]
  },
  {
   "cell_type": "markdown",
   "id": "9702863f",
   "metadata": {},
   "source": [
    "### Calculating average damage from the combo searing smite (3rd level spell), green flame blade, longsword plus 1 and divine smite (3nd level spell). Total of two 3rd level slots."
   ]
  },
  {
   "cell_type": "code",
   "execution_count": 285,
   "id": "4a7c95ea",
   "metadata": {},
   "outputs": [],
   "source": [
    "Lovran.set_advantages(0,0,0,0)"
   ]
  },
  {
   "cell_type": "code",
   "execution_count": 286,
   "id": "41dbc0b7",
   "metadata": {},
   "outputs": [],
   "source": [
    "average_damage=3*((6-1)*0.5+1)+4.5+4.5+4.5+4*(0.5*(8-1)+1)"
   ]
  },
  {
   "cell_type": "code",
   "execution_count": 287,
   "id": "a1dc49f8",
   "metadata": {},
   "outputs": [],
   "source": [
    "damage_modifiers=8"
   ]
  },
  {
   "cell_type": "code",
   "execution_count": 288,
   "id": "21871d46",
   "metadata": {},
   "outputs": [],
   "source": [
    "Lovran.set_weapon(\"STR\",1,average_damage,damage_modifiers)"
   ]
  },
  {
   "cell_type": "code",
   "execution_count": 289,
   "id": "f1e93d8d",
   "metadata": {},
   "outputs": [
    {
     "data": {
      "text/plain": [
       "29.6"
      ]
     },
     "execution_count": 289,
     "metadata": {},
     "output_type": "execute_result"
    }
   ],
   "source": [
    "Lovran.total_average_damage(AC,Lovran.weapon_hit,1,Lovran.weapon_average_damage,Lovran.weapon_damage_modifiers)"
   ]
  },
  {
   "cell_type": "markdown",
   "id": "b6458147",
   "metadata": {},
   "source": [
    "### Assume a succesful shove (Shield Master) as a bonus action. Calculating average damage from the combo green flame blade, longsword plus 1 and divine smite. Only use one 3rd level spell slot. Attention! To make a fair comprison, I need to add the probability of failure of the shove bonus action. This is pretty arbitrary, so I will go for 50%-50%."
   ]
  },
  {
   "cell_type": "code",
   "execution_count": 290,
   "id": "2b2f4ea1",
   "metadata": {},
   "outputs": [],
   "source": [
    "average_damage=4.5+4.5+4.5+4*(0.5*(8-1)+1)"
   ]
  },
  {
   "cell_type": "code",
   "execution_count": 291,
   "id": "08984644",
   "metadata": {},
   "outputs": [],
   "source": [
    "damage_modifiers=8"
   ]
  },
  {
   "cell_type": "code",
   "execution_count": 292,
   "id": "077319fc",
   "metadata": {},
   "outputs": [],
   "source": [
    "Lovran.set_weapon(\"STR\",1,average_damage,damage_modifiers)"
   ]
  },
  {
   "cell_type": "code",
   "execution_count": 293,
   "id": "65ce5116",
   "metadata": {},
   "outputs": [],
   "source": [
    "Lovran.set_advantages(1,0,0,0)"
   ]
  },
  {
   "cell_type": "code",
   "execution_count": 294,
   "id": "2fc75f22",
   "metadata": {},
   "outputs": [],
   "source": [
    "hit_with_advantage=Lovran.total_average_damage(AC,Lovran.weapon_hit,1,Lovran.weapon_average_damage,Lovran.weapon_damage_modifiers)"
   ]
  },
  {
   "cell_type": "code",
   "execution_count": 295,
   "id": "9ff59060",
   "metadata": {},
   "outputs": [
    {
     "data": {
      "text/plain": [
       "34.5725"
      ]
     },
     "execution_count": 295,
     "metadata": {},
     "output_type": "execute_result"
    }
   ],
   "source": [
    "hit_with_advantage"
   ]
  },
  {
   "cell_type": "code",
   "execution_count": 296,
   "id": "baa13522",
   "metadata": {},
   "outputs": [],
   "source": [
    "Lovran.set_advantages(0,0,0,0)"
   ]
  },
  {
   "cell_type": "code",
   "execution_count": 297,
   "id": "e79a326b",
   "metadata": {},
   "outputs": [],
   "source": [
    "hit_without_advantage=Lovran.total_average_damage(AC,Lovran.weapon_hit,1,Lovran.weapon_average_damage,Lovran.weapon_damage_modifiers)"
   ]
  },
  {
   "cell_type": "code",
   "execution_count": 298,
   "id": "0fa1630f",
   "metadata": {},
   "outputs": [
    {
     "data": {
      "text/plain": [
       "23.3"
      ]
     },
     "execution_count": 298,
     "metadata": {},
     "output_type": "execute_result"
    }
   ],
   "source": [
    "hit_without_advantage"
   ]
  },
  {
   "cell_type": "code",
   "execution_count": 299,
   "id": "ef7eef6f",
   "metadata": {},
   "outputs": [
    {
     "data": {
      "text/plain": [
       "28.93625"
      ]
     },
     "execution_count": 299,
     "metadata": {},
     "output_type": "execute_result"
    }
   ],
   "source": [
    "0.5*hit_with_advantage+0.5*hit_without_advantage"
   ]
  },
  {
   "cell_type": "markdown",
   "id": "dd8e6d00",
   "metadata": {},
   "source": [
    "### The technique with the shield master feat is economic on the use of spell slots. "
   ]
  },
  {
   "cell_type": "markdown",
   "id": "db8cb286",
   "metadata": {},
   "source": [
    "### Spiritual weapon is a bonus action. So it can be added to an attack action. Hence, if casted from a 2nd level slot (plus 1 extra 3rd slot smite, total two 3rd level slots plus one 2nd level slot):"
   ]
  },
  {
   "cell_type": "code",
   "execution_count": 300,
   "id": "14dd6963",
   "metadata": {},
   "outputs": [],
   "source": [
    "Lovran.set_advantages(0,0,0,0)"
   ]
  },
  {
   "cell_type": "code",
   "execution_count": 305,
   "id": "05291740",
   "metadata": {},
   "outputs": [
    {
     "data": {
      "text/plain": [
       "39.6"
      ]
     },
     "execution_count": 305,
     "metadata": {},
     "output_type": "execute_result"
    }
   ],
   "source": [
    "hit_without_advantage+Lovran.total_average_damage(AC,7,1,(0.5*(8+1)+1)+4*(0.5*(8-1)+1),4)"
   ]
  },
  {
   "cell_type": "markdown",
   "id": "3d9b67e1",
   "metadata": {},
   "source": [
    "### It is an expencive combo in comparison with the other options and less effective than the quickened spell combo."
   ]
  },
  {
   "cell_type": "markdown",
   "id": "aa916e61",
   "metadata": {},
   "source": [
    "### Shadow blade requires concentration. Assume shadow blade and divine smite (3rd level slots)"
   ]
  },
  {
   "cell_type": "code",
   "execution_count": 302,
   "id": "3ce81164",
   "metadata": {},
   "outputs": [],
   "source": [
    "Lovran.set_advantages(0,0,0,0)"
   ]
  },
  {
   "cell_type": "code",
   "execution_count": 303,
   "id": "acd711d0",
   "metadata": {},
   "outputs": [
    {
     "data": {
      "text/plain": [
       "20.7"
      ]
     },
     "execution_count": 303,
     "metadata": {},
     "output_type": "execute_result"
    }
   ],
   "source": [
    "Lovran.total_average_damage(AC,7,1,3*(0.5*(8+1)+1)+4*(0.5*(8-1)+1),0)"
   ]
  },
  {
   "cell_type": "markdown",
   "id": "a19aef5b",
   "metadata": {},
   "source": [
    "### It doesn't seem that shadow blade offers any advantage to the buid. I cannot add green fame blade or booming blade."
   ]
  },
  {
   "cell_type": "code",
   "execution_count": null,
   "id": "0e836b9c",
   "metadata": {},
   "outputs": [],
   "source": []
  }
 ],
 "metadata": {
  "kernelspec": {
   "display_name": "Python 3 (ipykernel)",
   "language": "python",
   "name": "python3"
  },
  "language_info": {
   "codemirror_mode": {
    "name": "ipython",
    "version": 3
   },
   "file_extension": ".py",
   "mimetype": "text/x-python",
   "name": "python",
   "nbconvert_exporter": "python",
   "pygments_lexer": "ipython3",
   "version": "3.10.4"
  }
 },
 "nbformat": 4,
 "nbformat_minor": 5
}
