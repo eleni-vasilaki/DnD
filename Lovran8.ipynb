{
 "cells": [
  {
   "cell_type": "code",
   "execution_count": 11,
   "id": "70320bae",
   "metadata": {},
   "outputs": [],
   "source": [
    "import dnd_optimisation as dndopt "
   ]
  },
  {
   "cell_type": "code",
   "execution_count": 12,
   "id": "94e67d4b",
   "metadata": {},
   "outputs": [],
   "source": [
    "import importlib "
   ]
  },
  {
   "cell_type": "code",
   "execution_count": 13,
   "id": "d2bf6dc8",
   "metadata": {},
   "outputs": [
    {
     "data": {
      "text/plain": [
       "<module 'dnd_optimisation' from '/Users/eleni/Python Scripts/DnD/dnd_optimisation.py'>"
      ]
     },
     "execution_count": 13,
     "metadata": {},
     "output_type": "execute_result"
    }
   ],
   "source": [
    "importlib.reload(dndopt)"
   ]
  },
  {
   "cell_type": "code",
   "execution_count": 14,
   "id": "54e9c446",
   "metadata": {},
   "outputs": [],
   "source": [
    "Lovran=dndopt.Character(16, 12, 14, 8, 8, 18)"
   ]
  },
  {
   "cell_type": "code",
   "execution_count": 15,
   "id": "b35413d5",
   "metadata": {},
   "outputs": [
    {
     "data": {
      "text/plain": [
       "array([16, 12, 14,  8,  8, 18])"
      ]
     },
     "execution_count": 15,
     "metadata": {},
     "output_type": "execute_result"
    }
   ],
   "source": [
    "Lovran.ability_score"
   ]
  },
  {
   "cell_type": "code",
   "execution_count": 16,
   "id": "b35708ab",
   "metadata": {},
   "outputs": [],
   "source": [
    "Lovran.set_level(8)"
   ]
  },
  {
   "cell_type": "code",
   "execution_count": 17,
   "id": "e1639403",
   "metadata": {},
   "outputs": [
    {
     "data": {
      "text/plain": [
       "8"
      ]
     },
     "execution_count": 17,
     "metadata": {},
     "output_type": "execute_result"
    }
   ],
   "source": [
    "Lovran.level"
   ]
  },
  {
   "cell_type": "code",
   "execution_count": 18,
   "id": "19f19ca7",
   "metadata": {},
   "outputs": [
    {
     "data": {
      "text/plain": [
       "3.0"
      ]
     },
     "execution_count": 18,
     "metadata": {},
     "output_type": "execute_result"
    }
   ],
   "source": [
    "Lovran.proficiency_bonus"
   ]
  },
  {
   "cell_type": "code",
   "execution_count": 19,
   "id": "2e7d416a",
   "metadata": {},
   "outputs": [],
   "source": [
    "Lovran.set_advantages(0,0,0,0)"
   ]
  },
  {
   "cell_type": "markdown",
   "id": "6bebf290",
   "metadata": {},
   "source": [
    "### Calculating max average damage for longsword with green flame blade (including second target damage) plus divine smite (4d8, 3rd level spell slot ) - doesn't take into account the probability of hitting the target"
   ]
  },
  {
   "cell_type": "code",
   "execution_count": 34,
   "id": "bc41bcb8",
   "metadata": {},
   "outputs": [],
   "source": [
    "average_damage_dice=7*dndopt.d(8)"
   ]
  },
  {
   "cell_type": "code",
   "execution_count": 35,
   "id": "64230fa0",
   "metadata": {},
   "outputs": [
    {
     "data": {
      "text/plain": [
       "31.5"
      ]
     },
     "execution_count": 35,
     "metadata": {},
     "output_type": "execute_result"
    }
   ],
   "source": [
    "average_damage_dice"
   ]
  },
  {
   "cell_type": "code",
   "execution_count": 36,
   "id": "75d8e86f",
   "metadata": {},
   "outputs": [],
   "source": [
    "damage_modifiers=8"
   ]
  },
  {
   "cell_type": "code",
   "execution_count": 37,
   "id": "7a6fc3b1",
   "metadata": {},
   "outputs": [],
   "source": [
    "Lovran.set_weapon(\"STR\",1,average_damage_dice,damage_modifiers)"
   ]
  },
  {
   "cell_type": "code",
   "execution_count": 38,
   "id": "ed718e03",
   "metadata": {},
   "outputs": [
    {
     "data": {
      "text/plain": [
       "7.0"
      ]
     },
     "execution_count": 38,
     "metadata": {},
     "output_type": "execute_result"
    }
   ],
   "source": [
    "Lovran.weapon_hit"
   ]
  },
  {
   "cell_type": "code",
   "execution_count": 39,
   "id": "bc022c78",
   "metadata": {},
   "outputs": [
    {
     "data": {
      "text/plain": [
       "31.5"
      ]
     },
     "execution_count": 39,
     "metadata": {},
     "output_type": "execute_result"
    }
   ],
   "source": [
    "Lovran.weapon_average_damage_dice"
   ]
  },
  {
   "cell_type": "code",
   "execution_count": 40,
   "id": "9fc6dbd4",
   "metadata": {},
   "outputs": [
    {
     "data": {
      "text/plain": [
       "8"
      ]
     },
     "execution_count": 40,
     "metadata": {},
     "output_type": "execute_result"
    }
   ],
   "source": [
    "Lovran.weapon_damage_modifiers"
   ]
  },
  {
   "cell_type": "code",
   "execution_count": 41,
   "id": "0b4aebcf",
   "metadata": {},
   "outputs": [
    {
     "data": {
      "text/plain": [
       "39.5"
      ]
     },
     "execution_count": 41,
     "metadata": {},
     "output_type": "execute_result"
    }
   ],
   "source": [
    "Lovran.weapon_total_average_damage"
   ]
  },
  {
   "cell_type": "markdown",
   "id": "7d87026d",
   "metadata": {},
   "source": [
    "### Calculating average damage for the combo green flame blade, longsword, divine smite (one 3rd level spell slot), taking into account the probability of hitting the target."
   ]
  },
  {
   "cell_type": "code",
   "execution_count": 42,
   "id": "f6671f83",
   "metadata": {},
   "outputs": [],
   "source": [
    "AC=17"
   ]
  },
  {
   "cell_type": "markdown",
   "id": "df0ddb61",
   "metadata": {},
   "source": [
    "#### total_average_damage(opponent_AC=1,modifiers=0,repetitions=1,average_damage_per_hit=0,damage_modifiers=0)"
   ]
  },
  {
   "cell_type": "code",
   "execution_count": 43,
   "id": "d34292c4",
   "metadata": {},
   "outputs": [],
   "source": [
    "average_hit_damage=Lovran.total_average_damage(AC,Lovran.weapon_hit,1,Lovran.weapon_average_damage_dice,Lovran.weapon_damage_modifiers)"
   ]
  },
  {
   "cell_type": "code",
   "execution_count": 44,
   "id": "339d8b9a",
   "metadata": {},
   "outputs": [
    {
     "data": {
      "text/plain": [
       "23.3"
      ]
     },
     "execution_count": 44,
     "metadata": {},
     "output_type": "execute_result"
    }
   ],
   "source": [
    "average_hit_damage"
   ]
  },
  {
   "cell_type": "markdown",
   "id": "356e194c",
   "metadata": {},
   "source": [
    "### What if the target is prone and I am within 5ft, so that every hit is critical hit?"
   ]
  },
  {
   "cell_type": "code",
   "execution_count": 45,
   "id": "c6e74bc4",
   "metadata": {},
   "outputs": [],
   "source": [
    "Lovran.set_advantages(1,0,0,0)"
   ]
  },
  {
   "cell_type": "code",
   "execution_count": 46,
   "id": "7fdf29ea",
   "metadata": {},
   "outputs": [
    {
     "data": {
      "text/plain": [
       "56.6225"
      ]
     },
     "execution_count": 46,
     "metadata": {},
     "output_type": "execute_result"
    }
   ],
   "source": [
    "Lovran.total_average_damage_critical(AC,Lovran.weapon_hit,1,Lovran.weapon_average_damage_dice,Lovran.weapon_damage_modifiers)"
   ]
  },
  {
   "cell_type": "markdown",
   "id": "7f85b483",
   "metadata": {},
   "source": [
    "### Casting hold person first, average damage calculation (one 3rd level slot, one 2nd level slot and one 1st level slot, i.e. two sorcery points)"
   ]
  },
  {
   "cell_type": "code",
   "execution_count": 47,
   "id": "7d93a6f6",
   "metadata": {},
   "outputs": [],
   "source": [
    "Lovran.set_probability_of_successful_casting(15,2)"
   ]
  },
  {
   "cell_type": "code",
   "execution_count": 48,
   "id": "47f8d852",
   "metadata": {},
   "outputs": [
    {
     "data": {
      "text/plain": [
       "0.6"
      ]
     },
     "execution_count": 48,
     "metadata": {},
     "output_type": "execute_result"
    }
   ],
   "source": [
    "Lovran.probability_of_successful_casting"
   ]
  },
  {
   "cell_type": "code",
   "execution_count": 49,
   "id": "35e0e24c",
   "metadata": {},
   "outputs": [],
   "source": [
    "Lovran.set_advantages(1,0,0,0)"
   ]
  },
  {
   "cell_type": "code",
   "execution_count": 50,
   "id": "082c60ea",
   "metadata": {
    "scrolled": true
   },
   "outputs": [
    {
     "data": {
      "text/plain": [
       "43.2935"
      ]
     },
     "execution_count": 50,
     "metadata": {},
     "output_type": "execute_result"
    }
   ],
   "source": [
    "Lovran.probability_of_successful_casting*Lovran.total_average_damage_critical(AC,Lovran.weapon_hit,1,Lovran.weapon_average_damage_dice,Lovran.weapon_damage_modifiers)+(1-Lovran.probability_of_successful_casting)*average_hit_damage"
   ]
  },
  {
   "cell_type": "markdown",
   "id": "e985c58a",
   "metadata": {},
   "source": [
    "### Using silvery barbs to make the opponent reroll their saving throw (one 3rd level slot, one 2nd level slot and two 1st level slots)"
   ]
  },
  {
   "cell_type": "code",
   "execution_count": 51,
   "id": "c8a73c7e",
   "metadata": {},
   "outputs": [],
   "source": [
    "Lovran.set_probability_of_successful_casting(15,2,1)"
   ]
  },
  {
   "cell_type": "code",
   "execution_count": 52,
   "id": "4fb11251",
   "metadata": {},
   "outputs": [
    {
     "data": {
      "text/plain": [
       "0.84"
      ]
     },
     "execution_count": 52,
     "metadata": {},
     "output_type": "execute_result"
    }
   ],
   "source": [
    "Lovran.probability_of_successful_casting"
   ]
  },
  {
   "cell_type": "code",
   "execution_count": 53,
   "id": "31d7107e",
   "metadata": {},
   "outputs": [],
   "source": [
    "Lovran.set_advantages(1,0,0,0)"
   ]
  },
  {
   "cell_type": "code",
   "execution_count": 54,
   "id": "ec2e2a19",
   "metadata": {},
   "outputs": [
    {
     "data": {
      "text/plain": [
       "51.2909"
      ]
     },
     "execution_count": 54,
     "metadata": {},
     "output_type": "execute_result"
    }
   ],
   "source": [
    "Lovran.probability_of_successful_casting*Lovran.total_average_damage_critical(AC,Lovran.weapon_hit,1,Lovran.weapon_average_damage_dice,Lovran.weapon_damage_modifiers)+(1-Lovran.probability_of_successful_casting)*average_hit_damage"
   ]
  },
  {
   "cell_type": "markdown",
   "id": "c5d1a0c1",
   "metadata": {},
   "source": [
    "### Quickening booming blade without advantage (two 3rd level slots and one 1st level slot)"
   ]
  },
  {
   "cell_type": "code",
   "execution_count": 55,
   "id": "044e2acc",
   "metadata": {},
   "outputs": [],
   "source": [
    "Lovran.set_advantages(0,0,0,0)"
   ]
  },
  {
   "cell_type": "code",
   "execution_count": 56,
   "id": "acf18bbb",
   "metadata": {},
   "outputs": [
    {
     "data": {
      "text/plain": [
       "46.6"
      ]
     },
     "execution_count": 56,
     "metadata": {},
     "output_type": "execute_result"
    }
   ],
   "source": [
    "Lovran.total_average_damage(AC,Lovran.weapon_hit,2,Lovran.weapon_average_damage_dice,Lovran.weapon_damage_modifiers)"
   ]
  },
  {
   "cell_type": "markdown",
   "id": "c852b716",
   "metadata": {},
   "source": [
    "### Calculating average damage from the combo searing smite (3rd level spell), green flame blade, longsword plus 1 and divine smite (3nd level spell). Total of two 3rd level slots.  Note: searing smite has a duration of 1 minute, depending on concentration checks, which I am not taking into account here."
   ]
  },
  {
   "cell_type": "code",
   "execution_count": 57,
   "id": "b88276ae",
   "metadata": {},
   "outputs": [],
   "source": [
    "Lovran.set_advantages(0,0,0,0)"
   ]
  },
  {
   "cell_type": "code",
   "execution_count": 58,
   "id": "1bfc94fc",
   "metadata": {},
   "outputs": [],
   "source": [
    "average_damage=3*dndopt.d(6)+7*dndopt.d(8)"
   ]
  },
  {
   "cell_type": "code",
   "execution_count": 59,
   "id": "af1febc0",
   "metadata": {},
   "outputs": [],
   "source": [
    "damage_modifiers=8"
   ]
  },
  {
   "cell_type": "code",
   "execution_count": 60,
   "id": "52f5b19e",
   "metadata": {},
   "outputs": [],
   "source": [
    "Lovran.set_weapon(\"STR\",1,average_damage,damage_modifiers)"
   ]
  },
  {
   "cell_type": "code",
   "execution_count": 61,
   "id": "7ea156ba",
   "metadata": {},
   "outputs": [
    {
     "data": {
      "text/plain": [
       "29.6"
      ]
     },
     "execution_count": 61,
     "metadata": {},
     "output_type": "execute_result"
    }
   ],
   "source": [
    "Lovran.total_average_damage(AC,Lovran.weapon_hit,1,Lovran.weapon_average_damage_dice,Lovran.weapon_damage_modifiers)"
   ]
  },
  {
   "cell_type": "markdown",
   "id": "fb7c4944",
   "metadata": {},
   "source": [
    "### Assume a succesful shove (Shield Master) as a bonus action. Calculating average damage from the combo green flame blade, longsword plus 1 and divine smite. Only use one 3rd level spell slot. Attention! To make a fair comprison, I need to add the probability of failure of the shove bonus action. This is pretty arbitrary, so I will go for 50%-50%."
   ]
  },
  {
   "cell_type": "code",
   "execution_count": 63,
   "id": "e2f5f6f5",
   "metadata": {},
   "outputs": [],
   "source": [
    "average_damage_dice=7*dndopt.d(8)"
   ]
  },
  {
   "cell_type": "code",
   "execution_count": 64,
   "id": "d697984b",
   "metadata": {},
   "outputs": [],
   "source": [
    "damage_modifiers=8"
   ]
  },
  {
   "cell_type": "code",
   "execution_count": 65,
   "id": "9cd03468",
   "metadata": {},
   "outputs": [],
   "source": [
    "Lovran.set_weapon(\"STR\",1,average_damage_dice,damage_modifiers)"
   ]
  },
  {
   "cell_type": "code",
   "execution_count": 66,
   "id": "9004e03b",
   "metadata": {},
   "outputs": [],
   "source": [
    "Lovran.set_advantages(1,0,0,0)"
   ]
  },
  {
   "cell_type": "code",
   "execution_count": 67,
   "id": "0cc4c713",
   "metadata": {},
   "outputs": [],
   "source": [
    "hit_with_advantage=Lovran.total_average_damage(AC,Lovran.weapon_hit,1,Lovran.weapon_average_damage_dice,Lovran.weapon_damage_modifiers)"
   ]
  },
  {
   "cell_type": "code",
   "execution_count": 68,
   "id": "f51be0ba",
   "metadata": {},
   "outputs": [
    {
     "data": {
      "text/plain": [
       "34.5725"
      ]
     },
     "execution_count": 68,
     "metadata": {},
     "output_type": "execute_result"
    }
   ],
   "source": [
    "hit_with_advantage"
   ]
  },
  {
   "cell_type": "code",
   "execution_count": 69,
   "id": "a3dc2839",
   "metadata": {},
   "outputs": [],
   "source": [
    "Lovran.set_advantages(0,0,0,0)"
   ]
  },
  {
   "cell_type": "code",
   "execution_count": 71,
   "id": "9a9db362",
   "metadata": {},
   "outputs": [],
   "source": [
    "hit_without_advantage=Lovran.total_average_damage(AC,Lovran.weapon_hit,1,Lovran.weapon_average_damage_dice,Lovran.weapon_damage_modifiers)"
   ]
  },
  {
   "cell_type": "code",
   "execution_count": 72,
   "id": "2f373953",
   "metadata": {},
   "outputs": [
    {
     "data": {
      "text/plain": [
       "23.3"
      ]
     },
     "execution_count": 72,
     "metadata": {},
     "output_type": "execute_result"
    }
   ],
   "source": [
    "hit_without_advantage"
   ]
  },
  {
   "cell_type": "code",
   "execution_count": 73,
   "id": "43c54021",
   "metadata": {},
   "outputs": [
    {
     "data": {
      "text/plain": [
       "28.93625"
      ]
     },
     "execution_count": 73,
     "metadata": {},
     "output_type": "execute_result"
    }
   ],
   "source": [
    "0.5*hit_with_advantage+0.5*hit_without_advantage"
   ]
  },
  {
   "cell_type": "markdown",
   "id": "4d6c11c1",
   "metadata": {},
   "source": [
    "### The technique with the shield master feat is economic on the use of spell slots. "
   ]
  },
  {
   "cell_type": "markdown",
   "id": "39f55c2a",
   "metadata": {},
   "source": [
    "### Spiritual weapon is a bonus action. So it can be added to an attack action. Hence, if casted from a 2nd level slot (plus 1 extra 3rd slot per smite, total two 3rd level slots plus one 2nd level slot):"
   ]
  },
  {
   "cell_type": "code",
   "execution_count": 83,
   "id": "bf0bc93d",
   "metadata": {},
   "outputs": [],
   "source": [
    "Lovran.set_advantages(0,0,0,0)"
   ]
  },
  {
   "cell_type": "code",
   "execution_count": 84,
   "id": "8d2fbc73",
   "metadata": {},
   "outputs": [
    {
     "data": {
      "text/plain": [
       "39.0"
      ]
     },
     "execution_count": 84,
     "metadata": {},
     "output_type": "execute_result"
    }
   ],
   "source": [
    "hit_without_advantage+Lovran.total_average_damage(AC,7,1,5*dndopt.d(8),4)"
   ]
  },
  {
   "cell_type": "markdown",
   "id": "f500f884",
   "metadata": {},
   "source": [
    "### It is an expencive combo in comparison with the other options and less effective than the quickened spell combo. But I have not factored in the fact that one minute duration."
   ]
  },
  {
   "cell_type": "markdown",
   "id": "317c2645",
   "metadata": {},
   "source": [
    "### Shadow blade requires concentration. Assume shadow blade and divine smite (two 3rd level slots)"
   ]
  },
  {
   "cell_type": "code",
   "execution_count": 79,
   "id": "f69c449f",
   "metadata": {},
   "outputs": [],
   "source": [
    "Lovran.set_advantages(0,0,0,0)"
   ]
  },
  {
   "cell_type": "code",
   "execution_count": 80,
   "id": "cafb7c4c",
   "metadata": {},
   "outputs": [
    {
     "data": {
      "text/plain": [
       "18.9"
      ]
     },
     "execution_count": 80,
     "metadata": {},
     "output_type": "execute_result"
    }
   ],
   "source": [
    "Lovran.total_average_damage(AC,7,1,7*dndopt.d(8),0)"
   ]
  },
  {
   "cell_type": "markdown",
   "id": "34e9dc5b",
   "metadata": {},
   "source": [
    "### It doesn't seem that shadow blade offers any advantage to the buid. I cannot add green fame blade or booming blade, and using the sword is an action. Under shadow:"
   ]
  },
  {
   "cell_type": "code",
   "execution_count": 85,
   "id": "65c9502c",
   "metadata": {},
   "outputs": [],
   "source": [
    "Lovran.set_advantages(1,0,0,0)"
   ]
  },
  {
   "cell_type": "code",
   "execution_count": 86,
   "id": "1a933eaa",
   "metadata": {},
   "outputs": [
    {
     "data": {
      "text/plain": [
       "28.1925"
      ]
     },
     "execution_count": 86,
     "metadata": {},
     "output_type": "execute_result"
    }
   ],
   "source": [
    "Lovran.total_average_damage(AC,7,1,7*dndopt.d(8),0)"
   ]
  },
  {
   "cell_type": "markdown",
   "id": "d8ad7992",
   "metadata": {},
   "source": [
    "### If I use twinned spell with Chromatic Orb (3 sorcery points= one 2nd level spell slot + two 3rd level spell slots)"
   ]
  },
  {
   "cell_type": "code",
   "execution_count": 88,
   "id": "9df88a3b",
   "metadata": {},
   "outputs": [],
   "source": [
    "Lovran.set_advantages(0,0,0,0)"
   ]
  },
  {
   "cell_type": "code",
   "execution_count": 89,
   "id": "5a11bfa1",
   "metadata": {},
   "outputs": [
    {
     "data": {
      "text/plain": [
       "27.0"
      ]
     },
     "execution_count": 89,
     "metadata": {},
     "output_type": "execute_result"
    }
   ],
   "source": [
    "Lovran.total_average_damage(AC,7,1,10*dndopt.d(8),0)"
   ]
  },
  {
   "cell_type": "markdown",
   "id": "fadd4193",
   "metadata": {},
   "source": [
    "### It is expensive but a range spell."
   ]
  },
  {
   "cell_type": "markdown",
   "id": "b5c24475",
   "metadata": {},
   "source": [
    "### If I twinned a cantrip (say fire bolt) I only use 1 sorcery point"
   ]
  },
  {
   "cell_type": "code",
   "execution_count": 91,
   "id": "0e93b0a1",
   "metadata": {},
   "outputs": [
    {
     "data": {
      "text/plain": [
       "13.2"
      ]
     },
     "execution_count": 91,
     "metadata": {},
     "output_type": "execute_result"
    }
   ],
   "source": [
    "Lovran.total_average_damage(AC,7,1,4*dndopt.d(10),0)"
   ]
  },
  {
   "cell_type": "markdown",
   "id": "69ca73a1",
   "metadata": {},
   "source": [
    "### Javelin as an alternative option for range attack with green flame blade and a 3rd level smite (one slot)"
   ]
  },
  {
   "cell_type": "code",
   "execution_count": 93,
   "id": "18bb16d8",
   "metadata": {},
   "outputs": [
    {
     "data": {
      "text/plain": [
       "20.275"
      ]
     },
     "execution_count": 93,
     "metadata": {},
     "output_type": "execute_result"
    }
   ],
   "source": [
    "Lovran.total_average_damage(AC,6,1,dndopt.d(6)+6*dndopt.d(8),7)"
   ]
  },
  {
   "cell_type": "markdown",
   "id": "9af99fce",
   "metadata": {},
   "source": [
    "### Combined with quickened spell (two sorcery points and two 3rd level slots)"
   ]
  },
  {
   "cell_type": "code",
   "execution_count": 97,
   "id": "a50c9a35",
   "metadata": {},
   "outputs": [
    {
     "data": {
      "text/plain": [
       "40.55"
      ]
     },
     "execution_count": 97,
     "metadata": {},
     "output_type": "execute_result"
    }
   ],
   "source": [
    "Lovran.total_average_damage(AC,6,2,dndopt.d(6)+6*dndopt.d(8),7)"
   ]
  },
  {
   "cell_type": "markdown",
   "id": "144f7d28",
   "metadata": {},
   "source": [
    "### It is much better that a tweened Chromatic orb (even without counting the damage to the second target)"
   ]
  },
  {
   "cell_type": "code",
   "execution_count": 98,
   "id": "9347310f",
   "metadata": {},
   "outputs": [
    {
     "data": {
      "text/plain": [
       "31.6"
      ]
     },
     "execution_count": 98,
     "metadata": {},
     "output_type": "execute_result"
    }
   ],
   "source": [
    "Lovran.total_average_damage(AC,6,2,dndopt.d(6)+5*dndopt.d(8),3)"
   ]
  },
  {
   "cell_type": "markdown",
   "id": "cb0ada36",
   "metadata": {},
   "source": [
    "### Chromatic orb may be a situationally advantageous option, for instance when the target has resistance to piercing damage"
   ]
  },
  {
   "cell_type": "code",
   "execution_count": null,
   "id": "a34280be",
   "metadata": {},
   "outputs": [],
   "source": []
  }
 ],
 "metadata": {
  "kernelspec": {
   "display_name": "Python 3 (ipykernel)",
   "language": "python",
   "name": "python3"
  },
  "language_info": {
   "codemirror_mode": {
    "name": "ipython",
    "version": 3
   },
   "file_extension": ".py",
   "mimetype": "text/x-python",
   "name": "python",
   "nbconvert_exporter": "python",
   "pygments_lexer": "ipython3",
   "version": "3.10.4"
  }
 },
 "nbformat": 4,
 "nbformat_minor": 5
}
