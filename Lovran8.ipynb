{
 "cells": [
  {
   "cell_type": "code",
   "execution_count": 1,
   "id": "01178584",
   "metadata": {},
   "outputs": [],
   "source": [
    "import dnd_optimisation as dndopt "
   ]
  },
  {
   "cell_type": "code",
   "execution_count": 2,
   "id": "641c0900",
   "metadata": {},
   "outputs": [],
   "source": [
    "import importlib "
   ]
  },
  {
   "cell_type": "code",
   "execution_count": 3,
   "id": "826936e6",
   "metadata": {},
   "outputs": [
    {
     "data": {
      "text/plain": [
       "<module 'dnd_optimisation' from '/Users/eleni/Python Scripts/DnD/dnd_optimisation.py'>"
      ]
     },
     "execution_count": 3,
     "metadata": {},
     "output_type": "execute_result"
    }
   ],
   "source": [
    "importlib.reload(dndopt)"
   ]
  },
  {
   "cell_type": "code",
   "execution_count": 4,
   "id": "0d2ab611",
   "metadata": {},
   "outputs": [],
   "source": [
    "Lovran=dndopt.Character(16, 12, 14, 8, 8, 18)"
   ]
  },
  {
   "cell_type": "code",
   "execution_count": 5,
   "id": "fa4d7eb4",
   "metadata": {},
   "outputs": [
    {
     "data": {
      "text/plain": [
       "array([16, 12, 14,  8,  8, 18])"
      ]
     },
     "execution_count": 5,
     "metadata": {},
     "output_type": "execute_result"
    }
   ],
   "source": [
    "Lovran.ability_score"
   ]
  },
  {
   "cell_type": "code",
   "execution_count": 6,
   "id": "a0377156",
   "metadata": {},
   "outputs": [],
   "source": [
    "Lovran.set_level(8)"
   ]
  },
  {
   "cell_type": "code",
   "execution_count": 7,
   "id": "8b1a5be4",
   "metadata": {},
   "outputs": [
    {
     "data": {
      "text/plain": [
       "8"
      ]
     },
     "execution_count": 7,
     "metadata": {},
     "output_type": "execute_result"
    }
   ],
   "source": [
    "Lovran.level"
   ]
  },
  {
   "cell_type": "code",
   "execution_count": 8,
   "id": "767a4780",
   "metadata": {},
   "outputs": [
    {
     "data": {
      "text/plain": [
       "3.0"
      ]
     },
     "execution_count": 8,
     "metadata": {},
     "output_type": "execute_result"
    }
   ],
   "source": [
    "Lovran.proficiency_bonus"
   ]
  },
  {
   "cell_type": "code",
   "execution_count": 9,
   "id": "acd1fe46",
   "metadata": {},
   "outputs": [],
   "source": [
    "Lovran.set_advantages(0,0,0,0)"
   ]
  },
  {
   "cell_type": "markdown",
   "id": "7a4aafbd",
   "metadata": {},
   "source": [
    "### Calculating max average damage for longsword with green flame blade (including second target damage) plus divine smite (4d8) - doesn't take into account the probability of hitting the target"
   ]
  },
  {
   "cell_type": "code",
   "execution_count": 18,
   "id": "9625720c",
   "metadata": {},
   "outputs": [],
   "source": [
    "average_damage=4.5+4.5+4.5+4*(0.5*(8-1)+1)"
   ]
  },
  {
   "cell_type": "code",
   "execution_count": 19,
   "id": "05bcfc0d",
   "metadata": {},
   "outputs": [
    {
     "data": {
      "text/plain": [
       "31.5"
      ]
     },
     "execution_count": 19,
     "metadata": {},
     "output_type": "execute_result"
    }
   ],
   "source": [
    "average_damage"
   ]
  },
  {
   "cell_type": "code",
   "execution_count": 20,
   "id": "3a7b8cd2",
   "metadata": {},
   "outputs": [],
   "source": [
    "damage_modifiers=8"
   ]
  },
  {
   "cell_type": "code",
   "execution_count": 21,
   "id": "05b8ff5b",
   "metadata": {},
   "outputs": [],
   "source": [
    "Lovran.set_weapon(\"STR\",1,average_damage,damage_modifiers)"
   ]
  },
  {
   "cell_type": "code",
   "execution_count": 22,
   "id": "ca4f9850",
   "metadata": {},
   "outputs": [
    {
     "data": {
      "text/plain": [
       "7.0"
      ]
     },
     "execution_count": 22,
     "metadata": {},
     "output_type": "execute_result"
    }
   ],
   "source": [
    "Lovran.weapon_hit"
   ]
  },
  {
   "cell_type": "code",
   "execution_count": 23,
   "id": "598a6861",
   "metadata": {},
   "outputs": [
    {
     "data": {
      "text/plain": [
       "31.5"
      ]
     },
     "execution_count": 23,
     "metadata": {},
     "output_type": "execute_result"
    }
   ],
   "source": [
    "Lovran.weapon_average_damage"
   ]
  },
  {
   "cell_type": "code",
   "execution_count": 24,
   "id": "d8c79547",
   "metadata": {},
   "outputs": [
    {
     "data": {
      "text/plain": [
       "8"
      ]
     },
     "execution_count": 24,
     "metadata": {},
     "output_type": "execute_result"
    }
   ],
   "source": [
    "Lovran.weapon_damage_modifiers"
   ]
  },
  {
   "cell_type": "code",
   "execution_count": 25,
   "id": "073af205",
   "metadata": {},
   "outputs": [
    {
     "data": {
      "text/plain": [
       "39.5"
      ]
     },
     "execution_count": 25,
     "metadata": {},
     "output_type": "execute_result"
    }
   ],
   "source": [
    "Lovran.weapon_total_average_damage"
   ]
  },
  {
   "cell_type": "markdown",
   "id": "a9291fb1",
   "metadata": {},
   "source": [
    "### Calculating average damage for the combo green flame blade, longsword, divine smite"
   ]
  },
  {
   "cell_type": "code",
   "execution_count": 26,
   "id": "36dd298f",
   "metadata": {},
   "outputs": [],
   "source": [
    "AC=17"
   ]
  },
  {
   "cell_type": "markdown",
   "id": "ab84028a",
   "metadata": {},
   "source": [
    "#### total_average_damage(opponent_AC=1,modifiers=0,repetitions=1,average_damage_per_hit=0,damage_modifiers=0)"
   ]
  },
  {
   "cell_type": "code",
   "execution_count": 27,
   "id": "71267279",
   "metadata": {},
   "outputs": [],
   "source": [
    "average_hit_damage=Lovran.total_average_damage(AC,Lovran.weapon_hit,1,Lovran.weapon_average_damage,Lovran.weapon_damage_modifiers)"
   ]
  },
  {
   "cell_type": "code",
   "execution_count": 28,
   "id": "1f48a0f0",
   "metadata": {},
   "outputs": [
    {
     "data": {
      "text/plain": [
       "23.3"
      ]
     },
     "execution_count": 28,
     "metadata": {},
     "output_type": "execute_result"
    }
   ],
   "source": [
    "average_hit_damage"
   ]
  },
  {
   "cell_type": "markdown",
   "id": "6028c9f3",
   "metadata": {},
   "source": [
    "### What if the target is prone and I am within 5ft, so that every hit is critical hit?"
   ]
  },
  {
   "cell_type": "code",
   "execution_count": 29,
   "id": "d9565cc3",
   "metadata": {},
   "outputs": [],
   "source": [
    "Lovran.set_advantages(1,0,0,0)"
   ]
  },
  {
   "cell_type": "code",
   "execution_count": 30,
   "id": "f05d2ddb",
   "metadata": {},
   "outputs": [
    {
     "data": {
      "text/plain": [
       "56.6225"
      ]
     },
     "execution_count": 30,
     "metadata": {},
     "output_type": "execute_result"
    }
   ],
   "source": [
    "Lovran.total_average_damage_critical(AC,Lovran.weapon_hit,1,Lovran.weapon_average_damage,Lovran.weapon_damage_modifiers)"
   ]
  },
  {
   "cell_type": "markdown",
   "id": "3001bbe1",
   "metadata": {},
   "source": [
    "### Casting hold person first, average damage calculation"
   ]
  },
  {
   "cell_type": "code",
   "execution_count": 31,
   "id": "539dc273",
   "metadata": {},
   "outputs": [],
   "source": [
    "Lovran.set_probability_of_successful_casting(15,2)"
   ]
  },
  {
   "cell_type": "code",
   "execution_count": 32,
   "id": "c222d899",
   "metadata": {},
   "outputs": [
    {
     "data": {
      "text/plain": [
       "0.6"
      ]
     },
     "execution_count": 32,
     "metadata": {},
     "output_type": "execute_result"
    }
   ],
   "source": [
    "Lovran.probability_of_successful_casting"
   ]
  },
  {
   "cell_type": "code",
   "execution_count": 33,
   "id": "ee0c040b",
   "metadata": {},
   "outputs": [],
   "source": [
    "Lovran.set_advantages(1,0,0,0)"
   ]
  },
  {
   "cell_type": "code",
   "execution_count": 34,
   "id": "fecc2bfc",
   "metadata": {
    "scrolled": true
   },
   "outputs": [
    {
     "data": {
      "text/plain": [
       "43.2935"
      ]
     },
     "execution_count": 34,
     "metadata": {},
     "output_type": "execute_result"
    }
   ],
   "source": [
    "Lovran.probability_of_successful_casting*Lovran.total_average_damage_critical(AC,Lovran.weapon_hit,1,Lovran.weapon_average_damage,Lovran.weapon_damage_modifiers)+(1-Lovran.probability_of_successful_casting)*average_hit_damage"
   ]
  },
  {
   "cell_type": "markdown",
   "id": "7d59259c",
   "metadata": {},
   "source": [
    "### Quickening booming blade without advantage"
   ]
  },
  {
   "cell_type": "code",
   "execution_count": 35,
   "id": "94c7b14b",
   "metadata": {},
   "outputs": [],
   "source": [
    "Lovran.set_advantages(0,0,0,0)"
   ]
  },
  {
   "cell_type": "code",
   "execution_count": 36,
   "id": "24cb7857",
   "metadata": {},
   "outputs": [
    {
     "data": {
      "text/plain": [
       "46.6"
      ]
     },
     "execution_count": 36,
     "metadata": {},
     "output_type": "execute_result"
    }
   ],
   "source": [
    "Lovran.total_average_damage(AC,Lovran.weapon_hit,2,Lovran.weapon_average_damage,Lovran.weapon_damage_modifiers)"
   ]
  },
  {
   "cell_type": "markdown",
   "id": "ef5a6656",
   "metadata": {},
   "source": [
    "### Calculating average damage from the combo searing smite (3rd level spell), green flame blade, longsword plus 1 and divine smite (3nd level spell)"
   ]
  },
  {
   "cell_type": "code",
   "execution_count": 37,
   "id": "21e9a90a",
   "metadata": {},
   "outputs": [],
   "source": [
    "average_damage=3*((6-1)*0.5+1)+4.5+4.5+4.5+4*(0.5*(8-1)+1)"
   ]
  },
  {
   "cell_type": "code",
   "execution_count": 38,
   "id": "09f2347d",
   "metadata": {},
   "outputs": [],
   "source": [
    "damage_modifiers=8"
   ]
  },
  {
   "cell_type": "code",
   "execution_count": 39,
   "id": "6a011e73",
   "metadata": {},
   "outputs": [],
   "source": [
    "Lovran.set_weapon(\"STR\",1,average_damage,damage_modifiers)"
   ]
  },
  {
   "cell_type": "code",
   "execution_count": 40,
   "id": "31abb894",
   "metadata": {},
   "outputs": [
    {
     "data": {
      "text/plain": [
       "29.6"
      ]
     },
     "execution_count": 40,
     "metadata": {},
     "output_type": "execute_result"
    }
   ],
   "source": [
    "Lovran.total_average_damage(AC,Lovran.weapon_hit,1,Lovran.weapon_average_damage,Lovran.weapon_damage_modifiers)"
   ]
  },
  {
   "cell_type": "markdown",
   "id": "c28e1e53",
   "metadata": {},
   "source": [
    "### Assume a succesful shove (Shield Master). Calculating average damage from the combo searing smite (3rd level spell), green flame blade, longsword plus 1 and divine smite (3nd level spell)"
   ]
  },
  {
   "cell_type": "code",
   "execution_count": 56,
   "id": "ed6c680c",
   "metadata": {},
   "outputs": [],
   "source": [
    "Lovran.set_advantages(1,0,0,0)"
   ]
  },
  {
   "cell_type": "code",
   "execution_count": 57,
   "id": "4e7d3b26",
   "metadata": {},
   "outputs": [
    {
     "data": {
      "text/plain": [
       "43.97"
      ]
     },
     "execution_count": 57,
     "metadata": {},
     "output_type": "execute_result"
    }
   ],
   "source": [
    "Lovran.total_average_damage(AC,Lovran.weapon_hit,1,Lovran.weapon_average_damage,Lovran.weapon_damage_modifiers)"
   ]
  },
  {
   "cell_type": "markdown",
   "id": "5c3d6a80",
   "metadata": {},
   "source": [
    "### Shadow blade requires concentration. Assume shadow blade and divine smite (3rd level slots)"
   ]
  },
  {
   "cell_type": "code",
   "execution_count": 52,
   "id": "ac22a77a",
   "metadata": {},
   "outputs": [],
   "source": [
    "Lovran.set_advantages(0,0,0,0)"
   ]
  },
  {
   "cell_type": "code",
   "execution_count": 53,
   "id": "f8fa4f4a",
   "metadata": {},
   "outputs": [
    {
     "data": {
      "text/plain": [
       "19.5"
      ]
     },
     "execution_count": 53,
     "metadata": {},
     "output_type": "execute_result"
    }
   ],
   "source": [
    "Lovran.total_average_damage(AC,Lovran.weapon_hit,1,3*0.5*(8+1)+1+4*(0.5*(8-1)+1),0)"
   ]
  },
  {
   "cell_type": "markdown",
   "id": "663e1664",
   "metadata": {},
   "source": [
    "### It doesn't seem that shadow blade offers any advantage to the buid."
   ]
  },
  {
   "cell_type": "code",
   "execution_count": null,
   "id": "bf15bf1c",
   "metadata": {},
   "outputs": [],
   "source": []
  }
 ],
 "metadata": {
  "kernelspec": {
   "display_name": "Python 3 (ipykernel)",
   "language": "python",
   "name": "python3"
  },
  "language_info": {
   "codemirror_mode": {
    "name": "ipython",
    "version": 3
   },
   "file_extension": ".py",
   "mimetype": "text/x-python",
   "name": "python",
   "nbconvert_exporter": "python",
   "pygments_lexer": "ipython3",
   "version": "3.10.4"
  }
 },
 "nbformat": 4,
 "nbformat_minor": 5
}
