{
 "cells": [
  {
   "cell_type": "code",
   "execution_count": 1,
   "id": "31e207ff",
   "metadata": {},
   "outputs": [],
   "source": [
    "import dnd_optimisation as dndopt "
   ]
  },
  {
   "cell_type": "code",
   "execution_count": 2,
   "id": "e235a2e5",
   "metadata": {},
   "outputs": [],
   "source": [
    "import importlib "
   ]
  },
  {
   "cell_type": "code",
   "execution_count": 3,
   "id": "d7f778b7",
   "metadata": {},
   "outputs": [
    {
     "data": {
      "text/plain": [
       "<module 'dnd_optimisation' from '/Users/eleni/Python Scripts/DnD/dnd_optimisation.py'>"
      ]
     },
     "execution_count": 3,
     "metadata": {},
     "output_type": "execute_result"
    }
   ],
   "source": [
    "importlib.reload(dndopt)"
   ]
  },
  {
   "cell_type": "code",
   "execution_count": 4,
   "id": "954131a9",
   "metadata": {},
   "outputs": [],
   "source": [
    "Lovran=dndopt.Character(16, 12, 14, 8, 8, 18)"
   ]
  },
  {
   "cell_type": "code",
   "execution_count": 5,
   "id": "27ed142b",
   "metadata": {},
   "outputs": [
    {
     "data": {
      "text/plain": [
       "array([16, 12, 14,  8,  8, 18])"
      ]
     },
     "execution_count": 5,
     "metadata": {},
     "output_type": "execute_result"
    }
   ],
   "source": [
    "Lovran.ability_score"
   ]
  },
  {
   "cell_type": "code",
   "execution_count": 6,
   "id": "d3fc9251",
   "metadata": {},
   "outputs": [],
   "source": [
    "Lovran.set_level(8)"
   ]
  },
  {
   "cell_type": "code",
   "execution_count": 7,
   "id": "fd19a8ce",
   "metadata": {},
   "outputs": [
    {
     "data": {
      "text/plain": [
       "8"
      ]
     },
     "execution_count": 7,
     "metadata": {},
     "output_type": "execute_result"
    }
   ],
   "source": [
    "Lovran.level"
   ]
  },
  {
   "cell_type": "code",
   "execution_count": 8,
   "id": "ef7cb2ab",
   "metadata": {},
   "outputs": [
    {
     "data": {
      "text/plain": [
       "3.0"
      ]
     },
     "execution_count": 8,
     "metadata": {},
     "output_type": "execute_result"
    }
   ],
   "source": [
    "Lovran.proficiency_bonus"
   ]
  },
  {
   "cell_type": "code",
   "execution_count": 9,
   "id": "3cd87b54",
   "metadata": {},
   "outputs": [],
   "source": [
    "Lovran.set_advantages(0,0,0,0)"
   ]
  },
  {
   "cell_type": "markdown",
   "id": "955b5072",
   "metadata": {},
   "source": [
    "### Calculating max average damage for longsword with green flame blade (including second target damage) plus divine smite (4d8, 3rd level spell slot ) - doesn't take into account the probability of hitting the target"
   ]
  },
  {
   "cell_type": "code",
   "execution_count": 10,
   "id": "83bb2c8e",
   "metadata": {},
   "outputs": [],
   "source": [
    "average_damage_dice=7*dndopt.d(8)"
   ]
  },
  {
   "cell_type": "code",
   "execution_count": 11,
   "id": "1ccaf297",
   "metadata": {},
   "outputs": [
    {
     "data": {
      "text/plain": [
       "31.5"
      ]
     },
     "execution_count": 11,
     "metadata": {},
     "output_type": "execute_result"
    }
   ],
   "source": [
    "average_damage_dice"
   ]
  },
  {
   "cell_type": "code",
   "execution_count": 12,
   "id": "b6aee780",
   "metadata": {},
   "outputs": [],
   "source": [
    "damage_modifiers=8"
   ]
  },
  {
   "cell_type": "code",
   "execution_count": 13,
   "id": "bc112354",
   "metadata": {},
   "outputs": [],
   "source": [
    "Lovran.set_weapon(\"STR\",1,average_damage_dice,damage_modifiers)"
   ]
  },
  {
   "cell_type": "code",
   "execution_count": 14,
   "id": "de3e0a45",
   "metadata": {},
   "outputs": [
    {
     "data": {
      "text/plain": [
       "7.0"
      ]
     },
     "execution_count": 14,
     "metadata": {},
     "output_type": "execute_result"
    }
   ],
   "source": [
    "Lovran.weapon_hit"
   ]
  },
  {
   "cell_type": "code",
   "execution_count": 15,
   "id": "1b90b768",
   "metadata": {},
   "outputs": [
    {
     "data": {
      "text/plain": [
       "31.5"
      ]
     },
     "execution_count": 15,
     "metadata": {},
     "output_type": "execute_result"
    }
   ],
   "source": [
    "Lovran.weapon_average_damage_dice"
   ]
  },
  {
   "cell_type": "code",
   "execution_count": 16,
   "id": "9f0fd9e9",
   "metadata": {},
   "outputs": [
    {
     "data": {
      "text/plain": [
       "8"
      ]
     },
     "execution_count": 16,
     "metadata": {},
     "output_type": "execute_result"
    }
   ],
   "source": [
    "Lovran.weapon_damage_modifiers"
   ]
  },
  {
   "cell_type": "code",
   "execution_count": 17,
   "id": "b5ae470a",
   "metadata": {},
   "outputs": [
    {
     "data": {
      "text/plain": [
       "39.5"
      ]
     },
     "execution_count": 17,
     "metadata": {},
     "output_type": "execute_result"
    }
   ],
   "source": [
    "Lovran.weapon_total_average_damage"
   ]
  },
  {
   "cell_type": "markdown",
   "id": "edd0ac7d",
   "metadata": {},
   "source": [
    "### Calculating average damage for the combo green flame blade, longsword, divine smite (one 3rd level spell slot), taking into account the probability of hitting the target."
   ]
  },
  {
   "cell_type": "code",
   "execution_count": 18,
   "id": "ba77fb13",
   "metadata": {},
   "outputs": [],
   "source": [
    "AC=17"
   ]
  },
  {
   "cell_type": "markdown",
   "id": "46b4bd41",
   "metadata": {},
   "source": [
    "#### total_average_damage(opponent_AC=1,modifiers=0,repetitions=1,average_damage_per_hit=0,damage_modifiers=0)"
   ]
  },
  {
   "cell_type": "code",
   "execution_count": 19,
   "id": "9db334bf",
   "metadata": {},
   "outputs": [],
   "source": [
    "average_hit_damage=Lovran.total_average_damage(AC,Lovran.weapon_hit,1,Lovran.weapon_average_damage_dice,Lovran.weapon_damage_modifiers)"
   ]
  },
  {
   "cell_type": "code",
   "execution_count": 20,
   "id": "74ffc687",
   "metadata": {},
   "outputs": [
    {
     "data": {
      "text/plain": [
       "23.3"
      ]
     },
     "execution_count": 20,
     "metadata": {},
     "output_type": "execute_result"
    }
   ],
   "source": [
    "average_hit_damage"
   ]
  },
  {
   "cell_type": "markdown",
   "id": "dd2c9ad3",
   "metadata": {},
   "source": [
    "### What if the target is prone and I am within 5ft, so that every hit is critical hit?"
   ]
  },
  {
   "cell_type": "code",
   "execution_count": 21,
   "id": "44c3bfb1",
   "metadata": {},
   "outputs": [],
   "source": [
    "Lovran.set_advantages(1,0,0,0)"
   ]
  },
  {
   "cell_type": "code",
   "execution_count": 22,
   "id": "0d06de29",
   "metadata": {},
   "outputs": [
    {
     "data": {
      "text/plain": [
       "56.6225"
      ]
     },
     "execution_count": 22,
     "metadata": {},
     "output_type": "execute_result"
    }
   ],
   "source": [
    "Lovran.total_average_damage_critical(AC,Lovran.weapon_hit,1,Lovran.weapon_average_damage_dice,Lovran.weapon_damage_modifiers)"
   ]
  },
  {
   "cell_type": "markdown",
   "id": "cce618ee",
   "metadata": {},
   "source": [
    "### Casting hold person first, average damage calculation (one 3rd level slot, one 2nd level slot and two sorcery points)"
   ]
  },
  {
   "cell_type": "code",
   "execution_count": 23,
   "id": "05b29e9d",
   "metadata": {},
   "outputs": [],
   "source": [
    "Lovran.set_probability_of_successful_casting(15,2)"
   ]
  },
  {
   "cell_type": "code",
   "execution_count": 24,
   "id": "db699eb0",
   "metadata": {},
   "outputs": [
    {
     "data": {
      "text/plain": [
       "0.6"
      ]
     },
     "execution_count": 24,
     "metadata": {},
     "output_type": "execute_result"
    }
   ],
   "source": [
    "Lovran.probability_of_successful_casting"
   ]
  },
  {
   "cell_type": "code",
   "execution_count": 25,
   "id": "a92805c5",
   "metadata": {},
   "outputs": [],
   "source": [
    "Lovran.set_advantages(1,0,0,0)"
   ]
  },
  {
   "cell_type": "code",
   "execution_count": 26,
   "id": "9944d12b",
   "metadata": {
    "scrolled": true
   },
   "outputs": [
    {
     "data": {
      "text/plain": [
       "43.2935"
      ]
     },
     "execution_count": 26,
     "metadata": {},
     "output_type": "execute_result"
    }
   ],
   "source": [
    "Lovran.probability_of_successful_casting*Lovran.total_average_damage_critical(AC,Lovran.weapon_hit,1,Lovran.weapon_average_damage_dice,Lovran.weapon_damage_modifiers)+(1-Lovran.probability_of_successful_casting)*average_hit_damage"
   ]
  },
  {
   "cell_type": "markdown",
   "id": "d244af56",
   "metadata": {},
   "source": [
    "### Using silvery barbs to make the opponent reroll their saving throw (one 3rd level slot, one 2nd level slot, one 1st level slot and two sorcery points)"
   ]
  },
  {
   "cell_type": "code",
   "execution_count": 27,
   "id": "69d0ead5",
   "metadata": {},
   "outputs": [],
   "source": [
    "Lovran.set_probability_of_successful_casting(15,2,1)"
   ]
  },
  {
   "cell_type": "code",
   "execution_count": 28,
   "id": "e0fa9944",
   "metadata": {},
   "outputs": [
    {
     "data": {
      "text/plain": [
       "0.84"
      ]
     },
     "execution_count": 28,
     "metadata": {},
     "output_type": "execute_result"
    }
   ],
   "source": [
    "Lovran.probability_of_successful_casting"
   ]
  },
  {
   "cell_type": "code",
   "execution_count": 29,
   "id": "87f8dd62",
   "metadata": {},
   "outputs": [],
   "source": [
    "Lovran.set_advantages(1,0,0,0)"
   ]
  },
  {
   "cell_type": "code",
   "execution_count": 30,
   "id": "c0898dff",
   "metadata": {},
   "outputs": [
    {
     "data": {
      "text/plain": [
       "51.2909"
      ]
     },
     "execution_count": 30,
     "metadata": {},
     "output_type": "execute_result"
    }
   ],
   "source": [
    "Lovran.probability_of_successful_casting*Lovran.total_average_damage_critical(AC,Lovran.weapon_hit,1,Lovran.weapon_average_damage_dice,Lovran.weapon_damage_modifiers)+(1-Lovran.probability_of_successful_casting)*average_hit_damage"
   ]
  },
  {
   "cell_type": "markdown",
   "id": "6dfbb476",
   "metadata": {},
   "source": [
    "### Quickening booming blade without advantage (two 3rd level slots and two sorcery points)"
   ]
  },
  {
   "cell_type": "code",
   "execution_count": 31,
   "id": "cf8e5d6e",
   "metadata": {},
   "outputs": [],
   "source": [
    "Lovran.set_advantages(0,0,0,0)"
   ]
  },
  {
   "cell_type": "code",
   "execution_count": 32,
   "id": "824eab98",
   "metadata": {},
   "outputs": [
    {
     "data": {
      "text/plain": [
       "46.6"
      ]
     },
     "execution_count": 32,
     "metadata": {},
     "output_type": "execute_result"
    }
   ],
   "source": [
    "Lovran.total_average_damage(AC,Lovran.weapon_hit,2,Lovran.weapon_average_damage_dice,Lovran.weapon_damage_modifiers)"
   ]
  },
  {
   "cell_type": "markdown",
   "id": "04b9156e",
   "metadata": {},
   "source": [
    "### Calculating average damage from the combo searing smite (3rd level spell), green flame blade, longsword + 1 and divine smite (3nd level spell). Total of two 3rd level slots.  Note: searing smite has a duration of 1 minute, depending on concentration checks, which I am not taking into account here."
   ]
  },
  {
   "cell_type": "code",
   "execution_count": 33,
   "id": "5d175b72",
   "metadata": {},
   "outputs": [],
   "source": [
    "Lovran.set_advantages(0,0,0,0)"
   ]
  },
  {
   "cell_type": "code",
   "execution_count": 34,
   "id": "f2cf3285",
   "metadata": {},
   "outputs": [],
   "source": [
    "average_damage=3*dndopt.d(6)+7*dndopt.d(8)"
   ]
  },
  {
   "cell_type": "code",
   "execution_count": 35,
   "id": "b2fe6c72",
   "metadata": {},
   "outputs": [],
   "source": [
    "damage_modifiers=8"
   ]
  },
  {
   "cell_type": "code",
   "execution_count": 36,
   "id": "08f20387",
   "metadata": {},
   "outputs": [],
   "source": [
    "Lovran.set_weapon(\"STR\",1,average_damage,damage_modifiers)"
   ]
  },
  {
   "cell_type": "code",
   "execution_count": 37,
   "id": "fb44742a",
   "metadata": {},
   "outputs": [
    {
     "data": {
      "text/plain": [
       "29.6"
      ]
     },
     "execution_count": 37,
     "metadata": {},
     "output_type": "execute_result"
    }
   ],
   "source": [
    "Lovran.total_average_damage(AC,Lovran.weapon_hit,1,Lovran.weapon_average_damage_dice,Lovran.weapon_damage_modifiers)"
   ]
  },
  {
   "cell_type": "markdown",
   "id": "94e0d44c",
   "metadata": {},
   "source": [
    "### Assume a succesful shove (Shield Master) as a bonus action. Calculating average damage from the combo green flame blade, longsword + 1 and divine smite. Only use one 3rd level spell slot. Attention! To make a fair comprison, I need to add the probability of failure of the shove bonus action. This is pretty arbitrary, so I will go for 50%-50%."
   ]
  },
  {
   "cell_type": "code",
   "execution_count": 38,
   "id": "59b5f869",
   "metadata": {},
   "outputs": [],
   "source": [
    "average_damage_dice=7*dndopt.d(8)"
   ]
  },
  {
   "cell_type": "code",
   "execution_count": 39,
   "id": "8a19da04",
   "metadata": {},
   "outputs": [],
   "source": [
    "damage_modifiers=8"
   ]
  },
  {
   "cell_type": "code",
   "execution_count": 40,
   "id": "c8f26132",
   "metadata": {},
   "outputs": [],
   "source": [
    "Lovran.set_weapon(\"STR\",1,average_damage_dice,damage_modifiers)"
   ]
  },
  {
   "cell_type": "code",
   "execution_count": 41,
   "id": "8db09995",
   "metadata": {},
   "outputs": [],
   "source": [
    "Lovran.set_advantages(1,0,0,0)"
   ]
  },
  {
   "cell_type": "code",
   "execution_count": 42,
   "id": "3605972f",
   "metadata": {},
   "outputs": [],
   "source": [
    "hit_with_advantage=Lovran.total_average_damage(AC,Lovran.weapon_hit,1,Lovran.weapon_average_damage_dice,Lovran.weapon_damage_modifiers)"
   ]
  },
  {
   "cell_type": "code",
   "execution_count": 43,
   "id": "857f66f8",
   "metadata": {},
   "outputs": [
    {
     "data": {
      "text/plain": [
       "34.5725"
      ]
     },
     "execution_count": 43,
     "metadata": {},
     "output_type": "execute_result"
    }
   ],
   "source": [
    "hit_with_advantage"
   ]
  },
  {
   "cell_type": "code",
   "execution_count": 44,
   "id": "0f815ce2",
   "metadata": {},
   "outputs": [],
   "source": [
    "Lovran.set_advantages(0,0,0,0)"
   ]
  },
  {
   "cell_type": "code",
   "execution_count": 45,
   "id": "20462655",
   "metadata": {},
   "outputs": [],
   "source": [
    "hit_without_advantage=Lovran.total_average_damage(AC,Lovran.weapon_hit,1,Lovran.weapon_average_damage_dice,Lovran.weapon_damage_modifiers)"
   ]
  },
  {
   "cell_type": "code",
   "execution_count": 46,
   "id": "7cc0b487",
   "metadata": {},
   "outputs": [
    {
     "data": {
      "text/plain": [
       "23.3"
      ]
     },
     "execution_count": 46,
     "metadata": {},
     "output_type": "execute_result"
    }
   ],
   "source": [
    "hit_without_advantage"
   ]
  },
  {
   "cell_type": "code",
   "execution_count": 47,
   "id": "bb23adc9",
   "metadata": {},
   "outputs": [
    {
     "data": {
      "text/plain": [
       "28.93625"
      ]
     },
     "execution_count": 47,
     "metadata": {},
     "output_type": "execute_result"
    }
   ],
   "source": [
    "0.5*hit_with_advantage+0.5*hit_without_advantage"
   ]
  },
  {
   "cell_type": "markdown",
   "id": "42fce1f0",
   "metadata": {},
   "source": [
    "### The technique with the shield master feat is economic on the use of spell slots. "
   ]
  },
  {
   "cell_type": "markdown",
   "id": "de692192",
   "metadata": {},
   "source": [
    "### Spiritual weapon is a bonus action. So it can be added to an attack action. Hence, if casted from a 2nd level slot (plus 1 extra 3rd slot per smite), it is a total two 3rd level slots and one 2nd level slot):"
   ]
  },
  {
   "cell_type": "code",
   "execution_count": 48,
   "id": "980fa716",
   "metadata": {},
   "outputs": [],
   "source": [
    "Lovran.set_advantages(0,0,0,0)"
   ]
  },
  {
   "cell_type": "code",
   "execution_count": 49,
   "id": "8076657a",
   "metadata": {},
   "outputs": [
    {
     "data": {
      "text/plain": [
       "39.0"
      ]
     },
     "execution_count": 49,
     "metadata": {},
     "output_type": "execute_result"
    }
   ],
   "source": [
    "hit_without_advantage+Lovran.total_average_damage(AC,7,1,5*dndopt.d(8),4)"
   ]
  },
  {
   "cell_type": "markdown",
   "id": "c8a917c1",
   "metadata": {},
   "source": [
    "### It is an expencive combo in comparison with the other options and less effective than the quickened spell combo. But I have not factored in the fact that one minute duration."
   ]
  },
  {
   "cell_type": "markdown",
   "id": "344ce312",
   "metadata": {},
   "source": [
    "### Shadow blade requires concentration. Assume shadow blade and divine smite (two 3rd level slots)"
   ]
  },
  {
   "cell_type": "code",
   "execution_count": 50,
   "id": "7ee722f9",
   "metadata": {},
   "outputs": [],
   "source": [
    "Lovran.set_advantages(0,0,0,0)"
   ]
  },
  {
   "cell_type": "code",
   "execution_count": 51,
   "id": "bb27cd4d",
   "metadata": {},
   "outputs": [
    {
     "data": {
      "text/plain": [
       "18.9"
      ]
     },
     "execution_count": 51,
     "metadata": {},
     "output_type": "execute_result"
    }
   ],
   "source": [
    "Lovran.total_average_damage(AC,7,1,7*dndopt.d(8),0)"
   ]
  },
  {
   "cell_type": "markdown",
   "id": "56826625",
   "metadata": {},
   "source": [
    "### It doesn't seem that shadow blade offers any advantage to the buid. I cannot add green fame blade or booming blade, and using the sword is an action. Under shadow:"
   ]
  },
  {
   "cell_type": "code",
   "execution_count": 52,
   "id": "ec70076c",
   "metadata": {},
   "outputs": [],
   "source": [
    "Lovran.set_advantages(1,0,0,0)"
   ]
  },
  {
   "cell_type": "code",
   "execution_count": 53,
   "id": "87586fb0",
   "metadata": {},
   "outputs": [
    {
     "data": {
      "text/plain": [
       "28.1925"
      ]
     },
     "execution_count": 53,
     "metadata": {},
     "output_type": "execute_result"
    }
   ],
   "source": [
    "Lovran.total_average_damage(AC,7,1,7*dndopt.d(8),0)"
   ]
  },
  {
   "cell_type": "markdown",
   "id": "b3fd7729",
   "metadata": {},
   "source": [
    "### If I use twinned spell with Chromatic Orb (3 sorcery points + two 3rd level spell slots)"
   ]
  },
  {
   "cell_type": "code",
   "execution_count": 54,
   "id": "2c2dff6e",
   "metadata": {},
   "outputs": [],
   "source": [
    "Lovran.set_advantages(0,0,0,0)"
   ]
  },
  {
   "cell_type": "code",
   "execution_count": 62,
   "id": "d33c18de",
   "metadata": {},
   "outputs": [
    {
     "data": {
      "text/plain": [
       "27.0"
      ]
     },
     "execution_count": 62,
     "metadata": {},
     "output_type": "execute_result"
    }
   ],
   "source": [
    "Lovran.total_average_damage(AC,7,2,5*dndopt.d(8),0)"
   ]
  },
  {
   "cell_type": "markdown",
   "id": "1c60f5bb",
   "metadata": {},
   "source": [
    "### It is expensive but a range spell."
   ]
  },
  {
   "cell_type": "markdown",
   "id": "9e8868bb",
   "metadata": {},
   "source": [
    "### If I twinned a cantrip (say fire bolt) I only use 1 sorcery point"
   ]
  },
  {
   "cell_type": "code",
   "execution_count": 61,
   "id": "7220f7b5",
   "metadata": {},
   "outputs": [
    {
     "data": {
      "text/plain": [
       "13.2"
      ]
     },
     "execution_count": 61,
     "metadata": {},
     "output_type": "execute_result"
    }
   ],
   "source": [
    "Lovran.total_average_damage(AC,7,2,2*dndopt.d(10),0)"
   ]
  },
  {
   "cell_type": "markdown",
   "id": "3e7b1155",
   "metadata": {},
   "source": [
    "### A quickened javelin as an alternative option for range attack with green flame blade. I cannot add a smite as it is a ranged weapon. I cannot use twinned with green flame blade because the latter has a range of self."
   ]
  },
  {
   "cell_type": "code",
   "execution_count": 63,
   "id": "92383e44",
   "metadata": {},
   "outputs": [
    {
     "data": {
      "text/plain": [
       "20.75"
      ]
     },
     "execution_count": 63,
     "metadata": {},
     "output_type": "execute_result"
    }
   ],
   "source": [
    "Lovran.total_average_damage(AC,6,2,dndopt.d(6)+2*dndopt.d(8),7)"
   ]
  },
  {
   "cell_type": "markdown",
   "id": "31c61ed4",
   "metadata": {},
   "source": [
    "### It is not as good as a twinned fire ball if I do not add the damage to a second target."
   ]
  },
  {
   "cell_type": "code",
   "execution_count": 59,
   "id": "faa9d8ce",
   "metadata": {},
   "outputs": [
    {
     "data": {
      "text/plain": [
       "11.8"
      ]
     },
     "execution_count": 59,
     "metadata": {},
     "output_type": "execute_result"
    }
   ],
   "source": [
    "Lovran.total_average_damage(AC,6,2,dndopt.d(6)+dndopt.d(8),3)"
   ]
  },
  {
   "cell_type": "markdown",
   "id": "f5049220",
   "metadata": {},
   "source": [
    "### However, a quickened green flame Javelin is only 7 points less damaging than Chromatic orb and requires less resources."
   ]
  }
 ],
 "metadata": {
  "kernelspec": {
   "display_name": "Python 3 (ipykernel)",
   "language": "python",
   "name": "python3"
  },
  "language_info": {
   "codemirror_mode": {
    "name": "ipython",
    "version": 3
   },
   "file_extension": ".py",
   "mimetype": "text/x-python",
   "name": "python",
   "nbconvert_exporter": "python",
   "pygments_lexer": "ipython3",
   "version": "3.10.4"
  }
 },
 "nbformat": 4,
 "nbformat_minor": 5
}
