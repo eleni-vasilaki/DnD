{
 "cells": [
  {
   "cell_type": "code",
   "execution_count": 547,
   "id": "d5da18c0",
   "metadata": {},
   "outputs": [],
   "source": [
    "import numpy as np\n",
    "import numpy.matlib \n",
    "import math\n",
    "import matplotlib.pyplot as plt\n",
    "import scipy.stats"
   ]
  },
  {
   "cell_type": "markdown",
   "id": "b20e774d",
   "metadata": {},
   "source": [
    "# Inspired by D&D Optimised\n",
    "\n",
    "## Calculate average damage\n",
    "\n",
    "### Source: D&D Optimised\n",
    "\n",
    "\"The basic formula for calculating average damage is as follows:\t\t\t\t\n",
    "((Average Weapon Damage + Applicable per-hit Damage Modifiers)*(% chance to hit))+((Average Dice Damage on attack)*(% chance to crit))+any once per round damage\t\t\t\t\t\t\t\t\t\t\t\t\t\n",
    "\t\t\t\t\t\t\t\t\t\t\t\t\t\n",
    "Keep in mind that if you have multiple attacks, you need to run the above for each attack - you can simply multiply everything between the outermost parentheses by the # of attacks *if* those attacks are identical,\t\t\t\t\t\t\t\t\t\t\t\t\t\n",
    "but in the case of someone using a Polearm Master Feat, for example, they are not, as the regular attacks would use a D10 for the weapon, wheras the bonus action attack would use a D4 for the weapon.\"\t\t\t\t\t\t\t\t\t\t\t\t\t\n",
    "\n",
    "### Source: https://www.dndbeyond.com/sources/phb/combat#MakinganAttack\n",
    "\"To make an attack roll, roll a d20 and add the appropriate modifiers. If the total of the roll plus modifiers equals or exceeds the target's Armor Class (AC), the attack hits.\" \n",
    "\n",
    "\n",
    "## Detailed calculations\n",
    "\n",
    "### Definitions\n",
    "[roll]: Average Dice Roll\n",
    "OAC: Opponents Armour Class\n",
    "\n",
    "### Chance to hit and chance to miss\n",
    "\n",
    "P(My hit was greater than the Opponents AC) = P([roll]+ hit bonus >= OAC) => P([roll]>= OAC- hit bonus)\n",
    "\n",
    "P(hit)=P([rol] >= OAC -hit bonus) = [ 20 -(OAC- hit bonus)+1]/20 = 1 -(OAC- hit bonus -1)/20 = 1 - P(miss)\n",
    "\n",
    "P(miss) = (OAC- hit bonus -1)/20\n",
    "\n",
    "### Chance to hit with advantage\n",
    "P (hit on first roll but not on the second)+ P (hit on the second roll but not on the first)+ P(hit on both rolls)=  2  * [ 1 -(OAC- hit bonus -1)/20] * [ (OAC- hit bonus -1)/20]+ [ 1 -(OAC- hit bonus -1)/20] **2 (see also binomial distribution).\n",
    "\n",
    "The shorter way is to calculate \"1 - the chance of missing both rolls\". \n",
    "\n",
    "P (miss both rolls) = [P(miss)] = [(OAC- hit bonus -1)/20]**2\n",
    "\n",
    "P( hit with an advantage) = 1 - [(OAC- hit bonus -1)/20]**2\n",
    "\n",
    "### Chance to hit with advantage and Elven Accuracy (or Lucky)\n",
    "Elven accuracy, i.e roll one more time: 1- [(OAC- hit bonus -1)/20]**3\n",
    "\n",
    "### Critical hit  (minimum chance to hit)\n",
    "Crit hit (natural 20): p(critit)= 1/20"
   ]
  },
  {
   "cell_type": "code",
   "execution_count": 548,
   "id": "96613ecb",
   "metadata": {},
   "outputs": [],
   "source": [
    "Critit=1/20"
   ]
  },
  {
   "cell_type": "code",
   "execution_count": 549,
   "id": "ecf6e836",
   "metadata": {
    "scrolled": true
   },
   "outputs": [
    {
     "data": {
      "text/plain": [
       "0.05"
      ]
     },
     "execution_count": 549,
     "metadata": {},
     "output_type": "execute_result"
    }
   ],
   "source": [
    "Critit"
   ]
  },
  {
   "cell_type": "markdown",
   "id": "59e4b5a4",
   "metadata": {},
   "source": [
    "### Critical hit with advantage"
   ]
  },
  {
   "cell_type": "code",
   "execution_count": 550,
   "id": "ed3efa71",
   "metadata": {},
   "outputs": [],
   "source": [
    "CrititA=1-(Critit)**2"
   ]
  },
  {
   "cell_type": "code",
   "execution_count": 551,
   "id": "3f996ccd",
   "metadata": {},
   "outputs": [
    {
     "data": {
      "text/plain": [
       "0.9975"
      ]
     },
     "execution_count": 551,
     "metadata": {},
     "output_type": "execute_result"
    }
   ],
   "source": [
    "CrititA"
   ]
  },
  {
   "cell_type": "markdown",
   "id": "89794cfc",
   "metadata": {},
   "source": [
    "### Minimum chance to hit with advantage and Elven Accuracy (or Lucky)\n",
    "Crit hit (natural 20): p(critit)= 1- (1- 1/20)**3"
   ]
  },
  {
   "cell_type": "code",
   "execution_count": 552,
   "id": "7e92b26f",
   "metadata": {},
   "outputs": [
    {
     "data": {
      "text/plain": [
       "0.1426250000000001"
      ]
     },
     "execution_count": 552,
     "metadata": {},
     "output_type": "execute_result"
    }
   ],
   "source": [
    "1- (1-1/20)**3"
   ]
  },
  {
   "cell_type": "markdown",
   "id": "c2e2aa5a",
   "metadata": {},
   "source": [
    "### Minimum chance to hit with Hexblade Curse on target (HCT)\n",
    "Crit hit (19 or 20) p(critit HCT)= 1- (1-2/20)"
   ]
  },
  {
   "cell_type": "code",
   "execution_count": 553,
   "id": "6a5d1293",
   "metadata": {},
   "outputs": [
    {
     "data": {
      "text/plain": [
       "0.09999999999999998"
      ]
     },
     "execution_count": 553,
     "metadata": {},
     "output_type": "execute_result"
    }
   ],
   "source": [
    "1- (1-2/20)"
   ]
  },
  {
   "cell_type": "markdown",
   "id": "8ed78949",
   "metadata": {},
   "source": [
    "### Minimum chance to hit with advantage, Elven Accuracy (or Lucky) and Hexblade Curse on target (HCT)\n",
    "Crit hit (19 or 20) p(critit HCT)= 1- (1-2/20)**3"
   ]
  },
  {
   "cell_type": "code",
   "execution_count": 554,
   "id": "54a8965e",
   "metadata": {},
   "outputs": [
    {
     "data": {
      "text/plain": [
       "0.2709999999999999"
      ]
     },
     "execution_count": 554,
     "metadata": {},
     "output_type": "execute_result"
    }
   ],
   "source": [
    "1- (1-2/20)**3"
   ]
  },
  {
   "cell_type": "markdown",
   "id": "235b67e5",
   "metadata": {},
   "source": [
    "One way to obtain advantage as a Warlock is to get Devil's Sight and Cast Darkness on oneself (when multiclass with e.g. fighter, one may use the blind fighting style instead of Devil's Sight."
   ]
  },
  {
   "cell_type": "markdown",
   "id": "00cfba1d",
   "metadata": {},
   "source": [
    "# Comparing different builds"
   ]
  },
  {
   "cell_type": "markdown",
   "id": "1f18ecf2",
   "metadata": {},
   "source": [
    "## Warlock (Celestial Patron) with 2 levels of Fighter vs 2 levels of Paladin for maximal damage "
   ]
  },
  {
   "cell_type": "markdown",
   "id": "f830baf4",
   "metadata": {},
   "source": [
    "### Assuming the following Ability Scores"
   ]
  },
  {
   "cell_type": "code",
   "execution_count": 555,
   "id": "82b3bc5a",
   "metadata": {},
   "outputs": [],
   "source": [
    "AbilityScores= numpy.array([19, 14, 12, 16, 8, 18])"
   ]
  },
  {
   "cell_type": "code",
   "execution_count": 556,
   "id": "d3cce0bd",
   "metadata": {},
   "outputs": [],
   "source": [
    "Abilities=['STR', 'DEX', 'CON','INT','WIS', 'CHA']"
   ]
  },
  {
   "cell_type": "markdown",
   "id": "976fda71",
   "metadata": {},
   "source": [
    "### Calculate the Ability Score Modifiers"
   ]
  },
  {
   "cell_type": "code",
   "execution_count": 557,
   "id": "5afc1661",
   "metadata": {},
   "outputs": [],
   "source": [
    "Modifiers = np.floor((AbilityScores - 10)/2)"
   ]
  },
  {
   "cell_type": "code",
   "execution_count": 558,
   "id": "2291094f",
   "metadata": {},
   "outputs": [],
   "source": [
    "Modifiers=Modifiers.astype(int)"
   ]
  },
  {
   "cell_type": "markdown",
   "id": "afc6b50c",
   "metadata": {},
   "source": [
    "### What is the Ability Score for Charisma?"
   ]
  },
  {
   "cell_type": "code",
   "execution_count": 559,
   "id": "8c353353",
   "metadata": {},
   "outputs": [
    {
     "data": {
      "text/plain": [
       "18"
      ]
     },
     "execution_count": 559,
     "metadata": {},
     "output_type": "execute_result"
    }
   ],
   "source": [
    "AbilityScores[Abilities.index('CHA')]"
   ]
  },
  {
   "cell_type": "markdown",
   "id": "464695de",
   "metadata": {},
   "source": [
    "### What is the Modifier for Charisma?"
   ]
  },
  {
   "cell_type": "code",
   "execution_count": 560,
   "id": "60ae1ba1",
   "metadata": {},
   "outputs": [
    {
     "data": {
      "text/plain": [
       "4"
      ]
     },
     "execution_count": 560,
     "metadata": {},
     "output_type": "execute_result"
    }
   ],
   "source": [
    "Modifiers[Abilities.index('CHA')]"
   ]
  },
  {
   "cell_type": "markdown",
   "id": "f6152ffa",
   "metadata": {},
   "source": [
    "### Define the Character's Level"
   ]
  },
  {
   "cell_type": "code",
   "execution_count": 561,
   "id": "3696e94a",
   "metadata": {},
   "outputs": [],
   "source": [
    "Level=8;"
   ]
  },
  {
   "cell_type": "markdown",
   "id": "2f685396",
   "metadata": {},
   "source": [
    "### Calculate the Proficiency Bonus"
   ]
  },
  {
   "cell_type": "code",
   "execution_count": 562,
   "id": "01c1d56b",
   "metadata": {},
   "outputs": [],
   "source": [
    "ProficiencyBonus=1+np.ceil(Level/4)"
   ]
  },
  {
   "cell_type": "code",
   "execution_count": 563,
   "id": "1aec3c6b",
   "metadata": {},
   "outputs": [],
   "source": [
    "ProficiencyBonus=ProficiencyBonus.astype(int)"
   ]
  },
  {
   "cell_type": "markdown",
   "id": "937f9793",
   "metadata": {},
   "source": [
    "### Calculate Hit for Spells Attacks casted with Charisma"
   ]
  },
  {
   "cell_type": "code",
   "execution_count": 564,
   "id": "386853a4",
   "metadata": {},
   "outputs": [],
   "source": [
    "OtherBonus=1; #Rod of pact keeper"
   ]
  },
  {
   "cell_type": "code",
   "execution_count": 565,
   "id": "37c034df",
   "metadata": {},
   "outputs": [],
   "source": [
    "SpellHit=Modifiers[Abilities.index('CHA')]+ProficiencyBonus+OtherBonus"
   ]
  },
  {
   "cell_type": "code",
   "execution_count": 566,
   "id": "449c45b3",
   "metadata": {},
   "outputs": [
    {
     "data": {
      "text/plain": [
       "8"
      ]
     },
     "execution_count": 566,
     "metadata": {},
     "output_type": "execute_result"
    }
   ],
   "source": [
    "SpellHit"
   ]
  },
  {
   "cell_type": "markdown",
   "id": "54da73f1",
   "metadata": {},
   "source": [
    "### Calculate Hit for Weapon Attacks with Strength"
   ]
  },
  {
   "cell_type": "code",
   "execution_count": 567,
   "id": "f363906e",
   "metadata": {},
   "outputs": [],
   "source": [
    "WeaponBonus=1; #Magical +1 weapon"
   ]
  },
  {
   "cell_type": "code",
   "execution_count": 568,
   "id": "4192eace",
   "metadata": {},
   "outputs": [],
   "source": [
    "MeleeHit=Modifiers[Abilities.index('STR')]+ProficiencyBonus+WeaponBonus"
   ]
  },
  {
   "cell_type": "code",
   "execution_count": 569,
   "id": "7b90b62b",
   "metadata": {},
   "outputs": [
    {
     "data": {
      "text/plain": [
       "8"
      ]
     },
     "execution_count": 569,
     "metadata": {},
     "output_type": "execute_result"
    }
   ],
   "source": [
    "MeleeHit"
   ]
  },
  {
   "cell_type": "code",
   "execution_count": 570,
   "id": "8f1af261",
   "metadata": {},
   "outputs": [],
   "source": [
    "### Calculate Hit for Weapon Attacks with Dexterity"
   ]
  },
  {
   "cell_type": "code",
   "execution_count": 571,
   "id": "a78edcb4",
   "metadata": {},
   "outputs": [],
   "source": [
    "DexMeleeHit=Modifiers[Abilities.index('DEX')]+ProficiencyBonus+WeaponBonus"
   ]
  },
  {
   "cell_type": "code",
   "execution_count": 572,
   "id": "3107d5ff",
   "metadata": {},
   "outputs": [
    {
     "data": {
      "text/plain": [
       "6"
      ]
     },
     "execution_count": 572,
     "metadata": {},
     "output_type": "execute_result"
    }
   ],
   "source": [
    "DexMeleeHit"
   ]
  },
  {
   "cell_type": "markdown",
   "id": "46e90f58",
   "metadata": {},
   "source": [
    "### The Opponent's Armor Class is:"
   ]
  },
  {
   "cell_type": "code",
   "execution_count": 573,
   "id": "3d948c56",
   "metadata": {},
   "outputs": [],
   "source": [
    "OAC=23"
   ]
  },
  {
   "cell_type": "markdown",
   "id": "040503d0",
   "metadata": {},
   "source": [
    "## Calculate the damage of Eldrich Blast"
   ]
  },
  {
   "cell_type": "markdown",
   "id": "b081b973",
   "metadata": {},
   "source": [
    "### Probability to hit an Opponent"
   ]
  },
  {
   "cell_type": "markdown",
   "id": "3498a87b",
   "metadata": {},
   "source": [
    "#### Probability to hit the Opponent (for 1 dice roll)"
   ]
  },
  {
   "cell_type": "code",
   "execution_count": 574,
   "id": "43825489",
   "metadata": {},
   "outputs": [],
   "source": [
    "PrHit= 1 -(OAC- SpellHit -1)/20 "
   ]
  },
  {
   "cell_type": "code",
   "execution_count": 575,
   "id": "aadedac2",
   "metadata": {},
   "outputs": [
    {
     "data": {
      "text/plain": [
       "0.30000000000000004"
      ]
     },
     "execution_count": 575,
     "metadata": {},
     "output_type": "execute_result"
    }
   ],
   "source": [
    "PrHit"
   ]
  },
  {
   "cell_type": "markdown",
   "id": "6e754c97",
   "metadata": {},
   "source": [
    "#### Probability to miss the Opponent (for 1 dice roll)"
   ]
  },
  {
   "cell_type": "code",
   "execution_count": 576,
   "id": "eed307c2",
   "metadata": {},
   "outputs": [],
   "source": [
    "PrMiss=(OAC- SpellHit -1)/20 "
   ]
  },
  {
   "cell_type": "code",
   "execution_count": 577,
   "id": "143e36e1",
   "metadata": {},
   "outputs": [
    {
     "data": {
      "text/plain": [
       "0.7"
      ]
     },
     "execution_count": 577,
     "metadata": {},
     "output_type": "execute_result"
    }
   ],
   "source": [
    "PrMiss"
   ]
  },
  {
   "cell_type": "markdown",
   "id": "867e9350",
   "metadata": {},
   "source": [
    "#### Probability to hit the opponent with advantage (Ad=2)"
   ]
  },
  {
   "cell_type": "code",
   "execution_count": 578,
   "id": "0372f598",
   "metadata": {},
   "outputs": [],
   "source": [
    "Ad=2"
   ]
  },
  {
   "cell_type": "code",
   "execution_count": 579,
   "id": "fe0c195f",
   "metadata": {},
   "outputs": [],
   "source": [
    "PrHitA=1-(PrMiss)**(Ad)"
   ]
  },
  {
   "cell_type": "code",
   "execution_count": 580,
   "id": "604ed9e3",
   "metadata": {},
   "outputs": [
    {
     "data": {
      "text/plain": [
       "0.51"
      ]
     },
     "execution_count": 580,
     "metadata": {},
     "output_type": "execute_result"
    }
   ],
   "source": [
    "PrHitA"
   ]
  },
  {
   "cell_type": "markdown",
   "id": "d575eb85",
   "metadata": {},
   "source": [
    "#### Number of Elrdich Blast Rays"
   ]
  },
  {
   "cell_type": "code",
   "execution_count": 581,
   "id": "470101d5",
   "metadata": {},
   "outputs": [],
   "source": [
    "Rays=min(math.floor(Level/5)+1,4)"
   ]
  },
  {
   "cell_type": "code",
   "execution_count": 582,
   "id": "e60405ab",
   "metadata": {},
   "outputs": [
    {
     "data": {
      "text/plain": [
       "2"
      ]
     },
     "execution_count": 582,
     "metadata": {},
     "output_type": "execute_result"
    }
   ],
   "source": [
    "Rays"
   ]
  },
  {
   "cell_type": "markdown",
   "id": "1c8e5259",
   "metadata": {},
   "source": [
    "#### In that case the average damage (per ray) will be (with Agonizing Blast) 1d10+ Charisma Modifier"
   ]
  },
  {
   "cell_type": "code",
   "execution_count": 583,
   "id": "43bb02ac",
   "metadata": {},
   "outputs": [],
   "source": [
    "AverageDamagePerRay=5+Modifiers[Abilities.index('CHA')]"
   ]
  },
  {
   "cell_type": "code",
   "execution_count": 584,
   "id": "c6566fc8",
   "metadata": {},
   "outputs": [
    {
     "data": {
      "text/plain": [
       "9"
      ]
     },
     "execution_count": 584,
     "metadata": {},
     "output_type": "execute_result"
    }
   ],
   "source": [
    "AverageDamagePerRay"
   ]
  },
  {
   "cell_type": "markdown",
   "id": "2fccb0f7",
   "metadata": {},
   "source": [
    "Additional modifier for Hex spell"
   ]
  },
  {
   "cell_type": "code",
   "execution_count": 585,
   "id": "be61d526",
   "metadata": {},
   "outputs": [],
   "source": [
    "HexAverageDamage=3"
   ]
  },
  {
   "cell_type": "markdown",
   "id": "ce0f070f",
   "metadata": {},
   "source": [
    "### Average damage, taking into account critical hits, parametrised by the number of rays"
   ]
  },
  {
   "cell_type": "markdown",
   "id": "473c04ab",
   "metadata": {},
   "source": [
    "For two rays only the formula would be "
   ]
  },
  {
   "cell_type": "markdown",
   "id": "9e7de8b7",
   "metadata": {},
   "source": [
    " 2 x Probability that only one ray will hit x damage + Probability that both rays will hit x 2 x damage + 2 x Probability that only one dice will crit hit x damage  + Probability that both dices will hit x 2 x damage "
   ]
  },
  {
   "cell_type": "code",
   "execution_count": 586,
   "id": "cf90ef95",
   "metadata": {},
   "outputs": [
    {
     "data": {
      "text/plain": [
       "6.300000000000001"
      ]
     },
     "execution_count": 586,
     "metadata": {},
     "output_type": "execute_result"
    }
   ],
   "source": [
    "2 * PrHit * PrMiss * AverageDamagePerRay+ 2* (Critit) *(1-Critit) * AverageDamagePerRay+ PrHit**2 * 2* AverageDamagePerRay + 2* (Critit) *(Critit) * AverageDamagePerRay"
   ]
  },
  {
   "cell_type": "markdown",
   "id": "f2da1bf1",
   "metadata": {},
   "source": [
    "In order to easily generalise to higher number of rays we use the binomial distribution. we check for 2 Rays to see the same result as above."
   ]
  },
  {
   "cell_type": "markdown",
   "id": "5a9f5443",
   "metadata": {},
   "source": [
    "Without taking into account Crit Hit"
   ]
  },
  {
   "cell_type": "code",
   "execution_count": 587,
   "id": "6767277b",
   "metadata": {},
   "outputs": [],
   "source": [
    "ADNCR = scipy.stats.binom.pmf(1,2,PrHit)*AverageDamagePerRay + scipy.stats.binom.pmf(2,2,PrHit)* 2* AverageDamagePerRay "
   ]
  },
  {
   "cell_type": "code",
   "execution_count": 588,
   "id": "4c5de893",
   "metadata": {},
   "outputs": [
    {
     "data": {
      "text/plain": [
       "5.400000000000002"
      ]
     },
     "execution_count": 588,
     "metadata": {},
     "output_type": "execute_result"
    }
   ],
   "source": [
    "ADNCR"
   ]
  },
  {
   "cell_type": "markdown",
   "id": "fb796cd6",
   "metadata": {},
   "source": [
    "Calculating Crit Hit"
   ]
  },
  {
   "cell_type": "code",
   "execution_count": 589,
   "id": "c4523da5",
   "metadata": {},
   "outputs": [],
   "source": [
    "ACHD= scipy.stats.binom.pmf(1,2,Critit)*AverageDamagePerRay + scipy.stats.binom.pmf(2,2,Critit)* 2* AverageDamagePerRay "
   ]
  },
  {
   "cell_type": "code",
   "execution_count": 590,
   "id": "27eb3157",
   "metadata": {},
   "outputs": [
    {
     "data": {
      "text/plain": [
       "0.9000000000000002"
      ]
     },
     "execution_count": 590,
     "metadata": {},
     "output_type": "execute_result"
    }
   ],
   "source": [
    "ACHD"
   ]
  },
  {
   "cell_type": "markdown",
   "id": "121e185f",
   "metadata": {},
   "source": [
    "Adding the two together"
   ]
  },
  {
   "cell_type": "code",
   "execution_count": 591,
   "id": "4a230bcd",
   "metadata": {},
   "outputs": [],
   "source": [
    "TAD=ADNCR+ACHD"
   ]
  },
  {
   "cell_type": "code",
   "execution_count": 592,
   "id": "d5accac9",
   "metadata": {},
   "outputs": [
    {
     "data": {
      "text/plain": [
       "6.3000000000000025"
      ]
     },
     "execution_count": 592,
     "metadata": {},
     "output_type": "execute_result"
    }
   ],
   "source": [
    "TAD"
   ]
  },
  {
   "cell_type": "markdown",
   "id": "ea55670b",
   "metadata": {},
   "source": [
    "#### Calculating for arbitrary number of Rays"
   ]
  },
  {
   "cell_type": "code",
   "execution_count": 593,
   "id": "40c0e3f6",
   "metadata": {},
   "outputs": [],
   "source": [
    "TotalDamage=0;"
   ]
  },
  {
   "cell_type": "code",
   "execution_count": 594,
   "id": "de3e5232",
   "metadata": {},
   "outputs": [],
   "source": [
    "indexRay = 1\n",
    "while indexRay < (Rays+1):\n",
    "    TotalDamage+=scipy.stats.binom.pmf(indexRay,Rays,PrHit)*indexRay*AverageDamagePerRay+scipy.stats.binom.pmf(indexRay,Rays,Critit)*indexRay*AverageDamagePerRay\n",
    "    indexRay += 1"
   ]
  },
  {
   "cell_type": "code",
   "execution_count": 595,
   "id": "1a874961",
   "metadata": {},
   "outputs": [
    {
     "data": {
      "text/plain": [
       "6.3000000000000025"
      ]
     },
     "execution_count": 595,
     "metadata": {},
     "output_type": "execute_result"
    }
   ],
   "source": [
    "TotalDamage"
   ]
  },
  {
   "cell_type": "markdown",
   "id": "a4f364a8",
   "metadata": {},
   "source": [
    "### Average damage with  Advantage"
   ]
  },
  {
   "cell_type": "code",
   "execution_count": 596,
   "id": "b485286e",
   "metadata": {},
   "outputs": [],
   "source": [
    "n=1"
   ]
  },
  {
   "cell_type": "code",
   "execution_count": 597,
   "id": "5f0a8e48",
   "metadata": {},
   "outputs": [],
   "source": [
    "TotalRays=n*Rays"
   ]
  },
  {
   "cell_type": "code",
   "execution_count": 598,
   "id": "08160d2d",
   "metadata": {},
   "outputs": [],
   "source": [
    "indexRay = 1\n",
    "while indexRay < (TotalRays+1):\n",
    "    TotalDamage+=scipy.stats.binom.pmf(indexRay,TotalRays,PrHitA)*indexRay*AverageDamagePerRay+scipy.stats.binom.pmf(indexRay,TotalRays,CrititA)*indexRay*AverageDamagePerRay\n",
    "    indexRay += 1"
   ]
  },
  {
   "cell_type": "code",
   "execution_count": 599,
   "id": "6d9a8bfe",
   "metadata": {},
   "outputs": [
    {
     "data": {
      "text/plain": [
       "33.435"
      ]
     },
     "execution_count": 599,
     "metadata": {},
     "output_type": "execute_result"
    }
   ],
   "source": [
    "TotalDamage"
   ]
  },
  {
   "cell_type": "markdown",
   "id": "537ce481",
   "metadata": {},
   "source": [
    "### Average damage with Advantage and Hex"
   ]
  },
  {
   "cell_type": "code",
   "execution_count": 600,
   "id": "dc668c13",
   "metadata": {},
   "outputs": [],
   "source": [
    "n=1"
   ]
  },
  {
   "cell_type": "code",
   "execution_count": 601,
   "id": "56430fe9",
   "metadata": {},
   "outputs": [],
   "source": [
    "TotalRays=n*Rays"
   ]
  },
  {
   "cell_type": "code",
   "execution_count": 602,
   "id": "bb07bbd4",
   "metadata": {},
   "outputs": [],
   "source": [
    "TotalDamage=0"
   ]
  },
  {
   "cell_type": "code",
   "execution_count": 603,
   "id": "5c6c309b",
   "metadata": {},
   "outputs": [],
   "source": [
    "indexRay = 1\n",
    "while indexRay < (TotalRays+1):\n",
    "    TotalDamage+=scipy.stats.binom.pmf(indexRay,TotalRays,PrHitA)*indexRay*(AverageDamagePerRay+HexAverageDamage)+scipy.stats.binom.pmf(indexRay,TotalRays,CrititA)*indexRay*(AverageDamagePerRay+HexAverageDamage)\n",
    "    indexRay += 1"
   ]
  },
  {
   "cell_type": "code",
   "execution_count": 604,
   "id": "68ca4a56",
   "metadata": {},
   "outputs": [
    {
     "data": {
      "text/plain": [
       "36.18"
      ]
     },
     "execution_count": 604,
     "metadata": {},
     "output_type": "execute_result"
    }
   ],
   "source": [
    "TotalDamage"
   ]
  },
  {
   "cell_type": "markdown",
   "id": "1739d00e",
   "metadata": {},
   "source": [
    "### Average damage with  n repetitions (e.g. Action Surge n=2)"
   ]
  },
  {
   "cell_type": "code",
   "execution_count": 605,
   "id": "f39d9cc2",
   "metadata": {},
   "outputs": [],
   "source": [
    "n=2;"
   ]
  },
  {
   "cell_type": "code",
   "execution_count": 606,
   "id": "3232b117",
   "metadata": {},
   "outputs": [],
   "source": [
    "TotalRays=n*Rays"
   ]
  },
  {
   "cell_type": "code",
   "execution_count": 607,
   "id": "eac6ae18",
   "metadata": {},
   "outputs": [],
   "source": [
    "TotalDamage=0"
   ]
  },
  {
   "cell_type": "code",
   "execution_count": 608,
   "id": "cfd29495",
   "metadata": {},
   "outputs": [],
   "source": [
    "indexRay = 1\n",
    "while indexRay < (TotalRays+1):\n",
    "    TotalDamage+=scipy.stats.binom.pmf(indexRay,TotalRays,PrHit)*indexRay*AverageDamagePerRay+scipy.stats.binom.pmf(indexRay,TotalRays,Critit)*indexRay*AverageDamagePerRay\n",
    "    indexRay += 1"
   ]
  },
  {
   "cell_type": "code",
   "execution_count": 609,
   "id": "ca2de40b",
   "metadata": {},
   "outputs": [
    {
     "data": {
      "text/plain": [
       "12.600000000000009"
      ]
     },
     "execution_count": 609,
     "metadata": {},
     "output_type": "execute_result"
    }
   ],
   "source": [
    "TotalDamage"
   ]
  },
  {
   "cell_type": "markdown",
   "id": "7bdf8b4e",
   "metadata": {},
   "source": [
    "### Average damage with  n repetitions  (e.g. Action Surge n=2) and Advantage"
   ]
  },
  {
   "cell_type": "markdown",
   "id": "461710f6",
   "metadata": {},
   "source": [
    "For rolls with advantage I need to use in the formula the probability of hitting the target with advantage"
   ]
  },
  {
   "cell_type": "code",
   "execution_count": 610,
   "id": "20bc0b52",
   "metadata": {},
   "outputs": [],
   "source": [
    "n=2;"
   ]
  },
  {
   "cell_type": "code",
   "execution_count": 611,
   "id": "e385f0f9",
   "metadata": {},
   "outputs": [],
   "source": [
    "TotalRays=n*Rays"
   ]
  },
  {
   "cell_type": "code",
   "execution_count": 612,
   "id": "0193e5c6",
   "metadata": {},
   "outputs": [],
   "source": [
    "TotalDamage=0"
   ]
  },
  {
   "cell_type": "code",
   "execution_count": 613,
   "id": "7cf2a40b",
   "metadata": {},
   "outputs": [],
   "source": [
    "indexRay = 1\n",
    "while indexRay < (TotalRays+1):\n",
    "    TotalDamage+=scipy.stats.binom.pmf(indexRay,TotalRays,PrHitA)*indexRay*AverageDamagePerRay+scipy.stats.binom.pmf(indexRay,TotalRays,CrititA)*indexRay*AverageDamagePerRay\n",
    "    indexRay += 1"
   ]
  },
  {
   "cell_type": "code",
   "execution_count": 614,
   "id": "f3f3238d",
   "metadata": {},
   "outputs": [
    {
     "data": {
      "text/plain": [
       "54.27"
      ]
     },
     "execution_count": 614,
     "metadata": {},
     "output_type": "execute_result"
    }
   ],
   "source": [
    "  TotalDamage"
   ]
  },
  {
   "cell_type": "markdown",
   "id": "8354cf49",
   "metadata": {},
   "source": [
    "### Average damage with  n repetitions  (e.g. Action Surge n=2), Advantage and Hex"
   ]
  },
  {
   "cell_type": "code",
   "execution_count": 615,
   "id": "b961dbaa",
   "metadata": {},
   "outputs": [],
   "source": [
    "n=2;"
   ]
  },
  {
   "cell_type": "code",
   "execution_count": 616,
   "id": "ee376abd",
   "metadata": {},
   "outputs": [],
   "source": [
    "TotalRays=n*Rays"
   ]
  },
  {
   "cell_type": "code",
   "execution_count": 617,
   "id": "e6c54436",
   "metadata": {},
   "outputs": [],
   "source": [
    "TotalDamage=0"
   ]
  },
  {
   "cell_type": "code",
   "execution_count": 618,
   "id": "0ce3a934",
   "metadata": {},
   "outputs": [],
   "source": [
    "indexRay = 1\n",
    "while indexRay < (TotalRays+1):\n",
    "    TotalDamage+=scipy.stats.binom.pmf(indexRay,TotalRays,PrHitA)*indexRay*(AverageDamagePerRay+HexAverageDamage)+scipy.stats.binom.pmf(indexRay,TotalRays,CrititA)*indexRay*(AverageDamagePerRay+HexAverageDamage)\n",
    "    indexRay += 1"
   ]
  },
  {
   "cell_type": "code",
   "execution_count": 619,
   "id": "fae7ccf1",
   "metadata": {},
   "outputs": [
    {
     "data": {
      "text/plain": [
       "72.36000000000001"
      ]
     },
     "execution_count": 619,
     "metadata": {},
     "output_type": "execute_result"
    }
   ],
   "source": [
    "TotalDamage"
   ]
  },
  {
   "cell_type": "markdown",
   "id": "3ad8cf97",
   "metadata": {},
   "source": [
    "## Calculate the damage of Melee + Hex + Smite with Advantage"
   ]
  },
  {
   "cell_type": "code",
   "execution_count": 620,
   "id": "f6f744b1",
   "metadata": {},
   "outputs": [],
   "source": [
    "WeaponDamage=9 #Longsword +1"
   ]
  },
  {
   "cell_type": "code",
   "execution_count": 621,
   "id": "1ce22ae1",
   "metadata": {},
   "outputs": [],
   "source": [
    "PrHit= 1 -(OAC- MeleeHit -1)/20 "
   ]
  },
  {
   "cell_type": "code",
   "execution_count": 622,
   "id": "ceb20c1b",
   "metadata": {},
   "outputs": [
    {
     "data": {
      "text/plain": [
       "0.30000000000000004"
      ]
     },
     "execution_count": 622,
     "metadata": {},
     "output_type": "execute_result"
    }
   ],
   "source": [
    "PrHit"
   ]
  },
  {
   "cell_type": "code",
   "execution_count": 623,
   "id": "dc90d53b",
   "metadata": {},
   "outputs": [],
   "source": [
    "PrMiss=1-PrHit"
   ]
  },
  {
   "cell_type": "code",
   "execution_count": 624,
   "id": "e3f80391",
   "metadata": {},
   "outputs": [],
   "source": [
    "Ad=2"
   ]
  },
  {
   "cell_type": "code",
   "execution_count": 625,
   "id": "38403f43",
   "metadata": {},
   "outputs": [],
   "source": [
    "PrHitAd=1-(PrMiss)**(Ad)"
   ]
  },
  {
   "cell_type": "code",
   "execution_count": 626,
   "id": "3cf7ac90",
   "metadata": {},
   "outputs": [
    {
     "data": {
      "text/plain": [
       "0.51"
      ]
     },
     "execution_count": 626,
     "metadata": {},
     "output_type": "execute_result"
    }
   ],
   "source": [
    "PrHitAd"
   ]
  },
  {
   "cell_type": "code",
   "execution_count": 627,
   "id": "29db0bb2",
   "metadata": {},
   "outputs": [],
   "source": [
    "Smite=20"
   ]
  },
  {
   "cell_type": "code",
   "execution_count": 628,
   "id": "82c10a1b",
   "metadata": {},
   "outputs": [],
   "source": [
    "BonusSmite=6"
   ]
  },
  {
   "cell_type": "code",
   "execution_count": 629,
   "id": "e561678c",
   "metadata": {},
   "outputs": [],
   "source": [
    "TotalDamage= (WeaponDamage+Smite+BonusSmite+HexAverageDamage)*PrHitAd+ (WeaponDamage+Smite+BonusSmite+HexAverageDamage) *CrititA"
   ]
  },
  {
   "cell_type": "code",
   "execution_count": 630,
   "id": "dfee5cf5",
   "metadata": {},
   "outputs": [
    {
     "data": {
      "text/plain": [
       "57.285"
      ]
     },
     "execution_count": 630,
     "metadata": {},
     "output_type": "execute_result"
    }
   ],
   "source": [
    "TotalDamage"
   ]
  },
  {
   "cell_type": "code",
   "execution_count": null,
   "id": "2f7a2165",
   "metadata": {},
   "outputs": [],
   "source": []
  },
  {
   "cell_type": "code",
   "execution_count": null,
   "id": "03309f6a",
   "metadata": {},
   "outputs": [],
   "source": []
  }
 ],
 "metadata": {
  "kernelspec": {
   "display_name": "Python 3 (ipykernel)",
   "language": "python",
   "name": "python3"
  },
  "language_info": {
   "codemirror_mode": {
    "name": "ipython",
    "version": 3
   },
   "file_extension": ".py",
   "mimetype": "text/x-python",
   "name": "python",
   "nbconvert_exporter": "python",
   "pygments_lexer": "ipython3",
   "version": "3.9.10"
  }
 },
 "nbformat": 4,
 "nbformat_minor": 5
}
