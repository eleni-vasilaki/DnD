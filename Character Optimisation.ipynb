{
 "cells": [
  {
   "cell_type": "code",
   "execution_count": 4,
   "id": "769d0835",
   "metadata": {},
   "outputs": [],
   "source": [
    "import numpy as np\n",
    "import numpy.matlib \n",
    "import math\n",
    "import matplotlib.pyplot as plt\n",
    "import scipy.stats"
   ]
  },
  {
   "cell_type": "markdown",
   "id": "8f130a56",
   "metadata": {},
   "source": [
    "# Inspired by youtube channel D&D Optimised (now d4: D&D Deep Dive)\n",
    "\n",
    "## Calculate average damage\n",
    "\n",
    "### Source: D&D Optimised\n",
    "https://www.youtube.com/watch?v=nk2SIaGXSYo\n",
    "\n",
    "\"The basic formula for calculating average damage is as follows:\t\t\t\t\n",
    "((Average Weapon Damage + Applicable per-hit Damage Modifiers)*(% chance to hit))+((Average Dice Damage on attack)*(% chance to crit))+any once per round damage\t\t\t\t\t\t\t\t\t\t\t\t\t\n",
    "\t\t\t\t\t\t\t\t\t\t\t\t\t\n",
    "Keep in mind that if you have multiple attacks, you need to run the above for each attack - you can simply multiply everything between the outermost parentheses by the # of attacks *if* those attacks are identical,\t\t\t\t\t\t\t\t\t\t\t\t\t\n",
    "but in the case of someone using a Polearm Master Feat, for example, they are not, as the regular attacks would use a D10 for the weapon, wheras the bonus action attack would use a D4 for the weapon.\"\t\t\t\t\t\t\t\t\t\t\t\t\t\n",
    "\n",
    "### Source: https://www.dndbeyond.com/sources/phb/combat#MakinganAttack\n",
    "\"To make an attack roll, roll a d20 and add the appropriate modifiers. If the total of the roll plus modifiers equals or exceeds the target's Armor Class (AC), the attack hits.\" \n",
    "\n",
    "\n",
    "## Detailed calculations\n",
    "\n",
    "### Definitions\n",
    "[roll]: Average Dice Roll\n",
    "OAC: Opponents Armour Class\n",
    "\n",
    "### Chance to hit and chance to miss\n",
    "\n",
    "P(My hit was greater or equal than the Opponents AC) = P([roll]+ hit bonus >= OAC) => P([roll]>= OAC- hit bonus)\n",
    "\n",
    "P(hit)=P([rol] >= OAC -hit bonus) = [ 20 -(OAC- hit bonus)+1]/20 = 1 -(OAC- hit bonus -1)/20 = 1 - P(miss)\n",
    "\n",
    "P(miss) = (OAC- hit bonus -1)/20\n",
    "\n",
    "### Chance to hit with advantage\n",
    "P (hit on first roll but not on the second)+ P (hit on the second roll but not on the first)+ P(hit on both rolls)=  2  * [ 1 -(OAC- hit bonus -1)/20] * [ (OAC- hit bonus -1)/20]+ [ 1 -(OAC- hit bonus -1)/20] **2 (see also binomial distribution).\n",
    "\n",
    "The shorter way is to calculate \"1 - the chance of missing both rolls\". \n",
    "\n",
    "P (miss both rolls) = [P(miss)] = [(OAC- hit bonus -1)/20]**2\n",
    "\n",
    "P( hit with an advantage) = 1 - [(OAC- hit bonus -1)/20]**2\n",
    "\n",
    "### Chance to hit with advantage and Elven Accuracy (or Lucky)\n",
    "Elven accuracy, i.e roll one more time: 1- [(OAC- hit bonus -1)/20]**3\n",
    "\n",
    "### Critical hit  (minimum chance to hit)\n",
    "Crit hit (natural 20): p(critit)= 1/20"
   ]
  },
  {
   "cell_type": "markdown",
   "id": "4eb43bf3",
   "metadata": {},
   "source": [
    "### Critical hit with advantage\n",
    "Crit hit (natural 20): p(critit)= 1- (1- 1/20)**2"
   ]
  },
  {
   "cell_type": "markdown",
   "id": "2838ae16",
   "metadata": {},
   "source": [
    "### Minimum chance to hit with advantage and Elven Accuracy (or Lucky)\n",
    "Crit hit (natural 20): p(critit)= 1- (1- 1/20)**3"
   ]
  },
  {
   "cell_type": "markdown",
   "id": "e4d1fdc4",
   "metadata": {},
   "source": [
    "### Minimum chance to hit with Hexblade Curse on target (HCT)\n",
    "Crit hit (19 or 20) p(critit HCT)= 1- (1-2/20)"
   ]
  },
  {
   "cell_type": "code",
   "execution_count": 5,
   "id": "25298e7b",
   "metadata": {},
   "outputs": [
    {
     "data": {
      "text/plain": [
       "0.09999999999999998"
      ]
     },
     "execution_count": 5,
     "metadata": {},
     "output_type": "execute_result"
    }
   ],
   "source": [
    "1- (1-2/20)"
   ]
  },
  {
   "cell_type": "markdown",
   "id": "4019b9e7",
   "metadata": {},
   "source": [
    "### Minimum chance to hit with advantage, Elven Accuracy (or Lucky) and Hexblade Curse on target (HCT)\n",
    "Crit hit (19 or 20) p(critit HCT)= 1- (1-2/20)**3"
   ]
  },
  {
   "cell_type": "code",
   "execution_count": 6,
   "id": "e19db550",
   "metadata": {},
   "outputs": [
    {
     "data": {
      "text/plain": [
       "0.2709999999999999"
      ]
     },
     "execution_count": 6,
     "metadata": {},
     "output_type": "execute_result"
    }
   ],
   "source": [
    "1- (1-2/20)**3"
   ]
  },
  {
   "cell_type": "markdown",
   "id": "4924ca17",
   "metadata": {},
   "source": [
    "One way to obtain advantage as a Warlock is to get Devil's Sight and Cast Darkness on oneself (when multiclass with e.g. fighter, one may use the blind fighting style instead of Devil's Sight)."
   ]
  },
  {
   "cell_type": "markdown",
   "id": "d969b575",
   "metadata": {},
   "source": [
    "##  Calculating the Probablility of critical hits (rounded to 5 decimal digits)."
   ]
  },
  {
   "cell_type": "code",
   "execution_count": 7,
   "id": "b0eab53d",
   "metadata": {},
   "outputs": [],
   "source": [
    "import dnd_optimisation as dndopt # this is a python file containing the calcuations for critical hits"
   ]
  },
  {
   "cell_type": "code",
   "execution_count": 8,
   "id": "bacfaa46",
   "metadata": {},
   "outputs": [
    {
     "data": {
      "text/plain": [
       "<module 'dnd_optimisation' from '/Users/eleni/Python Scripts/DnD/dnd_optimisation.py'>"
      ]
     },
     "execution_count": 8,
     "metadata": {},
     "output_type": "execute_result"
    }
   ],
   "source": [
    "import importlib  #This is because I am making changes to the file all the time ;) \n",
    "importlib.reload(dndopt)  "
   ]
  },
  {
   "cell_type": "markdown",
   "id": "92e01a9f",
   "metadata": {},
   "source": [
    "#### Setting advantage, luck_point (related to the lucky feat) and elven_accuracy to false gives the probabity of a natural critical hit (natural 20) 1/20"
   ]
  },
  {
   "cell_type": "code",
   "execution_count": 9,
   "id": "88e314f5",
   "metadata": {},
   "outputs": [],
   "source": [
    "advantage=False; luck_point=False; elven_accuracy=False; hexblade_curse=False"
   ]
  },
  {
   "cell_type": "code",
   "execution_count": 10,
   "id": "01093563",
   "metadata": {},
   "outputs": [
    {
     "data": {
      "text/plain": [
       "0.05"
      ]
     },
     "execution_count": 10,
     "metadata": {},
     "output_type": "execute_result"
    }
   ],
   "source": [
    "dndopt.probability_of_crtical_hit(advantage,luck_point,elven_accuracy,hexblade_curse)"
   ]
  },
  {
   "cell_type": "markdown",
   "id": "4b5034c9",
   "metadata": {},
   "source": [
    "#### Only advantage"
   ]
  },
  {
   "cell_type": "code",
   "execution_count": 11,
   "id": "9fc4d892",
   "metadata": {},
   "outputs": [],
   "source": [
    "advantage=True; luck_point=False; elven_accuracy=False; hexblade_curse=False"
   ]
  },
  {
   "cell_type": "code",
   "execution_count": 12,
   "id": "93a963b0",
   "metadata": {},
   "outputs": [
    {
     "data": {
      "text/plain": [
       "0.0975"
      ]
     },
     "execution_count": 12,
     "metadata": {},
     "output_type": "execute_result"
    }
   ],
   "source": [
    "dndopt.probability_of_crtical_hit(advantage,luck_point,elven_accuracy,hexblade_curse)"
   ]
  },
  {
   "cell_type": "markdown",
   "id": "42bf5e27",
   "metadata": {},
   "source": [
    "#### Advantage and lucky"
   ]
  },
  {
   "cell_type": "code",
   "execution_count": 13,
   "id": "a48fc620",
   "metadata": {},
   "outputs": [],
   "source": [
    "advantage=True; luck_point=True; elven_accuracy=False; hexblade_curse=False"
   ]
  },
  {
   "cell_type": "code",
   "execution_count": 14,
   "id": "9fd43f7b",
   "metadata": {},
   "outputs": [
    {
     "data": {
      "text/plain": [
       "0.14263"
      ]
     },
     "execution_count": 14,
     "metadata": {},
     "output_type": "execute_result"
    }
   ],
   "source": [
    "dndopt.probability_of_crtical_hit(advantage,luck_point,elven_accuracy,hexblade_curse)"
   ]
  },
  {
   "cell_type": "markdown",
   "id": "2cdbe829",
   "metadata": {},
   "source": [
    "#### Hexblade curse with advantage"
   ]
  },
  {
   "cell_type": "code",
   "execution_count": 15,
   "id": "51e39f18",
   "metadata": {},
   "outputs": [],
   "source": [
    "advantage=True; luck_point=True; elven_accuracy=False; hexblade_curse=True"
   ]
  },
  {
   "cell_type": "code",
   "execution_count": 16,
   "id": "753864dc",
   "metadata": {},
   "outputs": [
    {
     "data": {
      "text/plain": [
       "0.271"
      ]
     },
     "execution_count": 16,
     "metadata": {},
     "output_type": "execute_result"
    }
   ],
   "source": [
    "dndopt.probability_of_crtical_hit(advantage,luck_point,elven_accuracy,hexblade_curse)"
   ]
  },
  {
   "cell_type": "markdown",
   "id": "c35594bb",
   "metadata": {},
   "source": [
    "# Comparing different builds"
   ]
  },
  {
   "cell_type": "markdown",
   "id": "a8e3d495",
   "metadata": {},
   "source": [
    "### Assuming the following Ability Scores"
   ]
  },
  {
   "cell_type": "code",
   "execution_count": 17,
   "id": "ff5a6405",
   "metadata": {},
   "outputs": [],
   "source": [
    "AbilityScores= numpy.array([19, 14, 12, 16, 8, 18])"
   ]
  },
  {
   "cell_type": "code",
   "execution_count": 18,
   "id": "15e5ab17",
   "metadata": {},
   "outputs": [],
   "source": [
    "Abilities=['STR', 'DEX', 'CON','INT','WIS', 'CHA']"
   ]
  },
  {
   "cell_type": "markdown",
   "id": "2f2d0532",
   "metadata": {},
   "source": [
    "### Calculate the Ability Score Modifiers"
   ]
  },
  {
   "cell_type": "code",
   "execution_count": 19,
   "id": "1fcafd11",
   "metadata": {},
   "outputs": [],
   "source": [
    "Modifiers = np.floor((AbilityScores - 10)/2)"
   ]
  },
  {
   "cell_type": "code",
   "execution_count": 20,
   "id": "38f0ed9b",
   "metadata": {},
   "outputs": [],
   "source": [
    "Modifiers=Modifiers.astype(int)"
   ]
  },
  {
   "cell_type": "markdown",
   "id": "7fa7889a",
   "metadata": {},
   "source": [
    "### What is the Ability Score for Charisma?"
   ]
  },
  {
   "cell_type": "code",
   "execution_count": 21,
   "id": "cb39432d",
   "metadata": {},
   "outputs": [
    {
     "data": {
      "text/plain": [
       "18"
      ]
     },
     "execution_count": 21,
     "metadata": {},
     "output_type": "execute_result"
    }
   ],
   "source": [
    "AbilityScores[Abilities.index('CHA')]"
   ]
  },
  {
   "cell_type": "markdown",
   "id": "a0ddf9a1",
   "metadata": {},
   "source": [
    "### What is the Modifier for Charisma?"
   ]
  },
  {
   "cell_type": "code",
   "execution_count": 22,
   "id": "7e8b2594",
   "metadata": {},
   "outputs": [
    {
     "data": {
      "text/plain": [
       "4"
      ]
     },
     "execution_count": 22,
     "metadata": {},
     "output_type": "execute_result"
    }
   ],
   "source": [
    "Modifiers[Abilities.index('CHA')]"
   ]
  },
  {
   "cell_type": "markdown",
   "id": "399b704a",
   "metadata": {},
   "source": [
    "### Define the Character's Level"
   ]
  },
  {
   "cell_type": "code",
   "execution_count": 23,
   "id": "553e3576",
   "metadata": {},
   "outputs": [],
   "source": [
    "Level=8;"
   ]
  },
  {
   "cell_type": "markdown",
   "id": "2d661e3d",
   "metadata": {},
   "source": [
    "### Calculate the Proficiency Bonus"
   ]
  },
  {
   "cell_type": "code",
   "execution_count": 24,
   "id": "815c2de6",
   "metadata": {},
   "outputs": [],
   "source": [
    "ProficiencyBonus=1+np.ceil(Level/4)"
   ]
  },
  {
   "cell_type": "code",
   "execution_count": 25,
   "id": "787db814",
   "metadata": {},
   "outputs": [],
   "source": [
    "ProficiencyBonus=ProficiencyBonus.astype(int)"
   ]
  },
  {
   "cell_type": "markdown",
   "id": "0193a764",
   "metadata": {},
   "source": [
    "### Calculate Hit for Spells Attacks casted with Charisma"
   ]
  },
  {
   "cell_type": "code",
   "execution_count": 26,
   "id": "4ef65c75",
   "metadata": {},
   "outputs": [],
   "source": [
    "OtherBonus=1; #Rod of pact keeper"
   ]
  },
  {
   "cell_type": "code",
   "execution_count": 27,
   "id": "232a1cac",
   "metadata": {},
   "outputs": [],
   "source": [
    "SpellHit=Modifiers[Abilities.index('CHA')]+ProficiencyBonus+OtherBonus"
   ]
  },
  {
   "cell_type": "code",
   "execution_count": 28,
   "id": "5fbb66ac",
   "metadata": {},
   "outputs": [
    {
     "data": {
      "text/plain": [
       "8"
      ]
     },
     "execution_count": 28,
     "metadata": {},
     "output_type": "execute_result"
    }
   ],
   "source": [
    "SpellHit"
   ]
  },
  {
   "cell_type": "markdown",
   "id": "ce22e217",
   "metadata": {},
   "source": [
    "### Calculate Hit for Weapon Attacks with Strength"
   ]
  },
  {
   "cell_type": "code",
   "execution_count": 29,
   "id": "172fc452",
   "metadata": {},
   "outputs": [],
   "source": [
    "WeaponBonus=1; #Magical +1 weapon"
   ]
  },
  {
   "cell_type": "code",
   "execution_count": 30,
   "id": "04974aff",
   "metadata": {},
   "outputs": [],
   "source": [
    "MeleeHit=Modifiers[Abilities.index('STR')]+ProficiencyBonus+WeaponBonus"
   ]
  },
  {
   "cell_type": "code",
   "execution_count": 31,
   "id": "fcc96f52",
   "metadata": {},
   "outputs": [
    {
     "data": {
      "text/plain": [
       "8"
      ]
     },
     "execution_count": 31,
     "metadata": {},
     "output_type": "execute_result"
    }
   ],
   "source": [
    "MeleeHit"
   ]
  },
  {
   "cell_type": "code",
   "execution_count": 32,
   "id": "b23cbe3a",
   "metadata": {},
   "outputs": [],
   "source": [
    "### Calculate Hit for Weapon Attacks with Dexterity"
   ]
  },
  {
   "cell_type": "code",
   "execution_count": 33,
   "id": "7464c046",
   "metadata": {},
   "outputs": [],
   "source": [
    "DexMeleeHit=Modifiers[Abilities.index('DEX')]+ProficiencyBonus+WeaponBonus"
   ]
  },
  {
   "cell_type": "code",
   "execution_count": 34,
   "id": "53ceff33",
   "metadata": {},
   "outputs": [
    {
     "data": {
      "text/plain": [
       "6"
      ]
     },
     "execution_count": 34,
     "metadata": {},
     "output_type": "execute_result"
    }
   ],
   "source": [
    "DexMeleeHit"
   ]
  },
  {
   "cell_type": "markdown",
   "id": "a6571178",
   "metadata": {},
   "source": [
    "### The Opponent's Armor Class is:"
   ]
  },
  {
   "cell_type": "code",
   "execution_count": 35,
   "id": "68cd474e",
   "metadata": {},
   "outputs": [],
   "source": [
    "OAC=15"
   ]
  },
  {
   "cell_type": "markdown",
   "id": "5aa64e57",
   "metadata": {},
   "source": [
    "## Calculate the damage of Eldrich Blast"
   ]
  },
  {
   "cell_type": "markdown",
   "id": "68d74941",
   "metadata": {},
   "source": [
    "### Probability to hit an Opponent"
   ]
  },
  {
   "cell_type": "markdown",
   "id": "4123cf83",
   "metadata": {},
   "source": [
    "#### Probability to hit the Opponent (for 1 dice roll)"
   ]
  },
  {
   "cell_type": "code",
   "execution_count": 36,
   "id": "d613787a",
   "metadata": {},
   "outputs": [],
   "source": [
    "PrHit= 1 -(OAC- SpellHit -1)/20 "
   ]
  },
  {
   "cell_type": "code",
   "execution_count": 37,
   "id": "dcfffa6d",
   "metadata": {},
   "outputs": [
    {
     "data": {
      "text/plain": [
       "0.7"
      ]
     },
     "execution_count": 37,
     "metadata": {},
     "output_type": "execute_result"
    }
   ],
   "source": [
    "PrHit"
   ]
  },
  {
   "cell_type": "markdown",
   "id": "ae289713",
   "metadata": {},
   "source": [
    "#### using a function to calculate the probability \n",
    "####  probability_of__hitting_opponent(opponent_AC,modifiers,advantage,luck_point,elven_accuracy)"
   ]
  },
  {
   "cell_type": "code",
   "execution_count": 38,
   "id": "ebec4037",
   "metadata": {},
   "outputs": [
    {
     "data": {
      "text/plain": [
       "0.7"
      ]
     },
     "execution_count": 38,
     "metadata": {},
     "output_type": "execute_result"
    }
   ],
   "source": [
    " dndopt.probability_of__hitting_opponent(OAC,SpellHit,0,0,0)"
   ]
  },
  {
   "cell_type": "markdown",
   "id": "0e7ac451",
   "metadata": {},
   "source": [
    "#### Probability to miss the Opponent (for 1 dice roll)"
   ]
  },
  {
   "cell_type": "code",
   "execution_count": 39,
   "id": "77cc40b4",
   "metadata": {},
   "outputs": [],
   "source": [
    "PrMiss=(OAC- SpellHit -1)/20 "
   ]
  },
  {
   "cell_type": "code",
   "execution_count": 40,
   "id": "cfa414fb",
   "metadata": {},
   "outputs": [
    {
     "data": {
      "text/plain": [
       "0.3"
      ]
     },
     "execution_count": 40,
     "metadata": {},
     "output_type": "execute_result"
    }
   ],
   "source": [
    "PrMiss"
   ]
  },
  {
   "cell_type": "markdown",
   "id": "2dfb355a",
   "metadata": {},
   "source": [
    "#### Probability to hit the opponent with advantage (Ad=2)"
   ]
  },
  {
   "cell_type": "code",
   "execution_count": 41,
   "id": "c1558b9c",
   "metadata": {},
   "outputs": [],
   "source": [
    "Ad=2"
   ]
  },
  {
   "cell_type": "code",
   "execution_count": 42,
   "id": "8cc758bb",
   "metadata": {},
   "outputs": [],
   "source": [
    "PrHitA=1-(PrMiss)**(Ad)"
   ]
  },
  {
   "cell_type": "code",
   "execution_count": 43,
   "id": "e69a40db",
   "metadata": {},
   "outputs": [
    {
     "data": {
      "text/plain": [
       "0.91"
      ]
     },
     "execution_count": 43,
     "metadata": {},
     "output_type": "execute_result"
    }
   ],
   "source": [
    "PrHitA"
   ]
  },
  {
   "cell_type": "markdown",
   "id": "171ba818",
   "metadata": {},
   "source": [
    "#### testing function"
   ]
  },
  {
   "cell_type": "code",
   "execution_count": 44,
   "id": "7237a462",
   "metadata": {},
   "outputs": [
    {
     "data": {
      "text/plain": [
       "0.91"
      ]
     },
     "execution_count": 44,
     "metadata": {},
     "output_type": "execute_result"
    }
   ],
   "source": [
    " dndopt.probability_of__hitting_opponent(OAC,SpellHit,1,0,0)"
   ]
  },
  {
   "cell_type": "markdown",
   "id": "38d5092d",
   "metadata": {},
   "source": [
    "#### Number of Elrdich Blast Rays"
   ]
  },
  {
   "cell_type": "code",
   "execution_count": 45,
   "id": "ce76d374",
   "metadata": {},
   "outputs": [],
   "source": [
    "Beams=min(math.floor(Level/5)+1,4)"
   ]
  },
  {
   "cell_type": "code",
   "execution_count": 46,
   "id": "6097dee0",
   "metadata": {},
   "outputs": [
    {
     "data": {
      "text/plain": [
       "2"
      ]
     },
     "execution_count": 46,
     "metadata": {},
     "output_type": "execute_result"
    }
   ],
   "source": [
    "Beams"
   ]
  },
  {
   "cell_type": "markdown",
   "id": "f9ae34a2",
   "metadata": {},
   "source": [
    "#### In that case the average damage (per ray) will be (with Agonizing Blast) 1d10+ Charisma Modifier"
   ]
  },
  {
   "cell_type": "code",
   "execution_count": 47,
   "id": "aaa452f3",
   "metadata": {},
   "outputs": [],
   "source": [
    "AverageAgonisingBlastDamage=np.mean(range(1,11))"
   ]
  },
  {
   "cell_type": "code",
   "execution_count": 48,
   "id": "53eebff4",
   "metadata": {},
   "outputs": [
    {
     "data": {
      "text/plain": [
       "5.5"
      ]
     },
     "execution_count": 48,
     "metadata": {},
     "output_type": "execute_result"
    }
   ],
   "source": [
    "AverageAgonisingBlastDamage"
   ]
  },
  {
   "cell_type": "code",
   "execution_count": 49,
   "id": "bf2a99fb",
   "metadata": {},
   "outputs": [],
   "source": [
    "AverageDamagePerBeam=AverageAgonisingBlastDamage+Modifiers[Abilities.index('CHA')]"
   ]
  },
  {
   "cell_type": "code",
   "execution_count": 50,
   "id": "1c7c7b15",
   "metadata": {},
   "outputs": [
    {
     "data": {
      "text/plain": [
       "9.5"
      ]
     },
     "execution_count": 50,
     "metadata": {},
     "output_type": "execute_result"
    }
   ],
   "source": [
    "AverageDamagePerBeam"
   ]
  },
  {
   "cell_type": "markdown",
   "id": "c6767dae",
   "metadata": {},
   "source": [
    "Additional modifier for Hex spell"
   ]
  },
  {
   "cell_type": "code",
   "execution_count": 51,
   "id": "0e4f66d8",
   "metadata": {},
   "outputs": [],
   "source": [
    "HexAverageDamage=3.5"
   ]
  },
  {
   "cell_type": "markdown",
   "id": "f9384812",
   "metadata": {},
   "source": [
    "### Average damage, taking into account critical hits, parametrised by the number of rays"
   ]
  },
  {
   "cell_type": "markdown",
   "id": "3d726a47",
   "metadata": {},
   "source": [
    "For two rays only the formula would be "
   ]
  },
  {
   "cell_type": "markdown",
   "id": "6808be0e",
   "metadata": {},
   "source": [
    " 2 x Probability that only one ray will hit x damage + Probability that both rays will hit x 2 x damage + 2 x Probability that only one dice will crit hit x damage  + Probability that both dices will hit x 2 x damage "
   ]
  },
  {
   "cell_type": "markdown",
   "id": "e1a8f1ea",
   "metadata": {},
   "source": [
    "However, the modifier is only taken into account once"
   ]
  },
  {
   "cell_type": "code",
   "execution_count": 52,
   "id": "f9875f2e",
   "metadata": {},
   "outputs": [],
   "source": [
    "Critit=1/20;"
   ]
  },
  {
   "cell_type": "code",
   "execution_count": 53,
   "id": "0610da84",
   "metadata": {},
   "outputs": [
    {
     "data": {
      "text/plain": [
       "13.849999999999998"
      ]
     },
     "execution_count": 53,
     "metadata": {},
     "output_type": "execute_result"
    }
   ],
   "source": [
    "2 * PrHit * PrMiss * AverageDamagePerBeam+ 2* (Critit) *(1-Critit) * AverageAgonisingBlastDamage+ PrHit**2 * 2* AverageDamagePerBeam + 2* (Critit) *(Critit) * AverageAgonisingBlastDamage"
   ]
  },
  {
   "cell_type": "markdown",
   "id": "1e08e084",
   "metadata": {},
   "source": [
    "In order to easily generalise to higher number of Beams we use the binomial distribution. we check for 2 Beams to see the same result as above."
   ]
  },
  {
   "cell_type": "markdown",
   "id": "c29345d0",
   "metadata": {},
   "source": [
    "Without taking into account Crit Hit"
   ]
  },
  {
   "cell_type": "code",
   "execution_count": 54,
   "id": "b2550471",
   "metadata": {},
   "outputs": [],
   "source": [
    "ADNCR = scipy.stats.binom.pmf(1,2,PrHit)*AverageDamagePerBeam + scipy.stats.binom.pmf(2,2,PrHit)* 2* AverageDamagePerBeam "
   ]
  },
  {
   "cell_type": "code",
   "execution_count": 55,
   "id": "66ff70d1",
   "metadata": {},
   "outputs": [
    {
     "data": {
      "text/plain": [
       "13.3"
      ]
     },
     "execution_count": 55,
     "metadata": {},
     "output_type": "execute_result"
    }
   ],
   "source": [
    "ADNCR"
   ]
  },
  {
   "cell_type": "markdown",
   "id": "a28fce12",
   "metadata": {},
   "source": [
    "Calculating Crit Hit"
   ]
  },
  {
   "cell_type": "code",
   "execution_count": 56,
   "id": "dd52202c",
   "metadata": {},
   "outputs": [],
   "source": [
    "ACHD= scipy.stats.binom.pmf(1,2,Critit)*AverageAgonisingBlastDamage + scipy.stats.binom.pmf(2,2,Critit)* 2* AverageAgonisingBlastDamage"
   ]
  },
  {
   "cell_type": "code",
   "execution_count": 57,
   "id": "cbc3ceb4",
   "metadata": {},
   "outputs": [
    {
     "data": {
      "text/plain": [
       "0.5500000000000002"
      ]
     },
     "execution_count": 57,
     "metadata": {},
     "output_type": "execute_result"
    }
   ],
   "source": [
    "ACHD"
   ]
  },
  {
   "cell_type": "markdown",
   "id": "530511b9",
   "metadata": {},
   "source": [
    "Adding the two together"
   ]
  },
  {
   "cell_type": "code",
   "execution_count": 58,
   "id": "a374a923",
   "metadata": {},
   "outputs": [],
   "source": [
    "TAD=ADNCR+ACHD"
   ]
  },
  {
   "cell_type": "code",
   "execution_count": 59,
   "id": "92588469",
   "metadata": {},
   "outputs": [
    {
     "data": {
      "text/plain": [
       "13.850000000000001"
      ]
     },
     "execution_count": 59,
     "metadata": {},
     "output_type": "execute_result"
    }
   ],
   "source": [
    "TAD"
   ]
  },
  {
   "cell_type": "markdown",
   "id": "b924a367",
   "metadata": {},
   "source": [
    "#### Calculating for arbitrary number of Beams"
   ]
  },
  {
   "cell_type": "code",
   "execution_count": 60,
   "id": "ef59793e",
   "metadata": {},
   "outputs": [],
   "source": [
    "TotalDamage=0;"
   ]
  },
  {
   "cell_type": "code",
   "execution_count": 61,
   "id": "88c378bc",
   "metadata": {},
   "outputs": [],
   "source": [
    "indexBeam = 1\n",
    "while indexBeam < (Beams+1):\n",
    "    TotalDamage+=scipy.stats.binom.pmf(indexBeam,Beams,PrHit)*indexBeam*AverageDamagePerBeam+scipy.stats.binom.pmf(indexBeam,Beams,Critit)*indexBeam*AverageAgonisingBlastDamage\n",
    "    indexBeam += 1"
   ]
  },
  {
   "cell_type": "code",
   "execution_count": 62,
   "id": "ad225c94",
   "metadata": {},
   "outputs": [
    {
     "data": {
      "text/plain": [
       "13.850000000000001"
      ]
     },
     "execution_count": 62,
     "metadata": {},
     "output_type": "execute_result"
    }
   ],
   "source": [
    "TotalDamage"
   ]
  },
  {
   "cell_type": "markdown",
   "id": "3002d199",
   "metadata": {},
   "source": [
    "### Average damage with  Advantage"
   ]
  },
  {
   "cell_type": "code",
   "execution_count": 63,
   "id": "2582d4e6",
   "metadata": {},
   "outputs": [],
   "source": [
    "n=1"
   ]
  },
  {
   "cell_type": "code",
   "execution_count": 64,
   "id": "e608c0df",
   "metadata": {},
   "outputs": [],
   "source": [
    "TotalBeams=n*Beams"
   ]
  },
  {
   "cell_type": "code",
   "execution_count": 65,
   "id": "06cf8cbe",
   "metadata": {},
   "outputs": [],
   "source": [
    "CrititA=1-(1-1/20)**2"
   ]
  },
  {
   "cell_type": "code",
   "execution_count": 66,
   "id": "6b76c0d2",
   "metadata": {},
   "outputs": [
    {
     "data": {
      "text/plain": [
       "18.3625"
      ]
     },
     "execution_count": 66,
     "metadata": {},
     "output_type": "execute_result"
    }
   ],
   "source": [
    "2 * PrHitA * (1-PrHitA) * AverageDamagePerBeam+ 2* (CrititA) *(1-CrititA) * AverageAgonisingBlastDamage+ PrHitA**2 * 2* AverageDamagePerBeam + 2* (CrititA) *(CrititA) * AverageAgonisingBlastDamage"
   ]
  },
  {
   "cell_type": "markdown",
   "id": "153fc27b",
   "metadata": {},
   "source": [
    "Confirming the result using the binomial distribution function"
   ]
  },
  {
   "cell_type": "code",
   "execution_count": 67,
   "id": "efb54d1f",
   "metadata": {},
   "outputs": [],
   "source": [
    "TotalDamage=0"
   ]
  },
  {
   "cell_type": "code",
   "execution_count": 68,
   "id": "ea149f37",
   "metadata": {},
   "outputs": [],
   "source": [
    "indexBeam = 1\n",
    "while indexBeam < (TotalBeams+1):\n",
    "    TotalDamage+=scipy.stats.binom.pmf(indexBeam,TotalBeams,PrHitA)*indexBeam*AverageDamagePerBeam+scipy.stats.binom.pmf(indexBeam,TotalBeams,CrititA)*indexBeam*AverageAgonisingBlastDamage\n",
    "    indexBeam += 1"
   ]
  },
  {
   "cell_type": "code",
   "execution_count": 69,
   "id": "cc1455dc",
   "metadata": {},
   "outputs": [
    {
     "data": {
      "text/plain": [
       "18.362500000000004"
      ]
     },
     "execution_count": 69,
     "metadata": {},
     "output_type": "execute_result"
    }
   ],
   "source": [
    "TotalDamage"
   ]
  },
  {
   "cell_type": "markdown",
   "id": "76a1652f",
   "metadata": {},
   "source": [
    "### Average damage with Advantage and Hex"
   ]
  },
  {
   "cell_type": "code",
   "execution_count": 70,
   "id": "55ff855d",
   "metadata": {},
   "outputs": [],
   "source": [
    "n=1"
   ]
  },
  {
   "cell_type": "code",
   "execution_count": 71,
   "id": "ad13ba98",
   "metadata": {},
   "outputs": [],
   "source": [
    "TotalBeams=n*Beams"
   ]
  },
  {
   "cell_type": "code",
   "execution_count": 72,
   "id": "ecb58a1e",
   "metadata": {},
   "outputs": [],
   "source": [
    "TotalDamage=0"
   ]
  },
  {
   "cell_type": "code",
   "execution_count": 73,
   "id": "fc38186c",
   "metadata": {},
   "outputs": [],
   "source": [
    "indexBeam = 1\n",
    "while indexBeam < (TotalBeams+1):\n",
    "    TotalDamage+=scipy.stats.binom.pmf(indexBeam,TotalBeams,PrHitA)*indexBeam*(AverageDamagePerBeam+HexAverageDamage)+scipy.stats.binom.pmf(indexBeam,TotalBeams,CrititA)*indexBeam*(AverageAgonisingBlastDamage+HexAverageDamage)\n",
    "    indexBeam += 1"
   ]
  },
  {
   "cell_type": "code",
   "execution_count": 74,
   "id": "7bb11b21",
   "metadata": {},
   "outputs": [
    {
     "data": {
      "text/plain": [
       "25.415"
      ]
     },
     "execution_count": 74,
     "metadata": {},
     "output_type": "execute_result"
    }
   ],
   "source": [
    "TotalDamage"
   ]
  },
  {
   "cell_type": "markdown",
   "id": "d89aec7d",
   "metadata": {},
   "source": [
    "### Average damage with  n repetitions (e.g. Action Surge Metamagic quickened spell n=2)"
   ]
  },
  {
   "cell_type": "code",
   "execution_count": 75,
   "id": "f2eff0f2",
   "metadata": {},
   "outputs": [],
   "source": [
    "n=2;"
   ]
  },
  {
   "cell_type": "code",
   "execution_count": 76,
   "id": "eef14507",
   "metadata": {},
   "outputs": [],
   "source": [
    "TotalBeams=n*Beams"
   ]
  },
  {
   "cell_type": "code",
   "execution_count": 77,
   "id": "0b00ecc2",
   "metadata": {},
   "outputs": [],
   "source": [
    "TotalDamage=0"
   ]
  },
  {
   "cell_type": "code",
   "execution_count": 78,
   "id": "c38a84e9",
   "metadata": {},
   "outputs": [],
   "source": [
    "indexBeam = 1\n",
    "while indexBeam < (TotalBeams+1):\n",
    "    TotalDamage+=scipy.stats.binom.pmf(indexBeam,TotalBeams,PrHit)*indexBeam*AverageDamagePerBeam+scipy.stats.binom.pmf(indexBeam,TotalBeams,Critit)*indexBeam*AverageAgonisingBlastDamage\n",
    "    indexBeam += 1"
   ]
  },
  {
   "cell_type": "code",
   "execution_count": 79,
   "id": "1545e5a8",
   "metadata": {},
   "outputs": [
    {
     "data": {
      "text/plain": [
       "27.700000000000006"
      ]
     },
     "execution_count": 79,
     "metadata": {},
     "output_type": "execute_result"
    }
   ],
   "source": [
    "TotalDamage"
   ]
  },
  {
   "cell_type": "markdown",
   "id": "aac4704c",
   "metadata": {},
   "source": [
    "### Average damage with  n repetitions  (e.g. Action surge n=2) and Advantage"
   ]
  },
  {
   "cell_type": "markdown",
   "id": "e1278bef",
   "metadata": {},
   "source": [
    "For rolls with advantage I need to use in the formula the probability of hitting the target with advantage"
   ]
  },
  {
   "cell_type": "code",
   "execution_count": 80,
   "id": "581e0c3d",
   "metadata": {},
   "outputs": [],
   "source": [
    "n=2;"
   ]
  },
  {
   "cell_type": "code",
   "execution_count": 81,
   "id": "a5e4e880",
   "metadata": {},
   "outputs": [],
   "source": [
    "TotalBeams=n*Beams"
   ]
  },
  {
   "cell_type": "code",
   "execution_count": 82,
   "id": "52d499a0",
   "metadata": {},
   "outputs": [],
   "source": [
    "TotalDamage=0"
   ]
  },
  {
   "cell_type": "code",
   "execution_count": 83,
   "id": "fd676643",
   "metadata": {},
   "outputs": [],
   "source": [
    "indexBeam = 1\n",
    "while indexBeam < (TotalBeams+1):\n",
    "    TotalDamage+=scipy.stats.binom.pmf(indexBeam,TotalBeams,PrHitA)*indexBeam*AverageDamagePerBeam+scipy.stats.binom.pmf(indexBeam,TotalBeams,CrititA)*indexBeam*AverageAgonisingBlastDamage\n",
    "    indexBeam += 1"
   ]
  },
  {
   "cell_type": "code",
   "execution_count": 84,
   "id": "3fb404ea",
   "metadata": {},
   "outputs": [
    {
     "data": {
      "text/plain": [
       "36.725"
      ]
     },
     "execution_count": 84,
     "metadata": {},
     "output_type": "execute_result"
    }
   ],
   "source": [
    "  TotalDamage"
   ]
  },
  {
   "cell_type": "markdown",
   "id": "c0aedbab",
   "metadata": {},
   "source": [
    "#### Testing the function average_damage(repetitions,average_damage_per_hit,damage_modifier,opponent_AC,modifiers,advantage,luck_point,elven_accuracy,hexblade_curse)"
   ]
  },
  {
   "cell_type": "code",
   "execution_count": 85,
   "id": "412214ac",
   "metadata": {},
   "outputs": [],
   "source": [
    "damage_modifier=Modifiers[Abilities.index('CHA')]"
   ]
  },
  {
   "cell_type": "code",
   "execution_count": 86,
   "id": "aa2305ee",
   "metadata": {},
   "outputs": [],
   "source": [
    "repetitions=4;average_damage_per_hit=AverageAgonisingBlastDamage;opponent_AC=OAC;modifiers=SpellHit;advantage=1;luck_point=0;elven_accuracy=0;hexblade_curse=0"
   ]
  },
  {
   "cell_type": "code",
   "execution_count": 87,
   "id": "8a08940c",
   "metadata": {},
   "outputs": [
    {
     "data": {
      "text/plain": [
       "36.725"
      ]
     },
     "execution_count": 87,
     "metadata": {},
     "output_type": "execute_result"
    }
   ],
   "source": [
    "dndopt.average_damage(repetitions,average_damage_per_hit,damage_modifier,opponent_AC,modifiers,advantage,luck_point,elven_accuracy,hexblade_curse)"
   ]
  },
  {
   "cell_type": "markdown",
   "id": "52407d54",
   "metadata": {},
   "source": [
    "### Average damage with  n repetitions  (e.g. Action surge n=2), Advantage and Hex"
   ]
  },
  {
   "cell_type": "code",
   "execution_count": 88,
   "id": "d810efaa",
   "metadata": {},
   "outputs": [],
   "source": [
    "n=2;"
   ]
  },
  {
   "cell_type": "code",
   "execution_count": 89,
   "id": "ab09442d",
   "metadata": {},
   "outputs": [],
   "source": [
    "TotalBeams=n*Beams"
   ]
  },
  {
   "cell_type": "code",
   "execution_count": 90,
   "id": "4f071af2",
   "metadata": {},
   "outputs": [
    {
     "data": {
      "text/plain": [
       "4"
      ]
     },
     "execution_count": 90,
     "metadata": {},
     "output_type": "execute_result"
    }
   ],
   "source": [
    "TotalBeams"
   ]
  },
  {
   "cell_type": "code",
   "execution_count": 91,
   "id": "69acc4a5",
   "metadata": {},
   "outputs": [],
   "source": [
    "TotalDamage=0"
   ]
  },
  {
   "cell_type": "code",
   "execution_count": 92,
   "id": "3abf710f",
   "metadata": {},
   "outputs": [],
   "source": [
    "indexBeam = 1\n",
    "while indexBeam < (TotalBeams+1):\n",
    "    TotalDamage+=scipy.stats.binom.pmf(indexBeam,TotalBeams,PrHitA)*indexBeam*(AverageDamagePerBeam+HexAverageDamage)+scipy.stats.binom.pmf(indexBeam,TotalBeams,CrititA)*indexBeam*(AverageAgonisingBlastDamage+HexAverageDamage)\n",
    "    indexBeam += 1"
   ]
  },
  {
   "cell_type": "code",
   "execution_count": 93,
   "id": "f4e5fed5",
   "metadata": {},
   "outputs": [
    {
     "data": {
      "text/plain": [
       "50.83"
      ]
     },
     "execution_count": 93,
     "metadata": {},
     "output_type": "execute_result"
    }
   ],
   "source": [
    "TotalDamage"
   ]
  },
  {
   "cell_type": "markdown",
   "id": "462ed316",
   "metadata": {},
   "source": [
    "#### Testing the function average_damage(repetitions,average_damage_per_hit,damage_modifier,opponent_AC,modifiers,advantage,luck_point,elven_accuracy,hexblade_curse)"
   ]
  },
  {
   "cell_type": "code",
   "execution_count": 94,
   "id": "60f9a7ad",
   "metadata": {},
   "outputs": [],
   "source": [
    "repetitions=4;average_damage_per_hit=AverageAgonisingBlastDamage+HexAverageDamage;damage_modifier=Modifiers[Abilities.index('CHA')];opponent_AC=OAC;modifiers=SpellHit;advantage=1;luck_point=0;elven_accuracy=0;hexblade_curse=0"
   ]
  },
  {
   "cell_type": "code",
   "execution_count": 95,
   "id": "cbd5e83e",
   "metadata": {},
   "outputs": [
    {
     "data": {
      "text/plain": [
       "50.83"
      ]
     },
     "execution_count": 95,
     "metadata": {},
     "output_type": "execute_result"
    }
   ],
   "source": [
    "dndopt.average_damage(repetitions,average_damage_per_hit,damage_modifier,opponent_AC,modifiers,advantage,luck_point,elven_accuracy,hexblade_curse)"
   ]
  },
  {
   "cell_type": "markdown",
   "id": "273040e4",
   "metadata": {},
   "source": [
    "### Without action surge, only advantage, Hex and two eldrich blast rays (repetitions=2). "
   ]
  },
  {
   "cell_type": "code",
   "execution_count": 96,
   "id": "a5167e5a",
   "metadata": {},
   "outputs": [],
   "source": [
    "repetitions=Beams;average_damage_per_hit=AverageAgonisingBlastDamage+HexAverageDamage;damage_modifier=Modifiers[Abilities.index('CHA')];opponent_AC=OAC;modifiers=SpellHit;advantage=1;luck_point=0;elven_accuracy=0;hexblade_curse=0"
   ]
  },
  {
   "cell_type": "code",
   "execution_count": 97,
   "id": "ef57749e",
   "metadata": {},
   "outputs": [
    {
     "data": {
      "text/plain": [
       "25.415"
      ]
     },
     "execution_count": 97,
     "metadata": {},
     "output_type": "execute_result"
    }
   ],
   "source": [
    "dndopt.average_damage(repetitions,average_damage_per_hit,damage_modifier,opponent_AC,modifiers,advantage,luck_point,elven_accuracy,hexblade_curse)"
   ]
  },
  {
   "cell_type": "markdown",
   "id": "9ae2ec63",
   "metadata": {},
   "source": [
    "### With Action surge and spirit shroud so that I can use the celestial warlock's bonus to radient damage."
   ]
  },
  {
   "cell_type": "code",
   "execution_count": 98,
   "id": "179692a4",
   "metadata": {},
   "outputs": [],
   "source": [
    "spirit_shroud=4.5"
   ]
  },
  {
   "cell_type": "code",
   "execution_count": 99,
   "id": "bc19d797",
   "metadata": {},
   "outputs": [],
   "source": [
    "radient_damage_bonus=Modifiers[Abilities.index('CHA')]# since it is applied only to the first beam, multiply with factor 1/2 to calculate average damage"
   ]
  },
  {
   "cell_type": "code",
   "execution_count": 100,
   "id": "cc8a162f",
   "metadata": {},
   "outputs": [],
   "source": [
    "repetitions=4; average_damage_per_hit=AverageAgonisingBlastDamage+spirit_shroud+radient_damage_bonus/2;damage_modifier=Modifiers[Abilities.index('CHA')];opponent_AC=OAC;modifiers=SpellHit;advantage=1;luck_point=0;elven_accuracy=0;hexblade_curse=0"
   ]
  },
  {
   "cell_type": "code",
   "execution_count": 101,
   "id": "d6cf84fb",
   "metadata": {},
   "outputs": [
    {
     "data": {
      "text/plain": [
       "62.92"
      ]
     },
     "execution_count": 101,
     "metadata": {},
     "output_type": "execute_result"
    }
   ],
   "source": [
    "dndopt.average_damage(repetitions,average_damage_per_hit,damage_modifier,opponent_AC,modifiers,advantage,luck_point,elven_accuracy,hexblade_curse)"
   ]
  },
  {
   "cell_type": "markdown",
   "id": "f0a0e561",
   "metadata": {},
   "source": [
    "#### Assuming warlock with no radient bonus and advantage"
   ]
  },
  {
   "cell_type": "code",
   "execution_count": 102,
   "id": "d8bf7ae8",
   "metadata": {},
   "outputs": [],
   "source": [
    "repetitions=4; average_damage_per_hit=AverageAgonisingBlastDamage+spirit_shroud;damage_modifier=Modifiers[Abilities.index('CHA')];opponent_AC=OAC;modifiers=SpellHit;advantage=1;luck_point=0;elven_accuracy=0;hexblade_curse=0"
   ]
  },
  {
   "cell_type": "code",
   "execution_count": 103,
   "id": "698d50ad",
   "metadata": {},
   "outputs": [
    {
     "data": {
      "text/plain": [
       "54.86"
      ]
     },
     "execution_count": 103,
     "metadata": {},
     "output_type": "execute_result"
    }
   ],
   "source": [
    "dndopt.average_damage(repetitions,average_damage_per_hit,damage_modifier,opponent_AC,modifiers,advantage,luck_point,elven_accuracy,hexblade_curse)"
   ]
  },
  {
   "cell_type": "markdown",
   "id": "cda82089",
   "metadata": {},
   "source": []
  }
 ],
 "metadata": {
  "kernelspec": {
   "display_name": "Python 3 (ipykernel)",
   "language": "python",
   "name": "python3"
  },
  "language_info": {
   "codemirror_mode": {
    "name": "ipython",
    "version": 3
   },
   "file_extension": ".py",
   "mimetype": "text/x-python",
   "name": "python",
   "nbconvert_exporter": "python",
   "pygments_lexer": "ipython3",
   "version": "3.10.4"
  }
 },
 "nbformat": 4,
 "nbformat_minor": 5
}
