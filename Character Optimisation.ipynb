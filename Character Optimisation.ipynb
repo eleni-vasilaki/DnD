{
 "cells": [
  {
   "cell_type": "code",
   "execution_count": 472,
   "id": "d5da18c0",
   "metadata": {},
   "outputs": [],
   "source": [
    "import numpy as np\n",
    "import numpy.matlib \n",
    "import math\n",
    "import matplotlib.pyplot as plt\n",
    "import scipy.stats"
   ]
  },
  {
   "cell_type": "markdown",
   "id": "b20e774d",
   "metadata": {},
   "source": [
    "# Inspired by youtube channel D&D Optimised (now d4: D&D Deep Dive)\n",
    "\n",
    "## Calculate average damage\n",
    "\n",
    "### Source: D&D Optimised\n",
    "https://www.youtube.com/watch?v=nk2SIaGXSYo\n",
    "\n",
    "\"The basic formula for calculating average damage is as follows:\t\t\t\t\n",
    "((Average Weapon Damage + Applicable per-hit Damage Modifiers)*(% chance to hit))+((Average Dice Damage on attack)*(% chance to crit))+any once per round damage\t\t\t\t\t\t\t\t\t\t\t\t\t\n",
    "\t\t\t\t\t\t\t\t\t\t\t\t\t\n",
    "Keep in mind that if you have multiple attacks, you need to run the above for each attack - you can simply multiply everything between the outermost parentheses by the # of attacks *if* those attacks are identical,\t\t\t\t\t\t\t\t\t\t\t\t\t\n",
    "but in the case of someone using a Polearm Master Feat, for example, they are not, as the regular attacks would use a D10 for the weapon, wheras the bonus action attack would use a D4 for the weapon.\"\t\t\t\t\t\t\t\t\t\t\t\t\t\n",
    "\n",
    "### Source: https://www.dndbeyond.com/sources/phb/combat#MakinganAttack\n",
    "\"To make an attack roll, roll a d20 and add the appropriate modifiers. If the total of the roll plus modifiers equals or exceeds the target's Armor Class (AC), the attack hits.\" \n",
    "\n",
    "\n",
    "## Detailed calculations\n",
    "\n",
    "### Definitions\n",
    "[roll]: Average Dice Roll\n",
    "OAC: Opponents Armour Class\n",
    "\n",
    "### Chance to hit and chance to miss\n",
    "\n",
    "P(My hit was greater or equal than the Opponents AC) = P([roll]+ hit bonus >= OAC) => P([roll]>= OAC- hit bonus)\n",
    "\n",
    "P(hit)=P([rol] >= OAC -hit bonus) = [ 20 -(OAC- hit bonus)+1]/20 = 1 -(OAC- hit bonus -1)/20 = 1 - P(miss)\n",
    "\n",
    "P(miss) = (OAC- hit bonus -1)/20\n",
    "\n",
    "### Chance to hit with advantage\n",
    "P (hit on first roll but not on the second)+ P (hit on the second roll but not on the first)+ P(hit on both rolls)=  2  * [ 1 -(OAC- hit bonus -1)/20] * [ (OAC- hit bonus -1)/20]+ [ 1 -(OAC- hit bonus -1)/20] **2 (see also binomial distribution).\n",
    "\n",
    "The shorter way is to calculate \"1 - the chance of missing both rolls\". \n",
    "\n",
    "P (miss both rolls) = [P(miss)] = [(OAC- hit bonus -1)/20]**2\n",
    "\n",
    "P( hit with an advantage) = 1 - [(OAC- hit bonus -1)/20]**2\n",
    "\n",
    "### Chance to hit with advantage and Elven Accuracy (or Lucky)\n",
    "Elven accuracy, i.e roll one more time: 1- [(OAC- hit bonus -1)/20]**3\n",
    "\n",
    "### Critical hit  (minimum chance to hit)\n",
    "Crit hit (natural 20): p(critit)= 1/20"
   ]
  },
  {
   "cell_type": "markdown",
   "id": "59e4b5a4",
   "metadata": {},
   "source": [
    "### Critical hit with advantage\n",
    "Crit hit (natural 20): p(critit)= 1- (1- 1/20)**2"
   ]
  },
  {
   "cell_type": "markdown",
   "id": "89794cfc",
   "metadata": {},
   "source": [
    "### Minimum chance to hit with advantage and Elven Accuracy (or Lucky)\n",
    "Crit hit (natural 20): p(critit)= 1- (1- 1/20)**3"
   ]
  },
  {
   "cell_type": "markdown",
   "id": "c2e2aa5a",
   "metadata": {},
   "source": [
    "### Minimum chance to hit with Hexblade Curse on target (HCT)\n",
    "Crit hit (19 or 20) p(critit HCT)= 1- (1-2/20)"
   ]
  },
  {
   "cell_type": "code",
   "execution_count": 473,
   "id": "6a5d1293",
   "metadata": {},
   "outputs": [
    {
     "data": {
      "text/plain": [
       "0.09999999999999998"
      ]
     },
     "execution_count": 473,
     "metadata": {},
     "output_type": "execute_result"
    }
   ],
   "source": [
    "1- (1-2/20)"
   ]
  },
  {
   "cell_type": "markdown",
   "id": "8ed78949",
   "metadata": {},
   "source": [
    "### Minimum chance to hit with advantage, Elven Accuracy (or Lucky) and Hexblade Curse on target (HCT)\n",
    "Crit hit (19 or 20) p(critit HCT)= 1- (1-2/20)**3"
   ]
  },
  {
   "cell_type": "code",
   "execution_count": 474,
   "id": "54a8965e",
   "metadata": {},
   "outputs": [
    {
     "data": {
      "text/plain": [
       "0.2709999999999999"
      ]
     },
     "execution_count": 474,
     "metadata": {},
     "output_type": "execute_result"
    }
   ],
   "source": [
    "1- (1-2/20)**3"
   ]
  },
  {
   "cell_type": "markdown",
   "id": "235b67e5",
   "metadata": {},
   "source": [
    "One way to obtain advantage as a Warlock is to get Devil's Sight and Cast Darkness on oneself (when multiclass with e.g. fighter, one may use the blind fighting style instead of Devil's Sight."
   ]
  },
  {
   "cell_type": "markdown",
   "id": "d567e325",
   "metadata": {},
   "source": [
    "##  Calculating the Probablility of critical hits (rounded to 5 decimal digits)."
   ]
  },
  {
   "cell_type": "code",
   "execution_count": 475,
   "id": "2e3da34a",
   "metadata": {},
   "outputs": [],
   "source": [
    "import dnd_optimisation as dndopt # this is a python file containing the calcuations for critical hits"
   ]
  },
  {
   "cell_type": "code",
   "execution_count": 476,
   "id": "254e9047",
   "metadata": {},
   "outputs": [
    {
     "data": {
      "text/plain": [
       "<module 'dnd_optimisation' from '/Users/eleni/Python Scripts/DnD/dnd_optimisation.py'>"
      ]
     },
     "execution_count": 476,
     "metadata": {},
     "output_type": "execute_result"
    }
   ],
   "source": [
    "import importlib  #This is because I am making changes to the file all the time ;) \n",
    "importlib.reload(dndopt)  "
   ]
  },
  {
   "cell_type": "markdown",
   "id": "3c11780c",
   "metadata": {},
   "source": [
    "#### Setting advantage, luck_point (related to the lucky feat) and elven_accuracy to false gives the probabity of a natural critical hit (natural 20) 1/20"
   ]
  },
  {
   "cell_type": "code",
   "execution_count": 477,
   "id": "02580d0d",
   "metadata": {},
   "outputs": [],
   "source": [
    "advantage=False; luck_point=False; elven_accuracy=False; hexblade_curse=False"
   ]
  },
  {
   "cell_type": "code",
   "execution_count": 478,
   "id": "06925079",
   "metadata": {},
   "outputs": [
    {
     "data": {
      "text/plain": [
       "0.05"
      ]
     },
     "execution_count": 478,
     "metadata": {},
     "output_type": "execute_result"
    }
   ],
   "source": [
    "dndopt.probability_of_crtical_hit(advantage,luck_point,elven_accuracy,hexblade_curse)"
   ]
  },
  {
   "cell_type": "markdown",
   "id": "3bcd4b81",
   "metadata": {},
   "source": [
    "#### Only advantage"
   ]
  },
  {
   "cell_type": "code",
   "execution_count": 479,
   "id": "713deb31",
   "metadata": {},
   "outputs": [],
   "source": [
    "advantage=True; luck_point=False; elven_accuracy=False; hexblade_curse=False"
   ]
  },
  {
   "cell_type": "code",
   "execution_count": 480,
   "id": "80848069",
   "metadata": {},
   "outputs": [
    {
     "data": {
      "text/plain": [
       "0.0975"
      ]
     },
     "execution_count": 480,
     "metadata": {},
     "output_type": "execute_result"
    }
   ],
   "source": [
    "dndopt.probability_of_crtical_hit(advantage,luck_point,elven_accuracy,hexblade_curse)"
   ]
  },
  {
   "cell_type": "markdown",
   "id": "ca4ce699",
   "metadata": {},
   "source": [
    "#### Advantage and lucky"
   ]
  },
  {
   "cell_type": "code",
   "execution_count": 481,
   "id": "f171a1d4",
   "metadata": {},
   "outputs": [],
   "source": [
    "advantage=True; luck_point=True; elven_accuracy=False; hexblade_curse=False"
   ]
  },
  {
   "cell_type": "code",
   "execution_count": 482,
   "id": "f10cb59b",
   "metadata": {},
   "outputs": [
    {
     "data": {
      "text/plain": [
       "0.14263"
      ]
     },
     "execution_count": 482,
     "metadata": {},
     "output_type": "execute_result"
    }
   ],
   "source": [
    "dndopt.probability_of_crtical_hit(advantage,luck_point,elven_accuracy,hexblade_curse)"
   ]
  },
  {
   "cell_type": "markdown",
   "id": "ebd80d49",
   "metadata": {},
   "source": [
    "#### Hexblade curse with advantage"
   ]
  },
  {
   "cell_type": "code",
   "execution_count": 483,
   "id": "83948a63",
   "metadata": {},
   "outputs": [],
   "source": [
    "advantage=True; luck_point=True; elven_accuracy=False; hexblade_curse=True"
   ]
  },
  {
   "cell_type": "code",
   "execution_count": 484,
   "id": "ebecf853",
   "metadata": {},
   "outputs": [
    {
     "data": {
      "text/plain": [
       "0.271"
      ]
     },
     "execution_count": 484,
     "metadata": {},
     "output_type": "execute_result"
    }
   ],
   "source": [
    "dndopt.probability_of_crtical_hit(advantage,luck_point,elven_accuracy,hexblade_curse)"
   ]
  },
  {
   "cell_type": "markdown",
   "id": "00cfba1d",
   "metadata": {},
   "source": [
    "# Comparing different builds"
   ]
  },
  {
   "cell_type": "markdown",
   "id": "1f18ecf2",
   "metadata": {},
   "source": [
    "## Warlock (Celestial Patron) with 2 levels of Fighter vs 2 levels of Paladin for maximal damage "
   ]
  },
  {
   "cell_type": "markdown",
   "id": "f830baf4",
   "metadata": {},
   "source": [
    "### Assuming the following Ability Scores"
   ]
  },
  {
   "cell_type": "code",
   "execution_count": 485,
   "id": "82b3bc5a",
   "metadata": {},
   "outputs": [],
   "source": [
    "AbilityScores= numpy.array([19, 14, 12, 16, 8, 18])"
   ]
  },
  {
   "cell_type": "code",
   "execution_count": 486,
   "id": "d3cce0bd",
   "metadata": {},
   "outputs": [],
   "source": [
    "Abilities=['STR', 'DEX', 'CON','INT','WIS', 'CHA']"
   ]
  },
  {
   "cell_type": "markdown",
   "id": "976fda71",
   "metadata": {},
   "source": [
    "### Calculate the Ability Score Modifiers"
   ]
  },
  {
   "cell_type": "code",
   "execution_count": 487,
   "id": "5afc1661",
   "metadata": {},
   "outputs": [],
   "source": [
    "Modifiers = np.floor((AbilityScores - 10)/2)"
   ]
  },
  {
   "cell_type": "code",
   "execution_count": 488,
   "id": "2291094f",
   "metadata": {},
   "outputs": [],
   "source": [
    "Modifiers=Modifiers.astype(int)"
   ]
  },
  {
   "cell_type": "markdown",
   "id": "afc6b50c",
   "metadata": {},
   "source": [
    "### What is the Ability Score for Charisma?"
   ]
  },
  {
   "cell_type": "code",
   "execution_count": 489,
   "id": "8c353353",
   "metadata": {},
   "outputs": [
    {
     "data": {
      "text/plain": [
       "18"
      ]
     },
     "execution_count": 489,
     "metadata": {},
     "output_type": "execute_result"
    }
   ],
   "source": [
    "AbilityScores[Abilities.index('CHA')]"
   ]
  },
  {
   "cell_type": "markdown",
   "id": "464695de",
   "metadata": {},
   "source": [
    "### What is the Modifier for Charisma?"
   ]
  },
  {
   "cell_type": "code",
   "execution_count": 490,
   "id": "60ae1ba1",
   "metadata": {},
   "outputs": [
    {
     "data": {
      "text/plain": [
       "4"
      ]
     },
     "execution_count": 490,
     "metadata": {},
     "output_type": "execute_result"
    }
   ],
   "source": [
    "Modifiers[Abilities.index('CHA')]"
   ]
  },
  {
   "cell_type": "markdown",
   "id": "f6152ffa",
   "metadata": {},
   "source": [
    "### Define the Character's Level"
   ]
  },
  {
   "cell_type": "code",
   "execution_count": 491,
   "id": "3696e94a",
   "metadata": {},
   "outputs": [],
   "source": [
    "Level=8;"
   ]
  },
  {
   "cell_type": "markdown",
   "id": "2f685396",
   "metadata": {},
   "source": [
    "### Calculate the Proficiency Bonus"
   ]
  },
  {
   "cell_type": "code",
   "execution_count": 492,
   "id": "01c1d56b",
   "metadata": {},
   "outputs": [],
   "source": [
    "ProficiencyBonus=1+np.ceil(Level/4)"
   ]
  },
  {
   "cell_type": "code",
   "execution_count": 493,
   "id": "1aec3c6b",
   "metadata": {},
   "outputs": [],
   "source": [
    "ProficiencyBonus=ProficiencyBonus.astype(int)"
   ]
  },
  {
   "cell_type": "markdown",
   "id": "937f9793",
   "metadata": {},
   "source": [
    "### Calculate Hit for Spells Attacks casted with Charisma"
   ]
  },
  {
   "cell_type": "code",
   "execution_count": 494,
   "id": "386853a4",
   "metadata": {},
   "outputs": [],
   "source": [
    "OtherBonus=1; #Rod of pact keeper"
   ]
  },
  {
   "cell_type": "code",
   "execution_count": 495,
   "id": "37c034df",
   "metadata": {},
   "outputs": [],
   "source": [
    "SpellHit=Modifiers[Abilities.index('CHA')]+ProficiencyBonus+OtherBonus"
   ]
  },
  {
   "cell_type": "code",
   "execution_count": 496,
   "id": "449c45b3",
   "metadata": {},
   "outputs": [
    {
     "data": {
      "text/plain": [
       "8"
      ]
     },
     "execution_count": 496,
     "metadata": {},
     "output_type": "execute_result"
    }
   ],
   "source": [
    "SpellHit"
   ]
  },
  {
   "cell_type": "markdown",
   "id": "54da73f1",
   "metadata": {},
   "source": [
    "### Calculate Hit for Weapon Attacks with Strength"
   ]
  },
  {
   "cell_type": "code",
   "execution_count": 497,
   "id": "f363906e",
   "metadata": {},
   "outputs": [],
   "source": [
    "WeaponBonus=1; #Magical +1 weapon"
   ]
  },
  {
   "cell_type": "code",
   "execution_count": 498,
   "id": "4192eace",
   "metadata": {},
   "outputs": [],
   "source": [
    "MeleeHit=Modifiers[Abilities.index('STR')]+ProficiencyBonus+WeaponBonus"
   ]
  },
  {
   "cell_type": "code",
   "execution_count": 499,
   "id": "7b90b62b",
   "metadata": {},
   "outputs": [
    {
     "data": {
      "text/plain": [
       "8"
      ]
     },
     "execution_count": 499,
     "metadata": {},
     "output_type": "execute_result"
    }
   ],
   "source": [
    "MeleeHit"
   ]
  },
  {
   "cell_type": "code",
   "execution_count": 500,
   "id": "8f1af261",
   "metadata": {},
   "outputs": [],
   "source": [
    "### Calculate Hit for Weapon Attacks with Dexterity"
   ]
  },
  {
   "cell_type": "code",
   "execution_count": 501,
   "id": "a78edcb4",
   "metadata": {},
   "outputs": [],
   "source": [
    "DexMeleeHit=Modifiers[Abilities.index('DEX')]+ProficiencyBonus+WeaponBonus"
   ]
  },
  {
   "cell_type": "code",
   "execution_count": 502,
   "id": "3107d5ff",
   "metadata": {},
   "outputs": [
    {
     "data": {
      "text/plain": [
       "6"
      ]
     },
     "execution_count": 502,
     "metadata": {},
     "output_type": "execute_result"
    }
   ],
   "source": [
    "DexMeleeHit"
   ]
  },
  {
   "cell_type": "markdown",
   "id": "46e90f58",
   "metadata": {},
   "source": [
    "### The Opponent's Armor Class is:"
   ]
  },
  {
   "cell_type": "code",
   "execution_count": 503,
   "id": "3d948c56",
   "metadata": {},
   "outputs": [],
   "source": [
    "OAC=15"
   ]
  },
  {
   "cell_type": "markdown",
   "id": "040503d0",
   "metadata": {},
   "source": [
    "## Calculate the damage of Eldrich Blast"
   ]
  },
  {
   "cell_type": "markdown",
   "id": "b081b973",
   "metadata": {},
   "source": [
    "### Probability to hit an Opponent"
   ]
  },
  {
   "cell_type": "markdown",
   "id": "3498a87b",
   "metadata": {},
   "source": [
    "#### Probability to hit the Opponent (for 1 dice roll)"
   ]
  },
  {
   "cell_type": "code",
   "execution_count": 504,
   "id": "43825489",
   "metadata": {},
   "outputs": [],
   "source": [
    "PrHit= 1 -(OAC- SpellHit -1)/20 "
   ]
  },
  {
   "cell_type": "code",
   "execution_count": 505,
   "id": "aadedac2",
   "metadata": {},
   "outputs": [
    {
     "data": {
      "text/plain": [
       "0.7"
      ]
     },
     "execution_count": 505,
     "metadata": {},
     "output_type": "execute_result"
    }
   ],
   "source": [
    "PrHit"
   ]
  },
  {
   "cell_type": "markdown",
   "id": "d3ddcf98",
   "metadata": {},
   "source": [
    "#### using a function to calculate the probability \n",
    "####  probability_of__hitting_opponent(opponent_AC,modifiers,advantage,luck_point,elven_accuracy)"
   ]
  },
  {
   "cell_type": "code",
   "execution_count": 506,
   "id": "121a6cd8",
   "metadata": {},
   "outputs": [
    {
     "data": {
      "text/plain": [
       "0.7"
      ]
     },
     "execution_count": 506,
     "metadata": {},
     "output_type": "execute_result"
    }
   ],
   "source": [
    " dndopt.probability_of__hitting_opponent(OAC,SpellHit,0,0,0)"
   ]
  },
  {
   "cell_type": "markdown",
   "id": "6e754c97",
   "metadata": {},
   "source": [
    "#### Probability to miss the Opponent (for 1 dice roll)"
   ]
  },
  {
   "cell_type": "code",
   "execution_count": 507,
   "id": "eed307c2",
   "metadata": {},
   "outputs": [],
   "source": [
    "PrMiss=(OAC- SpellHit -1)/20 "
   ]
  },
  {
   "cell_type": "code",
   "execution_count": 508,
   "id": "143e36e1",
   "metadata": {},
   "outputs": [
    {
     "data": {
      "text/plain": [
       "0.3"
      ]
     },
     "execution_count": 508,
     "metadata": {},
     "output_type": "execute_result"
    }
   ],
   "source": [
    "PrMiss"
   ]
  },
  {
   "cell_type": "markdown",
   "id": "867e9350",
   "metadata": {},
   "source": [
    "#### Probability to hit the opponent with advantage (Ad=2)"
   ]
  },
  {
   "cell_type": "code",
   "execution_count": 509,
   "id": "0372f598",
   "metadata": {},
   "outputs": [],
   "source": [
    "Ad=2"
   ]
  },
  {
   "cell_type": "code",
   "execution_count": 510,
   "id": "fe0c195f",
   "metadata": {},
   "outputs": [],
   "source": [
    "PrHitA=1-(PrMiss)**(Ad)"
   ]
  },
  {
   "cell_type": "code",
   "execution_count": 511,
   "id": "604ed9e3",
   "metadata": {},
   "outputs": [
    {
     "data": {
      "text/plain": [
       "0.91"
      ]
     },
     "execution_count": 511,
     "metadata": {},
     "output_type": "execute_result"
    }
   ],
   "source": [
    "PrHitA"
   ]
  },
  {
   "cell_type": "code",
   "execution_count": 512,
   "id": "f8d32a19",
   "metadata": {},
   "outputs": [
    {
     "data": {
      "text/plain": [
       "0.91"
      ]
     },
     "execution_count": 512,
     "metadata": {},
     "output_type": "execute_result"
    }
   ],
   "source": [
    " dndopt.probability_of__hitting_opponent(OAC,SpellHit,1,0,0)"
   ]
  },
  {
   "cell_type": "markdown",
   "id": "d575eb85",
   "metadata": {},
   "source": [
    "#### Number of Elrdich Blast Rays"
   ]
  },
  {
   "cell_type": "code",
   "execution_count": 513,
   "id": "470101d5",
   "metadata": {},
   "outputs": [],
   "source": [
    "Rays=min(math.floor(Level/5)+1,4)"
   ]
  },
  {
   "cell_type": "code",
   "execution_count": 514,
   "id": "e60405ab",
   "metadata": {},
   "outputs": [
    {
     "data": {
      "text/plain": [
       "2"
      ]
     },
     "execution_count": 514,
     "metadata": {},
     "output_type": "execute_result"
    }
   ],
   "source": [
    "Rays"
   ]
  },
  {
   "cell_type": "markdown",
   "id": "1c8e5259",
   "metadata": {},
   "source": [
    "#### In that case the average damage (per ray) will be (with Agonizing Blast) 1d10+ Charisma Modifier"
   ]
  },
  {
   "cell_type": "code",
   "execution_count": 515,
   "id": "a5cb66c1",
   "metadata": {},
   "outputs": [],
   "source": [
    "AverageAgonisingBlastDamage=5.5"
   ]
  },
  {
   "cell_type": "code",
   "execution_count": 516,
   "id": "43bb02ac",
   "metadata": {},
   "outputs": [],
   "source": [
    "AverageDamagePerRay=AverageAgonisingBlastDamage+Modifiers[Abilities.index('CHA')]"
   ]
  },
  {
   "cell_type": "code",
   "execution_count": 517,
   "id": "c6566fc8",
   "metadata": {},
   "outputs": [
    {
     "data": {
      "text/plain": [
       "9.5"
      ]
     },
     "execution_count": 517,
     "metadata": {},
     "output_type": "execute_result"
    }
   ],
   "source": [
    "AverageDamagePerRay"
   ]
  },
  {
   "cell_type": "markdown",
   "id": "2fccb0f7",
   "metadata": {},
   "source": [
    "Additional modifier for Hex spell"
   ]
  },
  {
   "cell_type": "code",
   "execution_count": 518,
   "id": "be61d526",
   "metadata": {},
   "outputs": [],
   "source": [
    "HexAverageDamage=3.5"
   ]
  },
  {
   "cell_type": "markdown",
   "id": "ce0f070f",
   "metadata": {},
   "source": [
    "### Average damage, taking into account critical hits, parametrised by the number of rays"
   ]
  },
  {
   "cell_type": "markdown",
   "id": "473c04ab",
   "metadata": {},
   "source": [
    "For two rays only the formula would be "
   ]
  },
  {
   "cell_type": "markdown",
   "id": "9e7de8b7",
   "metadata": {},
   "source": [
    " 2 x Probability that only one ray will hit x damage + Probability that both rays will hit x 2 x damage + 2 x Probability that only one dice will crit hit x damage  + Probability that both dices will hit x 2 x damage "
   ]
  },
  {
   "cell_type": "code",
   "execution_count": 519,
   "id": "0a9ac9af",
   "metadata": {},
   "outputs": [],
   "source": [
    "Critit=1/20;"
   ]
  },
  {
   "cell_type": "code",
   "execution_count": 520,
   "id": "cf90ef95",
   "metadata": {},
   "outputs": [
    {
     "data": {
      "text/plain": [
       "14.249999999999998"
      ]
     },
     "execution_count": 520,
     "metadata": {},
     "output_type": "execute_result"
    }
   ],
   "source": [
    "2 * PrHit * PrMiss * AverageDamagePerRay+ 2* (Critit) *(1-Critit) * AverageDamagePerRay+ PrHit**2 * 2* AverageDamagePerRay + 2* (Critit) *(Critit) * AverageDamagePerRay"
   ]
  },
  {
   "cell_type": "markdown",
   "id": "f2da1bf1",
   "metadata": {},
   "source": [
    "In order to easily generalise to higher number of rays we use the binomial distribution. we check for 2 Rays to see the same result as above."
   ]
  },
  {
   "cell_type": "markdown",
   "id": "5a9f5443",
   "metadata": {},
   "source": [
    "Without taking into account Crit Hit"
   ]
  },
  {
   "cell_type": "code",
   "execution_count": 521,
   "id": "6767277b",
   "metadata": {},
   "outputs": [],
   "source": [
    "ADNCR = scipy.stats.binom.pmf(1,2,PrHit)*AverageDamagePerRay + scipy.stats.binom.pmf(2,2,PrHit)* 2* AverageDamagePerRay "
   ]
  },
  {
   "cell_type": "code",
   "execution_count": 522,
   "id": "4c5de893",
   "metadata": {},
   "outputs": [
    {
     "data": {
      "text/plain": [
       "13.3"
      ]
     },
     "execution_count": 522,
     "metadata": {},
     "output_type": "execute_result"
    }
   ],
   "source": [
    "ADNCR"
   ]
  },
  {
   "cell_type": "markdown",
   "id": "fb796cd6",
   "metadata": {},
   "source": [
    "Calculating Crit Hit"
   ]
  },
  {
   "cell_type": "code",
   "execution_count": 523,
   "id": "c4523da5",
   "metadata": {},
   "outputs": [],
   "source": [
    "ACHD= scipy.stats.binom.pmf(1,2,Critit)*AverageDamagePerRay + scipy.stats.binom.pmf(2,2,Critit)* 2* AverageDamagePerRay "
   ]
  },
  {
   "cell_type": "code",
   "execution_count": 524,
   "id": "27eb3157",
   "metadata": {},
   "outputs": [
    {
     "data": {
      "text/plain": [
       "0.9500000000000003"
      ]
     },
     "execution_count": 524,
     "metadata": {},
     "output_type": "execute_result"
    }
   ],
   "source": [
    "ACHD"
   ]
  },
  {
   "cell_type": "markdown",
   "id": "121e185f",
   "metadata": {},
   "source": [
    "Adding the two together"
   ]
  },
  {
   "cell_type": "code",
   "execution_count": 525,
   "id": "4a230bcd",
   "metadata": {},
   "outputs": [],
   "source": [
    "TAD=ADNCR+ACHD"
   ]
  },
  {
   "cell_type": "code",
   "execution_count": 526,
   "id": "d5accac9",
   "metadata": {},
   "outputs": [
    {
     "data": {
      "text/plain": [
       "14.250000000000002"
      ]
     },
     "execution_count": 526,
     "metadata": {},
     "output_type": "execute_result"
    }
   ],
   "source": [
    "TAD"
   ]
  },
  {
   "cell_type": "markdown",
   "id": "ea55670b",
   "metadata": {},
   "source": [
    "#### Calculating for arbitrary number of Rays"
   ]
  },
  {
   "cell_type": "code",
   "execution_count": 527,
   "id": "40c0e3f6",
   "metadata": {},
   "outputs": [],
   "source": [
    "TotalDamage=0;"
   ]
  },
  {
   "cell_type": "code",
   "execution_count": 528,
   "id": "de3e5232",
   "metadata": {},
   "outputs": [],
   "source": [
    "indexRay = 1\n",
    "while indexRay < (Rays+1):\n",
    "    TotalDamage+=scipy.stats.binom.pmf(indexRay,Rays,PrHit)*indexRay*AverageDamagePerRay+scipy.stats.binom.pmf(indexRay,Rays,Critit)*indexRay*AverageDamagePerRay\n",
    "    indexRay += 1"
   ]
  },
  {
   "cell_type": "code",
   "execution_count": 529,
   "id": "1a874961",
   "metadata": {},
   "outputs": [
    {
     "data": {
      "text/plain": [
       "14.25"
      ]
     },
     "execution_count": 529,
     "metadata": {},
     "output_type": "execute_result"
    }
   ],
   "source": [
    "TotalDamage"
   ]
  },
  {
   "cell_type": "markdown",
   "id": "a4f364a8",
   "metadata": {},
   "source": [
    "### Average damage with  Advantage"
   ]
  },
  {
   "cell_type": "code",
   "execution_count": 530,
   "id": "b485286e",
   "metadata": {},
   "outputs": [],
   "source": [
    "n=1"
   ]
  },
  {
   "cell_type": "code",
   "execution_count": 531,
   "id": "5f0a8e48",
   "metadata": {},
   "outputs": [],
   "source": [
    "TotalRays=n*Rays"
   ]
  },
  {
   "cell_type": "code",
   "execution_count": 532,
   "id": "21e6fa8a",
   "metadata": {},
   "outputs": [],
   "source": [
    "CrititA=1-(1-1/20)**2"
   ]
  },
  {
   "cell_type": "code",
   "execution_count": 533,
   "id": "862c8abf",
   "metadata": {},
   "outputs": [],
   "source": [
    "TotalDamage=0"
   ]
  },
  {
   "cell_type": "code",
   "execution_count": 534,
   "id": "08160d2d",
   "metadata": {},
   "outputs": [],
   "source": [
    "indexRay = 1\n",
    "while indexRay < (TotalRays+1):\n",
    "    TotalDamage+=scipy.stats.binom.pmf(indexRay,TotalRays,PrHitA)*indexRay*AverageDamagePerRay+scipy.stats.binom.pmf(indexRay,TotalRays,CrititA)*indexRay*AverageDamagePerRay\n",
    "    indexRay += 1"
   ]
  },
  {
   "cell_type": "code",
   "execution_count": 535,
   "id": "6d9a8bfe",
   "metadata": {},
   "outputs": [
    {
     "data": {
      "text/plain": [
       "19.142500000000005"
      ]
     },
     "execution_count": 535,
     "metadata": {},
     "output_type": "execute_result"
    }
   ],
   "source": [
    "TotalDamage"
   ]
  },
  {
   "cell_type": "markdown",
   "id": "537ce481",
   "metadata": {},
   "source": [
    "### Average damage with Advantage and Hex"
   ]
  },
  {
   "cell_type": "code",
   "execution_count": 536,
   "id": "dc668c13",
   "metadata": {},
   "outputs": [],
   "source": [
    "n=1"
   ]
  },
  {
   "cell_type": "code",
   "execution_count": 537,
   "id": "56430fe9",
   "metadata": {},
   "outputs": [],
   "source": [
    "TotalRays=n*Rays"
   ]
  },
  {
   "cell_type": "code",
   "execution_count": 538,
   "id": "bb07bbd4",
   "metadata": {},
   "outputs": [],
   "source": [
    "TotalDamage=0"
   ]
  },
  {
   "cell_type": "code",
   "execution_count": 539,
   "id": "5c6c309b",
   "metadata": {},
   "outputs": [],
   "source": [
    "indexRay = 1\n",
    "while indexRay < (TotalRays+1):\n",
    "    TotalDamage+=scipy.stats.binom.pmf(indexRay,TotalRays,PrHitA)*indexRay*(AverageDamagePerRay+HexAverageDamage)+scipy.stats.binom.pmf(indexRay,TotalRays,CrititA)*indexRay*(AverageDamagePerRay+HexAverageDamage)\n",
    "    indexRay += 1"
   ]
  },
  {
   "cell_type": "code",
   "execution_count": 540,
   "id": "68ca4a56",
   "metadata": {},
   "outputs": [
    {
     "data": {
      "text/plain": [
       "26.195000000000004"
      ]
     },
     "execution_count": 540,
     "metadata": {},
     "output_type": "execute_result"
    }
   ],
   "source": [
    "TotalDamage"
   ]
  },
  {
   "cell_type": "markdown",
   "id": "1739d00e",
   "metadata": {},
   "source": [
    "### Average damage with  n repetitions (e.g. Action Surge n=2)"
   ]
  },
  {
   "cell_type": "code",
   "execution_count": 541,
   "id": "f39d9cc2",
   "metadata": {},
   "outputs": [],
   "source": [
    "n=2;"
   ]
  },
  {
   "cell_type": "code",
   "execution_count": 542,
   "id": "3232b117",
   "metadata": {},
   "outputs": [],
   "source": [
    "TotalRays=n*Rays"
   ]
  },
  {
   "cell_type": "code",
   "execution_count": 543,
   "id": "eac6ae18",
   "metadata": {},
   "outputs": [],
   "source": [
    "TotalDamage=0"
   ]
  },
  {
   "cell_type": "code",
   "execution_count": 544,
   "id": "cfd29495",
   "metadata": {},
   "outputs": [],
   "source": [
    "indexRay = 1\n",
    "while indexRay < (TotalRays+1):\n",
    "    TotalDamage+=scipy.stats.binom.pmf(indexRay,TotalRays,PrHit)*indexRay*AverageDamagePerRay+scipy.stats.binom.pmf(indexRay,TotalRays,Critit)*indexRay*AverageDamagePerRay\n",
    "    indexRay += 1"
   ]
  },
  {
   "cell_type": "code",
   "execution_count": 545,
   "id": "ca2de40b",
   "metadata": {},
   "outputs": [
    {
     "data": {
      "text/plain": [
       "28.500000000000007"
      ]
     },
     "execution_count": 545,
     "metadata": {},
     "output_type": "execute_result"
    }
   ],
   "source": [
    "TotalDamage"
   ]
  },
  {
   "cell_type": "markdown",
   "id": "7bdf8b4e",
   "metadata": {},
   "source": [
    "### Average damage with  n repetitions  (e.g. Action Surge n=2) and Advantage"
   ]
  },
  {
   "cell_type": "markdown",
   "id": "461710f6",
   "metadata": {},
   "source": [
    "For rolls with advantage I need to use in the formula the probability of hitting the target with advantage"
   ]
  },
  {
   "cell_type": "code",
   "execution_count": 546,
   "id": "20bc0b52",
   "metadata": {},
   "outputs": [],
   "source": [
    "n=2;"
   ]
  },
  {
   "cell_type": "code",
   "execution_count": 547,
   "id": "e385f0f9",
   "metadata": {},
   "outputs": [],
   "source": [
    "TotalRays=n*Rays"
   ]
  },
  {
   "cell_type": "code",
   "execution_count": 548,
   "id": "0193e5c6",
   "metadata": {},
   "outputs": [],
   "source": [
    "TotalDamage=0"
   ]
  },
  {
   "cell_type": "code",
   "execution_count": 549,
   "id": "7cf2a40b",
   "metadata": {},
   "outputs": [],
   "source": [
    "indexRay = 1\n",
    "while indexRay < (TotalRays+1):\n",
    "    TotalDamage+=scipy.stats.binom.pmf(indexRay,TotalRays,PrHitA)*indexRay*AverageDamagePerRay+scipy.stats.binom.pmf(indexRay,TotalRays,CrititA)*indexRay*AverageDamagePerRay\n",
    "    indexRay += 1"
   ]
  },
  {
   "cell_type": "code",
   "execution_count": 550,
   "id": "f3f3238d",
   "metadata": {},
   "outputs": [
    {
     "data": {
      "text/plain": [
       "38.285000000000004"
      ]
     },
     "execution_count": 550,
     "metadata": {},
     "output_type": "execute_result"
    }
   ],
   "source": [
    "  TotalDamage"
   ]
  },
  {
   "cell_type": "markdown",
   "id": "8354cf49",
   "metadata": {},
   "source": [
    "### Average damage with  n repetitions  (e.g. Action Surge n=2), Advantage and Hex"
   ]
  },
  {
   "cell_type": "code",
   "execution_count": 551,
   "id": "b961dbaa",
   "metadata": {},
   "outputs": [],
   "source": [
    "n=2;"
   ]
  },
  {
   "cell_type": "code",
   "execution_count": 552,
   "id": "ee376abd",
   "metadata": {},
   "outputs": [],
   "source": [
    "TotalRays=n*Rays"
   ]
  },
  {
   "cell_type": "code",
   "execution_count": 553,
   "id": "e6c54436",
   "metadata": {},
   "outputs": [],
   "source": [
    "TotalDamage=0"
   ]
  },
  {
   "cell_type": "code",
   "execution_count": 554,
   "id": "0ce3a934",
   "metadata": {},
   "outputs": [],
   "source": [
    "indexRay = 1\n",
    "while indexRay < (TotalRays+1):\n",
    "    TotalDamage+=scipy.stats.binom.pmf(indexRay,TotalRays,PrHitA)*indexRay*(AverageDamagePerRay+HexAverageDamage)+scipy.stats.binom.pmf(indexRay,TotalRays,CrititA)*indexRay*(AverageDamagePerRay+HexAverageDamage)\n",
    "    indexRay += 1"
   ]
  },
  {
   "cell_type": "code",
   "execution_count": 555,
   "id": "fae7ccf1",
   "metadata": {},
   "outputs": [
    {
     "data": {
      "text/plain": [
       "52.39"
      ]
     },
     "execution_count": 555,
     "metadata": {},
     "output_type": "execute_result"
    }
   ],
   "source": [
    "TotalDamage"
   ]
  },
  {
   "cell_type": "markdown",
   "id": "b655234b",
   "metadata": {},
   "source": [
    "#### Using the function average_damage(repetitions,average_damage_per_hit,opponent_AC,modifiers,advantage,luck_point,elven_accuracy,hexblade_curse)"
   ]
  },
  {
   "cell_type": "code",
   "execution_count": 556,
   "id": "4236b2e3",
   "metadata": {},
   "outputs": [],
   "source": [
    "repetitions=4; average_damage_per_hit=AverageDamagePerRay+HexAverageDamage;opponent_AC=OAC;modifiers=SpellHit;advantage=1;luck_point=0;elven_accuracy=0;hexblade_curse=0"
   ]
  },
  {
   "cell_type": "code",
   "execution_count": 557,
   "id": "d2d4c58e",
   "metadata": {},
   "outputs": [
    {
     "data": {
      "text/plain": [
       "52.39"
      ]
     },
     "execution_count": 557,
     "metadata": {},
     "output_type": "execute_result"
    }
   ],
   "source": [
    "dndopt.average_damage(repetitions,average_damage_per_hit,opponent_AC,modifiers,advantage,luck_point,elven_accuracy,hexblade_curse)"
   ]
  },
  {
   "cell_type": "markdown",
   "id": "9012afb1",
   "metadata": {},
   "source": [
    "### Without Action surge, only advantage with two eldrich blast rays (repetitions=2)"
   ]
  },
  {
   "cell_type": "code",
   "execution_count": 581,
   "id": "e701c535",
   "metadata": {},
   "outputs": [],
   "source": [
    "repetitions=2; average_damage_per_hit=AverageDamagePerRay+HexAverageDamage;opponent_AC=OAC;modifiers=SpellHit;advantage=1;luck_point=0;elven_accuracy=0;hexblade_curse=0"
   ]
  },
  {
   "cell_type": "code",
   "execution_count": 582,
   "id": "1a41ddb0",
   "metadata": {},
   "outputs": [
    {
     "data": {
      "text/plain": [
       "26.195"
      ]
     },
     "execution_count": 582,
     "metadata": {},
     "output_type": "execute_result"
    }
   ],
   "source": [
    "dndopt.average_damage(repetitions,average_damage_per_hit,opponent_AC,modifiers,advantage,luck_point,elven_accuracy,hexblade_curse)"
   ]
  },
  {
   "cell_type": "markdown",
   "id": "3ad8cf97",
   "metadata": {},
   "source": [
    "## Calculate the damage of Melee + Hex + Smite with Advantage"
   ]
  },
  {
   "cell_type": "code",
   "execution_count": 583,
   "id": "d400c91f",
   "metadata": {},
   "outputs": [],
   "source": [
    "#### Magical +1 Long sword damage 1d8 +1"
   ]
  },
  {
   "cell_type": "code",
   "execution_count": 584,
   "id": "d483381a",
   "metadata": {},
   "outputs": [],
   "source": [
    "WeaponDamage=9 #Longsword +1"
   ]
  },
  {
   "cell_type": "code",
   "execution_count": 585,
   "id": "269da109",
   "metadata": {},
   "outputs": [],
   "source": [
    "WeaponAverageDamage=4.5+1"
   ]
  },
  {
   "cell_type": "code",
   "execution_count": 586,
   "id": "1ce22ae1",
   "metadata": {},
   "outputs": [],
   "source": [
    "PrHit= 1 -(OAC- MeleeHit -1)/20 "
   ]
  },
  {
   "cell_type": "code",
   "execution_count": 587,
   "id": "ceb20c1b",
   "metadata": {},
   "outputs": [
    {
     "data": {
      "text/plain": [
       "0.7"
      ]
     },
     "execution_count": 587,
     "metadata": {},
     "output_type": "execute_result"
    }
   ],
   "source": [
    "PrHit"
   ]
  },
  {
   "cell_type": "code",
   "execution_count": 588,
   "id": "dc90d53b",
   "metadata": {},
   "outputs": [],
   "source": [
    "PrMiss=1-PrHit"
   ]
  },
  {
   "cell_type": "code",
   "execution_count": 589,
   "id": "e3f80391",
   "metadata": {},
   "outputs": [],
   "source": [
    "Ad=2"
   ]
  },
  {
   "cell_type": "code",
   "execution_count": 590,
   "id": "38403f43",
   "metadata": {},
   "outputs": [],
   "source": [
    "PrHitAd=1-(PrMiss)**(Ad)"
   ]
  },
  {
   "cell_type": "code",
   "execution_count": 591,
   "id": "3cf7ac90",
   "metadata": {},
   "outputs": [
    {
     "data": {
      "text/plain": [
       "0.9099999999999999"
      ]
     },
     "execution_count": 591,
     "metadata": {},
     "output_type": "execute_result"
    }
   ],
   "source": [
    "PrHitAd"
   ]
  },
  {
   "cell_type": "markdown",
   "id": "44cebc15",
   "metadata": {},
   "source": [
    "####5d8 average 4.5*5"
   ]
  },
  {
   "cell_type": "code",
   "execution_count": 592,
   "id": "29db0bb2",
   "metadata": {},
   "outputs": [],
   "source": [
    "Smite=4.5*5"
   ]
  },
  {
   "cell_type": "markdown",
   "id": "3da02cae",
   "metadata": {},
   "source": [
    "#### bonus smite: I am assuming  searing smite and a celestial warlock's bonus to radient damage"
   ]
  },
  {
   "cell_type": "code",
   "execution_count": 593,
   "id": "82c10a1b",
   "metadata": {},
   "outputs": [],
   "source": [
    "BonusSmite=5*3.5+Modifiers[Abilities.index('CHA')]"
   ]
  },
  {
   "cell_type": "code",
   "execution_count": 594,
   "id": "e561678c",
   "metadata": {},
   "outputs": [],
   "source": [
    "TotalDamage= (WeaponAverageDamage+Smite+BonusSmite+HexAverageDamage)*PrHitAd+ (WeaponAverageDamage+Smite+BonusSmite+HexAverageDamage) *CrititA"
   ]
  },
  {
   "cell_type": "code",
   "execution_count": 595,
   "id": "dfee5cf5",
   "metadata": {},
   "outputs": [
    {
     "data": {
      "text/plain": [
       "53.3975"
      ]
     },
     "execution_count": 595,
     "metadata": {},
     "output_type": "execute_result"
    }
   ],
   "source": [
    "TotalDamage"
   ]
  },
  {
   "cell_type": "markdown",
   "id": "f46519a5",
   "metadata": {},
   "source": [
    "#### Using the function average_damage(repetitions,average_damage_per_hit,opponent_AC,modifiers,advantage,luck_point,elven_accuracy,hexblade_curse)"
   ]
  },
  {
   "cell_type": "code",
   "execution_count": 596,
   "id": "2e37b701",
   "metadata": {},
   "outputs": [],
   "source": [
    "repetitions=1; average_damage_per_hit=WeaponAverageDamage+Smite+BonusSmite+HexAverageDamage;opponent_AC=OAC;modifiers=MeleeHit;advantage=1;luck_point=0;elven_accuracy=0;hexblade_curse=0"
   ]
  },
  {
   "cell_type": "code",
   "execution_count": 597,
   "id": "07eada24",
   "metadata": {},
   "outputs": [
    {
     "data": {
      "text/plain": [
       "53.3975"
      ]
     },
     "execution_count": 597,
     "metadata": {},
     "output_type": "execute_result"
    }
   ],
   "source": [
    "dndopt.average_damage(repetitions,average_damage_per_hit,opponent_AC,modifiers,advantage,luck_point,elven_accuracy,hexblade_curse)"
   ]
  },
  {
   "cell_type": "markdown",
   "id": "5334842f",
   "metadata": {},
   "source": [
    "## Slightly higher than the fighter but asks for the consumption of two spell slots of the highest level and that the characters casts first searing smite as bonus action."
   ]
  },
  {
   "cell_type": "code",
   "execution_count": null,
   "id": "79e0bee6",
   "metadata": {},
   "outputs": [],
   "source": []
  },
  {
   "cell_type": "code",
   "execution_count": null,
   "id": "2bd88430",
   "metadata": {},
   "outputs": [],
   "source": []
  }
 ],
 "metadata": {
  "kernelspec": {
   "display_name": "Python 3 (ipykernel)",
   "language": "python",
   "name": "python3"
  },
  "language_info": {
   "codemirror_mode": {
    "name": "ipython",
    "version": 3
   },
   "file_extension": ".py",
   "mimetype": "text/x-python",
   "name": "python",
   "nbconvert_exporter": "python",
   "pygments_lexer": "ipython3",
   "version": "3.10.4"
  }
 },
 "nbformat": 4,
 "nbformat_minor": 5
}
