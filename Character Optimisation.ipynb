{
 "cells": [
  {
   "cell_type": "code",
   "execution_count": 96,
   "id": "d5da18c0",
   "metadata": {},
   "outputs": [],
   "source": [
    "import numpy as np\n",
    "import numpy.matlib \n",
    "import math\n",
    "import matplotlib.pyplot as plt\n",
    "import scipy.stats"
   ]
  },
  {
   "cell_type": "markdown",
   "id": "b20e774d",
   "metadata": {},
   "source": [
    "# Inspired by youtube channel D&D Optimised (now d4: D&D Deep Dive)\n",
    "\n",
    "## Calculate average damage\n",
    "\n",
    "### Source: D&D Optimised\n",
    "https://www.youtube.com/watch?v=nk2SIaGXSYo\n",
    "\n",
    "\"The basic formula for calculating average damage is as follows:\t\t\t\t\n",
    "((Average Weapon Damage + Applicable per-hit Damage Modifiers)*(% chance to hit))+((Average Dice Damage on attack)*(% chance to crit))+any once per round damage\t\t\t\t\t\t\t\t\t\t\t\t\t\n",
    "\t\t\t\t\t\t\t\t\t\t\t\t\t\n",
    "Keep in mind that if you have multiple attacks, you need to run the above for each attack - you can simply multiply everything between the outermost parentheses by the # of attacks *if* those attacks are identical,\t\t\t\t\t\t\t\t\t\t\t\t\t\n",
    "but in the case of someone using a Polearm Master Feat, for example, they are not, as the regular attacks would use a D10 for the weapon, wheras the bonus action attack would use a D4 for the weapon.\"\t\t\t\t\t\t\t\t\t\t\t\t\t\n",
    "\n",
    "### Source: https://www.dndbeyond.com/sources/phb/combat#MakinganAttack\n",
    "\"To make an attack roll, roll a d20 and add the appropriate modifiers. If the total of the roll plus modifiers equals or exceeds the target's Armor Class (AC), the attack hits.\" \n",
    "\n",
    "\n",
    "## Detailed calculations\n",
    "\n",
    "### Definitions\n",
    "[roll]: Average Dice Roll\n",
    "OAC: Opponents Armour Class\n",
    "\n",
    "### Chance to hit and chance to miss\n",
    "\n",
    "P(My hit was greater or equal than the Opponents AC) = P([roll]+ hit bonus >= OAC) => P([roll]>= OAC- hit bonus)\n",
    "\n",
    "P(hit)=P([rol] >= OAC -hit bonus) = [ 20 -(OAC- hit bonus)+1]/20 = 1 -(OAC- hit bonus -1)/20 = 1 - P(miss)\n",
    "\n",
    "P(miss) = (OAC- hit bonus -1)/20\n",
    "\n",
    "### Chance to hit with advantage\n",
    "P (hit on first roll but not on the second)+ P (hit on the second roll but not on the first)+ P(hit on both rolls)=  2  * [ 1 -(OAC- hit bonus -1)/20] * [ (OAC- hit bonus -1)/20]+ [ 1 -(OAC- hit bonus -1)/20] **2 (see also binomial distribution).\n",
    "\n",
    "The shorter way is to calculate \"1 - the chance of missing both rolls\". \n",
    "\n",
    "P (miss both rolls) = [P(miss)] = [(OAC- hit bonus -1)/20]**2\n",
    "\n",
    "P( hit with an advantage) = 1 - [(OAC- hit bonus -1)/20]**2\n",
    "\n",
    "### Chance to hit with advantage and Elven Accuracy (or Lucky)\n",
    "Elven accuracy, i.e roll one more time: 1- [(OAC- hit bonus -1)/20]**3\n",
    "\n",
    "### Critical hit  (minimum chance to hit)\n",
    "Crit hit (natural 20): p(critit)= 1/20"
   ]
  },
  {
   "cell_type": "markdown",
   "id": "59e4b5a4",
   "metadata": {},
   "source": [
    "### Critical hit with advantage\n",
    "Crit hit (natural 20): p(critit)= 1- (1- 1/20)**2"
   ]
  },
  {
   "cell_type": "markdown",
   "id": "89794cfc",
   "metadata": {},
   "source": [
    "### Minimum chance to hit with advantage and Elven Accuracy (or Lucky)\n",
    "Crit hit (natural 20): p(critit)= 1- (1- 1/20)**3"
   ]
  },
  {
   "cell_type": "markdown",
   "id": "c2e2aa5a",
   "metadata": {},
   "source": [
    "### Minimum chance to hit with Hexblade Curse on target (HCT)\n",
    "Crit hit (19 or 20) p(critit HCT)= 1- (1-2/20)"
   ]
  },
  {
   "cell_type": "code",
   "execution_count": 97,
   "id": "6a5d1293",
   "metadata": {},
   "outputs": [
    {
     "data": {
      "text/plain": [
       "0.09999999999999998"
      ]
     },
     "execution_count": 97,
     "metadata": {},
     "output_type": "execute_result"
    }
   ],
   "source": [
    "1- (1-2/20)"
   ]
  },
  {
   "cell_type": "markdown",
   "id": "8ed78949",
   "metadata": {},
   "source": [
    "### Minimum chance to hit with advantage, Elven Accuracy (or Lucky) and Hexblade Curse on target (HCT)\n",
    "Crit hit (19 or 20) p(critit HCT)= 1- (1-2/20)**3"
   ]
  },
  {
   "cell_type": "code",
   "execution_count": 98,
   "id": "54a8965e",
   "metadata": {},
   "outputs": [
    {
     "data": {
      "text/plain": [
       "0.2709999999999999"
      ]
     },
     "execution_count": 98,
     "metadata": {},
     "output_type": "execute_result"
    }
   ],
   "source": [
    "1- (1-2/20)**3"
   ]
  },
  {
   "cell_type": "markdown",
   "id": "235b67e5",
   "metadata": {},
   "source": [
    "One way to obtain advantage as a Warlock is to get Devil's Sight and Cast Darkness on oneself (when multiclass with e.g. fighter, one may use the blind fighting style instead of Devil's Sight)."
   ]
  },
  {
   "cell_type": "markdown",
   "id": "d567e325",
   "metadata": {},
   "source": [
    "##  Calculating the Probablility of critical hits (rounded to 5 decimal digits)."
   ]
  },
  {
   "cell_type": "code",
   "execution_count": 99,
   "id": "2e3da34a",
   "metadata": {},
   "outputs": [],
   "source": [
    "import dnd_optimisation as dndopt # this is a python file containing the calcuations for critical hits"
   ]
  },
  {
   "cell_type": "code",
   "execution_count": 100,
   "id": "254e9047",
   "metadata": {},
   "outputs": [
    {
     "data": {
      "text/plain": [
       "<module 'dnd_optimisation' from '/Users/eleni/Python Scripts/DnD/dnd_optimisation.py'>"
      ]
     },
     "execution_count": 100,
     "metadata": {},
     "output_type": "execute_result"
    }
   ],
   "source": [
    "import importlib  #This is because I am making changes to the file all the time ;) \n",
    "importlib.reload(dndopt)  "
   ]
  },
  {
   "cell_type": "markdown",
   "id": "3c11780c",
   "metadata": {},
   "source": [
    "#### Setting advantage, luck_point (related to the lucky feat) and elven_accuracy to false gives the probabity of a natural critical hit (natural 20) 1/20"
   ]
  },
  {
   "cell_type": "code",
   "execution_count": 101,
   "id": "02580d0d",
   "metadata": {},
   "outputs": [],
   "source": [
    "advantage=False; luck_point=False; elven_accuracy=False; hexblade_curse=False"
   ]
  },
  {
   "cell_type": "code",
   "execution_count": 102,
   "id": "06925079",
   "metadata": {},
   "outputs": [
    {
     "data": {
      "text/plain": [
       "0.05"
      ]
     },
     "execution_count": 102,
     "metadata": {},
     "output_type": "execute_result"
    }
   ],
   "source": [
    "dndopt.probability_of_crtical_hit(advantage,luck_point,elven_accuracy,hexblade_curse)"
   ]
  },
  {
   "cell_type": "markdown",
   "id": "3bcd4b81",
   "metadata": {},
   "source": [
    "#### Only advantage"
   ]
  },
  {
   "cell_type": "code",
   "execution_count": 103,
   "id": "713deb31",
   "metadata": {},
   "outputs": [],
   "source": [
    "advantage=True; luck_point=False; elven_accuracy=False; hexblade_curse=False"
   ]
  },
  {
   "cell_type": "code",
   "execution_count": 104,
   "id": "80848069",
   "metadata": {},
   "outputs": [
    {
     "data": {
      "text/plain": [
       "0.0975"
      ]
     },
     "execution_count": 104,
     "metadata": {},
     "output_type": "execute_result"
    }
   ],
   "source": [
    "dndopt.probability_of_crtical_hit(advantage,luck_point,elven_accuracy,hexblade_curse)"
   ]
  },
  {
   "cell_type": "markdown",
   "id": "ca4ce699",
   "metadata": {},
   "source": [
    "#### Advantage and lucky"
   ]
  },
  {
   "cell_type": "code",
   "execution_count": 105,
   "id": "f171a1d4",
   "metadata": {},
   "outputs": [],
   "source": [
    "advantage=True; luck_point=True; elven_accuracy=False; hexblade_curse=False"
   ]
  },
  {
   "cell_type": "code",
   "execution_count": 106,
   "id": "f10cb59b",
   "metadata": {},
   "outputs": [
    {
     "data": {
      "text/plain": [
       "0.14263"
      ]
     },
     "execution_count": 106,
     "metadata": {},
     "output_type": "execute_result"
    }
   ],
   "source": [
    "dndopt.probability_of_crtical_hit(advantage,luck_point,elven_accuracy,hexblade_curse)"
   ]
  },
  {
   "cell_type": "markdown",
   "id": "ebd80d49",
   "metadata": {},
   "source": [
    "#### Hexblade curse with advantage"
   ]
  },
  {
   "cell_type": "code",
   "execution_count": 107,
   "id": "83948a63",
   "metadata": {},
   "outputs": [],
   "source": [
    "advantage=True; luck_point=True; elven_accuracy=False; hexblade_curse=True"
   ]
  },
  {
   "cell_type": "code",
   "execution_count": 108,
   "id": "ebecf853",
   "metadata": {},
   "outputs": [
    {
     "data": {
      "text/plain": [
       "0.271"
      ]
     },
     "execution_count": 108,
     "metadata": {},
     "output_type": "execute_result"
    }
   ],
   "source": [
    "dndopt.probability_of_crtical_hit(advantage,luck_point,elven_accuracy,hexblade_curse)"
   ]
  },
  {
   "cell_type": "markdown",
   "id": "00cfba1d",
   "metadata": {},
   "source": [
    "# Comparing different builds"
   ]
  },
  {
   "cell_type": "markdown",
   "id": "1f18ecf2",
   "metadata": {},
   "source": [
    "## Warlock (Celestial Patron) with 2 levels of Fighter vs 2 levels of Paladin for maximal damage "
   ]
  },
  {
   "cell_type": "markdown",
   "id": "f830baf4",
   "metadata": {},
   "source": [
    "### Assuming the following Ability Scores"
   ]
  },
  {
   "cell_type": "code",
   "execution_count": 109,
   "id": "82b3bc5a",
   "metadata": {},
   "outputs": [],
   "source": [
    "AbilityScores= numpy.array([19, 14, 12, 16, 8, 18])"
   ]
  },
  {
   "cell_type": "code",
   "execution_count": 110,
   "id": "d3cce0bd",
   "metadata": {},
   "outputs": [],
   "source": [
    "Abilities=['STR', 'DEX', 'CON','INT','WIS', 'CHA']"
   ]
  },
  {
   "cell_type": "markdown",
   "id": "976fda71",
   "metadata": {},
   "source": [
    "### Calculate the Ability Score Modifiers"
   ]
  },
  {
   "cell_type": "code",
   "execution_count": 111,
   "id": "5afc1661",
   "metadata": {},
   "outputs": [],
   "source": [
    "Modifiers = np.floor((AbilityScores - 10)/2)"
   ]
  },
  {
   "cell_type": "code",
   "execution_count": 112,
   "id": "2291094f",
   "metadata": {},
   "outputs": [],
   "source": [
    "Modifiers=Modifiers.astype(int)"
   ]
  },
  {
   "cell_type": "markdown",
   "id": "afc6b50c",
   "metadata": {},
   "source": [
    "### What is the Ability Score for Charisma?"
   ]
  },
  {
   "cell_type": "code",
   "execution_count": 113,
   "id": "8c353353",
   "metadata": {},
   "outputs": [
    {
     "data": {
      "text/plain": [
       "18"
      ]
     },
     "execution_count": 113,
     "metadata": {},
     "output_type": "execute_result"
    }
   ],
   "source": [
    "AbilityScores[Abilities.index('CHA')]"
   ]
  },
  {
   "cell_type": "markdown",
   "id": "464695de",
   "metadata": {},
   "source": [
    "### What is the Modifier for Charisma?"
   ]
  },
  {
   "cell_type": "code",
   "execution_count": 114,
   "id": "60ae1ba1",
   "metadata": {},
   "outputs": [
    {
     "data": {
      "text/plain": [
       "4"
      ]
     },
     "execution_count": 114,
     "metadata": {},
     "output_type": "execute_result"
    }
   ],
   "source": [
    "Modifiers[Abilities.index('CHA')]"
   ]
  },
  {
   "cell_type": "markdown",
   "id": "f6152ffa",
   "metadata": {},
   "source": [
    "### Define the Character's Level"
   ]
  },
  {
   "cell_type": "code",
   "execution_count": 115,
   "id": "3696e94a",
   "metadata": {},
   "outputs": [],
   "source": [
    "Level=8;"
   ]
  },
  {
   "cell_type": "markdown",
   "id": "2f685396",
   "metadata": {},
   "source": [
    "### Calculate the Proficiency Bonus"
   ]
  },
  {
   "cell_type": "code",
   "execution_count": 116,
   "id": "01c1d56b",
   "metadata": {},
   "outputs": [],
   "source": [
    "ProficiencyBonus=1+np.ceil(Level/4)"
   ]
  },
  {
   "cell_type": "code",
   "execution_count": 117,
   "id": "1aec3c6b",
   "metadata": {},
   "outputs": [],
   "source": [
    "ProficiencyBonus=ProficiencyBonus.astype(int)"
   ]
  },
  {
   "cell_type": "markdown",
   "id": "937f9793",
   "metadata": {},
   "source": [
    "### Calculate Hit for Spells Attacks casted with Charisma"
   ]
  },
  {
   "cell_type": "code",
   "execution_count": 118,
   "id": "386853a4",
   "metadata": {},
   "outputs": [],
   "source": [
    "OtherBonus=1; #Rod of pact keeper"
   ]
  },
  {
   "cell_type": "code",
   "execution_count": 119,
   "id": "37c034df",
   "metadata": {},
   "outputs": [],
   "source": [
    "SpellHit=Modifiers[Abilities.index('CHA')]+ProficiencyBonus+OtherBonus"
   ]
  },
  {
   "cell_type": "code",
   "execution_count": 120,
   "id": "449c45b3",
   "metadata": {},
   "outputs": [
    {
     "data": {
      "text/plain": [
       "8"
      ]
     },
     "execution_count": 120,
     "metadata": {},
     "output_type": "execute_result"
    }
   ],
   "source": [
    "SpellHit"
   ]
  },
  {
   "cell_type": "markdown",
   "id": "54da73f1",
   "metadata": {},
   "source": [
    "### Calculate Hit for Weapon Attacks with Strength"
   ]
  },
  {
   "cell_type": "code",
   "execution_count": 121,
   "id": "f363906e",
   "metadata": {},
   "outputs": [],
   "source": [
    "WeaponBonus=1; #Magical +1 weapon"
   ]
  },
  {
   "cell_type": "code",
   "execution_count": 122,
   "id": "4192eace",
   "metadata": {},
   "outputs": [],
   "source": [
    "MeleeHit=Modifiers[Abilities.index('STR')]+ProficiencyBonus+WeaponBonus"
   ]
  },
  {
   "cell_type": "code",
   "execution_count": 123,
   "id": "7b90b62b",
   "metadata": {},
   "outputs": [
    {
     "data": {
      "text/plain": [
       "8"
      ]
     },
     "execution_count": 123,
     "metadata": {},
     "output_type": "execute_result"
    }
   ],
   "source": [
    "MeleeHit"
   ]
  },
  {
   "cell_type": "code",
   "execution_count": 124,
   "id": "8f1af261",
   "metadata": {},
   "outputs": [],
   "source": [
    "### Calculate Hit for Weapon Attacks with Dexterity"
   ]
  },
  {
   "cell_type": "code",
   "execution_count": 125,
   "id": "a78edcb4",
   "metadata": {},
   "outputs": [],
   "source": [
    "DexMeleeHit=Modifiers[Abilities.index('DEX')]+ProficiencyBonus+WeaponBonus"
   ]
  },
  {
   "cell_type": "code",
   "execution_count": 126,
   "id": "3107d5ff",
   "metadata": {},
   "outputs": [
    {
     "data": {
      "text/plain": [
       "6"
      ]
     },
     "execution_count": 126,
     "metadata": {},
     "output_type": "execute_result"
    }
   ],
   "source": [
    "DexMeleeHit"
   ]
  },
  {
   "cell_type": "markdown",
   "id": "46e90f58",
   "metadata": {},
   "source": [
    "### The Opponent's Armor Class is:"
   ]
  },
  {
   "cell_type": "code",
   "execution_count": 127,
   "id": "3d948c56",
   "metadata": {},
   "outputs": [],
   "source": [
    "OAC=15"
   ]
  },
  {
   "cell_type": "markdown",
   "id": "040503d0",
   "metadata": {},
   "source": [
    "## Calculate the damage of Eldrich Blast"
   ]
  },
  {
   "cell_type": "markdown",
   "id": "b081b973",
   "metadata": {},
   "source": [
    "### Probability to hit an Opponent"
   ]
  },
  {
   "cell_type": "markdown",
   "id": "3498a87b",
   "metadata": {},
   "source": [
    "#### Probability to hit the Opponent (for 1 dice roll)"
   ]
  },
  {
   "cell_type": "code",
   "execution_count": 128,
   "id": "43825489",
   "metadata": {},
   "outputs": [],
   "source": [
    "PrHit= 1 -(OAC- SpellHit -1)/20 "
   ]
  },
  {
   "cell_type": "code",
   "execution_count": 129,
   "id": "aadedac2",
   "metadata": {},
   "outputs": [
    {
     "data": {
      "text/plain": [
       "0.7"
      ]
     },
     "execution_count": 129,
     "metadata": {},
     "output_type": "execute_result"
    }
   ],
   "source": [
    "PrHit"
   ]
  },
  {
   "cell_type": "markdown",
   "id": "d3ddcf98",
   "metadata": {},
   "source": [
    "#### using a function to calculate the probability \n",
    "####  probability_of__hitting_opponent(opponent_AC,modifiers,advantage,luck_point,elven_accuracy)"
   ]
  },
  {
   "cell_type": "code",
   "execution_count": 130,
   "id": "121a6cd8",
   "metadata": {},
   "outputs": [
    {
     "data": {
      "text/plain": [
       "0.7"
      ]
     },
     "execution_count": 130,
     "metadata": {},
     "output_type": "execute_result"
    }
   ],
   "source": [
    " dndopt.probability_of__hitting_opponent(OAC,SpellHit,0,0,0)"
   ]
  },
  {
   "cell_type": "markdown",
   "id": "6e754c97",
   "metadata": {},
   "source": [
    "#### Probability to miss the Opponent (for 1 dice roll)"
   ]
  },
  {
   "cell_type": "code",
   "execution_count": 131,
   "id": "eed307c2",
   "metadata": {},
   "outputs": [],
   "source": [
    "PrMiss=(OAC- SpellHit -1)/20 "
   ]
  },
  {
   "cell_type": "code",
   "execution_count": 132,
   "id": "143e36e1",
   "metadata": {},
   "outputs": [
    {
     "data": {
      "text/plain": [
       "0.3"
      ]
     },
     "execution_count": 132,
     "metadata": {},
     "output_type": "execute_result"
    }
   ],
   "source": [
    "PrMiss"
   ]
  },
  {
   "cell_type": "markdown",
   "id": "867e9350",
   "metadata": {},
   "source": [
    "#### Probability to hit the opponent with advantage (Ad=2)"
   ]
  },
  {
   "cell_type": "code",
   "execution_count": 133,
   "id": "0372f598",
   "metadata": {},
   "outputs": [],
   "source": [
    "Ad=2"
   ]
  },
  {
   "cell_type": "code",
   "execution_count": 134,
   "id": "fe0c195f",
   "metadata": {},
   "outputs": [],
   "source": [
    "PrHitA=1-(PrMiss)**(Ad)"
   ]
  },
  {
   "cell_type": "code",
   "execution_count": 135,
   "id": "604ed9e3",
   "metadata": {},
   "outputs": [
    {
     "data": {
      "text/plain": [
       "0.91"
      ]
     },
     "execution_count": 135,
     "metadata": {},
     "output_type": "execute_result"
    }
   ],
   "source": [
    "PrHitA"
   ]
  },
  {
   "cell_type": "markdown",
   "id": "792e69be",
   "metadata": {},
   "source": [
    "#### testing function"
   ]
  },
  {
   "cell_type": "code",
   "execution_count": 136,
   "id": "f8d32a19",
   "metadata": {},
   "outputs": [
    {
     "data": {
      "text/plain": [
       "0.91"
      ]
     },
     "execution_count": 136,
     "metadata": {},
     "output_type": "execute_result"
    }
   ],
   "source": [
    " dndopt.probability_of__hitting_opponent(OAC,SpellHit,1,0,0)"
   ]
  },
  {
   "cell_type": "markdown",
   "id": "d575eb85",
   "metadata": {},
   "source": [
    "#### Number of Elrdich Blast Rays"
   ]
  },
  {
   "cell_type": "code",
   "execution_count": 137,
   "id": "470101d5",
   "metadata": {},
   "outputs": [],
   "source": [
    "Rays=min(math.floor(Level/5)+1,4)"
   ]
  },
  {
   "cell_type": "code",
   "execution_count": 138,
   "id": "e60405ab",
   "metadata": {},
   "outputs": [
    {
     "data": {
      "text/plain": [
       "2"
      ]
     },
     "execution_count": 138,
     "metadata": {},
     "output_type": "execute_result"
    }
   ],
   "source": [
    "Rays"
   ]
  },
  {
   "cell_type": "markdown",
   "id": "1c8e5259",
   "metadata": {},
   "source": [
    "#### In that case the average damage (per ray) will be (with Agonizing Blast) 1d10+ Charisma Modifier"
   ]
  },
  {
   "cell_type": "code",
   "execution_count": 139,
   "id": "a5cb66c1",
   "metadata": {},
   "outputs": [],
   "source": [
    "AverageAgonisingBlastDamage=5.5"
   ]
  },
  {
   "cell_type": "code",
   "execution_count": 140,
   "id": "43bb02ac",
   "metadata": {},
   "outputs": [],
   "source": [
    "AverageDamagePerRay=AverageAgonisingBlastDamage+Modifiers[Abilities.index('CHA')]"
   ]
  },
  {
   "cell_type": "code",
   "execution_count": 141,
   "id": "c6566fc8",
   "metadata": {},
   "outputs": [
    {
     "data": {
      "text/plain": [
       "9.5"
      ]
     },
     "execution_count": 141,
     "metadata": {},
     "output_type": "execute_result"
    }
   ],
   "source": [
    "AverageDamagePerRay"
   ]
  },
  {
   "cell_type": "markdown",
   "id": "2fccb0f7",
   "metadata": {},
   "source": [
    "Additional modifier for Hex spell"
   ]
  },
  {
   "cell_type": "code",
   "execution_count": 142,
   "id": "be61d526",
   "metadata": {},
   "outputs": [],
   "source": [
    "HexAverageDamage=3.5"
   ]
  },
  {
   "cell_type": "markdown",
   "id": "ce0f070f",
   "metadata": {},
   "source": [
    "### Average damage, taking into account critical hits, parametrised by the number of rays"
   ]
  },
  {
   "cell_type": "markdown",
   "id": "473c04ab",
   "metadata": {},
   "source": [
    "For two rays only the formula would be "
   ]
  },
  {
   "cell_type": "markdown",
   "id": "9e7de8b7",
   "metadata": {},
   "source": [
    " 2 x Probability that only one ray will hit x damage + Probability that both rays will hit x 2 x damage + 2 x Probability that only one dice will crit hit x damage  + Probability that both dices will hit x 2 x damage "
   ]
  },
  {
   "cell_type": "code",
   "execution_count": 143,
   "id": "0a9ac9af",
   "metadata": {},
   "outputs": [],
   "source": [
    "Critit=1/20;"
   ]
  },
  {
   "cell_type": "code",
   "execution_count": 144,
   "id": "cf90ef95",
   "metadata": {},
   "outputs": [
    {
     "data": {
      "text/plain": [
       "14.249999999999998"
      ]
     },
     "execution_count": 144,
     "metadata": {},
     "output_type": "execute_result"
    }
   ],
   "source": [
    "2 * PrHit * PrMiss * AverageDamagePerRay+ 2* (Critit) *(1-Critit) * AverageDamagePerRay+ PrHit**2 * 2* AverageDamagePerRay + 2* (Critit) *(Critit) * AverageDamagePerRay"
   ]
  },
  {
   "cell_type": "markdown",
   "id": "f2da1bf1",
   "metadata": {},
   "source": [
    "In order to easily generalise to higher number of rays we use the binomial distribution. we check for 2 Rays to see the same result as above."
   ]
  },
  {
   "cell_type": "markdown",
   "id": "5a9f5443",
   "metadata": {},
   "source": [
    "Without taking into account Crit Hit"
   ]
  },
  {
   "cell_type": "code",
   "execution_count": 145,
   "id": "6767277b",
   "metadata": {},
   "outputs": [],
   "source": [
    "ADNCR = scipy.stats.binom.pmf(1,2,PrHit)*AverageDamagePerRay + scipy.stats.binom.pmf(2,2,PrHit)* 2* AverageDamagePerRay "
   ]
  },
  {
   "cell_type": "code",
   "execution_count": 146,
   "id": "4c5de893",
   "metadata": {},
   "outputs": [
    {
     "data": {
      "text/plain": [
       "13.3"
      ]
     },
     "execution_count": 146,
     "metadata": {},
     "output_type": "execute_result"
    }
   ],
   "source": [
    "ADNCR"
   ]
  },
  {
   "cell_type": "markdown",
   "id": "fb796cd6",
   "metadata": {},
   "source": [
    "Calculating Crit Hit"
   ]
  },
  {
   "cell_type": "code",
   "execution_count": 147,
   "id": "c4523da5",
   "metadata": {},
   "outputs": [],
   "source": [
    "ACHD= scipy.stats.binom.pmf(1,2,Critit)*AverageDamagePerRay + scipy.stats.binom.pmf(2,2,Critit)* 2* AverageDamagePerRay "
   ]
  },
  {
   "cell_type": "code",
   "execution_count": 148,
   "id": "27eb3157",
   "metadata": {},
   "outputs": [
    {
     "data": {
      "text/plain": [
       "0.9500000000000003"
      ]
     },
     "execution_count": 148,
     "metadata": {},
     "output_type": "execute_result"
    }
   ],
   "source": [
    "ACHD"
   ]
  },
  {
   "cell_type": "markdown",
   "id": "121e185f",
   "metadata": {},
   "source": [
    "Adding the two together"
   ]
  },
  {
   "cell_type": "code",
   "execution_count": 149,
   "id": "4a230bcd",
   "metadata": {},
   "outputs": [],
   "source": [
    "TAD=ADNCR+ACHD"
   ]
  },
  {
   "cell_type": "code",
   "execution_count": 150,
   "id": "d5accac9",
   "metadata": {},
   "outputs": [
    {
     "data": {
      "text/plain": [
       "14.250000000000002"
      ]
     },
     "execution_count": 150,
     "metadata": {},
     "output_type": "execute_result"
    }
   ],
   "source": [
    "TAD"
   ]
  },
  {
   "cell_type": "markdown",
   "id": "ea55670b",
   "metadata": {},
   "source": [
    "#### Calculating for arbitrary number of Rays"
   ]
  },
  {
   "cell_type": "code",
   "execution_count": 151,
   "id": "40c0e3f6",
   "metadata": {},
   "outputs": [],
   "source": [
    "TotalDamage=0;"
   ]
  },
  {
   "cell_type": "code",
   "execution_count": 152,
   "id": "de3e5232",
   "metadata": {},
   "outputs": [],
   "source": [
    "indexRay = 1\n",
    "while indexRay < (Rays+1):\n",
    "    TotalDamage+=scipy.stats.binom.pmf(indexRay,Rays,PrHit)*indexRay*AverageDamagePerRay+scipy.stats.binom.pmf(indexRay,Rays,Critit)*indexRay*AverageDamagePerRay\n",
    "    indexRay += 1"
   ]
  },
  {
   "cell_type": "code",
   "execution_count": 153,
   "id": "1a874961",
   "metadata": {},
   "outputs": [
    {
     "data": {
      "text/plain": [
       "14.25"
      ]
     },
     "execution_count": 153,
     "metadata": {},
     "output_type": "execute_result"
    }
   ],
   "source": [
    "TotalDamage"
   ]
  },
  {
   "cell_type": "markdown",
   "id": "a4f364a8",
   "metadata": {},
   "source": [
    "### Average damage with  Advantage"
   ]
  },
  {
   "cell_type": "code",
   "execution_count": 154,
   "id": "b485286e",
   "metadata": {},
   "outputs": [],
   "source": [
    "n=1"
   ]
  },
  {
   "cell_type": "code",
   "execution_count": 155,
   "id": "5f0a8e48",
   "metadata": {},
   "outputs": [],
   "source": [
    "TotalRays=n*Rays"
   ]
  },
  {
   "cell_type": "code",
   "execution_count": 156,
   "id": "21e6fa8a",
   "metadata": {},
   "outputs": [],
   "source": [
    "CrititA=1-(1-1/20)**2"
   ]
  },
  {
   "cell_type": "code",
   "execution_count": 157,
   "id": "862c8abf",
   "metadata": {},
   "outputs": [],
   "source": [
    "TotalDamage=0"
   ]
  },
  {
   "cell_type": "code",
   "execution_count": 158,
   "id": "08160d2d",
   "metadata": {},
   "outputs": [],
   "source": [
    "indexRay = 1\n",
    "while indexRay < (TotalRays+1):\n",
    "    TotalDamage+=scipy.stats.binom.pmf(indexRay,TotalRays,PrHitA)*indexRay*AverageDamagePerRay+scipy.stats.binom.pmf(indexRay,TotalRays,CrititA)*indexRay*AverageDamagePerRay\n",
    "    indexRay += 1"
   ]
  },
  {
   "cell_type": "code",
   "execution_count": 159,
   "id": "6d9a8bfe",
   "metadata": {},
   "outputs": [
    {
     "data": {
      "text/plain": [
       "19.142500000000005"
      ]
     },
     "execution_count": 159,
     "metadata": {},
     "output_type": "execute_result"
    }
   ],
   "source": [
    "TotalDamage"
   ]
  },
  {
   "cell_type": "markdown",
   "id": "537ce481",
   "metadata": {},
   "source": [
    "### Average damage with Advantage and Hex"
   ]
  },
  {
   "cell_type": "code",
   "execution_count": 160,
   "id": "dc668c13",
   "metadata": {},
   "outputs": [],
   "source": [
    "n=1"
   ]
  },
  {
   "cell_type": "code",
   "execution_count": 161,
   "id": "56430fe9",
   "metadata": {},
   "outputs": [],
   "source": [
    "TotalRays=n*Rays"
   ]
  },
  {
   "cell_type": "code",
   "execution_count": 162,
   "id": "bb07bbd4",
   "metadata": {},
   "outputs": [],
   "source": [
    "TotalDamage=0"
   ]
  },
  {
   "cell_type": "code",
   "execution_count": 163,
   "id": "5c6c309b",
   "metadata": {},
   "outputs": [],
   "source": [
    "indexRay = 1\n",
    "while indexRay < (TotalRays+1):\n",
    "    TotalDamage+=scipy.stats.binom.pmf(indexRay,TotalRays,PrHitA)*indexRay*(AverageDamagePerRay+HexAverageDamage)+scipy.stats.binom.pmf(indexRay,TotalRays,CrititA)*indexRay*(AverageDamagePerRay+HexAverageDamage)\n",
    "    indexRay += 1"
   ]
  },
  {
   "cell_type": "code",
   "execution_count": 164,
   "id": "68ca4a56",
   "metadata": {},
   "outputs": [
    {
     "data": {
      "text/plain": [
       "26.195000000000004"
      ]
     },
     "execution_count": 164,
     "metadata": {},
     "output_type": "execute_result"
    }
   ],
   "source": [
    "TotalDamage"
   ]
  },
  {
   "cell_type": "markdown",
   "id": "1739d00e",
   "metadata": {},
   "source": [
    "### Average damage with  n repetitions (e.g. Action Surge n=2)"
   ]
  },
  {
   "cell_type": "code",
   "execution_count": 165,
   "id": "f39d9cc2",
   "metadata": {},
   "outputs": [],
   "source": [
    "n=2;"
   ]
  },
  {
   "cell_type": "code",
   "execution_count": 166,
   "id": "3232b117",
   "metadata": {},
   "outputs": [],
   "source": [
    "TotalRays=n*Rays"
   ]
  },
  {
   "cell_type": "code",
   "execution_count": 167,
   "id": "eac6ae18",
   "metadata": {},
   "outputs": [],
   "source": [
    "TotalDamage=0"
   ]
  },
  {
   "cell_type": "code",
   "execution_count": 168,
   "id": "cfd29495",
   "metadata": {},
   "outputs": [],
   "source": [
    "indexRay = 1\n",
    "while indexRay < (TotalRays+1):\n",
    "    TotalDamage+=scipy.stats.binom.pmf(indexRay,TotalRays,PrHit)*indexRay*AverageDamagePerRay+scipy.stats.binom.pmf(indexRay,TotalRays,Critit)*indexRay*AverageDamagePerRay\n",
    "    indexRay += 1"
   ]
  },
  {
   "cell_type": "code",
   "execution_count": 169,
   "id": "ca2de40b",
   "metadata": {},
   "outputs": [
    {
     "data": {
      "text/plain": [
       "28.500000000000007"
      ]
     },
     "execution_count": 169,
     "metadata": {},
     "output_type": "execute_result"
    }
   ],
   "source": [
    "TotalDamage"
   ]
  },
  {
   "cell_type": "markdown",
   "id": "7bdf8b4e",
   "metadata": {},
   "source": [
    "### Average damage with  n repetitions  (e.g. Action Surge n=2) and Advantage"
   ]
  },
  {
   "cell_type": "markdown",
   "id": "461710f6",
   "metadata": {},
   "source": [
    "For rolls with advantage I need to use in the formula the probability of hitting the target with advantage"
   ]
  },
  {
   "cell_type": "code",
   "execution_count": 170,
   "id": "20bc0b52",
   "metadata": {},
   "outputs": [],
   "source": [
    "n=2;"
   ]
  },
  {
   "cell_type": "code",
   "execution_count": 171,
   "id": "e385f0f9",
   "metadata": {},
   "outputs": [],
   "source": [
    "TotalRays=n*Rays"
   ]
  },
  {
   "cell_type": "code",
   "execution_count": 172,
   "id": "0193e5c6",
   "metadata": {},
   "outputs": [],
   "source": [
    "TotalDamage=0"
   ]
  },
  {
   "cell_type": "code",
   "execution_count": 173,
   "id": "7cf2a40b",
   "metadata": {},
   "outputs": [],
   "source": [
    "indexRay = 1\n",
    "while indexRay < (TotalRays+1):\n",
    "    TotalDamage+=scipy.stats.binom.pmf(indexRay,TotalRays,PrHitA)*indexRay*AverageDamagePerRay+scipy.stats.binom.pmf(indexRay,TotalRays,CrititA)*indexRay*AverageDamagePerRay\n",
    "    indexRay += 1"
   ]
  },
  {
   "cell_type": "code",
   "execution_count": 174,
   "id": "f3f3238d",
   "metadata": {},
   "outputs": [
    {
     "data": {
      "text/plain": [
       "38.285000000000004"
      ]
     },
     "execution_count": 174,
     "metadata": {},
     "output_type": "execute_result"
    }
   ],
   "source": [
    "  TotalDamage"
   ]
  },
  {
   "cell_type": "markdown",
   "id": "8354cf49",
   "metadata": {},
   "source": [
    "### Average damage with  n repetitions  (e.g. Action Surge n=2), Advantage and Hex"
   ]
  },
  {
   "cell_type": "code",
   "execution_count": 226,
   "id": "b961dbaa",
   "metadata": {},
   "outputs": [],
   "source": [
    "n=2;"
   ]
  },
  {
   "cell_type": "code",
   "execution_count": 227,
   "id": "ee376abd",
   "metadata": {},
   "outputs": [],
   "source": [
    "TotalRays=n*Rays"
   ]
  },
  {
   "cell_type": "code",
   "execution_count": 228,
   "id": "16b6ce06",
   "metadata": {},
   "outputs": [
    {
     "data": {
      "text/plain": [
       "4"
      ]
     },
     "execution_count": 228,
     "metadata": {},
     "output_type": "execute_result"
    }
   ],
   "source": [
    "TotalRays"
   ]
  },
  {
   "cell_type": "code",
   "execution_count": 229,
   "id": "e6c54436",
   "metadata": {},
   "outputs": [],
   "source": [
    "TotalDamage=0"
   ]
  },
  {
   "cell_type": "code",
   "execution_count": 230,
   "id": "0ce3a934",
   "metadata": {},
   "outputs": [],
   "source": [
    "indexRay = 1\n",
    "while indexRay < (TotalRays+1):\n",
    "    TotalDamage+=scipy.stats.binom.pmf(indexRay,TotalRays,PrHitA)*indexRay*(AverageDamagePerRay+HexAverageDamage)+scipy.stats.binom.pmf(indexRay,TotalRays,CrititA)*indexRay*(AverageDamagePerRay+HexAverageDamage)\n",
    "    indexRay += 1"
   ]
  },
  {
   "cell_type": "code",
   "execution_count": 231,
   "id": "fae7ccf1",
   "metadata": {},
   "outputs": [
    {
     "data": {
      "text/plain": [
       "52.39"
      ]
     },
     "execution_count": 231,
     "metadata": {},
     "output_type": "execute_result"
    }
   ],
   "source": [
    "TotalDamage"
   ]
  },
  {
   "cell_type": "markdown",
   "id": "b655234b",
   "metadata": {},
   "source": [
    "#### Testing the function average_damage(repetitions,average_damage_per_hit,opponent_AC,modifiers,advantage,luck_point,elven_accuracy,hexblade_curse)"
   ]
  },
  {
   "cell_type": "code",
   "execution_count": 232,
   "id": "4236b2e3",
   "metadata": {},
   "outputs": [],
   "source": [
    "repetitions=4; oddbonus=0;average_damage_per_hit=AverageDamagePerRay+HexAverageDamage;opponent_AC=OAC;modifiers=SpellHit;advantage=1;luck_point=0;elven_accuracy=0;hexblade_curse=0"
   ]
  },
  {
   "cell_type": "code",
   "execution_count": 233,
   "id": "d2d4c58e",
   "metadata": {},
   "outputs": [
    {
     "data": {
      "text/plain": [
       "52.39"
      ]
     },
     "execution_count": 233,
     "metadata": {},
     "output_type": "execute_result"
    }
   ],
   "source": [
    "dndopt.average_damage(repetitions,average_damage_per_hit,opponent_AC,modifiers,oddbonus,advantage,luck_point,elven_accuracy,hexblade_curse)"
   ]
  },
  {
   "cell_type": "markdown",
   "id": "2749ce83",
   "metadata": {},
   "source": [
    "### Without Action surge, only advantage with two eldrich blast rays (repetitions=2)"
   ]
  },
  {
   "cell_type": "code",
   "execution_count": 234,
   "id": "159a7ba2",
   "metadata": {},
   "outputs": [],
   "source": [
    "repetitions=Rays;  oddbonus=0; average_damage_per_hit=AverageDamagePerRay+HexAverageDamage;opponent_AC=OAC;modifiers=SpellHit;advantage=1;luck_point=0;elven_accuracy=0;hexblade_curse=0"
   ]
  },
  {
   "cell_type": "code",
   "execution_count": 235,
   "id": "1e4fbf48",
   "metadata": {},
   "outputs": [
    {
     "data": {
      "text/plain": [
       "26.195"
      ]
     },
     "execution_count": 235,
     "metadata": {},
     "output_type": "execute_result"
    }
   ],
   "source": [
    "dndopt.average_damage(repetitions,average_damage_per_hit,opponent_AC,modifiers,oddbonus,advantage,luck_point,elven_accuracy,hexblade_curse)"
   ]
  },
  {
   "cell_type": "markdown",
   "id": "3ad8cf97",
   "metadata": {},
   "source": [
    "## Paladin built: calculate the damage of Melee (+1 weapon) + Hex + Green Flame Blade+ two Smites with Advantage"
   ]
  },
  {
   "cell_type": "markdown",
   "id": "f013697b",
   "metadata": {},
   "source": [
    "#### Magical +1 Long sword damage 1d8+1 (+4) + Green flame blade "
   ]
  },
  {
   "cell_type": "code",
   "execution_count": 238,
   "id": "733c0cb1",
   "metadata": {},
   "outputs": [],
   "source": [
    "WeaponAverageDamage=4.5+1+Modifiers[Abilities.index('STR')]+2*4.5+4"
   ]
  },
  {
   "cell_type": "code",
   "execution_count": 239,
   "id": "e7c9ddc9",
   "metadata": {},
   "outputs": [
    {
     "data": {
      "text/plain": [
       "22.5"
      ]
     },
     "execution_count": 239,
     "metadata": {},
     "output_type": "execute_result"
    }
   ],
   "source": [
    "WeaponAverageDamage"
   ]
  },
  {
   "cell_type": "code",
   "execution_count": 240,
   "id": "1ce22ae1",
   "metadata": {},
   "outputs": [],
   "source": [
    "PrHit= 1 -(OAC- MeleeHit -1)/20 "
   ]
  },
  {
   "cell_type": "code",
   "execution_count": 241,
   "id": "ceb20c1b",
   "metadata": {},
   "outputs": [
    {
     "data": {
      "text/plain": [
       "0.7"
      ]
     },
     "execution_count": 241,
     "metadata": {},
     "output_type": "execute_result"
    }
   ],
   "source": [
    "PrHit"
   ]
  },
  {
   "cell_type": "code",
   "execution_count": 242,
   "id": "dc90d53b",
   "metadata": {},
   "outputs": [],
   "source": [
    "PrMiss=1-PrHit"
   ]
  },
  {
   "cell_type": "code",
   "execution_count": 243,
   "id": "e3f80391",
   "metadata": {},
   "outputs": [],
   "source": [
    "Ad=2"
   ]
  },
  {
   "cell_type": "code",
   "execution_count": 244,
   "id": "38403f43",
   "metadata": {},
   "outputs": [],
   "source": [
    "PrHitAd=1-(PrMiss)**(Ad)"
   ]
  },
  {
   "cell_type": "code",
   "execution_count": 245,
   "id": "3cf7ac90",
   "metadata": {},
   "outputs": [
    {
     "data": {
      "text/plain": [
       "0.9099999999999999"
      ]
     },
     "execution_count": 245,
     "metadata": {},
     "output_type": "execute_result"
    }
   ],
   "source": [
    "PrHitAd"
   ]
  },
  {
   "cell_type": "markdown",
   "id": "1217cec8",
   "metadata": {},
   "source": [
    "#### Divine smite (3rd level slot) 4d8 average 4.5*4"
   ]
  },
  {
   "cell_type": "code",
   "execution_count": 246,
   "id": "29db0bb2",
   "metadata": {},
   "outputs": [],
   "source": [
    "Smite=4.5*4"
   ]
  },
  {
   "cell_type": "markdown",
   "id": "201060f4",
   "metadata": {},
   "source": [
    "#### bonus smite: I am assuming  searing smite and a celestial warlock's bonus to radient damage"
   ]
  },
  {
   "cell_type": "code",
   "execution_count": 247,
   "id": "82c10a1b",
   "metadata": {},
   "outputs": [],
   "source": [
    "BonusSmite=3*3.5+Modifiers[Abilities.index('CHA')]"
   ]
  },
  {
   "cell_type": "code",
   "execution_count": 248,
   "id": "2c0ba2ec",
   "metadata": {},
   "outputs": [
    {
     "data": {
      "text/plain": [
       "3.5"
      ]
     },
     "execution_count": 248,
     "metadata": {},
     "output_type": "execute_result"
    }
   ],
   "source": [
    "HexAverageDamage"
   ]
  },
  {
   "cell_type": "code",
   "execution_count": 249,
   "id": "e561678c",
   "metadata": {},
   "outputs": [],
   "source": [
    "TotalDamage= (WeaponAverageDamage+Smite+BonusSmite+HexAverageDamage)*PrHitAd+ (WeaponAverageDamage+Smite+BonusSmite+HexAverageDamage) *CrititA"
   ]
  },
  {
   "cell_type": "code",
   "execution_count": 250,
   "id": "dfee5cf5",
   "metadata": {},
   "outputs": [
    {
     "data": {
      "text/plain": [
       "58.93874999999999"
      ]
     },
     "execution_count": 250,
     "metadata": {},
     "output_type": "execute_result"
    }
   ],
   "source": [
    "TotalDamage"
   ]
  },
  {
   "cell_type": "markdown",
   "id": "a9c33e1b",
   "metadata": {},
   "source": [
    "#### Using the function average_damage(repetitions,average_damage_per_hit,opponent_AC,modifiers,advantage,luck_point,elven_accuracy,hexblade_curse)"
   ]
  },
  {
   "cell_type": "code",
   "execution_count": 251,
   "id": "17272f2d",
   "metadata": {},
   "outputs": [],
   "source": [
    "repetitions=1; oddbonus=0;average_damage_per_hit=WeaponAverageDamage+Smite+BonusSmite+HexAverageDamage;opponent_AC=OAC;modifiers=MeleeHit;advantage=1;luck_point=0;elven_accuracy=0;hexblade_curse=0"
   ]
  },
  {
   "cell_type": "code",
   "execution_count": 252,
   "id": "e3ed24fa",
   "metadata": {},
   "outputs": [
    {
     "data": {
      "text/plain": [
       "58.93875"
      ]
     },
     "execution_count": 252,
     "metadata": {},
     "output_type": "execute_result"
    }
   ],
   "source": [
    "dndopt.average_damage(repetitions,average_damage_per_hit,opponent_AC,modifiers,oddbonus,advantage,luck_point,elven_accuracy,hexblade_curse)"
   ]
  },
  {
   "cell_type": "markdown",
   "id": "c8289cb1",
   "metadata": {},
   "source": [
    "## Higher than the fighter but asks for the consumption of two spell slots of the highest level and that the characters casts first searing smite as bonus action. Slightly more complecated mechanics. Action surge will not consume spell slots."
   ]
  }
 ],
 "metadata": {
  "kernelspec": {
   "display_name": "Python 3 (ipykernel)",
   "language": "python",
   "name": "python3"
  },
  "language_info": {
   "codemirror_mode": {
    "name": "ipython",
    "version": 3
   },
   "file_extension": ".py",
   "mimetype": "text/x-python",
   "name": "python",
   "nbconvert_exporter": "python",
   "pygments_lexer": "ipython3",
   "version": "3.10.4"
  }
 },
 "nbformat": 4,
 "nbformat_minor": 5
}
