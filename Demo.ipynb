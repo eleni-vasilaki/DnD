{
 "cells": [
  {
   "cell_type": "markdown",
   "id": "a86772fa",
   "metadata": {},
   "source": [
    "# Demo of class Character, designed for optimizing DnD characters"
   ]
  },
  {
   "cell_type": "markdown",
   "id": "078491a0",
   "metadata": {},
   "source": [
    "### The code doesn't have sufficient checks, it is assuming you are entering sensible values. Might have bugs."
   ]
  },
  {
   "cell_type": "markdown",
   "id": "9500340b",
   "metadata": {},
   "source": [
    "#### I introduce a character level 8 (6 levels of walrock, 2 levels of Fighter). I use the code to estimate maximum average damage."
   ]
  },
  {
   "cell_type": "markdown",
   "id": "704c3318",
   "metadata": {},
   "source": [
    "### The command below imports DnD-optimisation. It contains the definition of class Character, as well as three simple functions that are similar to the class methods, but can be used without defining a class. For examples of using the simple functions please see the \"Character Optimisation\" notebook. It is a lot messier, but it explains the logic behind the formulae and compares the functions with results from detailed \"in cell\" calculations."
   ]
  },
  {
   "cell_type": "code",
   "execution_count": 1,
   "id": "f2b32b0c",
   "metadata": {},
   "outputs": [],
   "source": [
    "import dnd_optimisation as dndopt # this is a python file containing the calcuations for critical hits"
   ]
  },
  {
   "cell_type": "markdown",
   "id": "0f5be539",
   "metadata": {},
   "source": [
    "### The following is imported so I can reload dnd_optimisation in case I am making on the fly changes."
   ]
  },
  {
   "cell_type": "code",
   "execution_count": 2,
   "id": "c09b10bb",
   "metadata": {},
   "outputs": [],
   "source": [
    "import importlib "
   ]
  },
  {
   "cell_type": "markdown",
   "id": "fb067e95",
   "metadata": {},
   "source": [
    "### I can use the following command to reload."
   ]
  },
  {
   "cell_type": "code",
   "execution_count": 3,
   "id": "70e4b256",
   "metadata": {},
   "outputs": [
    {
     "data": {
      "text/plain": [
       "<module 'dnd_optimisation' from '/Users/eleni/Python Scripts/DnD/dnd_optimisation.py'>"
      ]
     },
     "execution_count": 3,
     "metadata": {},
     "output_type": "execute_result"
    }
   ],
   "source": [
    "importlib.reload(dndopt)"
   ]
  },
  {
   "cell_type": "markdown",
   "id": "3ecc37be",
   "metadata": {},
   "source": [
    "## Character definition"
   ]
  },
  {
   "cell_type": "markdown",
   "id": "f6b4ed9c",
   "metadata": {},
   "source": [
    "### I define a Character named Promytheas. The parameters correspond to STR, DEX, CON, INT, WIS, CHA."
   ]
  },
  {
   "cell_type": "code",
   "execution_count": 4,
   "id": "fb5e2e4f",
   "metadata": {},
   "outputs": [],
   "source": [
    "Promytheas=dndopt.Character(19, 14, 12, 16, 8, 18)"
   ]
  },
  {
   "cell_type": "markdown",
   "id": "784569c5",
   "metadata": {},
   "source": [
    "### It will store the numbers into appropriate attributes and calculate the modifiers."
   ]
  },
  {
   "cell_type": "code",
   "execution_count": 5,
   "id": "ec7b6ee7",
   "metadata": {},
   "outputs": [
    {
     "data": {
      "text/plain": [
       "array([19, 14, 12, 16,  8, 18])"
      ]
     },
     "execution_count": 5,
     "metadata": {},
     "output_type": "execute_result"
    }
   ],
   "source": [
    "Promytheas.ability_score"
   ]
  },
  {
   "cell_type": "code",
   "execution_count": 6,
   "id": "6a262efa",
   "metadata": {},
   "outputs": [
    {
     "data": {
      "text/plain": [
       "['STR', 'DEX', 'CON', 'INT', 'WIS', 'CHA']"
      ]
     },
     "execution_count": 6,
     "metadata": {},
     "output_type": "execute_result"
    }
   ],
   "source": [
    "Promytheas.ability"
   ]
  },
  {
   "cell_type": "code",
   "execution_count": 7,
   "id": "2b9f8928",
   "metadata": {},
   "outputs": [
    {
     "data": {
      "text/plain": [
       "array([ 4.,  2.,  1.,  3., -1.,  4.])"
      ]
     },
     "execution_count": 7,
     "metadata": {},
     "output_type": "execute_result"
    }
   ],
   "source": [
    "Promytheas.modifier"
   ]
  },
  {
   "cell_type": "markdown",
   "id": "9156f5e4",
   "metadata": {},
   "source": [
    "#### Note: The Character owns a magical object that increases STR"
   ]
  },
  {
   "cell_type": "markdown",
   "id": "db68af7f",
   "metadata": {},
   "source": [
    "### I set the total level of the Character. In this case, he will be 6 Levels of warlock and 2 levels fighter (for Action surge)."
   ]
  },
  {
   "cell_type": "code",
   "execution_count": 8,
   "id": "28342ee5",
   "metadata": {},
   "outputs": [],
   "source": [
    "Promytheas.set_level(8)"
   ]
  },
  {
   "cell_type": "code",
   "execution_count": 9,
   "id": "617b77f4",
   "metadata": {},
   "outputs": [
    {
     "data": {
      "text/plain": [
       "8"
      ]
     },
     "execution_count": 9,
     "metadata": {},
     "output_type": "execute_result"
    }
   ],
   "source": [
    "Promytheas.level"
   ]
  },
  {
   "cell_type": "markdown",
   "id": "1edf17f3",
   "metadata": {},
   "source": [
    "### It will automatically calculate the proficiency bonus."
   ]
  },
  {
   "cell_type": "code",
   "execution_count": 10,
   "id": "942cc622",
   "metadata": {},
   "outputs": [
    {
     "data": {
      "text/plain": [
       "3.0"
      ]
     },
     "execution_count": 10,
     "metadata": {},
     "output_type": "execute_result"
    }
   ],
   "source": [
    "Promytheas.proficiency_bonus"
   ]
  },
  {
   "cell_type": "markdown",
   "id": "7e2aefa5",
   "metadata": {},
   "source": [
    "### There is a method to obtain the ability scores of the Character."
   ]
  },
  {
   "cell_type": "code",
   "execution_count": 11,
   "id": "f0b2bcf0",
   "metadata": {},
   "outputs": [
    {
     "data": {
      "text/plain": [
       "19"
      ]
     },
     "execution_count": 11,
     "metadata": {},
     "output_type": "execute_result"
    }
   ],
   "source": [
    "Promytheas.get_ability_score(\"STR\")"
   ]
  },
  {
   "cell_type": "code",
   "execution_count": 12,
   "id": "8a45fa60",
   "metadata": {},
   "outputs": [
    {
     "data": {
      "text/plain": [
       "18"
      ]
     },
     "execution_count": 12,
     "metadata": {},
     "output_type": "execute_result"
    }
   ],
   "source": [
    "Promytheas.get_ability_score(\"CHA\")"
   ]
  },
  {
   "cell_type": "markdown",
   "id": "f8661be0",
   "metadata": {},
   "source": [
    "### There is a method to get the ability modifiers."
   ]
  },
  {
   "cell_type": "code",
   "execution_count": 13,
   "id": "bf71316f",
   "metadata": {},
   "outputs": [
    {
     "data": {
      "text/plain": [
       "4.0"
      ]
     },
     "execution_count": 13,
     "metadata": {},
     "output_type": "execute_result"
    }
   ],
   "source": [
    "Promytheas.get_ability_modifier(\"CHA\")"
   ]
  },
  {
   "cell_type": "markdown",
   "id": "b9d62fcf",
   "metadata": {},
   "source": [
    "### A key element for calculating NOVA damage is whether the Character has advantage, Elven accuracy etc. This affects the probability of a critical hit. I can set these and calculate the probability of a hit with the following method. The paprmeters correspond to whether the Character has advantage, luck point, Elven accuracy ar hexblade curse (in this order). The expected parameter is 0 for the absence of the element and 1 for the presence."
   ]
  },
  {
   "cell_type": "code",
   "execution_count": 14,
   "id": "4170d958",
   "metadata": {},
   "outputs": [],
   "source": [
    "Promytheas.set_advantages(0,0,0,0)"
   ]
  },
  {
   "cell_type": "code",
   "execution_count": 15,
   "id": "a4ff06c8",
   "metadata": {},
   "outputs": [
    {
     "data": {
      "text/plain": [
       "0.05"
      ]
     },
     "execution_count": 15,
     "metadata": {},
     "output_type": "execute_result"
    }
   ],
   "source": [
    "Promytheas.critit"
   ]
  },
  {
   "cell_type": "code",
   "execution_count": 16,
   "id": "8dbe1a9d",
   "metadata": {},
   "outputs": [],
   "source": [
    "Promytheas.set_advantages(1,0,0,0)"
   ]
  },
  {
   "cell_type": "code",
   "execution_count": 17,
   "id": "699a83c8",
   "metadata": {},
   "outputs": [
    {
     "data": {
      "text/plain": [
       "True"
      ]
     },
     "execution_count": 17,
     "metadata": {},
     "output_type": "execute_result"
    }
   ],
   "source": [
    "Promytheas.advantage"
   ]
  },
  {
   "cell_type": "code",
   "execution_count": 18,
   "id": "ba7e612b",
   "metadata": {},
   "outputs": [
    {
     "data": {
      "text/plain": [
       "False"
      ]
     },
     "execution_count": 18,
     "metadata": {},
     "output_type": "execute_result"
    }
   ],
   "source": [
    "Promytheas.luck_point"
   ]
  },
  {
   "cell_type": "code",
   "execution_count": 19,
   "id": "b2f2566a",
   "metadata": {},
   "outputs": [
    {
     "data": {
      "text/plain": [
       "False"
      ]
     },
     "execution_count": 19,
     "metadata": {},
     "output_type": "execute_result"
    }
   ],
   "source": [
    "Promytheas.elven_accuracy"
   ]
  },
  {
   "cell_type": "code",
   "execution_count": 20,
   "id": "410768db",
   "metadata": {},
   "outputs": [
    {
     "data": {
      "text/plain": [
       "False"
      ]
     },
     "execution_count": 20,
     "metadata": {},
     "output_type": "execute_result"
    }
   ],
   "source": [
    "Promytheas.hexblade_curse"
   ]
  },
  {
   "cell_type": "code",
   "execution_count": 21,
   "id": "2c63751a",
   "metadata": {},
   "outputs": [
    {
     "data": {
      "text/plain": [
       "0.0975"
      ]
     },
     "execution_count": 21,
     "metadata": {},
     "output_type": "execute_result"
    }
   ],
   "source": [
    "Promytheas.critit"
   ]
  },
  {
   "cell_type": "markdown",
   "id": "7c7646c8",
   "metadata": {},
   "source": [
    "### I am going to setup the Eldrich Blast spell. The first parameter is 1 or 0 depending if the character has the spell or not, the second is the maximum eldich blast die (for 1d10 enter 10), the third is 1 or 0 depending if agonising blast is available and the fourth is any eldritch blast  bonus (e.g. +1 for Rod of the pact keeper)."
   ]
  },
  {
   "cell_type": "code",
   "execution_count": 22,
   "id": "eb2f6013",
   "metadata": {},
   "outputs": [],
   "source": [
    "Promytheas.set_eldritch_blast_spell(1,10,1,1)"
   ]
  },
  {
   "cell_type": "code",
   "execution_count": 23,
   "id": "843687f8",
   "metadata": {},
   "outputs": [
    {
     "data": {
      "text/plain": [
       "True"
      ]
     },
     "execution_count": 23,
     "metadata": {},
     "output_type": "execute_result"
    }
   ],
   "source": [
    "Promytheas.eldritch_blast"
   ]
  },
  {
   "cell_type": "code",
   "execution_count": 24,
   "id": "bdbe5fcb",
   "metadata": {},
   "outputs": [
    {
     "data": {
      "text/plain": [
       "2"
      ]
     },
     "execution_count": 24,
     "metadata": {},
     "output_type": "execute_result"
    }
   ],
   "source": [
    "Promytheas.eldritch_blast_beams"
   ]
  },
  {
   "cell_type": "code",
   "execution_count": 25,
   "id": "879ec195",
   "metadata": {},
   "outputs": [
    {
     "data": {
      "text/plain": [
       "1"
      ]
     },
     "execution_count": 25,
     "metadata": {},
     "output_type": "execute_result"
    }
   ],
   "source": [
    "Promytheas.eldritch_blast_hit_bonus"
   ]
  },
  {
   "cell_type": "code",
   "execution_count": 26,
   "id": "a9095146",
   "metadata": {},
   "outputs": [
    {
     "data": {
      "text/plain": [
       "5.5"
      ]
     },
     "execution_count": 26,
     "metadata": {},
     "output_type": "execute_result"
    }
   ],
   "source": [
    "Promytheas.eldritch_blast_mean_damage"
   ]
  },
  {
   "cell_type": "code",
   "execution_count": 27,
   "id": "fbb4734c",
   "metadata": {},
   "outputs": [
    {
     "data": {
      "text/plain": [
       "4.0"
      ]
     },
     "execution_count": 27,
     "metadata": {},
     "output_type": "execute_result"
    }
   ],
   "source": [
    "Promytheas.eldritch_blast_damage_modifier"
   ]
  },
  {
   "cell_type": "code",
   "execution_count": 28,
   "id": "5652b49c",
   "metadata": {},
   "outputs": [
    {
     "data": {
      "text/plain": [
       "8.0"
      ]
     },
     "execution_count": 28,
     "metadata": {},
     "output_type": "execute_result"
    }
   ],
   "source": [
    "Promytheas.eldritch_blast_hit"
   ]
  },
  {
   "cell_type": "markdown",
   "id": "7b524ecd",
   "metadata": {},
   "source": [
    "### It is possible to set the average damage of the Hex and Spirit Shroud spells. This is for convenience, since they have fixed values. Parameter is 1 if the spell is present and 0 if it is absent."
   ]
  },
  {
   "cell_type": "code",
   "execution_count": 29,
   "id": "268d228a",
   "metadata": {},
   "outputs": [],
   "source": [
    "Promytheas.set_hex_spell(1)"
   ]
  },
  {
   "cell_type": "code",
   "execution_count": 30,
   "id": "ee5340c9",
   "metadata": {},
   "outputs": [
    {
     "data": {
      "text/plain": [
       "3.5"
      ]
     },
     "execution_count": 30,
     "metadata": {},
     "output_type": "execute_result"
    }
   ],
   "source": [
    "Promytheas.hex"
   ]
  },
  {
   "cell_type": "code",
   "execution_count": 31,
   "id": "4ce655ed",
   "metadata": {},
   "outputs": [],
   "source": [
    "Promytheas.set_spirit_shroud_spell(1)"
   ]
  },
  {
   "cell_type": "code",
   "execution_count": 32,
   "id": "ba4b99cb",
   "metadata": {},
   "outputs": [
    {
     "data": {
      "text/plain": [
       "4.5"
      ]
     },
     "execution_count": 32,
     "metadata": {},
     "output_type": "execute_result"
    }
   ],
   "source": [
    "Promytheas.spirit_shroud"
   ]
  },
  {
   "cell_type": "markdown",
   "id": "5300b93c",
   "metadata": {},
   "source": [
    "### The following method calculates the probability of hitting an opponent with Armour Class (AC) 15. It takes as first argument the opponent AC and as second any modifiers available to the character. These for the Eldritch Blast spell are stored in Promytheas.eldritch_blast_hit. I have previously enabled advantage via the advantages method."
   ]
  },
  {
   "cell_type": "code",
   "execution_count": 33,
   "id": "66fa35ac",
   "metadata": {},
   "outputs": [
    {
     "data": {
      "text/plain": [
       "True"
      ]
     },
     "execution_count": 33,
     "metadata": {},
     "output_type": "execute_result"
    }
   ],
   "source": [
    "Promytheas.advantage"
   ]
  },
  {
   "cell_type": "code",
   "execution_count": 34,
   "id": "8cd4144c",
   "metadata": {},
   "outputs": [],
   "source": [
    "AC=17"
   ]
  },
  {
   "cell_type": "code",
   "execution_count": 35,
   "id": "725414ad",
   "metadata": {},
   "outputs": [
    {
     "data": {
      "text/plain": [
       "0.84"
      ]
     },
     "execution_count": 35,
     "metadata": {},
     "output_type": "execute_result"
    }
   ],
   "source": [
    "Promytheas.hit_opponent_probability(AC,Promytheas.eldritch_blast_hit)"
   ]
  },
  {
   "cell_type": "markdown",
   "id": "8f54a35b",
   "metadata": {},
   "source": [
    "### This is significantly higher than the probability to hit without advantage."
   ]
  },
  {
   "cell_type": "code",
   "execution_count": 36,
   "id": "f09f90e8",
   "metadata": {},
   "outputs": [],
   "source": [
    "Promytheas.set_advantages(0,0,0,0)"
   ]
  },
  {
   "cell_type": "code",
   "execution_count": 37,
   "id": "80536e13",
   "metadata": {},
   "outputs": [
    {
     "data": {
      "text/plain": [
       "0.6"
      ]
     },
     "execution_count": 37,
     "metadata": {},
     "output_type": "execute_result"
    }
   ],
   "source": [
    "Promytheas.hit_opponent_probability(AC,Promytheas.eldritch_blast_hit)"
   ]
  },
  {
   "cell_type": "markdown",
   "id": "f4601c95",
   "metadata": {},
   "source": [
    "### The following calculates the average damage the character can do to an opponent, when using Eldritch Blast. It takes as arguments the opponent AC, the +Hit modifier, the repetitions (e.g. two beams) and the mean damage of the hit and the modifiers. "
   ]
  },
  {
   "cell_type": "markdown",
   "id": "05b2f37d",
   "metadata": {},
   "source": [
    "#### total_average_damage(opponent_AC=1,modifiers=0,repetitions=1,average_damage_per_hit=0,damage_modifiers=0)"
   ]
  },
  {
   "cell_type": "code",
   "execution_count": 38,
   "id": "8a16b004",
   "metadata": {},
   "outputs": [
    {
     "data": {
      "text/plain": [
       "11.95"
      ]
     },
     "execution_count": 38,
     "metadata": {},
     "output_type": "execute_result"
    }
   ],
   "source": [
    "Promytheas.total_average_damage(AC,Promytheas.eldritch_blast_hit,2,Promytheas.eldritch_blast_mean_damage,Promytheas.eldritch_blast_damage_modifier)"
   ]
  },
  {
   "cell_type": "markdown",
   "id": "306378b7",
   "metadata": {},
   "source": [
    "### It slightly improves if I add Hex"
   ]
  },
  {
   "cell_type": "code",
   "execution_count": 39,
   "id": "8efcd48f",
   "metadata": {},
   "outputs": [
    {
     "data": {
      "text/plain": [
       "16.5"
      ]
     },
     "execution_count": 39,
     "metadata": {},
     "output_type": "execute_result"
    }
   ],
   "source": [
    "Promytheas.total_average_damage(AC,Promytheas.eldritch_blast_hit,2,Promytheas.eldritch_blast_mean_damage+Promytheas.hex,Promytheas.eldritch_blast_damage_modifier)"
   ]
  },
  {
   "cell_type": "markdown",
   "id": "68f462cc",
   "metadata": {},
   "source": [
    "### It is not very impressive. It increases if we make use of the quickened spell (feat or multi- class with Sorcerer) or action surge (multi-class with Fighter). Because it is a Tiefling, it can also cast Darkness once per long rest. The Character can also see through magic darkness, which means that once per long rest, it is possible to have advantage by casting Darkness on themselves. I cannot cast Hex as it requires concentration, and so does Darkness."
   ]
  },
  {
   "cell_type": "code",
   "execution_count": 40,
   "id": "5551fc47",
   "metadata": {},
   "outputs": [],
   "source": [
    "Promytheas.set_advantages(1,0,0,0)"
   ]
  },
  {
   "cell_type": "code",
   "execution_count": 41,
   "id": "62f89993",
   "metadata": {},
   "outputs": [
    {
     "data": {
      "text/plain": [
       "34.065"
      ]
     },
     "execution_count": 41,
     "metadata": {},
     "output_type": "execute_result"
    }
   ],
   "source": [
    "Promytheas.total_average_damage(AC,Promytheas.eldritch_blast_hit,4,Promytheas.eldritch_blast_mean_damage,Promytheas.eldritch_blast_damage_modifier)"
   ]
  },
  {
   "cell_type": "markdown",
   "id": "89fdd423",
   "metadata": {},
   "source": [
    "### Without action surge"
   ]
  },
  {
   "cell_type": "code",
   "execution_count": 42,
   "id": "2422c455",
   "metadata": {},
   "outputs": [
    {
     "data": {
      "text/plain": [
       "17.0325"
      ]
     },
     "execution_count": 42,
     "metadata": {},
     "output_type": "execute_result"
    }
   ],
   "source": [
    "Promytheas.total_average_damage(AC,Promytheas.eldritch_blast_hit,2,Promytheas.eldritch_blast_mean_damage,Promytheas.eldritch_blast_damage_modifier)"
   ]
  },
  {
   "cell_type": "markdown",
   "id": "3c96d5bc",
   "metadata": {},
   "source": [
    "### Dagger +1 , green flame blade, quickened spell (or action surge), advantage"
   ]
  },
  {
   "cell_type": "code",
   "execution_count": 43,
   "id": "377836c1",
   "metadata": {},
   "outputs": [],
   "source": [
    "average_damage=2.5+2*4.5"
   ]
  },
  {
   "cell_type": "code",
   "execution_count": 44,
   "id": "dca778d0",
   "metadata": {},
   "outputs": [],
   "source": [
    "damage_modifiers=9"
   ]
  },
  {
   "cell_type": "code",
   "execution_count": 45,
   "id": "bd5b1499",
   "metadata": {},
   "outputs": [],
   "source": [
    "Promytheas.set_weapon(\"STR\",1,average_damage,damage_modifiers)"
   ]
  },
  {
   "cell_type": "code",
   "execution_count": 46,
   "id": "2740f15c",
   "metadata": {},
   "outputs": [
    {
     "data": {
      "text/plain": [
       "8.0"
      ]
     },
     "execution_count": 46,
     "metadata": {},
     "output_type": "execute_result"
    }
   ],
   "source": [
    "Promytheas.weapon_hit"
   ]
  },
  {
   "cell_type": "code",
   "execution_count": 47,
   "id": "b369f0e0",
   "metadata": {},
   "outputs": [
    {
     "data": {
      "text/plain": [
       "36.6825"
      ]
     },
     "execution_count": 47,
     "metadata": {},
     "output_type": "execute_result"
    }
   ],
   "source": [
    "Promytheas.total_average_damage(AC,Promytheas.weapon_hit,2,Promytheas.weapon_average_damage,Promytheas.weapon_damage_modifiers)"
   ]
  },
  {
   "cell_type": "markdown",
   "id": "efd948ab",
   "metadata": {},
   "source": [
    "### Action surge (or quickened spell), no advantage, using spirit shroud (c)"
   ]
  },
  {
   "cell_type": "code",
   "execution_count": 48,
   "id": "232cf0cf",
   "metadata": {},
   "outputs": [],
   "source": [
    "Promytheas.set_advantages(0,0,0,0)"
   ]
  },
  {
   "cell_type": "code",
   "execution_count": 49,
   "id": "3a8ae4b9",
   "metadata": {},
   "outputs": [
    {
     "data": {
      "text/plain": [
       "35.6"
      ]
     },
     "execution_count": 49,
     "metadata": {},
     "output_type": "execute_result"
    }
   ],
   "source": [
    "Promytheas.total_average_damage(AC,Promytheas.eldritch_blast_hit,4,Promytheas.eldritch_blast_mean_damage+Promytheas.spirit_shroud,Promytheas.eldritch_blast_damage_modifier)"
   ]
  },
  {
   "cell_type": "markdown",
   "id": "17aa541e",
   "metadata": {},
   "source": [
    "### Quickened spell, no advantage, using Hex"
   ]
  },
  {
   "cell_type": "code",
   "execution_count": 50,
   "id": "6778d97b",
   "metadata": {},
   "outputs": [
    {
     "data": {
      "text/plain": [
       "33.0"
      ]
     },
     "execution_count": 50,
     "metadata": {},
     "output_type": "execute_result"
    }
   ],
   "source": [
    "Promytheas.total_average_damage(AC,Promytheas.eldritch_blast_hit,4,Promytheas.eldritch_blast_mean_damage+Promytheas.hex,Promytheas.eldritch_blast_damage_modifier)"
   ]
  },
  {
   "cell_type": "markdown",
   "id": "aa2c4827",
   "metadata": {},
   "source": [
    "### If the Character is a Celestial Warlock, since spirit shroud gives radiant damage, they can add the charisma modifier to the damage of one spell, and with action surge the character has damage:"
   ]
  },
  {
   "cell_type": "code",
   "execution_count": 51,
   "id": "34992396",
   "metadata": {},
   "outputs": [
    {
     "data": {
      "text/plain": [
       "40.8"
      ]
     },
     "execution_count": 51,
     "metadata": {},
     "output_type": "execute_result"
    }
   ],
   "source": [
    "Promytheas.total_average_damage(AC,Promytheas.eldritch_blast_hit,4,Promytheas.eldritch_blast_mean_damage+Promytheas.spirit_shroud+Promytheas.get_ability_modifier(\"CHA\")/2,Promytheas.eldritch_blast_damage_modifier)"
   ]
  },
  {
   "cell_type": "markdown",
   "id": "96913ac3",
   "metadata": {},
   "source": [
    "#### I added half Charisma modifier since the bonus will be added only to one of the two beams."
   ]
  },
  {
   "cell_type": "markdown",
   "id": "8cf3a4d5",
   "metadata": {},
   "source": [
    "### Calculating the damage of a 9th level warlock"
   ]
  },
  {
   "cell_type": "code",
   "execution_count": 52,
   "id": "4b72f4f6",
   "metadata": {},
   "outputs": [],
   "source": [
    "Promytheas=dndopt.Character(19, 14, 12, 16, 8, 20)"
   ]
  },
  {
   "cell_type": "code",
   "execution_count": 53,
   "id": "18535c3d",
   "metadata": {},
   "outputs": [],
   "source": [
    "Promytheas.set_level(9)"
   ]
  },
  {
   "cell_type": "code",
   "execution_count": 54,
   "id": "50b37f79",
   "metadata": {},
   "outputs": [],
   "source": [
    "Promytheas.set_eldritch_blast_spell(1,10,1,1)"
   ]
  },
  {
   "cell_type": "code",
   "execution_count": 55,
   "id": "10ace24c",
   "metadata": {},
   "outputs": [
    {
     "data": {
      "text/plain": [
       "10.0"
      ]
     },
     "execution_count": 55,
     "metadata": {},
     "output_type": "execute_result"
    }
   ],
   "source": [
    "Promytheas.eldritch_blast_hit"
   ]
  },
  {
   "cell_type": "markdown",
   "id": "dfbe8755",
   "metadata": {},
   "source": [
    "#### Summon fey (Fuming) at 7 warlock level (4th level spell slot)"
   ]
  },
  {
   "cell_type": "code",
   "execution_count": 56,
   "id": "f1a7d33d",
   "metadata": {},
   "outputs": [],
   "source": [
    "Promytheas.set_advantages(1,0,0,0)"
   ]
  },
  {
   "cell_type": "code",
   "execution_count": 57,
   "id": "5c27ae1f",
   "metadata": {},
   "outputs": [],
   "source": [
    "summon_fey_damage=Promytheas.total_average_damage(AC,Promytheas.eldritch_blast_hit,2,7,7)"
   ]
  },
  {
   "cell_type": "code",
   "execution_count": 58,
   "id": "282b6213",
   "metadata": {},
   "outputs": [
    {
     "data": {
      "text/plain": [
       "26.845"
      ]
     },
     "execution_count": 58,
     "metadata": {},
     "output_type": "execute_result"
    }
   ],
   "source": [
    "summon_fey_damage"
   ]
  },
  {
   "cell_type": "markdown",
   "id": "1f3f0824",
   "metadata": {},
   "source": [
    "#### Fireball with 4th level spell slot"
   ]
  },
  {
   "cell_type": "code",
   "execution_count": 59,
   "id": "ec5b59e0",
   "metadata": {},
   "outputs": [],
   "source": [
    "Promytheas.set_advantages(0,0,0,0)"
   ]
  },
  {
   "cell_type": "code",
   "execution_count": 60,
   "id": "234f1d24",
   "metadata": {},
   "outputs": [],
   "source": [
    "Promytheas.set_probability_of_successful_casting(16,2)"
   ]
  },
  {
   "cell_type": "code",
   "execution_count": 61,
   "id": "60549d43",
   "metadata": {},
   "outputs": [
    {
     "data": {
      "text/plain": [
       "0.65"
      ]
     },
     "execution_count": 61,
     "metadata": {},
     "output_type": "execute_result"
    }
   ],
   "source": [
    "Promytheas.probability_of_successful_casting"
   ]
  },
  {
   "cell_type": "code",
   "execution_count": 62,
   "id": "6a508112",
   "metadata": {},
   "outputs": [],
   "source": [
    "fireball_damage=Promytheas.probability_of_successful_casting*3.5*9+(1-Promytheas.probability_of_successful_casting)*3.5*9*0.5"
   ]
  },
  {
   "cell_type": "code",
   "execution_count": 63,
   "id": "87864008",
   "metadata": {},
   "outputs": [
    {
     "data": {
      "text/plain": [
       "25.987499999999997"
      ]
     },
     "execution_count": 63,
     "metadata": {},
     "output_type": "execute_result"
    }
   ],
   "source": [
    "fireball_damage"
   ]
  },
  {
   "cell_type": "markdown",
   "id": "6748d2c8",
   "metadata": {},
   "source": [
    "#### Eldritch blast damage"
   ]
  },
  {
   "cell_type": "code",
   "execution_count": 64,
   "id": "b4bf31f9",
   "metadata": {},
   "outputs": [],
   "source": [
    "eldrich_blast_damage=Promytheas.total_average_damage(AC,Promytheas.eldritch_blast_hit,2,Promytheas.eldritch_blast_mean_damage,Promytheas.eldritch_blast_damage_modifier)"
   ]
  },
  {
   "cell_type": "code",
   "execution_count": 65,
   "id": "7ace8a64",
   "metadata": {},
   "outputs": [
    {
     "data": {
      "text/plain": [
       "15.25"
      ]
     },
     "execution_count": 65,
     "metadata": {},
     "output_type": "execute_result"
    }
   ],
   "source": [
    "eldrich_blast_damage"
   ]
  },
  {
   "cell_type": "markdown",
   "id": "a4314fe8",
   "metadata": {},
   "source": [
    "#### NOVA damage"
   ]
  },
  {
   "cell_type": "code",
   "execution_count": 66,
   "id": "6af2c6af",
   "metadata": {},
   "outputs": [
    {
     "data": {
      "text/plain": [
       "52.832499999999996"
      ]
     },
     "execution_count": 66,
     "metadata": {},
     "output_type": "execute_result"
    }
   ],
   "source": [
    "summon_fey_damage+fireball_damage"
   ]
  },
  {
   "cell_type": "markdown",
   "id": "5b1cc58e",
   "metadata": {},
   "source": [
    "#### Sustainable damage"
   ]
  },
  {
   "cell_type": "code",
   "execution_count": 67,
   "id": "8e9ca270",
   "metadata": {},
   "outputs": [
    {
     "data": {
      "text/plain": [
       "42.095"
      ]
     },
     "execution_count": 67,
     "metadata": {},
     "output_type": "execute_result"
    }
   ],
   "source": [
    "summon_fey_damage+eldrich_blast_damage"
   ]
  },
  {
   "cell_type": "markdown",
   "id": "a4823752",
   "metadata": {},
   "source": [
    "### Adding to 2 levels of fighter to the 7th level worlock"
   ]
  },
  {
   "cell_type": "code",
   "execution_count": 68,
   "id": "859379a0",
   "metadata": {},
   "outputs": [],
   "source": [
    "Promytheas=dndopt.Character(19, 14, 12, 16, 8, 18)"
   ]
  },
  {
   "cell_type": "code",
   "execution_count": 69,
   "id": "bd5d7423",
   "metadata": {},
   "outputs": [],
   "source": [
    "Promytheas.set_level(9)"
   ]
  },
  {
   "cell_type": "code",
   "execution_count": 70,
   "id": "98d6f241",
   "metadata": {},
   "outputs": [],
   "source": [
    "Promytheas.set_eldritch_blast_spell(1,10,1,1)"
   ]
  },
  {
   "cell_type": "code",
   "execution_count": 71,
   "id": "0faec57c",
   "metadata": {},
   "outputs": [],
   "source": [
    "Promytheas.set_advantages(0,0,0,0)"
   ]
  },
  {
   "cell_type": "code",
   "execution_count": 72,
   "id": "8531bbfd",
   "metadata": {},
   "outputs": [],
   "source": [
    "eldrich_blast_damage=Promytheas.total_average_damage(AC,Promytheas.eldritch_blast_hit,2,Promytheas.eldritch_blast_mean_damage,Promytheas.eldritch_blast_damage_modifier)"
   ]
  },
  {
   "cell_type": "code",
   "execution_count": 73,
   "id": "de582adc",
   "metadata": {},
   "outputs": [
    {
     "data": {
      "text/plain": [
       "12.9"
      ]
     },
     "execution_count": 73,
     "metadata": {},
     "output_type": "execute_result"
    }
   ],
   "source": [
    "eldrich_blast_damage"
   ]
  },
  {
   "cell_type": "markdown",
   "id": "8a5aa09a",
   "metadata": {},
   "source": [
    "#### NOVA damage:"
   ]
  },
  {
   "cell_type": "code",
   "execution_count": 74,
   "id": "c84378f0",
   "metadata": {},
   "outputs": [
    {
     "data": {
      "text/plain": [
       "65.73249999999999"
      ]
     },
     "execution_count": 74,
     "metadata": {},
     "output_type": "execute_result"
    }
   ],
   "source": [
    "fireball_damage+eldrich_blast_damage+summon_fey_damage"
   ]
  },
  {
   "cell_type": "markdown",
   "id": "fb55d12c",
   "metadata": {},
   "source": [
    "#### Sustainable damage"
   ]
  },
  {
   "cell_type": "code",
   "execution_count": 75,
   "id": "d8230d5c",
   "metadata": {},
   "outputs": [
    {
     "data": {
      "text/plain": [
       "39.745"
      ]
     },
     "execution_count": 75,
     "metadata": {},
     "output_type": "execute_result"
    }
   ],
   "source": [
    "summon_fey_damage+eldrich_blast_damage"
   ]
  },
  {
   "cell_type": "code",
   "execution_count": null,
   "id": "895da2c1",
   "metadata": {},
   "outputs": [],
   "source": []
  }
 ],
 "metadata": {
  "kernelspec": {
   "display_name": "Python 3 (ipykernel)",
   "language": "python",
   "name": "python3"
  },
  "language_info": {
   "codemirror_mode": {
    "name": "ipython",
    "version": 3
   },
   "file_extension": ".py",
   "mimetype": "text/x-python",
   "name": "python",
   "nbconvert_exporter": "python",
   "pygments_lexer": "ipython3",
   "version": "3.10.4"
  }
 },
 "nbformat": 4,
 "nbformat_minor": 5
}
