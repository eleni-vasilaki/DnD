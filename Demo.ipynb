{
 "cells": [
  {
   "cell_type": "markdown",
   "id": "18f80898",
   "metadata": {},
   "source": [
    "# Demo of class Character, designed for optimizing DnD characters"
   ]
  },
  {
   "cell_type": "markdown",
   "id": "be2680ef",
   "metadata": {},
   "source": [
    "### The code doesn't have sufficient checks, it is assuming you are entering sensible values. Might have bugs."
   ]
  },
  {
   "cell_type": "markdown",
   "id": "2e2fbf7b",
   "metadata": {},
   "source": [
    "#### I introduce a character level 8 (6 levels of walrock, 2 levels of Fighter). I use the code to estimate maximum average damage."
   ]
  },
  {
   "cell_type": "markdown",
   "id": "8b39d03d",
   "metadata": {},
   "source": [
    "### The command below imports DnD-optimisation. It contains the definition of class Character, as well as three simple functions that are similar to the class methods, but can be used without defining a class. For examples of using the simple functions please see the \"Character Optimisation\" notebook. It is a lot messier, but it explains the logic behind the formulae and compares the functions with results from detailed \"in cell\" calculations."
   ]
  },
  {
   "cell_type": "code",
   "execution_count": 1,
   "id": "f91ff2e3",
   "metadata": {},
   "outputs": [],
   "source": [
    "import dnd_optimisation as dndopt # this is a python file containing the calcuations for critical hits"
   ]
  },
  {
   "cell_type": "markdown",
   "id": "393b88ec",
   "metadata": {},
   "source": [
    "### The following is imported so I can reload dnd_optimisation in case I am making on the fly changes."
   ]
  },
  {
   "cell_type": "code",
   "execution_count": 2,
   "id": "977574b2",
   "metadata": {},
   "outputs": [],
   "source": [
    "import importlib "
   ]
  },
  {
   "cell_type": "markdown",
   "id": "dd9699b5",
   "metadata": {},
   "source": [
    "### I can use the following command to reload."
   ]
  },
  {
   "cell_type": "code",
   "execution_count": 3,
   "id": "a28141cb",
   "metadata": {},
   "outputs": [
    {
     "data": {
      "text/plain": [
       "<module 'dnd_optimisation' from '/Users/eleni/Python Scripts/DnD/dnd_optimisation.py'>"
      ]
     },
     "execution_count": 3,
     "metadata": {},
     "output_type": "execute_result"
    }
   ],
   "source": [
    "importlib.reload(dndopt)"
   ]
  },
  {
   "cell_type": "markdown",
   "id": "d6f7a297",
   "metadata": {},
   "source": [
    "## Character definition"
   ]
  },
  {
   "cell_type": "markdown",
   "id": "7b60b1b4",
   "metadata": {},
   "source": [
    "### I define a Character named Promytheas. The parameters correspond to STR, DEX, CON, INT, WIS, CHA."
   ]
  },
  {
   "cell_type": "code",
   "execution_count": 4,
   "id": "0dcfae64",
   "metadata": {},
   "outputs": [],
   "source": [
    "Promytheas=dndopt.Character(19, 14, 12, 16, 8, 18)"
   ]
  },
  {
   "cell_type": "markdown",
   "id": "a81b9884",
   "metadata": {},
   "source": [
    "### It will store the numbers into appropriate attributes and calculate the modifiers."
   ]
  },
  {
   "cell_type": "code",
   "execution_count": 5,
   "id": "d05e1311",
   "metadata": {},
   "outputs": [
    {
     "data": {
      "text/plain": [
       "array([19, 14, 12, 16,  8, 18])"
      ]
     },
     "execution_count": 5,
     "metadata": {},
     "output_type": "execute_result"
    }
   ],
   "source": [
    "Promytheas.ability_score"
   ]
  },
  {
   "cell_type": "code",
   "execution_count": 6,
   "id": "7b037df3",
   "metadata": {},
   "outputs": [
    {
     "data": {
      "text/plain": [
       "['STR', 'DEX', 'CON', 'INT', 'WIS', 'CHA']"
      ]
     },
     "execution_count": 6,
     "metadata": {},
     "output_type": "execute_result"
    }
   ],
   "source": [
    "Promytheas.ability"
   ]
  },
  {
   "cell_type": "code",
   "execution_count": 7,
   "id": "cc659982",
   "metadata": {},
   "outputs": [
    {
     "data": {
      "text/plain": [
       "array([ 4.,  2.,  1.,  3., -1.,  4.])"
      ]
     },
     "execution_count": 7,
     "metadata": {},
     "output_type": "execute_result"
    }
   ],
   "source": [
    "Promytheas.modifier"
   ]
  },
  {
   "cell_type": "markdown",
   "id": "d9f55a2d",
   "metadata": {},
   "source": [
    "#### Note: The Character owns a magical object that increases STR"
   ]
  },
  {
   "cell_type": "markdown",
   "id": "25e88258",
   "metadata": {},
   "source": [
    "### I set the total level of the Character. In this case, he will be 6 Levels of warlock and 2 levels fighter (for Action surge)."
   ]
  },
  {
   "cell_type": "code",
   "execution_count": 8,
   "id": "96f60af8",
   "metadata": {},
   "outputs": [],
   "source": [
    "Promytheas.set_level(8)"
   ]
  },
  {
   "cell_type": "code",
   "execution_count": 9,
   "id": "ce156265",
   "metadata": {},
   "outputs": [
    {
     "data": {
      "text/plain": [
       "8"
      ]
     },
     "execution_count": 9,
     "metadata": {},
     "output_type": "execute_result"
    }
   ],
   "source": [
    "Promytheas.level"
   ]
  },
  {
   "cell_type": "markdown",
   "id": "4db497ed",
   "metadata": {},
   "source": [
    "### It will automatically calculate the proficiency bonus."
   ]
  },
  {
   "cell_type": "code",
   "execution_count": 10,
   "id": "6598cb3e",
   "metadata": {},
   "outputs": [
    {
     "data": {
      "text/plain": [
       "3.0"
      ]
     },
     "execution_count": 10,
     "metadata": {},
     "output_type": "execute_result"
    }
   ],
   "source": [
    "Promytheas.proficiency_bonus"
   ]
  },
  {
   "cell_type": "markdown",
   "id": "53790288",
   "metadata": {},
   "source": [
    "### There is a method to obtain the ability scores of the Character."
   ]
  },
  {
   "cell_type": "code",
   "execution_count": 11,
   "id": "6762072c",
   "metadata": {},
   "outputs": [
    {
     "data": {
      "text/plain": [
       "19"
      ]
     },
     "execution_count": 11,
     "metadata": {},
     "output_type": "execute_result"
    }
   ],
   "source": [
    "Promytheas.get_ability_score(\"STR\")"
   ]
  },
  {
   "cell_type": "code",
   "execution_count": 12,
   "id": "1ebe0ced",
   "metadata": {},
   "outputs": [
    {
     "data": {
      "text/plain": [
       "18"
      ]
     },
     "execution_count": 12,
     "metadata": {},
     "output_type": "execute_result"
    }
   ],
   "source": [
    "Promytheas.get_ability_score(\"CHA\")"
   ]
  },
  {
   "cell_type": "markdown",
   "id": "3e62bb18",
   "metadata": {},
   "source": [
    "### There is a method to get the ability modifiers."
   ]
  },
  {
   "cell_type": "code",
   "execution_count": 13,
   "id": "3b10c5b2",
   "metadata": {},
   "outputs": [
    {
     "data": {
      "text/plain": [
       "4.0"
      ]
     },
     "execution_count": 13,
     "metadata": {},
     "output_type": "execute_result"
    }
   ],
   "source": [
    "Promytheas.get_ability_modifier(\"CHA\")"
   ]
  },
  {
   "cell_type": "markdown",
   "id": "52913f72",
   "metadata": {},
   "source": [
    "### A key element for calculating NOVA damage is whether the Character has advantage, Elven accuracy etc. This affects the probability of a critical hit. I can set these and calculate the probability of a hit with the following method. The paprmeters correspond to whether the Character has advantage, luck point, Elven accuracy ar hexblade curse (in this order). The expected parameter is 0 for the absence of the element and 1 for the presence."
   ]
  },
  {
   "cell_type": "code",
   "execution_count": 14,
   "id": "17777d4f",
   "metadata": {},
   "outputs": [],
   "source": [
    "Promytheas.set_advantages(0,0,0,0)"
   ]
  },
  {
   "cell_type": "code",
   "execution_count": 15,
   "id": "a7b39ae0",
   "metadata": {},
   "outputs": [
    {
     "data": {
      "text/plain": [
       "0.05"
      ]
     },
     "execution_count": 15,
     "metadata": {},
     "output_type": "execute_result"
    }
   ],
   "source": [
    "Promytheas.critit"
   ]
  },
  {
   "cell_type": "code",
   "execution_count": 16,
   "id": "0a02b521",
   "metadata": {},
   "outputs": [],
   "source": [
    "Promytheas.set_advantages(1,0,0,0)"
   ]
  },
  {
   "cell_type": "code",
   "execution_count": 17,
   "id": "4bdc6297",
   "metadata": {},
   "outputs": [
    {
     "data": {
      "text/plain": [
       "True"
      ]
     },
     "execution_count": 17,
     "metadata": {},
     "output_type": "execute_result"
    }
   ],
   "source": [
    "Promytheas.advantage"
   ]
  },
  {
   "cell_type": "code",
   "execution_count": 18,
   "id": "b0a21db8",
   "metadata": {},
   "outputs": [
    {
     "data": {
      "text/plain": [
       "False"
      ]
     },
     "execution_count": 18,
     "metadata": {},
     "output_type": "execute_result"
    }
   ],
   "source": [
    "Promytheas.luck_point"
   ]
  },
  {
   "cell_type": "code",
   "execution_count": 19,
   "id": "76f66551",
   "metadata": {},
   "outputs": [
    {
     "data": {
      "text/plain": [
       "False"
      ]
     },
     "execution_count": 19,
     "metadata": {},
     "output_type": "execute_result"
    }
   ],
   "source": [
    "Promytheas.elven_accuracy"
   ]
  },
  {
   "cell_type": "code",
   "execution_count": 20,
   "id": "f003cee4",
   "metadata": {},
   "outputs": [
    {
     "data": {
      "text/plain": [
       "False"
      ]
     },
     "execution_count": 20,
     "metadata": {},
     "output_type": "execute_result"
    }
   ],
   "source": [
    "Promytheas.hexblade_curse"
   ]
  },
  {
   "cell_type": "code",
   "execution_count": 21,
   "id": "067fc571",
   "metadata": {},
   "outputs": [
    {
     "data": {
      "text/plain": [
       "0.0975"
      ]
     },
     "execution_count": 21,
     "metadata": {},
     "output_type": "execute_result"
    }
   ],
   "source": [
    "Promytheas.critit"
   ]
  },
  {
   "cell_type": "markdown",
   "id": "adc434dd",
   "metadata": {},
   "source": [
    "### I am going to setup the Eldrich Blast spell. The first parameter is 1 or 0 depending if the character has the spell or not, the second is the maximum eldich blast die (for 1d10 enter 10), the third is 1 or 0 depending if agonising blast is available and the fourth is any eldritch blast  bonus (e.g. +1 for Rod of the pact keeper)."
   ]
  },
  {
   "cell_type": "code",
   "execution_count": 22,
   "id": "22fd9d36",
   "metadata": {},
   "outputs": [],
   "source": [
    "Promytheas.set_eldritch_blast_spell(1,10,1,1)"
   ]
  },
  {
   "cell_type": "code",
   "execution_count": 23,
   "id": "c0ab63f1",
   "metadata": {},
   "outputs": [
    {
     "data": {
      "text/plain": [
       "True"
      ]
     },
     "execution_count": 23,
     "metadata": {},
     "output_type": "execute_result"
    }
   ],
   "source": [
    "Promytheas.eldritch_blast"
   ]
  },
  {
   "cell_type": "code",
   "execution_count": 24,
   "id": "33ce75dd",
   "metadata": {},
   "outputs": [
    {
     "data": {
      "text/plain": [
       "2"
      ]
     },
     "execution_count": 24,
     "metadata": {},
     "output_type": "execute_result"
    }
   ],
   "source": [
    "Promytheas.eldritch_blast_beams"
   ]
  },
  {
   "cell_type": "code",
   "execution_count": 25,
   "id": "562908b7",
   "metadata": {},
   "outputs": [
    {
     "data": {
      "text/plain": [
       "1"
      ]
     },
     "execution_count": 25,
     "metadata": {},
     "output_type": "execute_result"
    }
   ],
   "source": [
    "Promytheas.eldritch_blast_hit_bonus"
   ]
  },
  {
   "cell_type": "code",
   "execution_count": 26,
   "id": "348d77be",
   "metadata": {},
   "outputs": [
    {
     "data": {
      "text/plain": [
       "5.5"
      ]
     },
     "execution_count": 26,
     "metadata": {},
     "output_type": "execute_result"
    }
   ],
   "source": [
    "Promytheas.eldritch_blast_mean_damage"
   ]
  },
  {
   "cell_type": "code",
   "execution_count": 27,
   "id": "1a1cec65",
   "metadata": {},
   "outputs": [
    {
     "data": {
      "text/plain": [
       "4.0"
      ]
     },
     "execution_count": 27,
     "metadata": {},
     "output_type": "execute_result"
    }
   ],
   "source": [
    "Promytheas.eldritch_blast_damage_modifier"
   ]
  },
  {
   "cell_type": "code",
   "execution_count": 28,
   "id": "28e1daf6",
   "metadata": {},
   "outputs": [
    {
     "data": {
      "text/plain": [
       "8.0"
      ]
     },
     "execution_count": 28,
     "metadata": {},
     "output_type": "execute_result"
    }
   ],
   "source": [
    "Promytheas.eldritch_blast_hit"
   ]
  },
  {
   "cell_type": "markdown",
   "id": "963f94f6",
   "metadata": {},
   "source": [
    "### It is possible to set the average damage of the Hex and Spirit Shroud spells. This is for convenience, since they have fixed values. Parameter is 1 if the spell is present and 0 if it is absent."
   ]
  },
  {
   "cell_type": "code",
   "execution_count": 29,
   "id": "003878e3",
   "metadata": {},
   "outputs": [],
   "source": [
    "Promytheas.set_hex_spell(1)"
   ]
  },
  {
   "cell_type": "code",
   "execution_count": 30,
   "id": "fb5e4f90",
   "metadata": {},
   "outputs": [
    {
     "data": {
      "text/plain": [
       "3.5"
      ]
     },
     "execution_count": 30,
     "metadata": {},
     "output_type": "execute_result"
    }
   ],
   "source": [
    "Promytheas.hex"
   ]
  },
  {
   "cell_type": "code",
   "execution_count": 31,
   "id": "c1257a96",
   "metadata": {},
   "outputs": [],
   "source": [
    "Promytheas.set_spirit_shroud_spell(1)"
   ]
  },
  {
   "cell_type": "code",
   "execution_count": 32,
   "id": "9dc99a11",
   "metadata": {},
   "outputs": [
    {
     "data": {
      "text/plain": [
       "4.5"
      ]
     },
     "execution_count": 32,
     "metadata": {},
     "output_type": "execute_result"
    }
   ],
   "source": [
    "Promytheas.spirit_shroud"
   ]
  },
  {
   "cell_type": "markdown",
   "id": "f0f286c9",
   "metadata": {},
   "source": [
    "### The following method calculates the probability of hitting an opponent with Armour Class (AC) 15. It takes as first argument the opponent AC and as second any modifiers available to the character. These for the Eldritch Blast spell are stored in Promytheas.eldritch_blast_hit. I have previously enabled advantage via the advantages method."
   ]
  },
  {
   "cell_type": "code",
   "execution_count": 33,
   "id": "3ccb6bca",
   "metadata": {},
   "outputs": [
    {
     "data": {
      "text/plain": [
       "True"
      ]
     },
     "execution_count": 33,
     "metadata": {},
     "output_type": "execute_result"
    }
   ],
   "source": [
    "Promytheas.advantage"
   ]
  },
  {
   "cell_type": "code",
   "execution_count": 34,
   "id": "902d3a40",
   "metadata": {},
   "outputs": [
    {
     "data": {
      "text/plain": [
       "0.91"
      ]
     },
     "execution_count": 34,
     "metadata": {},
     "output_type": "execute_result"
    }
   ],
   "source": [
    "Promytheas.hit_opponent_probability(15,Promytheas.eldritch_blast_hit)"
   ]
  },
  {
   "cell_type": "markdown",
   "id": "01430068",
   "metadata": {},
   "source": [
    "### This is significantly higher than the probability to hit without advantage."
   ]
  },
  {
   "cell_type": "code",
   "execution_count": 45,
   "id": "0d05494f",
   "metadata": {},
   "outputs": [],
   "source": [
    "Promytheas.set_advantages(0,0,0,0)"
   ]
  },
  {
   "cell_type": "code",
   "execution_count": 46,
   "id": "17ef5bb7",
   "metadata": {},
   "outputs": [
    {
     "data": {
      "text/plain": [
       "0.7"
      ]
     },
     "execution_count": 46,
     "metadata": {},
     "output_type": "execute_result"
    }
   ],
   "source": [
    "Promytheas.hit_opponent_probability(15,Promytheas.eldritch_blast_hit)"
   ]
  },
  {
   "cell_type": "markdown",
   "id": "35bfecf9",
   "metadata": {},
   "source": [
    "### The following calculates the average damage the character can do to an opponent, when using Eldritch Blast. It takes as arguments the opponent AC, the +Hit modifier, the repetitions (e.g. two beams) and the mean damage of the hit and the modifiers. "
   ]
  },
  {
   "cell_type": "markdown",
   "id": "0175117e",
   "metadata": {},
   "source": [
    "#### total_average_damage(opponent_AC=1,modifiers=0,repetitions=1,average_damage_per_hit=0,damage_modifiers=0)"
   ]
  },
  {
   "cell_type": "code",
   "execution_count": 47,
   "id": "ce028903",
   "metadata": {},
   "outputs": [
    {
     "data": {
      "text/plain": [
       "13.85"
      ]
     },
     "execution_count": 47,
     "metadata": {},
     "output_type": "execute_result"
    }
   ],
   "source": [
    "Promytheas.total_average_damage(15,Promytheas.eldritch_blast_hit,2,Promytheas.eldritch_blast_mean_damage,Promytheas.eldritch_blast_damage_modifier)"
   ]
  },
  {
   "cell_type": "markdown",
   "id": "c3115f29",
   "metadata": {},
   "source": [
    "### It is not very impressive. It significantly increases if we add Action Surge (multi- class with Fighter), and Hex. Because it is a Tiefling, it can also cast Darkness once per long rest. The Character can aslo see through magic darkness, which means that once per long rest, it is possible to have advantage by casting Darkness on themselfs, Hex."
   ]
  },
  {
   "cell_type": "code",
   "execution_count": 54,
   "id": "c76469ef",
   "metadata": {},
   "outputs": [],
   "source": [
    "Promytheas.set_advantages(1,0,0,0)"
   ]
  },
  {
   "cell_type": "code",
   "execution_count": 55,
   "id": "a5e59b5d",
   "metadata": {},
   "outputs": [
    {
     "data": {
      "text/plain": [
       "50.83"
      ]
     },
     "execution_count": 55,
     "metadata": {},
     "output_type": "execute_result"
    }
   ],
   "source": [
    "Promytheas.total_average_damage(15,Promytheas.eldritch_blast_hit,4,Promytheas.eldritch_blast_mean_damage+Promytheas.hex,Promytheas.eldritch_blast_damage_modifier)"
   ]
  },
  {
   "cell_type": "markdown",
   "id": "a37c16a3",
   "metadata": {},
   "source": [
    "### As above, but using spirit shroud instead of hex (both require concentration so they dont add up)"
   ]
  },
  {
   "cell_type": "code",
   "execution_count": 56,
   "id": "f228bd2a",
   "metadata": {},
   "outputs": [
    {
     "data": {
      "text/plain": [
       "54.86"
      ]
     },
     "execution_count": 56,
     "metadata": {},
     "output_type": "execute_result"
    }
   ],
   "source": [
    "Promytheas.total_average_damage(15,Promytheas.eldritch_blast_hit,4,Promytheas.eldritch_blast_mean_damage+Promytheas.spirit_shroud,Promytheas.eldritch_blast_damage_modifier)"
   ]
  },
  {
   "cell_type": "markdown",
   "id": "794b5fdf",
   "metadata": {},
   "source": [
    "### If the Character is a Celestial Warlock, since spirit shroud gives radiant damage, they can add the charisma modifier to the damage of one spell, ending with:"
   ]
  },
  {
   "cell_type": "code",
   "execution_count": 57,
   "id": "d860da24",
   "metadata": {},
   "outputs": [
    {
     "data": {
      "text/plain": [
       "62.92"
      ]
     },
     "execution_count": 57,
     "metadata": {},
     "output_type": "execute_result"
    }
   ],
   "source": [
    "Promytheas.total_average_damage(15,Promytheas.eldritch_blast_hit,4,Promytheas.eldritch_blast_mean_damage+Promytheas.spirit_shroud+Promytheas.get_ability_modifier(\"CHA\")/2,Promytheas.eldritch_blast_damage_modifier)"
   ]
  },
  {
   "cell_type": "markdown",
   "id": "80ef7f88",
   "metadata": {},
   "source": [
    "#### I added half Charisma modifier since the bonus will be added only to one of the two beams."
   ]
  },
  {
   "cell_type": "code",
   "execution_count": null,
   "id": "9f38710f",
   "metadata": {},
   "outputs": [],
   "source": []
  }
 ],
 "metadata": {
  "kernelspec": {
   "display_name": "Python 3 (ipykernel)",
   "language": "python",
   "name": "python3"
  },
  "language_info": {
   "codemirror_mode": {
    "name": "ipython",
    "version": 3
   },
   "file_extension": ".py",
   "mimetype": "text/x-python",
   "name": "python",
   "nbconvert_exporter": "python",
   "pygments_lexer": "ipython3",
   "version": "3.10.4"
  }
 },
 "nbformat": 4,
 "nbformat_minor": 5
}
