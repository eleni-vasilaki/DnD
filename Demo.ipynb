{
 "cells": [
  {
   "cell_type": "markdown",
   "id": "cfb81b12",
   "metadata": {},
   "source": [
    "# Demo of class Character, designed for optimizing DnD characters"
   ]
  },
  {
   "cell_type": "markdown",
   "id": "106ad8d3",
   "metadata": {},
   "source": [
    "### The code doesn't have sufficient checks, it is assuming you are entering sensible values. Might have bugs."
   ]
  },
  {
   "cell_type": "markdown",
   "id": "aef73bde",
   "metadata": {},
   "source": [
    "#### I introduce a character level 8 (6 levels of walrock, 2 levels of Fighter). I use the code to estimate maximum average damage."
   ]
  },
  {
   "cell_type": "markdown",
   "id": "fbafb60b",
   "metadata": {},
   "source": [
    "### The command below imports DnD-optimisation. It contains the definition of class Character, as well as three simple functions that are similar to the class methods, but can be used without defining a class. For examples of using the simple functions please see the \"Character Optimisation\" notebook. It is a lot messier, but it explains the logic behind the formulae and compares the functions with results from detailed \"in cell\" calculations."
   ]
  },
  {
   "cell_type": "code",
   "execution_count": 130,
   "id": "e776808c",
   "metadata": {},
   "outputs": [],
   "source": [
    "import dnd_optimisation as dndopt # this is a python file containing the calcuations for critical hits"
   ]
  },
  {
   "cell_type": "markdown",
   "id": "7998981e",
   "metadata": {},
   "source": [
    "### The following is imported so I can reload dnd_optimisation in case I am making on the fly changes."
   ]
  },
  {
   "cell_type": "code",
   "execution_count": 131,
   "id": "ad1649a0",
   "metadata": {},
   "outputs": [],
   "source": [
    "import importlib "
   ]
  },
  {
   "cell_type": "markdown",
   "id": "5b27d7df",
   "metadata": {},
   "source": [
    "### I can use the following command to reload."
   ]
  },
  {
   "cell_type": "code",
   "execution_count": 132,
   "id": "3b3872c1",
   "metadata": {},
   "outputs": [
    {
     "data": {
      "text/plain": [
       "<module 'dnd_optimisation' from '/Users/eleni/Python Scripts/DnD/dnd_optimisation.py'>"
      ]
     },
     "execution_count": 132,
     "metadata": {},
     "output_type": "execute_result"
    }
   ],
   "source": [
    "importlib.reload(dndopt)"
   ]
  },
  {
   "cell_type": "markdown",
   "id": "b74b44ac",
   "metadata": {},
   "source": [
    "## Character definition"
   ]
  },
  {
   "cell_type": "markdown",
   "id": "b265a779",
   "metadata": {},
   "source": [
    "### I define a Character named Promytheas. The parameters correspond to STR, DEX, CON, INT, WIS, CHA."
   ]
  },
  {
   "cell_type": "code",
   "execution_count": 133,
   "id": "e972b0ef",
   "metadata": {},
   "outputs": [],
   "source": [
    "Promytheas=dndopt.Character(19, 14, 12, 16, 8, 18)"
   ]
  },
  {
   "cell_type": "markdown",
   "id": "1c598d4c",
   "metadata": {},
   "source": [
    "### It will store the numbers into appropriate attributes and calculate the modifiers."
   ]
  },
  {
   "cell_type": "code",
   "execution_count": 134,
   "id": "5d470a0a",
   "metadata": {},
   "outputs": [
    {
     "data": {
      "text/plain": [
       "array([19, 14, 12, 16,  8, 18])"
      ]
     },
     "execution_count": 134,
     "metadata": {},
     "output_type": "execute_result"
    }
   ],
   "source": [
    "Promytheas.ability_score"
   ]
  },
  {
   "cell_type": "code",
   "execution_count": 135,
   "id": "df658642",
   "metadata": {},
   "outputs": [
    {
     "data": {
      "text/plain": [
       "['STR', 'DEX', 'CON', 'INT', 'WIS', 'CHA']"
      ]
     },
     "execution_count": 135,
     "metadata": {},
     "output_type": "execute_result"
    }
   ],
   "source": [
    "Promytheas.ability"
   ]
  },
  {
   "cell_type": "code",
   "execution_count": 136,
   "id": "e7f0c933",
   "metadata": {},
   "outputs": [
    {
     "data": {
      "text/plain": [
       "array([ 4.,  2.,  1.,  3., -1.,  4.])"
      ]
     },
     "execution_count": 136,
     "metadata": {},
     "output_type": "execute_result"
    }
   ],
   "source": [
    "Promytheas.modifier"
   ]
  },
  {
   "cell_type": "markdown",
   "id": "96eaa4d8",
   "metadata": {},
   "source": [
    "#### Note: The Character owns a magical object that increases STR"
   ]
  },
  {
   "cell_type": "markdown",
   "id": "c4e72daf",
   "metadata": {},
   "source": [
    "### I set the total level of the Character. In this case, he will be 6 Levels of warlock and 2 levels fighter (for Action surge)."
   ]
  },
  {
   "cell_type": "code",
   "execution_count": 137,
   "id": "ef42acd1",
   "metadata": {},
   "outputs": [],
   "source": [
    "Promytheas.set_level(8)"
   ]
  },
  {
   "cell_type": "code",
   "execution_count": 138,
   "id": "73a1ce31",
   "metadata": {},
   "outputs": [
    {
     "data": {
      "text/plain": [
       "8"
      ]
     },
     "execution_count": 138,
     "metadata": {},
     "output_type": "execute_result"
    }
   ],
   "source": [
    "Promytheas.level"
   ]
  },
  {
   "cell_type": "markdown",
   "id": "d05eaecd",
   "metadata": {},
   "source": [
    "### It will automatically calculate the proficiency bonus."
   ]
  },
  {
   "cell_type": "code",
   "execution_count": 139,
   "id": "e519590a",
   "metadata": {},
   "outputs": [
    {
     "data": {
      "text/plain": [
       "3.0"
      ]
     },
     "execution_count": 139,
     "metadata": {},
     "output_type": "execute_result"
    }
   ],
   "source": [
    "Promytheas.proficiency_bonus"
   ]
  },
  {
   "cell_type": "markdown",
   "id": "87da6ad1",
   "metadata": {},
   "source": [
    "### There is a method to obtain the ability scores of the Character."
   ]
  },
  {
   "cell_type": "code",
   "execution_count": 140,
   "id": "98c57ba4",
   "metadata": {},
   "outputs": [
    {
     "data": {
      "text/plain": [
       "19"
      ]
     },
     "execution_count": 140,
     "metadata": {},
     "output_type": "execute_result"
    }
   ],
   "source": [
    "Promytheas.get_ability_score(\"STR\")"
   ]
  },
  {
   "cell_type": "code",
   "execution_count": 141,
   "id": "dd900af9",
   "metadata": {},
   "outputs": [
    {
     "data": {
      "text/plain": [
       "18"
      ]
     },
     "execution_count": 141,
     "metadata": {},
     "output_type": "execute_result"
    }
   ],
   "source": [
    "Promytheas.get_ability_score(\"CHA\")"
   ]
  },
  {
   "cell_type": "markdown",
   "id": "4ef936cc",
   "metadata": {},
   "source": [
    "### There is a method to get the ability modifiers."
   ]
  },
  {
   "cell_type": "code",
   "execution_count": 145,
   "id": "871ea92f",
   "metadata": {},
   "outputs": [
    {
     "data": {
      "text/plain": [
       "4.0"
      ]
     },
     "execution_count": 145,
     "metadata": {},
     "output_type": "execute_result"
    }
   ],
   "source": [
    "Promytheas.get_ability_modifier(\"CHA\")"
   ]
  },
  {
   "cell_type": "markdown",
   "id": "bdc10b25",
   "metadata": {},
   "source": [
    "### A key element for calculating NOVA damage is whether the Character has advantage, Elven accuracy etc. This affects the probability of a critical hit. I can set these and calculate the probability of a hit with the following method. The paprmeters correspond to whether the Character has advantage, luck point, Elven accuracy ar hexblade curse (in this order). The expected parameter is 0 for the absence of the element and 1 for the presence."
   ]
  },
  {
   "cell_type": "code",
   "execution_count": 146,
   "id": "0ff9e872",
   "metadata": {},
   "outputs": [],
   "source": [
    "Promytheas.set_advantages(0,0,0,0)"
   ]
  },
  {
   "cell_type": "code",
   "execution_count": 147,
   "id": "15e03eeb",
   "metadata": {},
   "outputs": [
    {
     "data": {
      "text/plain": [
       "0.05"
      ]
     },
     "execution_count": 147,
     "metadata": {},
     "output_type": "execute_result"
    }
   ],
   "source": [
    "Promytheas.critit"
   ]
  },
  {
   "cell_type": "code",
   "execution_count": 148,
   "id": "d884c03b",
   "metadata": {},
   "outputs": [],
   "source": [
    "Promytheas.set_advantages(1,0,0,0)"
   ]
  },
  {
   "cell_type": "code",
   "execution_count": 149,
   "id": "4b213680",
   "metadata": {},
   "outputs": [
    {
     "data": {
      "text/plain": [
       "True"
      ]
     },
     "execution_count": 149,
     "metadata": {},
     "output_type": "execute_result"
    }
   ],
   "source": [
    "Promytheas.advantage"
   ]
  },
  {
   "cell_type": "code",
   "execution_count": 150,
   "id": "d6cf3915",
   "metadata": {},
   "outputs": [
    {
     "data": {
      "text/plain": [
       "False"
      ]
     },
     "execution_count": 150,
     "metadata": {},
     "output_type": "execute_result"
    }
   ],
   "source": [
    "Promytheas.luck_point"
   ]
  },
  {
   "cell_type": "code",
   "execution_count": 151,
   "id": "f0c14276",
   "metadata": {},
   "outputs": [
    {
     "data": {
      "text/plain": [
       "False"
      ]
     },
     "execution_count": 151,
     "metadata": {},
     "output_type": "execute_result"
    }
   ],
   "source": [
    "Promytheas.elven_accuracy"
   ]
  },
  {
   "cell_type": "code",
   "execution_count": 152,
   "id": "b072f535",
   "metadata": {},
   "outputs": [
    {
     "data": {
      "text/plain": [
       "False"
      ]
     },
     "execution_count": 152,
     "metadata": {},
     "output_type": "execute_result"
    }
   ],
   "source": [
    "Promytheas.hexblade_curse"
   ]
  },
  {
   "cell_type": "code",
   "execution_count": 153,
   "id": "3a5951a0",
   "metadata": {},
   "outputs": [
    {
     "data": {
      "text/plain": [
       "0.0975"
      ]
     },
     "execution_count": 153,
     "metadata": {},
     "output_type": "execute_result"
    }
   ],
   "source": [
    "Promytheas.critit"
   ]
  },
  {
   "cell_type": "markdown",
   "id": "4ec04ca4",
   "metadata": {},
   "source": [
    "### I am going to setup the Eldrich Blast spell. The first parameter is 1 or 0 depending if the character has the spell or not, the second is the maximum eldich blast die (for 1d10 enter 10), the third is 1 or 0 depending if agonising blast is available and the fourth is any eldritch blast  bonus (e.g. +1 for Rod of the pact keeper)."
   ]
  },
  {
   "cell_type": "code",
   "execution_count": 154,
   "id": "dafd2ff8",
   "metadata": {},
   "outputs": [],
   "source": [
    "Promytheas.set_eldritch_blast_spell(1,10,1,1)"
   ]
  },
  {
   "cell_type": "code",
   "execution_count": 155,
   "id": "8db379f2",
   "metadata": {},
   "outputs": [
    {
     "data": {
      "text/plain": [
       "True"
      ]
     },
     "execution_count": 155,
     "metadata": {},
     "output_type": "execute_result"
    }
   ],
   "source": [
    "Promytheas.eldritch_blast"
   ]
  },
  {
   "cell_type": "code",
   "execution_count": 156,
   "id": "8fc1a699",
   "metadata": {},
   "outputs": [
    {
     "data": {
      "text/plain": [
       "2"
      ]
     },
     "execution_count": 156,
     "metadata": {},
     "output_type": "execute_result"
    }
   ],
   "source": [
    "Promytheas.eldritch_blast_beams"
   ]
  },
  {
   "cell_type": "code",
   "execution_count": 157,
   "id": "3a50bea6",
   "metadata": {},
   "outputs": [
    {
     "data": {
      "text/plain": [
       "1"
      ]
     },
     "execution_count": 157,
     "metadata": {},
     "output_type": "execute_result"
    }
   ],
   "source": [
    "Promytheas.eldritch_blast_hit_bonus"
   ]
  },
  {
   "cell_type": "code",
   "execution_count": 158,
   "id": "a4ea998a",
   "metadata": {},
   "outputs": [
    {
     "data": {
      "text/plain": [
       "9.5"
      ]
     },
     "execution_count": 158,
     "metadata": {},
     "output_type": "execute_result"
    }
   ],
   "source": [
    "Promytheas.eldritch_blast_mean_damage"
   ]
  },
  {
   "cell_type": "code",
   "execution_count": 159,
   "id": "653bbc57",
   "metadata": {},
   "outputs": [
    {
     "data": {
      "text/plain": [
       "8.0"
      ]
     },
     "execution_count": 159,
     "metadata": {},
     "output_type": "execute_result"
    }
   ],
   "source": [
    "Promytheas.eldritch_blast_hit"
   ]
  },
  {
   "cell_type": "markdown",
   "id": "44feb1b3",
   "metadata": {},
   "source": [
    "### It is possible to set the average damage of the Hex and Spirit Shroud spells. This is for convenience, since they have fixed values. Parameter is 1 if the spell is present and 0 if it is absent."
   ]
  },
  {
   "cell_type": "code",
   "execution_count": 160,
   "id": "6d3e886b",
   "metadata": {},
   "outputs": [],
   "source": [
    "Promytheas.set_hex_spell(1)"
   ]
  },
  {
   "cell_type": "code",
   "execution_count": 161,
   "id": "b4e7473d",
   "metadata": {},
   "outputs": [
    {
     "data": {
      "text/plain": [
       "3.5"
      ]
     },
     "execution_count": 161,
     "metadata": {},
     "output_type": "execute_result"
    }
   ],
   "source": [
    "Promytheas.hex"
   ]
  },
  {
   "cell_type": "code",
   "execution_count": 162,
   "id": "ea2b9b8c",
   "metadata": {},
   "outputs": [],
   "source": [
    "Promytheas.set_spirit_shroud_spell(1)"
   ]
  },
  {
   "cell_type": "code",
   "execution_count": 163,
   "id": "7c15ede8",
   "metadata": {},
   "outputs": [
    {
     "data": {
      "text/plain": [
       "4.5"
      ]
     },
     "execution_count": 163,
     "metadata": {},
     "output_type": "execute_result"
    }
   ],
   "source": [
    "Promytheas.spirit_shroud"
   ]
  },
  {
   "cell_type": "markdown",
   "id": "884b5364",
   "metadata": {},
   "source": [
    "### The following method calculates the probability of hitting an opponent with Armour Class (AC) 15. It takes as first argument the opponent AC and as second any modifiers available to the character. These for the Eldritch Blast spell are stored in Promytheas.eldritch_blast_hit. I have previously enabled advantage via the advantages method."
   ]
  },
  {
   "cell_type": "code",
   "execution_count": 120,
   "id": "3676d5b1",
   "metadata": {},
   "outputs": [
    {
     "data": {
      "text/plain": [
       "True"
      ]
     },
     "execution_count": 120,
     "metadata": {},
     "output_type": "execute_result"
    }
   ],
   "source": [
    "Promytheas.advantage"
   ]
  },
  {
   "cell_type": "code",
   "execution_count": 121,
   "id": "c767fcb4",
   "metadata": {},
   "outputs": [
    {
     "data": {
      "text/plain": [
       "0.91"
      ]
     },
     "execution_count": 121,
     "metadata": {},
     "output_type": "execute_result"
    }
   ],
   "source": [
    "Promytheas.hit_opponent_probability(15,Promytheas.eldritch_blast_hit)"
   ]
  },
  {
   "cell_type": "markdown",
   "id": "996a9a05",
   "metadata": {},
   "source": [
    "### This is significantly higher than the probability to hit without advantage."
   ]
  },
  {
   "cell_type": "code",
   "execution_count": 124,
   "id": "af7fcd75",
   "metadata": {},
   "outputs": [],
   "source": [
    "Promytheas.set_advantages(0,0,0,0)"
   ]
  },
  {
   "cell_type": "code",
   "execution_count": 125,
   "id": "e7e5ab16",
   "metadata": {},
   "outputs": [
    {
     "data": {
      "text/plain": [
       "0.7"
      ]
     },
     "execution_count": 125,
     "metadata": {},
     "output_type": "execute_result"
    }
   ],
   "source": [
    "Promytheas.hit_opponent_probability(15,Promytheas.eldritch_blast_hit)"
   ]
  },
  {
   "cell_type": "markdown",
   "id": "40bc1f31",
   "metadata": {},
   "source": [
    "### The following calculates the average damage the character can do to an opponent (not the maximum), when using Eldritch Blast. It takes as arguments the opponent AC, the +Hit modifier, the repetitions (e.g. two beams) and the mean damage of the hit."
   ]
  },
  {
   "cell_type": "code",
   "execution_count": 126,
   "id": "d1c6005d",
   "metadata": {},
   "outputs": [
    {
     "data": {
      "text/plain": [
       "14.25"
      ]
     },
     "execution_count": 126,
     "metadata": {},
     "output_type": "execute_result"
    }
   ],
   "source": [
    "Promytheas.total_average_damage(15,Promytheas.eldritch_blast_hit,2,Promytheas.eldritch_blast_mean_damage)"
   ]
  },
  {
   "cell_type": "markdown",
   "id": "82c97cc1",
   "metadata": {},
   "source": [
    "### It is not very impressive. It significantly increases if we add Action Surge (multi- class with Fighter), Hex, and Spirit Shroud, which can achieved with the two 3rd level spell slots available to the Character. Because it is a Tiefling, it can also cast Darkness once per long rest. The Character can aslo see through magic darkness, which means that once per long rest, it is possible to have advantage by casting Darkness on themselfs, Hex and Spirit Shroud (the latter if the target is within 10 feet)."
   ]
  },
  {
   "cell_type": "code",
   "execution_count": 128,
   "id": "3c1969c1",
   "metadata": {},
   "outputs": [],
   "source": [
    "Promytheas.set_advantages(1,0,0,0)"
   ]
  },
  {
   "cell_type": "code",
   "execution_count": 129,
   "id": "fae38b5f",
   "metadata": {},
   "outputs": [
    {
     "data": {
      "text/plain": [
       "70.525"
      ]
     },
     "execution_count": 129,
     "metadata": {},
     "output_type": "execute_result"
    }
   ],
   "source": [
    "Promytheas.total_average_damage(15,Promytheas.eldritch_blast_hit,4,Promytheas.eldritch_blast_mean_damage+Promytheas.hex+Promytheas.spirit_shroud)"
   ]
  },
  {
   "cell_type": "markdown",
   "id": "8856fa4d",
   "metadata": {},
   "source": [
    "### Assuming that the Character can keep concentration between fights, then Hex has 8 hours duration, so after a short rest, the Character may use the two slots to cast darkness (for advantage) and spirit shroud, so repeating this damage may be possible after a short rest."
   ]
  },
  {
   "cell_type": "markdown",
   "id": "e49aac60",
   "metadata": {},
   "source": [
    "### If the Character is a Celestial Warlock, since spirit shroud gives radiant damage, they can add the charisma modifier to the damage of one spell, ending with:"
   ]
  },
  {
   "cell_type": "code",
   "execution_count": 165,
   "id": "532aa146",
   "metadata": {},
   "outputs": [
    {
     "data": {
      "text/plain": [
       "78.585"
      ]
     },
     "execution_count": 165,
     "metadata": {},
     "output_type": "execute_result"
    }
   ],
   "source": [
    "Promytheas.total_average_damage(15,Promytheas.eldritch_blast_hit,4,Promytheas.eldritch_blast_mean_damage+Promytheas.hex+Promytheas.spirit_shroud+Promytheas.get_ability_modifier(\"CHA\")/2)"
   ]
  },
  {
   "cell_type": "markdown",
   "id": "765689c0",
   "metadata": {},
   "source": [
    "#### I added half Charisma modifier since the bonus will be added only to one of the two beams."
   ]
  },
  {
   "cell_type": "code",
   "execution_count": null,
   "id": "51942d3e",
   "metadata": {},
   "outputs": [],
   "source": []
  }
 ],
 "metadata": {
  "kernelspec": {
   "display_name": "Python 3 (ipykernel)",
   "language": "python",
   "name": "python3"
  },
  "language_info": {
   "codemirror_mode": {
    "name": "ipython",
    "version": 3
   },
   "file_extension": ".py",
   "mimetype": "text/x-python",
   "name": "python",
   "nbconvert_exporter": "python",
   "pygments_lexer": "ipython3",
   "version": "3.10.4"
  }
 },
 "nbformat": 4,
 "nbformat_minor": 5
}
