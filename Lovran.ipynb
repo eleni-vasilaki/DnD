{
 "cells": [
  {
   "cell_type": "code",
   "execution_count": 1,
   "id": "6a3c1f9d",
   "metadata": {},
   "outputs": [],
   "source": [
    "import dnd_optimisation as dndopt "
   ]
  },
  {
   "cell_type": "code",
   "execution_count": 2,
   "id": "2606da45",
   "metadata": {},
   "outputs": [],
   "source": [
    "import importlib "
   ]
  },
  {
   "cell_type": "code",
   "execution_count": 3,
   "id": "f6e755b6",
   "metadata": {},
   "outputs": [
    {
     "data": {
      "text/plain": [
       "<module 'dnd_optimisation' from '/Users/eleni/Python Scripts/DnD/dnd_optimisation.py'>"
      ]
     },
     "execution_count": 3,
     "metadata": {},
     "output_type": "execute_result"
    }
   ],
   "source": [
    "importlib.reload(dndopt)"
   ]
  },
  {
   "cell_type": "code",
   "execution_count": 4,
   "id": "e9d039af",
   "metadata": {},
   "outputs": [],
   "source": [
    "Lovran=dndopt.Character(16, 12, 14, 8, 8, 16)"
   ]
  },
  {
   "cell_type": "code",
   "execution_count": 5,
   "id": "e0882255",
   "metadata": {},
   "outputs": [
    {
     "data": {
      "text/plain": [
       "array([16, 12, 14,  8,  8, 16])"
      ]
     },
     "execution_count": 5,
     "metadata": {},
     "output_type": "execute_result"
    }
   ],
   "source": [
    "Lovran.ability_score"
   ]
  },
  {
   "cell_type": "code",
   "execution_count": 6,
   "id": "1e71af7e",
   "metadata": {},
   "outputs": [],
   "source": [
    "Lovran.set_level(5)"
   ]
  },
  {
   "cell_type": "code",
   "execution_count": 7,
   "id": "f1a5a67a",
   "metadata": {},
   "outputs": [
    {
     "data": {
      "text/plain": [
       "5"
      ]
     },
     "execution_count": 7,
     "metadata": {},
     "output_type": "execute_result"
    }
   ],
   "source": [
    "Lovran.level"
   ]
  },
  {
   "cell_type": "code",
   "execution_count": 8,
   "id": "c5dfb1c0",
   "metadata": {},
   "outputs": [
    {
     "data": {
      "text/plain": [
       "3.0"
      ]
     },
     "execution_count": 8,
     "metadata": {},
     "output_type": "execute_result"
    }
   ],
   "source": [
    "Lovran.proficiency_bonus"
   ]
  },
  {
   "cell_type": "code",
   "execution_count": 9,
   "id": "1ea7b3bb",
   "metadata": {},
   "outputs": [],
   "source": [
    "Lovran.set_advantages(0,0,0,0)"
   ]
  },
  {
   "cell_type": "markdown",
   "id": "de3389ae",
   "metadata": {},
   "source": [
    "### calculating damage for longsword with green flame blade (including second target damage) plus smite (3d8)"
   ]
  },
  {
   "cell_type": "code",
   "execution_count": 10,
   "id": "a2ae16d1",
   "metadata": {},
   "outputs": [],
   "source": [
    "average_damage=4.5+4.5+4.5+3*(0.5*(8-1)+1)"
   ]
  },
  {
   "cell_type": "code",
   "execution_count": 11,
   "id": "2f0aa198",
   "metadata": {},
   "outputs": [
    {
     "data": {
      "text/plain": [
       "27.0"
      ]
     },
     "execution_count": 11,
     "metadata": {},
     "output_type": "execute_result"
    }
   ],
   "source": [
    "average_damage"
   ]
  },
  {
   "cell_type": "code",
   "execution_count": 12,
   "id": "765cab77",
   "metadata": {},
   "outputs": [],
   "source": [
    "damage_modifiers=7"
   ]
  },
  {
   "cell_type": "code",
   "execution_count": 13,
   "id": "fc7e2057",
   "metadata": {},
   "outputs": [],
   "source": [
    "Lovran.set_weapon(\"STR\",1,average_damage,damage_modifiers)"
   ]
  },
  {
   "cell_type": "code",
   "execution_count": 14,
   "id": "510dd478",
   "metadata": {},
   "outputs": [
    {
     "data": {
      "text/plain": [
       "7.0"
      ]
     },
     "execution_count": 14,
     "metadata": {},
     "output_type": "execute_result"
    }
   ],
   "source": [
    "Lovran.weapon_hit"
   ]
  },
  {
   "cell_type": "code",
   "execution_count": 15,
   "id": "fb415ba8",
   "metadata": {},
   "outputs": [
    {
     "data": {
      "text/plain": [
       "27.0"
      ]
     },
     "execution_count": 15,
     "metadata": {},
     "output_type": "execute_result"
    }
   ],
   "source": [
    "Lovran.weapon_average_damage"
   ]
  },
  {
   "cell_type": "code",
   "execution_count": 16,
   "id": "180959c7",
   "metadata": {},
   "outputs": [
    {
     "data": {
      "text/plain": [
       "7"
      ]
     },
     "execution_count": 16,
     "metadata": {},
     "output_type": "execute_result"
    }
   ],
   "source": [
    "Lovran.weapon_damage_modifiers"
   ]
  },
  {
   "cell_type": "code",
   "execution_count": 17,
   "id": "5575f942",
   "metadata": {},
   "outputs": [
    {
     "data": {
      "text/plain": [
       "34.0"
      ]
     },
     "execution_count": 17,
     "metadata": {},
     "output_type": "execute_result"
    }
   ],
   "source": [
    "Lovran.weapon_total_average_damage"
   ]
  },
  {
   "cell_type": "markdown",
   "id": "66aa8be7",
   "metadata": {},
   "source": [
    "### Calculating average damage for the combo green flame blade, longsword, devine smite (2nd level slot) "
   ]
  },
  {
   "cell_type": "code",
   "execution_count": 18,
   "id": "f384f158",
   "metadata": {},
   "outputs": [],
   "source": [
    "AC=17"
   ]
  },
  {
   "cell_type": "markdown",
   "id": "2b120bc2",
   "metadata": {},
   "source": [
    "#### total_average_damage(opponent_AC=1,modifiers=0,repetitions=1,average_damage_per_hit=0,damage_modifiers=0)"
   ]
  },
  {
   "cell_type": "code",
   "execution_count": 19,
   "id": "99edde8b",
   "metadata": {},
   "outputs": [],
   "source": [
    "average_hit_damage=Lovran.total_average_damage(AC,Lovran.weapon_hit,1,Lovran.weapon_average_damage,Lovran.weapon_damage_modifiers)"
   ]
  },
  {
   "cell_type": "code",
   "execution_count": 20,
   "id": "d33b14d5",
   "metadata": {},
   "outputs": [
    {
     "data": {
      "text/plain": [
       "20.05"
      ]
     },
     "execution_count": 20,
     "metadata": {},
     "output_type": "execute_result"
    }
   ],
   "source": [
    "average_hit_damage"
   ]
  },
  {
   "cell_type": "markdown",
   "id": "4a87d4ef",
   "metadata": {},
   "source": [
    "### What if the target is prone and I am within 5ft, so that every hit is critical hit?"
   ]
  },
  {
   "cell_type": "code",
   "execution_count": 21,
   "id": "bb6c5353",
   "metadata": {},
   "outputs": [],
   "source": [
    "Lovran.set_advantages(1,0,0,0)"
   ]
  },
  {
   "cell_type": "code",
   "execution_count": 22,
   "id": "5e31589b",
   "metadata": {},
   "outputs": [
    {
     "data": {
      "text/plain": [
       "48.6475"
      ]
     },
     "execution_count": 22,
     "metadata": {},
     "output_type": "execute_result"
    }
   ],
   "source": [
    "Lovran.total_average_damage_critical(AC,Lovran.weapon_hit,1,Lovran.weapon_average_damage,Lovran.weapon_damage_modifiers)"
   ]
  },
  {
   "cell_type": "markdown",
   "id": "e93e7709",
   "metadata": {},
   "source": [
    "### Casting hold person first, average damage calculation"
   ]
  },
  {
   "cell_type": "code",
   "execution_count": 23,
   "id": "0aa5ebd4",
   "metadata": {},
   "outputs": [],
   "source": [
    "Lovran.set_probability_of_successful_casting(14,2)"
   ]
  },
  {
   "cell_type": "code",
   "execution_count": 24,
   "id": "740a7872",
   "metadata": {},
   "outputs": [
    {
     "data": {
      "text/plain": [
       "0.55"
      ]
     },
     "execution_count": 24,
     "metadata": {},
     "output_type": "execute_result"
    }
   ],
   "source": [
    "Lovran.probability_of_successful_casting"
   ]
  },
  {
   "cell_type": "code",
   "execution_count": 25,
   "id": "caae8476",
   "metadata": {},
   "outputs": [],
   "source": [
    "Lovran.set_advantages(1,0,0,0)"
   ]
  },
  {
   "cell_type": "code",
   "execution_count": 26,
   "id": "e8a46295",
   "metadata": {
    "scrolled": true
   },
   "outputs": [
    {
     "data": {
      "text/plain": [
       "35.778625000000005"
      ]
     },
     "execution_count": 26,
     "metadata": {},
     "output_type": "execute_result"
    }
   ],
   "source": [
    "Lovran.probability_of_successful_casting*Lovran.total_average_damage_critical(AC,Lovran.weapon_hit,1,Lovran.weapon_average_damage,Lovran.weapon_damage_modifiers)+(1-Lovran.probability_of_successful_casting)*average_hit_damage"
   ]
  },
  {
   "cell_type": "markdown",
   "id": "a0245fb3",
   "metadata": {},
   "source": [
    "### Quickening booming blade"
   ]
  },
  {
   "cell_type": "code",
   "execution_count": 27,
   "id": "0815e7eb",
   "metadata": {},
   "outputs": [],
   "source": [
    "Lovran.set_advantages(0,0,0,0)"
   ]
  },
  {
   "cell_type": "code",
   "execution_count": 28,
   "id": "7c330c9e",
   "metadata": {},
   "outputs": [
    {
     "data": {
      "text/plain": [
       "40.1"
      ]
     },
     "execution_count": 28,
     "metadata": {},
     "output_type": "execute_result"
    }
   ],
   "source": [
    "Lovran.total_average_damage(AC,Lovran.weapon_hit,2,Lovran.weapon_average_damage,Lovran.weapon_damage_modifiers)"
   ]
  },
  {
   "cell_type": "markdown",
   "id": "7f1e6911",
   "metadata": {},
   "source": [
    "### Calculating average damage from the combo searing smite (2nd level spell), green flame blade, longsword plus 1 and devine smite (2nd level spell)"
   ]
  },
  {
   "cell_type": "code",
   "execution_count": 29,
   "id": "9630d262",
   "metadata": {},
   "outputs": [],
   "source": [
    "average_damage=4.5+4.5+4.5+3*(0.5*(8-1)+1)+ 2*((6-1)*0.5+1)"
   ]
  },
  {
   "cell_type": "code",
   "execution_count": 30,
   "id": "1614bc89",
   "metadata": {},
   "outputs": [],
   "source": [
    "damage_modifiers=7"
   ]
  },
  {
   "cell_type": "code",
   "execution_count": 31,
   "id": "aeec185c",
   "metadata": {},
   "outputs": [],
   "source": [
    "Lovran.set_weapon(\"STR\",1,average_damage,damage_modifiers)"
   ]
  },
  {
   "cell_type": "code",
   "execution_count": 32,
   "id": "b44dce09",
   "metadata": {},
   "outputs": [
    {
     "data": {
      "text/plain": [
       "24.25"
      ]
     },
     "execution_count": 32,
     "metadata": {},
     "output_type": "execute_result"
    }
   ],
   "source": [
    "Lovran.total_average_damage(AC,Lovran.weapon_hit,1,Lovran.weapon_average_damage,Lovran.weapon_damage_modifiers)"
   ]
  },
  {
   "cell_type": "code",
   "execution_count": null,
   "id": "18ff1064",
   "metadata": {},
   "outputs": [],
   "source": []
  }
 ],
 "metadata": {
  "kernelspec": {
   "display_name": "Python 3 (ipykernel)",
   "language": "python",
   "name": "python3"
  },
  "language_info": {
   "codemirror_mode": {
    "name": "ipython",
    "version": 3
   },
   "file_extension": ".py",
   "mimetype": "text/x-python",
   "name": "python",
   "nbconvert_exporter": "python",
   "pygments_lexer": "ipython3",
   "version": "3.10.4"
  }
 },
 "nbformat": 4,
 "nbformat_minor": 5
}
