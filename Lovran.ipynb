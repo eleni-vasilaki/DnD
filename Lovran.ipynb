{
 "cells": [
  {
   "cell_type": "code",
   "execution_count": 146,
   "id": "bb741e54",
   "metadata": {},
   "outputs": [],
   "source": [
    "import dnd_optimisation as dndopt "
   ]
  },
  {
   "cell_type": "code",
   "execution_count": 147,
   "id": "baab3898",
   "metadata": {},
   "outputs": [],
   "source": [
    "import importlib "
   ]
  },
  {
   "cell_type": "code",
   "execution_count": 148,
   "id": "d0b87044",
   "metadata": {},
   "outputs": [
    {
     "data": {
      "text/plain": [
       "<module 'dnd_optimisation' from '/Users/eleni/Python Scripts/DnD/dnd_optimisation.py'>"
      ]
     },
     "execution_count": 148,
     "metadata": {},
     "output_type": "execute_result"
    }
   ],
   "source": [
    "importlib.reload(dndopt)"
   ]
  },
  {
   "cell_type": "code",
   "execution_count": 149,
   "id": "55dc1416",
   "metadata": {},
   "outputs": [],
   "source": [
    "Lovran=dndopt.Character(16, 12, 14, 8, 8, 16)"
   ]
  },
  {
   "cell_type": "code",
   "execution_count": 150,
   "id": "827f463c",
   "metadata": {},
   "outputs": [
    {
     "data": {
      "text/plain": [
       "array([16, 12, 14,  8,  8, 16])"
      ]
     },
     "execution_count": 150,
     "metadata": {},
     "output_type": "execute_result"
    }
   ],
   "source": [
    "Lovran.ability_score"
   ]
  },
  {
   "cell_type": "code",
   "execution_count": 151,
   "id": "f7fd092c",
   "metadata": {},
   "outputs": [],
   "source": [
    "Lovran.set_level(5)"
   ]
  },
  {
   "cell_type": "code",
   "execution_count": 152,
   "id": "af70e95f",
   "metadata": {},
   "outputs": [
    {
     "data": {
      "text/plain": [
       "5"
      ]
     },
     "execution_count": 152,
     "metadata": {},
     "output_type": "execute_result"
    }
   ],
   "source": [
    "Lovran.level"
   ]
  },
  {
   "cell_type": "code",
   "execution_count": 153,
   "id": "ec472e59",
   "metadata": {},
   "outputs": [
    {
     "data": {
      "text/plain": [
       "3.0"
      ]
     },
     "execution_count": 153,
     "metadata": {},
     "output_type": "execute_result"
    }
   ],
   "source": [
    "Lovran.proficiency_bonus"
   ]
  },
  {
   "cell_type": "code",
   "execution_count": 154,
   "id": "69e36122",
   "metadata": {},
   "outputs": [],
   "source": [
    "Lovran.set_advantages(0,0,0,0)"
   ]
  },
  {
   "cell_type": "markdown",
   "id": "426a08bc",
   "metadata": {},
   "source": [
    "### Calculating max average damage for longsword (1d8+4) with green flame blade (including second target damage 2d8+3) plus divine smite (3d8) - doesn't take into account the probability of hitting the target"
   ]
  },
  {
   "cell_type": "code",
   "execution_count": 155,
   "id": "a5b5059f",
   "metadata": {},
   "outputs": [],
   "source": [
    "average_damage_dice=6*dndopt.d(8)"
   ]
  },
  {
   "cell_type": "code",
   "execution_count": 156,
   "id": "c71a4470",
   "metadata": {},
   "outputs": [
    {
     "data": {
      "text/plain": [
       "27.0"
      ]
     },
     "execution_count": 156,
     "metadata": {},
     "output_type": "execute_result"
    }
   ],
   "source": [
    "average_damage_dice"
   ]
  },
  {
   "cell_type": "code",
   "execution_count": 157,
   "id": "ee8f452a",
   "metadata": {},
   "outputs": [],
   "source": [
    "damage_modifiers=7"
   ]
  },
  {
   "cell_type": "code",
   "execution_count": 158,
   "id": "a00654cb",
   "metadata": {},
   "outputs": [],
   "source": [
    "Lovran.set_weapon(\"STR\",1,average_damage_dice,damage_modifiers)"
   ]
  },
  {
   "cell_type": "code",
   "execution_count": 159,
   "id": "63c57cda",
   "metadata": {},
   "outputs": [
    {
     "data": {
      "text/plain": [
       "7.0"
      ]
     },
     "execution_count": 159,
     "metadata": {},
     "output_type": "execute_result"
    }
   ],
   "source": [
    "Lovran.weapon_hit"
   ]
  },
  {
   "cell_type": "code",
   "execution_count": 160,
   "id": "81200c22",
   "metadata": {},
   "outputs": [
    {
     "data": {
      "text/plain": [
       "27.0"
      ]
     },
     "execution_count": 160,
     "metadata": {},
     "output_type": "execute_result"
    }
   ],
   "source": [
    "Lovran.weapon_average_damage_dice"
   ]
  },
  {
   "cell_type": "code",
   "execution_count": 161,
   "id": "744a4d94",
   "metadata": {},
   "outputs": [
    {
     "data": {
      "text/plain": [
       "7"
      ]
     },
     "execution_count": 161,
     "metadata": {},
     "output_type": "execute_result"
    }
   ],
   "source": [
    "Lovran.weapon_damage_modifiers"
   ]
  },
  {
   "cell_type": "code",
   "execution_count": 162,
   "id": "97648668",
   "metadata": {},
   "outputs": [
    {
     "data": {
      "text/plain": [
       "34.0"
      ]
     },
     "execution_count": 162,
     "metadata": {},
     "output_type": "execute_result"
    }
   ],
   "source": [
    "Lovran.weapon_total_average_damage"
   ]
  },
  {
   "cell_type": "markdown",
   "id": "ca8a9217",
   "metadata": {},
   "source": [
    "### Calculating average damage for the combo green flame blade, longsword, divine smite (one 2nd level slot), taking into account the probablility to hit an opponend with armour class AC. "
   ]
  },
  {
   "cell_type": "code",
   "execution_count": 163,
   "id": "a7391371",
   "metadata": {},
   "outputs": [],
   "source": [
    "AC=17"
   ]
  },
  {
   "cell_type": "markdown",
   "id": "cd26f490",
   "metadata": {},
   "source": [
    "#### total_average_damage(opponent_AC=1,modifiers=0,repetitions=1,average_damage_per_hit=0,damage_modifiers=0)"
   ]
  },
  {
   "cell_type": "code",
   "execution_count": 164,
   "id": "75973625",
   "metadata": {},
   "outputs": [],
   "source": [
    "average_hit_damage=Lovran.total_average_damage(AC,Lovran.weapon_hit,1,Lovran.weapon_average_damage_dice,Lovran.weapon_damage_modifiers)"
   ]
  },
  {
   "cell_type": "code",
   "execution_count": 165,
   "id": "9257bbe5",
   "metadata": {},
   "outputs": [
    {
     "data": {
      "text/plain": [
       "20.05"
      ]
     },
     "execution_count": 165,
     "metadata": {},
     "output_type": "execute_result"
    }
   ],
   "source": [
    "average_hit_damage"
   ]
  },
  {
   "cell_type": "markdown",
   "id": "2b2bcfa7",
   "metadata": {},
   "source": [
    "### What if the target is prone and I am within 5ft, so that I hit with advantage and every hit is critical hit?"
   ]
  },
  {
   "cell_type": "code",
   "execution_count": 166,
   "id": "002e837d",
   "metadata": {},
   "outputs": [],
   "source": [
    "Lovran.set_advantages(1,0,0,0)"
   ]
  },
  {
   "cell_type": "code",
   "execution_count": 167,
   "id": "4261ab67",
   "metadata": {},
   "outputs": [
    {
     "data": {
      "text/plain": [
       "48.6475"
      ]
     },
     "execution_count": 167,
     "metadata": {},
     "output_type": "execute_result"
    }
   ],
   "source": [
    "Lovran.total_average_damage_critical(AC,Lovran.weapon_hit,1,Lovran.weapon_average_damage_dice,Lovran.weapon_damage_modifiers)"
   ]
  },
  {
   "cell_type": "markdown",
   "id": "2fb4b09a",
   "metadata": {},
   "source": [
    "### Casting hold person first, average damage calculation (two 2nd levels spell slots and two sorcery points)"
   ]
  },
  {
   "cell_type": "code",
   "execution_count": 168,
   "id": "fc9f9eeb",
   "metadata": {},
   "outputs": [],
   "source": [
    "Lovran.set_probability_of_successful_casting(14,2)"
   ]
  },
  {
   "cell_type": "code",
   "execution_count": 169,
   "id": "e30b11ef",
   "metadata": {},
   "outputs": [
    {
     "data": {
      "text/plain": [
       "0.55"
      ]
     },
     "execution_count": 169,
     "metadata": {},
     "output_type": "execute_result"
    }
   ],
   "source": [
    "Lovran.probability_of_successful_casting"
   ]
  },
  {
   "cell_type": "code",
   "execution_count": 170,
   "id": "5dba328a",
   "metadata": {},
   "outputs": [],
   "source": [
    "Lovran.set_advantages(1,0,0,0)"
   ]
  },
  {
   "cell_type": "code",
   "execution_count": 172,
   "id": "fb1f6ab0",
   "metadata": {
    "scrolled": true
   },
   "outputs": [
    {
     "data": {
      "text/plain": [
       "35.778625000000005"
      ]
     },
     "execution_count": 172,
     "metadata": {},
     "output_type": "execute_result"
    }
   ],
   "source": [
    "Lovran.probability_of_successful_casting*Lovran.total_average_damage_critical(AC,Lovran.weapon_hit,1,Lovran.weapon_average_damage_dice,Lovran.weapon_damage_modifiers)+(1-Lovran.probability_of_successful_casting)*average_hit_damage"
   ]
  },
  {
   "cell_type": "markdown",
   "id": "f156c49a",
   "metadata": {},
   "source": [
    "### Quickening booming blade (two 2nd levels spell slots and two sorcery points)"
   ]
  },
  {
   "cell_type": "code",
   "execution_count": 173,
   "id": "0c653d04",
   "metadata": {},
   "outputs": [],
   "source": [
    "Lovran.set_advantages(0,0,0,0)"
   ]
  },
  {
   "cell_type": "code",
   "execution_count": 174,
   "id": "88a28d27",
   "metadata": {},
   "outputs": [
    {
     "data": {
      "text/plain": [
       "40.1"
      ]
     },
     "execution_count": 174,
     "metadata": {},
     "output_type": "execute_result"
    }
   ],
   "source": [
    "Lovran.total_average_damage(AC,Lovran.weapon_hit,2,Lovran.weapon_average_damage_dice,Lovran.weapon_damage_modifiers)"
   ]
  },
  {
   "cell_type": "markdown",
   "id": "eccc7e91",
   "metadata": {},
   "source": [
    "### Calculating average damage from the combo searing smite (2nd level spell), green flame blade, longsword plus 1 and divine smite (2nd level spell). Note: searing smite has a duration of 1 minute, depending on concentration checks, which I am not calculating here."
   ]
  },
  {
   "cell_type": "code",
   "execution_count": 175,
   "id": "2af33ba9",
   "metadata": {},
   "outputs": [],
   "source": [
    "average_damage=6*dndopt.d(8)+ 2*dndopt.d(6)"
   ]
  },
  {
   "cell_type": "code",
   "execution_count": 176,
   "id": "751d6eab",
   "metadata": {},
   "outputs": [],
   "source": [
    "damage_modifiers=7"
   ]
  },
  {
   "cell_type": "code",
   "execution_count": 177,
   "id": "b07cf774",
   "metadata": {},
   "outputs": [],
   "source": [
    "Lovran.set_weapon(\"STR\",1,average_damage,damage_modifiers)"
   ]
  },
  {
   "cell_type": "code",
   "execution_count": 179,
   "id": "2d33e5a2",
   "metadata": {},
   "outputs": [
    {
     "data": {
      "text/plain": [
       "24.25"
      ]
     },
     "execution_count": 179,
     "metadata": {},
     "output_type": "execute_result"
    }
   ],
   "source": [
    "Lovran.total_average_damage(AC,Lovran.weapon_hit,1,Lovran.weapon_average_damage_dice,Lovran.weapon_damage_modifiers)"
   ]
  },
  {
   "cell_type": "code",
   "execution_count": null,
   "id": "6d49bf89",
   "metadata": {},
   "outputs": [],
   "source": []
  }
 ],
 "metadata": {
  "kernelspec": {
   "display_name": "Python 3 (ipykernel)",
   "language": "python",
   "name": "python3"
  },
  "language_info": {
   "codemirror_mode": {
    "name": "ipython",
    "version": 3
   },
   "file_extension": ".py",
   "mimetype": "text/x-python",
   "name": "python",
   "nbconvert_exporter": "python",
   "pygments_lexer": "ipython3",
   "version": "3.10.4"
  }
 },
 "nbformat": 4,
 "nbformat_minor": 5
}
