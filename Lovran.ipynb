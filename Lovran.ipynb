{
 "cells": [
  {
   "cell_type": "code",
   "execution_count": 1,
   "id": "103bb0ea",
   "metadata": {},
   "outputs": [],
   "source": [
    "import dnd_optimisation as dndopt "
   ]
  },
  {
   "cell_type": "code",
   "execution_count": 2,
   "id": "578313a5",
   "metadata": {},
   "outputs": [],
   "source": [
    "import importlib "
   ]
  },
  {
   "cell_type": "code",
   "execution_count": 3,
   "id": "a4b8ee20",
   "metadata": {},
   "outputs": [
    {
     "data": {
      "text/plain": [
       "<module 'dnd_optimisation' from '/Users/eleni/Python Scripts/DnD/dnd_optimisation.py'>"
      ]
     },
     "execution_count": 3,
     "metadata": {},
     "output_type": "execute_result"
    }
   ],
   "source": [
    "importlib.reload(dndopt)"
   ]
  },
  {
   "cell_type": "code",
   "execution_count": 4,
   "id": "0eadc1d7",
   "metadata": {},
   "outputs": [],
   "source": [
    "Lovran=dndopt.Character(16, 12, 14, 8, 8, 16)"
   ]
  },
  {
   "cell_type": "code",
   "execution_count": 5,
   "id": "2854e3e6",
   "metadata": {},
   "outputs": [
    {
     "data": {
      "text/plain": [
       "array([16, 12, 14,  8,  8, 16])"
      ]
     },
     "execution_count": 5,
     "metadata": {},
     "output_type": "execute_result"
    }
   ],
   "source": [
    "Lovran.ability_score"
   ]
  },
  {
   "cell_type": "code",
   "execution_count": 6,
   "id": "2c872bbf",
   "metadata": {},
   "outputs": [],
   "source": [
    "Lovran.set_level(5)"
   ]
  },
  {
   "cell_type": "code",
   "execution_count": 7,
   "id": "1aa352b6",
   "metadata": {},
   "outputs": [
    {
     "data": {
      "text/plain": [
       "5"
      ]
     },
     "execution_count": 7,
     "metadata": {},
     "output_type": "execute_result"
    }
   ],
   "source": [
    "Lovran.level"
   ]
  },
  {
   "cell_type": "code",
   "execution_count": 8,
   "id": "bb49d1f1",
   "metadata": {},
   "outputs": [
    {
     "data": {
      "text/plain": [
       "3.0"
      ]
     },
     "execution_count": 8,
     "metadata": {},
     "output_type": "execute_result"
    }
   ],
   "source": [
    "Lovran.proficiency_bonus"
   ]
  },
  {
   "cell_type": "code",
   "execution_count": 9,
   "id": "ed6e3e8d",
   "metadata": {},
   "outputs": [],
   "source": [
    "Lovran.set_advantages(0,0,0,0)"
   ]
  },
  {
   "cell_type": "markdown",
   "id": "c08d8771",
   "metadata": {},
   "source": [
    "### Calculating max average damage for longsword with green flame blade (including second target damage) plus divine smite (3d8) - doesn't take into account the probability of hitting the target"
   ]
  },
  {
   "cell_type": "code",
   "execution_count": 10,
   "id": "7d9f87bf",
   "metadata": {},
   "outputs": [],
   "source": [
    "average_damage=4.5+4.5+4.5+3*(0.5*(8-1)+1)"
   ]
  },
  {
   "cell_type": "code",
   "execution_count": 11,
   "id": "417c85af",
   "metadata": {},
   "outputs": [
    {
     "data": {
      "text/plain": [
       "27.0"
      ]
     },
     "execution_count": 11,
     "metadata": {},
     "output_type": "execute_result"
    }
   ],
   "source": [
    "average_damage"
   ]
  },
  {
   "cell_type": "code",
   "execution_count": 12,
   "id": "7a2a5f10",
   "metadata": {},
   "outputs": [],
   "source": [
    "damage_modifiers=7"
   ]
  },
  {
   "cell_type": "code",
   "execution_count": 13,
   "id": "3e5cc92e",
   "metadata": {},
   "outputs": [],
   "source": [
    "Lovran.set_weapon(\"STR\",1,average_damage,damage_modifiers)"
   ]
  },
  {
   "cell_type": "code",
   "execution_count": 14,
   "id": "3cd9b6da",
   "metadata": {},
   "outputs": [
    {
     "data": {
      "text/plain": [
       "7.0"
      ]
     },
     "execution_count": 14,
     "metadata": {},
     "output_type": "execute_result"
    }
   ],
   "source": [
    "Lovran.weapon_hit"
   ]
  },
  {
   "cell_type": "code",
   "execution_count": 15,
   "id": "a65e617e",
   "metadata": {},
   "outputs": [
    {
     "data": {
      "text/plain": [
       "27.0"
      ]
     },
     "execution_count": 15,
     "metadata": {},
     "output_type": "execute_result"
    }
   ],
   "source": [
    "Lovran.weapon_average_damage"
   ]
  },
  {
   "cell_type": "code",
   "execution_count": 16,
   "id": "0db968d7",
   "metadata": {},
   "outputs": [
    {
     "data": {
      "text/plain": [
       "7"
      ]
     },
     "execution_count": 16,
     "metadata": {},
     "output_type": "execute_result"
    }
   ],
   "source": [
    "Lovran.weapon_damage_modifiers"
   ]
  },
  {
   "cell_type": "code",
   "execution_count": 17,
   "id": "67e6bade",
   "metadata": {},
   "outputs": [
    {
     "data": {
      "text/plain": [
       "34.0"
      ]
     },
     "execution_count": 17,
     "metadata": {},
     "output_type": "execute_result"
    }
   ],
   "source": [
    "Lovran.weapon_total_average_damage"
   ]
  },
  {
   "cell_type": "markdown",
   "id": "fd0f24fa",
   "metadata": {},
   "source": [
    "### Calculating average damage for the combo green flame blade, longsword, divine smite (2nd level slot) "
   ]
  },
  {
   "cell_type": "code",
   "execution_count": 18,
   "id": "98868c20",
   "metadata": {},
   "outputs": [],
   "source": [
    "AC=17"
   ]
  },
  {
   "cell_type": "markdown",
   "id": "b9eae57a",
   "metadata": {},
   "source": [
    "#### total_average_damage(opponent_AC=1,modifiers=0,repetitions=1,average_damage_per_hit=0,damage_modifiers=0)"
   ]
  },
  {
   "cell_type": "code",
   "execution_count": 19,
   "id": "0294e385",
   "metadata": {},
   "outputs": [],
   "source": [
    "average_hit_damage=Lovran.total_average_damage(AC,Lovran.weapon_hit,1,Lovran.weapon_average_damage,Lovran.weapon_damage_modifiers)"
   ]
  },
  {
   "cell_type": "code",
   "execution_count": 20,
   "id": "79793582",
   "metadata": {},
   "outputs": [
    {
     "data": {
      "text/plain": [
       "20.05"
      ]
     },
     "execution_count": 20,
     "metadata": {},
     "output_type": "execute_result"
    }
   ],
   "source": [
    "average_hit_damage"
   ]
  },
  {
   "cell_type": "markdown",
   "id": "2c0fd8cf",
   "metadata": {},
   "source": [
    "### What if the target is prone and I am within 5ft, so that every hit is critical hit?"
   ]
  },
  {
   "cell_type": "code",
   "execution_count": 21,
   "id": "39a779bf",
   "metadata": {},
   "outputs": [],
   "source": [
    "Lovran.set_advantages(1,0,0,0)"
   ]
  },
  {
   "cell_type": "code",
   "execution_count": 22,
   "id": "b9c3afad",
   "metadata": {},
   "outputs": [
    {
     "data": {
      "text/plain": [
       "48.6475"
      ]
     },
     "execution_count": 22,
     "metadata": {},
     "output_type": "execute_result"
    }
   ],
   "source": [
    "Lovran.total_average_damage_critical(AC,Lovran.weapon_hit,1,Lovran.weapon_average_damage,Lovran.weapon_damage_modifiers)"
   ]
  },
  {
   "cell_type": "markdown",
   "id": "4b72de0a",
   "metadata": {},
   "source": [
    "### Casting hold person first, average damage calculation"
   ]
  },
  {
   "cell_type": "code",
   "execution_count": 23,
   "id": "435dc433",
   "metadata": {},
   "outputs": [],
   "source": [
    "Lovran.set_probability_of_successful_casting(14,2)"
   ]
  },
  {
   "cell_type": "code",
   "execution_count": 24,
   "id": "3e0dfdb5",
   "metadata": {},
   "outputs": [
    {
     "data": {
      "text/plain": [
       "0.55"
      ]
     },
     "execution_count": 24,
     "metadata": {},
     "output_type": "execute_result"
    }
   ],
   "source": [
    "Lovran.probability_of_successful_casting"
   ]
  },
  {
   "cell_type": "code",
   "execution_count": 25,
   "id": "2eb09912",
   "metadata": {},
   "outputs": [],
   "source": [
    "Lovran.set_advantages(1,0,0,0)"
   ]
  },
  {
   "cell_type": "code",
   "execution_count": 26,
   "id": "046dd859",
   "metadata": {
    "scrolled": true
   },
   "outputs": [
    {
     "data": {
      "text/plain": [
       "35.778625000000005"
      ]
     },
     "execution_count": 26,
     "metadata": {},
     "output_type": "execute_result"
    }
   ],
   "source": [
    "Lovran.probability_of_successful_casting*Lovran.total_average_damage_critical(AC,Lovran.weapon_hit,1,Lovran.weapon_average_damage,Lovran.weapon_damage_modifiers)+(1-Lovran.probability_of_successful_casting)*average_hit_damage"
   ]
  },
  {
   "cell_type": "markdown",
   "id": "18c5b673",
   "metadata": {},
   "source": [
    "### Quickening booming blade"
   ]
  },
  {
   "cell_type": "code",
   "execution_count": 27,
   "id": "229100ef",
   "metadata": {},
   "outputs": [],
   "source": [
    "Lovran.set_advantages(0,0,0,0)"
   ]
  },
  {
   "cell_type": "code",
   "execution_count": 28,
   "id": "fda9e85e",
   "metadata": {},
   "outputs": [
    {
     "data": {
      "text/plain": [
       "40.1"
      ]
     },
     "execution_count": 28,
     "metadata": {},
     "output_type": "execute_result"
    }
   ],
   "source": [
    "Lovran.total_average_damage(AC,Lovran.weapon_hit,2,Lovran.weapon_average_damage,Lovran.weapon_damage_modifiers)"
   ]
  },
  {
   "cell_type": "markdown",
   "id": "b04b26bc",
   "metadata": {},
   "source": [
    "### Calculating average damage from the combo searing smite (2nd level spell), green flame blade, longsword plus 1 and divine smite (2nd level spell)"
   ]
  },
  {
   "cell_type": "code",
   "execution_count": 29,
   "id": "4201642f",
   "metadata": {},
   "outputs": [],
   "source": [
    "average_damage=4.5+4.5+4.5+3*(0.5*(8-1)+1)+ 2*((6-1)*0.5+1)"
   ]
  },
  {
   "cell_type": "code",
   "execution_count": 30,
   "id": "11af64c1",
   "metadata": {},
   "outputs": [],
   "source": [
    "damage_modifiers=7"
   ]
  },
  {
   "cell_type": "code",
   "execution_count": 31,
   "id": "2bb26819",
   "metadata": {},
   "outputs": [],
   "source": [
    "Lovran.set_weapon(\"STR\",1,average_damage,damage_modifiers)"
   ]
  },
  {
   "cell_type": "code",
   "execution_count": 32,
   "id": "76ec5b48",
   "metadata": {},
   "outputs": [
    {
     "data": {
      "text/plain": [
       "24.25"
      ]
     },
     "execution_count": 32,
     "metadata": {},
     "output_type": "execute_result"
    }
   ],
   "source": [
    "Lovran.total_average_damage(AC,Lovran.weapon_hit,1,Lovran.weapon_average_damage,Lovran.weapon_damage_modifiers)"
   ]
  },
  {
   "cell_type": "code",
   "execution_count": null,
   "id": "722a3482",
   "metadata": {},
   "outputs": [],
   "source": []
  }
 ],
 "metadata": {
  "kernelspec": {
   "display_name": "Python 3 (ipykernel)",
   "language": "python",
   "name": "python3"
  },
  "language_info": {
   "codemirror_mode": {
    "name": "ipython",
    "version": 3
   },
   "file_extension": ".py",
   "mimetype": "text/x-python",
   "name": "python",
   "nbconvert_exporter": "python",
   "pygments_lexer": "ipython3",
   "version": "3.10.4"
  }
 },
 "nbformat": 4,
 "nbformat_minor": 5
}
